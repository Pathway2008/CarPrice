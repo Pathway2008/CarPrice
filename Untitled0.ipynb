{
  "nbformat": 4,
  "nbformat_minor": 0,
  "metadata": {
    "colab": {
      "provenance": [],
      "gpuType": "T4",
      "mount_file_id": "1G_bGiCMx3waY5N8jhAxK_caqUvNpfsHe",
      "authorship_tag": "ABX9TyPlyNGuOh59L0ekb9nEkjPX",
      "include_colab_link": true
    },
    "kernelspec": {
      "name": "python3",
      "display_name": "Python 3"
    },
    "language_info": {
      "name": "python"
    },
    "accelerator": "GPU"
  },
  "cells": [
    {
      "cell_type": "markdown",
      "metadata": {
        "id": "view-in-github",
        "colab_type": "text"
      },
      "source": [
        "<a href=\"https://colab.research.google.com/github/Pathway2008/CarPrice/blob/main/Untitled0.ipynb\" target=\"_parent\"><img src=\"https://colab.research.google.com/assets/colab-badge.svg\" alt=\"Open In Colab\"/></a>"
      ]
    },
    {
      "cell_type": "code",
      "execution_count": 1,
      "metadata": {
        "id": "ttrI0arbaOsQ"
      },
      "outputs": [],
      "source": [
        "import pandas as pd\n",
        "import numpy as np\n",
        "from sklearn.preprocessing import LabelEncoder\n",
        "from sklearn.preprocessing import MinMaxScaler\n",
        "from sklearn.model_selection import train_test_split, KFold\n",
        "from sklearn.ensemble import GradientBoostingRegressor, RandomForestRegressor\n",
        "from sklearn.linear_model import Lasso\n",
        "from sklearn.metrics import mean_absolute_error"
      ]
    },
    {
      "cell_type": "code",
      "source": [
        "train = pd.read_csv('/content/drive/MyDrive/CarPrice/train.csv')\n",
        "test = pd.read_csv('/content/drive/MyDrive/CarPrice/test.csv')\n",
        "sub = pd.read_csv('/content/drive/MyDrive/CarPrice/sample_submission.csv')"
      ],
      "metadata": {
        "id": "aWBE1q33eum9"
      },
      "execution_count": 2,
      "outputs": []
    },
    {
      "cell_type": "code",
      "source": [
        "ordinal_features = ['브랜드', '차량모델명', '판매도시', '판매구역']\n",
        "\n",
        "for feature in ordinal_features:\n",
        "    le = LabelEncoder()\n",
        "    le = le.fit(train[feature])\n",
        "    train[feature] = le.transform(train[feature])\n",
        "\n",
        "    for label in np.unique(test[feature]):\n",
        "        if label not in le.classes_:\n",
        "            le.classes_ = np.append(le.classes_, label)\n",
        "    test[feature] = le.transform(test[feature])"
      ],
      "metadata": {
        "id": "i_J4Jsqreyo6"
      },
      "execution_count": 3,
      "outputs": []
    },
    {
      "cell_type": "code",
      "source": [
        "X = train.drop(['ID', '가격'], axis=1)\n",
        "y = train['가격']"
      ],
      "metadata": {
        "id": "4yP-NQDne0_y"
      },
      "execution_count": 4,
      "outputs": []
    },
    {
      "cell_type": "code",
      "source": [
        "X_train, X_valid, y_train, y_valid = train_test_split(X, y, test_size=0.2, random_state=42)"
      ],
      "metadata": {
        "id": "_XBod48Ve17p"
      },
      "execution_count": 5,
      "outputs": []
    },
    {
      "cell_type": "code",
      "source": [
        "scaler = MinMaxScaler()\n",
        "columns_to_scale = [\"생산년도\", \"모델출시년도\", \"주행거리\", \"배기량\"]\n",
        "\n",
        "X_train[columns_to_scale] = scaler.fit_transform(X_train[columns_to_scale])\n",
        "X_valid[columns_to_scale] = scaler.transform(X_valid[columns_to_scale])"
      ],
      "metadata": {
        "id": "wTcrpwiie54R"
      },
      "execution_count": 6,
      "outputs": []
    },
    {
      "cell_type": "code",
      "source": [
        "gbrt_params = {'n_estimators': 489, 'learning_rate': 0.037666299375964746, 'max_depth': 10, 'min_samples_split': 9, 'min_samples_leaf': 1, 'max_features': 'sqrt', 'subsample': 0.994817517319318}"
      ],
      "metadata": {
        "id": "jLT4PcsHjMXY"
      },
      "execution_count": 56,
      "outputs": []
    },
    {
      "cell_type": "code",
      "source": [
        "rf_params =  {'n_estimators': 500, 'max_depth': 10, 'min_samples_split': 2, 'min_samples_leaf': 2}"
      ],
      "metadata": {
        "id": "UhENGvBijMVV"
      },
      "execution_count": 57,
      "outputs": []
    },
    {
      "cell_type": "code",
      "source": [
        "gbrt = GradientBoostingRegressor(**gbrt_params)\n",
        "rf = RandomForestRegressor(**rf_params)\n",
        "lasso = Lasso(alpha=0.1)"
      ],
      "metadata": {
        "id": "N3Ukbzl3fdB-"
      },
      "execution_count": 58,
      "outputs": []
    },
    {
      "cell_type": "code",
      "source": [
        "kf = KFold(n_splits=5, shuffle=True, random_state=42)"
      ],
      "metadata": {
        "id": "RgZVfPqhfuXQ"
      },
      "execution_count": 59,
      "outputs": []
    },
    {
      "cell_type": "code",
      "source": [
        "meta_features = []\n",
        "for train_index, val_index in kf.split(X_train):\n",
        "    X_train_fold, X_val_fold = X_train.iloc[train_index], X_train.iloc[val_index]\n",
        "    y_train_fold, y_val_fold = y_train.iloc[train_index], y_train.iloc[val_index]\n",
        "\n",
        "    gbrt.fit(X_train_fold, y_train_fold)\n",
        "    rf.fit(X_train_fold, y_train_fold)\n",
        "\n",
        "    gbrt_pred = gbrt.predict(X_val_fold)\n",
        "    rf_pred = rf.predict(X_val_fold)\n",
        "\n",
        "    meta_features.extend(list(zip(gbrt_pred, rf_pred)))"
      ],
      "metadata": {
        "id": "eFnAPNWUf2G2"
      },
      "execution_count": 60,
      "outputs": []
    },
    {
      "cell_type": "code",
      "source": [
        "meta_model = lasso.fit(meta_features, y_train)"
      ],
      "metadata": {
        "id": "lshbvizdgumI"
      },
      "execution_count": 61,
      "outputs": []
    },
    {
      "cell_type": "code",
      "source": [
        "xgb_params = {'booster': 'gbtree', 'eta': 0.09773787198485948, 'max_depth': 10, 'subsample': 0.6537116324250624, 'colsample_bytree': 0.9736768668296801, 'lambda': 2.571247074857165, 'alpha': 3.739545080324916e-05}"
      ],
      "metadata": {
        "id": "kyYtO7jMlgim"
      },
      "execution_count": 65,
      "outputs": []
    },
    {
      "cell_type": "code",
      "source": [
        "from xgboost import XGBRegressor\n",
        "xgb_model = XGBRegressor(**xgb_params)"
      ],
      "metadata": {
        "id": "wFV8n_HtlWrU"
      },
      "execution_count": 66,
      "outputs": []
    },
    {
      "cell_type": "code",
      "source": [
        "meta_model = xgb_model.fit(meta_features, y_train)"
      ],
      "metadata": {
        "id": "eogFUF78l39D"
      },
      "execution_count": 67,
      "outputs": []
    },
    {
      "cell_type": "code",
      "source": [
        "gbrt_pred_valid = gbrt.predict(X_valid)\n",
        "rf_pred_valid = rf.predict(X_valid)\n",
        "meta_features_valid = list(zip(gbrt_pred_valid, rf_pred_valid))"
      ],
      "metadata": {
        "id": "r22voiXbguj5"
      },
      "execution_count": 69,
      "outputs": []
    },
    {
      "cell_type": "code",
      "source": [
        "ensemble_pred = meta_model.predict(meta_features_valid)"
      ],
      "metadata": {
        "id": "DA-WLPTzg4-R"
      },
      "execution_count": 70,
      "outputs": []
    },
    {
      "cell_type": "code",
      "source": [
        "mae = mean_absolute_error(y_valid, ensemble_pred)\n",
        "print(\"Mean Absolute Error:\", mae)"
      ],
      "metadata": {
        "colab": {
          "base_uri": "https://localhost:8080/"
        },
        "id": "NAefXWrsg6Zp",
        "outputId": "f9fc5898-f6a3-403a-bae1-6ea8e21498d2"
      },
      "execution_count": 26,
      "outputs": [
        {
          "output_type": "stream",
          "name": "stdout",
          "text": [
            "Mean Absolute Error: 29.231761839568588\n"
          ]
        }
      ]
    },
    {
      "cell_type": "code",
      "source": [
        "#gbrt, rf 최적화\n",
        "mae = mean_absolute_error(y_valid, ensemble_pred)\n",
        "print(\"Mean Absolute Error:\", mae)"
      ],
      "metadata": {
        "colab": {
          "base_uri": "https://localhost:8080/"
        },
        "id": "pZoY4FDelJxk",
        "outputId": "787e24f5-80b1-43fa-af70-a66940343d95"
      },
      "execution_count": 48,
      "outputs": [
        {
          "output_type": "stream",
          "name": "stdout",
          "text": [
            "Mean Absolute Error: 29.238777288834513\n"
          ]
        }
      ]
    },
    {
      "cell_type": "code",
      "source": [
        "#gbrt, rf 최적화 / meta = xgb\n",
        "mae = mean_absolute_error(y_valid, ensemble_pred)\n",
        "print(\"Mean Absolute Error:\", mae)"
      ],
      "metadata": {
        "colab": {
          "base_uri": "https://localhost:8080/"
        },
        "id": "m4tMdx6FlVq_",
        "outputId": "f334f079-22ab-475f-c787-7310641c5251"
      },
      "execution_count": 51,
      "outputs": [
        {
          "output_type": "stream",
          "name": "stdout",
          "text": [
            "Mean Absolute Error: 29.355636495476926\n"
          ]
        }
      ]
    },
    {
      "cell_type": "code",
      "source": [
        "# no scaling / meta = lasso\n",
        "mae = mean_absolute_error(y_valid, ensemble_pred)\n",
        "print(\"Mean Absolute Error:\", mae)"
      ],
      "metadata": {
        "colab": {
          "base_uri": "https://localhost:8080/"
        },
        "id": "Wux921pboS58",
        "outputId": "88d72e04-6120-4810-a6b3-93f7a35b4422"
      },
      "execution_count": 64,
      "outputs": [
        {
          "output_type": "stream",
          "name": "stdout",
          "text": [
            "Mean Absolute Error: 29.232670689408288\n"
          ]
        }
      ]
    },
    {
      "cell_type": "code",
      "source": [
        "# no scaling / meta = xgb\n",
        "mae = mean_absolute_error(y_valid, ensemble_pred)\n",
        "print(\"Mean Absolute Error:\", mae)"
      ],
      "metadata": {
        "colab": {
          "base_uri": "https://localhost:8080/"
        },
        "id": "PgT9Jz-jojSe",
        "outputId": "adce5b36-4793-431f-ec52-edc23835ec0b"
      },
      "execution_count": 71,
      "outputs": [
        {
          "output_type": "stream",
          "name": "stdout",
          "text": [
            "Mean Absolute Error: 29.339528447264467\n"
          ]
        }
      ]
    },
    {
      "cell_type": "code",
      "source": [
        "import numpy as np\n",
        "import matplotlib.pyplot as plt\n",
        "\n",
        "# Extract the coefficients/weights from the Lasso meta model\n",
        "lasso_coefs = lasso.coef_\n",
        "\n",
        "# Get the names of the base models\n",
        "base_model_names = ['GBRT', 'Random Forest']  # Adjust according to your base model names\n",
        "\n",
        "# Plot the weights\n",
        "plt.bar(base_model_names, lasso_coefs)\n",
        "plt.xlabel('Base Models')\n",
        "plt.ylabel('Weight')\n",
        "plt.title('Weights Assigned to Base Models')\n",
        "plt.show()"
      ],
      "metadata": {
        "colab": {
          "base_uri": "https://localhost:8080/",
          "height": 472
        },
        "id": "GPjExuzQiBpo",
        "outputId": "3332acab-caf1-422b-f115-aaaf6baf3fb3"
      },
      "execution_count": 72,
      "outputs": [
        {
          "output_type": "display_data",
          "data": {
            "text/plain": [
              "<Figure size 640x480 with 1 Axes>"
            ],
            "image/png": "[encoded data removed]"
          },
          "metadata": {}
        }
      ]
    },
    {
      "cell_type": "markdown",
      "source": [
        "균등평균"
      ],
      "metadata": {
        "id": "W8RqSlWxsrLh"
      }
    },
    {
      "cell_type": "code",
      "source": [
        "!pip install catboost"
      ],
      "metadata": {
        "colab": {
          "base_uri": "https://localhost:8080/"
        },
        "id": "kcoNx949suE9",
        "outputId": "55098688-ed39-4492-a78f-06b3dc6540b7"
      },
      "execution_count": 16,
      "outputs": [
        {
          "output_type": "stream",
          "name": "stdout",
          "text": [
            "Looking in indexes: https://pypi.org/simple, https://us-python.pkg.dev/colab-wheels/public/simple/\n",
            "Collecting catboost\n",
            "  Downloading catboost-1.2-cp310-cp310-manylinux2014_x86_64.whl (98.6 MB)\n",
            "\u001b[2K     \u001b[90m━━━━━━━━━━━━━━━━━━━━━━━━━━━━━━━━━━━━━━━━\u001b[0m \u001b[32m98.6/98.6 MB\u001b[0m \u001b[31m9.0 MB/s\u001b[0m eta \u001b[36m0:00:00\u001b[0m\n",
            "\u001b[?25hRequirement already satisfied: graphviz in /usr/local/lib/python3.10/dist-packages (from catboost) (0.20.1)\n",
            "Requirement already satisfied: matplotlib in /usr/local/lib/python3.10/dist-packages (from catboost) (3.7.1)\n",
            "Requirement already satisfied: numpy>=1.16.0 in /usr/local/lib/python3.10/dist-packages (from catboost) (1.22.4)\n",
            "Requirement already satisfied: pandas>=0.24 in /usr/local/lib/python3.10/dist-packages (from catboost) (1.5.3)\n",
            "Requirement already satisfied: scipy in /usr/local/lib/python3.10/dist-packages (from catboost) (1.10.1)\n",
            "Requirement already satisfied: plotly in /usr/local/lib/python3.10/dist-packages (from catboost) (5.13.1)\n",
            "Requirement already satisfied: six in /usr/local/lib/python3.10/dist-packages (from catboost) (1.16.0)\n",
            "Requirement already satisfied: python-dateutil>=2.8.1 in /usr/local/lib/python3.10/dist-packages (from pandas>=0.24->catboost) (2.8.2)\n",
            "Requirement already satisfied: pytz>=2020.1 in /usr/local/lib/python3.10/dist-packages (from pandas>=0.24->catboost) (2022.7.1)\n",
            "Requirement already satisfied: contourpy>=1.0.1 in /usr/local/lib/python3.10/dist-packages (from matplotlib->catboost) (1.0.7)\n",
            "Requirement already satisfied: cycler>=0.10 in /usr/local/lib/python3.10/dist-packages (from matplotlib->catboost) (0.11.0)\n",
            "Requirement already satisfied: fonttools>=4.22.0 in /usr/local/lib/python3.10/dist-packages (from matplotlib->catboost) (4.39.3)\n",
            "Requirement already satisfied: kiwisolver>=1.0.1 in /usr/local/lib/python3.10/dist-packages (from matplotlib->catboost) (1.4.4)\n",
            "Requirement already satisfied: packaging>=20.0 in /usr/local/lib/python3.10/dist-packages (from matplotlib->catboost) (23.1)\n",
            "Requirement already satisfied: pillow>=6.2.0 in /usr/local/lib/python3.10/dist-packages (from matplotlib->catboost) (8.4.0)\n",
            "Requirement already satisfied: pyparsing>=2.3.1 in /usr/local/lib/python3.10/dist-packages (from matplotlib->catboost) (3.0.9)\n",
            "Requirement already satisfied: tenacity>=6.2.0 in /usr/local/lib/python3.10/dist-packages (from plotly->catboost) (8.2.2)\n",
            "Installing collected packages: catboost\n",
            "Successfully installed catboost-1.2\n"
          ]
        }
      ]
    },
    {
      "cell_type": "code",
      "source": [
        "import pandas as pd\n",
        "from sklearn.model_selection import train_test_split, KFold\n",
        "from sklearn.ensemble import GradientBoostingRegressor, RandomForestRegressor\n",
        "from sklearn.neural_network import MLPRegressor\n",
        "from catboost import CatBoostRegressor\n",
        "from lightgbm import LGBMRegressor\n",
        "from xgboost import XGBRegressor\n",
        "from sklearn.linear_model import LinearRegression, Lasso\n",
        "from sklearn.metrics import mean_absolute_error"
      ],
      "metadata": {
        "id": "5D4Zs13nr595"
      },
      "execution_count": 17,
      "outputs": []
    },
    {
      "cell_type": "code",
      "source": [
        "gbrt_params = {'n_estimators': 489, 'learning_rate': 0.037666299375964746, 'max_depth': 10, 'min_samples_split': 9, 'min_samples_leaf': 1, 'max_features': 'sqrt', 'subsample': 0.994817517319318}"
      ],
      "metadata": {
        "id": "J8AWk2hMs5NQ"
      },
      "execution_count": 11,
      "outputs": []
    },
    {
      "cell_type": "code",
      "source": [
        "rf_params =  {'n_estimators': 500, 'max_depth': 10, 'min_samples_split': 2, 'min_samples_leaf': 2}"
      ],
      "metadata": {
        "id": "XR274FGzs5K9"
      },
      "execution_count": 12,
      "outputs": []
    },
    {
      "cell_type": "code",
      "source": [
        "cat_params = {'boosting_type': 'Plain', 'iterations': 1674, 'learning_rate': 0.10573424441351864, 'depth': 8, 'l2_leaf_reg': 0.00026060065975250495, 'random_strength': 1.8409010826838174e-05, 'bagging_temperature': 0.01757564674119713, 'border_count': 113}"
      ],
      "metadata": {
        "id": "-F1akK2Fs9Lm"
      },
      "execution_count": 13,
      "outputs": []
    },
    {
      "cell_type": "code",
      "source": [
        "lgb_params =  {'num_leaves': 96, 'learning_rate': 0.09833136097882149, 'feature_fraction': 0.933552804860751, 'bagging_fraction': 0.7528646718210341, 'bagging_freq': 7, 'lambda_l1': 4.485925018221742, 'lambda_l2': 0.00010634446495247863}"
      ],
      "metadata": {
        "id": "bMYyJyLLs9JH"
      },
      "execution_count": 14,
      "outputs": []
    },
    {
      "cell_type": "code",
      "source": [
        "xgb_params = {'booster': 'gbtree', 'eta': 0.09773787198485948, 'max_depth': 10, 'subsample': 0.6537116324250624, 'colsample_bytree': 0.9736768668296801, 'lambda': 2.571247074857165, 'alpha': 3.739545080324916e-05}"
      ],
      "metadata": {
        "id": "ue7V10ods9Gt"
      },
      "execution_count": 15,
      "outputs": []
    },
    {
      "cell_type": "code",
      "source": [
        "gbrt = GradientBoostingRegressor(**gbrt_params)\n",
        "rf = RandomForestRegressor(**rf_params)\n",
        "nn = MLPRegressor()\n",
        "catboost = CatBoostRegressor(**cat_params)\n",
        "lgbm = LGBMRegressor(**lgb_params)\n",
        "xgb = XGBRegressor(**xgb_params)"
      ],
      "metadata": {
        "id": "cb3Ubbszr57m"
      },
      "execution_count": 18,
      "outputs": []
    },
    {
      "cell_type": "code",
      "source": [
        "kf = KFold(n_splits=5, shuffle=True, random_state=42)\n",
        "\n",
        "meta_features = []\n",
        "for train_index, val_index in kf.split(X_train):\n",
        "    X_train_fold, X_val_fold = X_train.iloc[train_index], X_train.iloc[val_index]\n",
        "    y_train_fold, y_val_fold = y_train.iloc[train_index], y_train.iloc[val_index]\n",
        "\n",
        "    gbrt.fit(X_train_fold, y_train_fold)\n",
        "    rf.fit(X_train_fold, y_train_fold)\n",
        "    nn.fit(X_train_fold, y_train_fold)\n",
        "    catboost.fit(X_train_fold, y_train_fold, verbose=False)\n",
        "    lgbm.fit(X_train_fold, y_train_fold)\n",
        "    xgb.fit(X_train_fold, y_train_fold)\n",
        "\n",
        "    gbrt_pred = gbrt.predict(X_val_fold)\n",
        "    rf_pred = rf.predict(X_val_fold)\n",
        "    nn_pred = nn.predict(X_val_fold)\n",
        "    catboost_pred = catboost.predict(X_val_fold)\n",
        "    lgbm_pred = lgbm.predict(X_val_fold)\n",
        "    xgb_pred = xgb.predict(X_val_fold)\n",
        "\n",
        "    meta_features.extend(list(zip(gbrt_pred, rf_pred, nn_pred, catboost_pred, lgbm_pred, xgb_pred)))"
      ],
      "metadata": {
        "colab": {
          "base_uri": "https://localhost:8080/"
        },
        "id": "Cp_f37rttD4R",
        "outputId": "d36d46c8-999c-40fb-b6c1-086d4b18fd70"
      },
      "execution_count": 19,
      "outputs": [
        {
          "output_type": "stream",
          "name": "stdout",
          "text": [
            "[LightGBM] [Warning] lambda_l1 is set=4.485925018221742, reg_alpha=0.0 will be ignored. Current value: lambda_l1=4.485925018221742\n",
            "[LightGBM] [Warning] feature_fraction is set=0.933552804860751, colsample_bytree=1.0 will be ignored. Current value: feature_fraction=0.933552804860751\n",
            "[LightGBM] [Warning] bagging_freq is set=7, subsample_freq=0 will be ignored. Current value: bagging_freq=7\n",
            "[LightGBM] [Warning] lambda_l2 is set=0.00010634446495247863, reg_lambda=0.0 will be ignored. Current value: lambda_l2=0.00010634446495247863\n",
            "[LightGBM] [Warning] bagging_fraction is set=0.7528646718210341, subsample=1.0 will be ignored. Current value: bagging_fraction=0.7528646718210341\n",
            "[LightGBM] [Warning] lambda_l1 is set=4.485925018221742, reg_alpha=0.0 will be ignored. Current value: lambda_l1=4.485925018221742\n",
            "[LightGBM] [Warning] feature_fraction is set=0.933552804860751, colsample_bytree=1.0 will be ignored. Current value: feature_fraction=0.933552804860751\n",
            "[LightGBM] [Warning] bagging_freq is set=7, subsample_freq=0 will be ignored. Current value: bagging_freq=7\n",
            "[LightGBM] [Warning] lambda_l2 is set=0.00010634446495247863, reg_lambda=0.0 will be ignored. Current value: lambda_l2=0.00010634446495247863\n",
            "[LightGBM] [Warning] bagging_fraction is set=0.7528646718210341, subsample=1.0 will be ignored. Current value: bagging_fraction=0.7528646718210341\n",
            "[LightGBM] [Warning] lambda_l1 is set=4.485925018221742, reg_alpha=0.0 will be ignored. Current value: lambda_l1=4.485925018221742\n",
            "[LightGBM] [Warning] feature_fraction is set=0.933552804860751, colsample_bytree=1.0 will be ignored. Current value: feature_fraction=0.933552804860751\n",
            "[LightGBM] [Warning] bagging_freq is set=7, subsample_freq=0 will be ignored. Current value: bagging_freq=7\n",
            "[LightGBM] [Warning] lambda_l2 is set=0.00010634446495247863, reg_lambda=0.0 will be ignored. Current value: lambda_l2=0.00010634446495247863\n",
            "[LightGBM] [Warning] bagging_fraction is set=0.7528646718210341, subsample=1.0 will be ignored. Current value: bagging_fraction=0.7528646718210341\n",
            "[LightGBM] [Warning] lambda_l1 is set=4.485925018221742, reg_alpha=0.0 will be ignored. Current value: lambda_l1=4.485925018221742\n",
            "[LightGBM] [Warning] feature_fraction is set=0.933552804860751, colsample_bytree=1.0 will be ignored. Current value: feature_fraction=0.933552804860751\n",
            "[LightGBM] [Warning] bagging_freq is set=7, subsample_freq=0 will be ignored. Current value: bagging_freq=7\n",
            "[LightGBM] [Warning] lambda_l2 is set=0.00010634446495247863, reg_lambda=0.0 will be ignored. Current value: lambda_l2=0.00010634446495247863\n",
            "[LightGBM] [Warning] bagging_fraction is set=0.7528646718210341, subsample=1.0 will be ignored. Current value: bagging_fraction=0.7528646718210341\n",
            "[LightGBM] [Warning] lambda_l1 is set=4.485925018221742, reg_alpha=0.0 will be ignored. Current value: lambda_l1=4.485925018221742\n",
            "[LightGBM] [Warning] feature_fraction is set=0.933552804860751, colsample_bytree=1.0 will be ignored. Current value: feature_fraction=0.933552804860751\n",
            "[LightGBM] [Warning] bagging_freq is set=7, subsample_freq=0 will be ignored. Current value: bagging_freq=7\n",
            "[LightGBM] [Warning] lambda_l2 is set=0.00010634446495247863, reg_lambda=0.0 will be ignored. Current value: lambda_l2=0.00010634446495247863\n",
            "[LightGBM] [Warning] bagging_fraction is set=0.7528646718210341, subsample=1.0 will be ignored. Current value: bagging_fraction=0.7528646718210341\n"
          ]
        }
      ]
    },
    {
      "cell_type": "code",
      "source": [
        "meta_model = LinearRegression()  # You can also try Lasso or other meta models\n",
        "meta_model.fit(meta_features, y_train)"
      ],
      "metadata": {
        "colab": {
          "base_uri": "https://localhost:8080/",
          "height": 74
        },
        "id": "48InPBwvtD18",
        "outputId": "cab6267c-5b1d-48b7-fe1c-2c258f8db65b"
      },
      "execution_count": 91,
      "outputs": [
        {
          "output_type": "execute_result",
          "data": {
            "text/plain": [
              "LinearRegression()"
            ],
            "text/html": [
              "<style>#sk-container-id-4 {color: black;background-color: white;}#sk-container-id-4 pre{padding: 0;}#sk-container-id-4 div.sk-toggleable {background-color: white;}#sk-container-id-4 label.sk-toggleable__label {cursor: pointer;display: block;width: 100%;margin-bottom: 0;padding: 0.3em;box-sizing: border-box;text-align: center;}#sk-container-id-4 label.sk-toggleable__label-arrow:before {content: \"▸\";float: left;margin-right: 0.25em;color: #696969;}#sk-container-id-4 label.sk-toggleable__label-arrow:hover:before {color: black;}#sk-container-id-4 div.sk-estimator:hover label.sk-toggleable__label-arrow:before {color: black;}#sk-container-id-4 div.sk-toggleable__content {max-height: 0;max-width: 0;overflow: hidden;text-align: left;background-color: #f0f8ff;}#sk-container-id-4 div.sk-toggleable__content pre {margin: 0.2em;color: black;border-radius: 0.25em;background-color: #f0f8ff;}#sk-container-id-4 input.sk-toggleable__control:checked~div.sk-toggleable__content {max-height: 200px;max-width: 100%;overflow: auto;}#sk-container-id-4 input.sk-toggleable__control:checked~label.sk-toggleable__label-arrow:before {content: \"▾\";}#sk-container-id-4 div.sk-estimator input.sk-toggleable__control:checked~label.sk-toggleable__label {background-color: #d4ebff;}#sk-container-id-4 div.sk-label input.sk-toggleable__control:checked~label.sk-toggleable__label {background-color: #d4ebff;}#sk-container-id-4 input.sk-hidden--visually {border: 0;clip: rect(1px 1px 1px 1px);clip: rect(1px, 1px, 1px, 1px);height: 1px;margin: -1px;overflow: hidden;padding: 0;position: absolute;width: 1px;}#sk-container-id-4 div.sk-estimator {font-family: monospace;background-color: #f0f8ff;border: 1px dotted black;border-radius: 0.25em;box-sizing: border-box;margin-bottom: 0.5em;}#sk-container-id-4 div.sk-estimator:hover {background-color: #d4ebff;}#sk-container-id-4 div.sk-parallel-item::after {content: \"\";width: 100%;border-bottom: 1px solid gray;flex-grow: 1;}#sk-container-id-4 div.sk-label:hover label.sk-toggleable__label {background-color: #d4ebff;}#sk-container-id-4 div.sk-serial::before {content: \"\";position: absolute;border-left: 1px solid gray;box-sizing: border-box;top: 0;bottom: 0;left: 50%;z-index: 0;}#sk-container-id-4 div.sk-serial {display: flex;flex-direction: column;align-items: center;background-color: white;padding-right: 0.2em;padding-left: 0.2em;position: relative;}#sk-container-id-4 div.sk-item {position: relative;z-index: 1;}#sk-container-id-4 div.sk-parallel {display: flex;align-items: stretch;justify-content: center;background-color: white;position: relative;}#sk-container-id-4 div.sk-item::before, #sk-container-id-4 div.sk-parallel-item::before {content: \"\";position: absolute;border-left: 1px solid gray;box-sizing: border-box;top: 0;bottom: 0;left: 50%;z-index: -1;}#sk-container-id-4 div.sk-parallel-item {display: flex;flex-direction: column;z-index: 1;position: relative;background-color: white;}#sk-container-id-4 div.sk-parallel-item:first-child::after {align-self: flex-end;width: 50%;}#sk-container-id-4 div.sk-parallel-item:last-child::after {align-self: flex-start;width: 50%;}#sk-container-id-4 div.sk-parallel-item:only-child::after {width: 0;}#sk-container-id-4 div.sk-dashed-wrapped {border: 1px dashed gray;margin: 0 0.4em 0.5em 0.4em;box-sizing: border-box;padding-bottom: 0.4em;background-color: white;}#sk-container-id-4 div.sk-label label {font-family: monospace;font-weight: bold;display: inline-block;line-height: 1.2em;}#sk-container-id-4 div.sk-label-container {text-align: center;}#sk-container-id-4 div.sk-container {/* jupyter's `normalize.less` sets `[hidden] { display: none; }` but bootstrap.min.css set `[hidden] { display: none !important; }` so we also need the `!important` here to be able to override the default hidden behavior on the sphinx rendered scikit-learn.org. See: https://github.com/scikit-learn/scikit-learn/issues/21755 */display: inline-block !important;position: relative;}#sk-container-id-4 div.sk-text-repr-fallback {display: none;}</style><div id=\"sk-container-id-4\" class=\"sk-top-container\"><div class=\"sk-text-repr-fallback\"><pre>LinearRegression()</pre><b>In a Jupyter environment, please rerun this cell to show the HTML representation or trust the notebook. <br />On GitHub, the HTML representation is unable to render, please try loading this page with nbviewer.org.</b></div><div class=\"sk-container\" hidden><div class=\"sk-item\"><div class=\"sk-estimator sk-toggleable\"><input class=\"sk-toggleable__control sk-hidden--visually\" id=\"sk-estimator-id-4\" type=\"checkbox\" checked><label for=\"sk-estimator-id-4\" class=\"sk-toggleable__label sk-toggleable__label-arrow\">LinearRegression</label><div class=\"sk-toggleable__content\"><pre>LinearRegression()</pre></div></div></div></div></div>"
            ]
          },
          "metadata": {},
          "execution_count": 91
        }
      ]
    },
    {
      "cell_type": "code",
      "source": [
        "gbrt_pred_valid = gbrt.predict(X_valid)\n",
        "rf_pred_valid = rf.predict(X_valid)\n",
        "nn_pred_valid = nn.predict(X_valid)\n",
        "catboost_pred_valid = catboost.predict(X_valid)\n",
        "lgbm_pred_valid = lgbm.predict(X_valid)\n",
        "xgb_pred_valid = xgb.predict(X_valid)"
      ],
      "metadata": {
        "id": "PQjQywbdvElm"
      },
      "execution_count": 20,
      "outputs": []
    },
    {
      "cell_type": "code",
      "source": [
        "meta_features_valid = list(zip(gbrt_pred_valid, rf_pred_valid, nn_pred_valid, catboost_pred_valid, lgbm_pred_valid, xgb_pred_valid))\n",
        "\n",
        "# Make predictions using the meta model\n",
        "ensemble_pred = meta_model.predict(meta_features_valid)"
      ],
      "metadata": {
        "colab": {
          "base_uri": "https://localhost:8080/",
          "height": 213
        },
        "id": "8S_hBzP2tDzs",
        "outputId": "53d76baf-fc3c-49aa-c1a2-c0e54ed1cb85"
      },
      "execution_count": 21,
      "outputs": [
        {
          "output_type": "error",
          "ename": "NameError",
          "evalue": "ignored",
          "traceback": [
            "\u001b[0;31m---------------------------------------------------------------------------\u001b[0m",
            "\u001b[0;31mNameError\u001b[0m                                 Traceback (most recent call last)",
            "\u001b[0;32m<ipython-input-21-3e87dd955b5f>\u001b[0m in \u001b[0;36m<cell line: 4>\u001b[0;34m()\u001b[0m\n\u001b[1;32m      2\u001b[0m \u001b[0;34m\u001b[0m\u001b[0m\n\u001b[1;32m      3\u001b[0m \u001b[0;31m# Make predictions using the meta model\u001b[0m\u001b[0;34m\u001b[0m\u001b[0;34m\u001b[0m\u001b[0m\n\u001b[0;32m----> 4\u001b[0;31m \u001b[0mensemble_pred\u001b[0m \u001b[0;34m=\u001b[0m \u001b[0mmeta_model\u001b[0m\u001b[0;34m.\u001b[0m\u001b[0mpredict\u001b[0m\u001b[0;34m(\u001b[0m\u001b[0mmeta_features_valid\u001b[0m\u001b[0;34m)\u001b[0m\u001b[0;34m\u001b[0m\u001b[0;34m\u001b[0m\u001b[0m\n\u001b[0m",
            "\u001b[0;31mNameError\u001b[0m: name 'meta_model' is not defined"
          ]
        }
      ]
    },
    {
      "cell_type": "code",
      "source": [
        "mae = mean_absolute_error(y_valid, ensemble_pred)\n",
        "print(\"Mean Absolute Error:\", mae)"
      ],
      "metadata": {
        "colab": {
          "base_uri": "https://localhost:8080/"
        },
        "id": "V9uxpyoitDxd",
        "outputId": "39cf2885-e33a-4725-fe56-82a9bfa1a79e"
      },
      "execution_count": 87,
      "outputs": [
        {
          "output_type": "stream",
          "name": "stdout",
          "text": [
            "Mean Absolute Error: 29.300212800417405\n"
          ]
        }
      ]
    },
    {
      "cell_type": "code",
      "source": [
        "#gird\n",
        "mae = mean_absolute_error(y_valid, ensemble_pred)\n",
        "print(\"Mean Absolute Error:\", mae)"
      ],
      "metadata": {
        "colab": {
          "base_uri": "https://localhost:8080/"
        },
        "id": "7CZyaqnEywhX",
        "outputId": "0f81c3a2-b5d0-4bf2-d020-893f2491be48"
      },
      "execution_count": 94,
      "outputs": [
        {
          "output_type": "stream",
          "name": "stdout",
          "text": [
            "Mean Absolute Error: 29.206160220178656\n"
          ]
        }
      ]
    },
    {
      "cell_type": "code",
      "source": [
        "base_model_names = ['GBRT', 'Random Forest', 'Neural Network', 'CatBoost', 'LGBM', 'XGBoost']\n",
        "weights = meta_model.coef_\n",
        "\n",
        "plt.figure(figsize=(10, 6))\n",
        "plt.bar(base_model_names, weights)\n",
        "plt.xlabel('Base Model')\n",
        "plt.ylabel('Weight')\n",
        "plt.title('Weights of Base Models in Meta Model')\n",
        "plt.show()"
      ],
      "metadata": {
        "colab": {
          "base_uri": "https://localhost:8080/",
          "height": 564
        },
        "id": "1sJaShMXwGqf",
        "outputId": "42332454-6253-433a-e63b-f42ca4dd8547"
      },
      "execution_count": 88,
      "outputs": [
        {
          "output_type": "display_data",
          "data": {
            "text/plain": [
              "<Figure size 1000x600 with 1 Axes>"
            ],
            "image/png": "[encoded data removed]"
          },
          "metadata": {}
        }
      ]
    },
    {
      "cell_type": "code",
      "source": [
        "base_model_names = ['GBRT', 'Random Forest', 'Neural Network', 'CatBoost', 'LGBM', 'XGBoost']\n",
        "weights = meta_model.coef_\n",
        "\n",
        "plt.figure(figsize=(10, 6))\n",
        "plt.bar(base_model_names, weights)\n",
        "plt.xlabel('Base Model')\n",
        "plt.ylabel('Weight')\n",
        "plt.title('Weights of Base Models in Meta Model')\n",
        "plt.show()"
      ],
      "metadata": {
        "colab": {
          "base_uri": "https://localhost:8080/",
          "height": 564
        },
        "id": "W8gSGMVBwJ2f",
        "outputId": "df6fc612-d4cb-49ec-ef1c-9b78cfe08392"
      },
      "execution_count": 95,
      "outputs": [
        {
          "output_type": "display_data",
          "data": {
            "text/plain": [
              "<Figure size 1000x600 with 1 Axes>"
            ],
            "image/png": "[encoded data removed]"
          },
          "metadata": {}
        }
      ]
    },
    {
      "cell_type": "markdown",
      "source": [
        "gbrt+kfold=5"
      ],
      "metadata": {
        "id": "r6-PPyUd3S9W"
      }
    },
    {
      "cell_type": "code",
      "source": [
        "kf = KFold(n_splits=5, shuffle=True, random_state=42)\n",
        "gbrt = GradientBoostingRegressor(**gbrt_params)"
      ],
      "metadata": {
        "id": "QQvIxAq43Z1a"
      },
      "execution_count": 96,
      "outputs": []
    },
    {
      "cell_type": "code",
      "source": [
        "# Perform cross-validation\n",
        "mae_scores = []\n",
        "for train_index, val_index in kf.split(X):\n",
        "    X_train, X_valid = X.iloc[train_index], X.iloc[val_index]\n",
        "    y_train, y_valid = y.iloc[train_index], y.iloc[val_index]\n",
        "\n",
        "    # Fit the GBRT model\n",
        "    gbrt.fit(X_train, y_train)\n",
        "\n",
        "    # Make predictions on the validation set\n",
        "    y_pred = gbrt.predict(X_valid)\n",
        "\n",
        "    # Calculate the mean absolute error\n",
        "    mae = mean_absolute_error(y_valid, y_pred)\n",
        "    mae_scores.append(mae)\n",
        "\n"
      ],
      "metadata": {
        "id": "oinULmth3Sdt"
      },
      "execution_count": 99,
      "outputs": []
    },
    {
      "cell_type": "code",
      "source": [
        "# Calculate the average MAE across all folds\n",
        "average_mae = sum(mae_scores) / len(mae_scores)\n",
        "\n",
        "print(\"Average MAE:\", average_mae)"
      ],
      "metadata": {
        "colab": {
          "base_uri": "https://localhost:8080/"
        },
        "id": "Cer87eUcy-wa",
        "outputId": "1267e45a-9f99-4333-fbf6-523299bc9ead"
      },
      "execution_count": 100,
      "outputs": [
        {
          "output_type": "stream",
          "name": "stdout",
          "text": [
            "Average MAE: 5.816821103366786\n"
          ]
        }
      ]
    },
    {
      "cell_type": "code",
      "source": [
        "!pip install optuna"
      ],
      "metadata": {
        "colab": {
          "base_uri": "https://localhost:8080/"
        },
        "id": "Um-veegWy-uG",
        "outputId": "229be21c-1874-4963-c29e-2073ad63ced6"
      },
      "execution_count": 7,
      "outputs": [
        {
          "output_type": "stream",
          "name": "stdout",
          "text": [
            "Looking in indexes: https://pypi.org/simple, https://us-python.pkg.dev/colab-wheels/public/simple/\n",
            "Collecting optuna\n",
            "  Downloading optuna-3.2.0-py3-none-any.whl (390 kB)\n",
            "\u001b[2K     \u001b[90m━━━━━━━━━━━━━━━━━━━━━━━━━━━━━━━━━━━━━━\u001b[0m \u001b[32m390.6/390.6 kB\u001b[0m \u001b[31m14.9 MB/s\u001b[0m eta \u001b[36m0:00:00\u001b[0m\n",
            "\u001b[?25hCollecting alembic>=1.5.0 (from optuna)\n",
            "  Downloading alembic-1.11.1-py3-none-any.whl (224 kB)\n",
            "\u001b[2K     \u001b[90m━━━━━━━━━━━━━━━━━━━━━━━━━━━━━━━━━━━━━━\u001b[0m \u001b[32m224.5/224.5 kB\u001b[0m \u001b[31m29.8 MB/s\u001b[0m eta \u001b[36m0:00:00\u001b[0m\n",
            "\u001b[?25hCollecting cmaes>=0.9.1 (from optuna)\n",
            "  Downloading cmaes-0.9.1-py3-none-any.whl (21 kB)\n",
            "Collecting colorlog (from optuna)\n",
            "  Downloading colorlog-6.7.0-py2.py3-none-any.whl (11 kB)\n",
            "Requirement already satisfied: numpy in /usr/local/lib/python3.10/dist-packages (from optuna) (1.22.4)\n",
            "Requirement already satisfied: packaging>=20.0 in /usr/local/lib/python3.10/dist-packages (from optuna) (23.1)\n",
            "Requirement already satisfied: sqlalchemy>=1.3.0 in /usr/local/lib/python3.10/dist-packages (from optuna) (2.0.10)\n",
            "Requirement already satisfied: tqdm in /usr/local/lib/python3.10/dist-packages (from optuna) (4.65.0)\n",
            "Requirement already satisfied: PyYAML in /usr/local/lib/python3.10/dist-packages (from optuna) (6.0)\n",
            "Collecting Mako (from alembic>=1.5.0->optuna)\n",
            "  Downloading Mako-1.2.4-py3-none-any.whl (78 kB)\n",
            "\u001b[2K     \u001b[90m━━━━━━━━━━━━━━━━━━━━━━━━━━━━━━━━━━━━━━━━\u001b[0m \u001b[32m78.7/78.7 kB\u001b[0m \u001b[31m11.3 MB/s\u001b[0m eta \u001b[36m0:00:00\u001b[0m\n",
            "\u001b[?25hRequirement already satisfied: typing-extensions>=4 in /usr/local/lib/python3.10/dist-packages (from alembic>=1.5.0->optuna) (4.5.0)\n",
            "Requirement already satisfied: greenlet!=0.4.17 in /usr/local/lib/python3.10/dist-packages (from sqlalchemy>=1.3.0->optuna) (2.0.2)\n",
            "Requirement already satisfied: MarkupSafe>=0.9.2 in /usr/local/lib/python3.10/dist-packages (from Mako->alembic>=1.5.0->optuna) (2.1.2)\n",
            "Installing collected packages: Mako, colorlog, cmaes, alembic, optuna\n",
            "Successfully installed Mako-1.2.4 alembic-1.11.1 cmaes-0.9.1 colorlog-6.7.0 optuna-3.2.0\n"
          ]
        }
      ]
    },
    {
      "cell_type": "code",
      "source": [
        "import optuna\n",
        "from tqdm import tqdm"
      ],
      "metadata": {
        "id": "0SaifAL94yhx"
      },
      "execution_count": 8,
      "outputs": []
    },
    {
      "cell_type": "code",
      "source": [
        "def objective(trial):\n",
        "    # Define the hyperparameter search space\n",
        "    params = {\n",
        "        'n_estimators': trial.suggest_int('n_estimators', 100, 1000),\n",
        "        'learning_rate': trial.suggest_loguniform('learning_rate', 0.01, 0.1),\n",
        "        'max_depth': trial.suggest_int('max_depth', 3, 10),\n",
        "        'min_samples_split': trial.suggest_int('min_samples_split', 2, 20),\n",
        "        'min_samples_leaf': trial.suggest_int('min_samples_leaf', 1, 10),\n",
        "        'subsample': trial.suggest_uniform('subsample', 0.5, 1.0),\n",
        "        'max_features': trial.suggest_uniform('max_features', 0.1, 1.0)\n",
        "    }\n",
        "\n",
        "    # Initialize the GBRT model with the current hyperparameters\n",
        "    gbrt = GradientBoostingRegressor(**params)\n",
        "\n",
        "    # Fit the GBRT model\n",
        "    gbrt.fit(meta_features, y_train)\n",
        "\n",
        "    # Make predictions on the validation set\n",
        "    y_pred = gbrt.predict(meta_features_valid)\n",
        "\n",
        "    # Calculate the mean absolute error\n",
        "    mae = mean_absolute_error(y_valid, y_pred)\n",
        "\n",
        "    return mae"
      ],
      "metadata": {
        "id": "IfQYiZpz428f"
      },
      "execution_count": 9,
      "outputs": []
    },
    {
      "cell_type": "code",
      "source": [
        "study = optuna.create_study(direction='minimize')\n",
        "n_trials = 100\n",
        "\n",
        "with tqdm(total=n_trials) as pbar:\n",
        "    def update_pbar(study, trial):\n",
        "        pbar.update(1)\n",
        "\n",
        "    study.optimize(objective, n_trials=n_trials, callbacks=[update_pbar])"
      ],
      "metadata": {
        "id": "zfBTNXu5426W"
      },
      "execution_count": null,
      "outputs": []
    },
    {
      "cell_type": "code",
      "source": [
        "import xgboost as xgb"
      ],
      "metadata": {
        "id": "GVMVjmOn424O"
      },
      "execution_count": 25,
      "outputs": []
    },
    {
      "cell_type": "code",
      "source": [
        "def objective(trial):\n",
        "    # Define the hyperparameter search space\n",
        "    params = {\n",
        "        'n_estimators': trial.suggest_int('n_estimators', 100, 1000),\n",
        "        'learning_rate': trial.suggest_loguniform('learning_rate', 0.01, 0.1),\n",
        "        'max_depth': trial.suggest_int('max_depth', 3, 10),\n",
        "        'min_child_weight': trial.suggest_int('min_child_weight', 1, 10),\n",
        "        'subsample': trial.suggest_uniform('subsample', 0.5, 1.0),\n",
        "        'colsample_bytree': trial.suggest_uniform('colsample_bytree', 0.1, 1.0),\n",
        "        'tree_method': 'gpu_hist',  # Specify the tree method as 'gpu_hist' for GPU acceleration\n",
        "        'predictor': 'gpu_predictor'  # Specify the predictor as 'gpu_predictor' for GPU acceleration\n",
        "    }\n",
        "\n",
        "    # Initialize the XGBRegressor model with the current hyperparameters\n",
        "    xgb_model = xgb.XGBRegressor(**params)\n",
        "\n",
        "    # Fit the XGBRegressor model\n",
        "    xgb_model.fit(meta_features, y_train, eval_set=[(meta_features_valid, y_valid)], early_stopping_rounds=10, verbose=False)\n",
        "\n",
        "    # Make predictions on the validation set\n",
        "    y_pred = xgb_model.predict(meta_features_valid)\n",
        "\n",
        "    # Calculate the mean absolute error\n",
        "    mae = mean_absolute_error(y_valid, y_pred)\n",
        "\n",
        "    return mae"
      ],
      "metadata": {
        "id": "khAqcnYd4219"
      },
      "execution_count": 26,
      "outputs": []
    },
    {
      "cell_type": "code",
      "source": [
        "study = optuna.create_study(direction='minimize')\n",
        "n_trials = 100\n",
        "\n",
        "with tqdm(total=n_trials) as pbar:\n",
        "    def update_pbar(study, trial):\n",
        "        pbar.update(1)\n",
        "\n",
        "    study.optimize(objective, n_trials=n_trials, callbacks=[update_pbar])"
      ],
      "metadata": {
        "colab": {
          "base_uri": "https://localhost:8080/"
        },
        "id": "e1oso8PW7TYI",
        "outputId": "a4038319-0482-44c0-8dd3-d8929d086f18"
      },
      "execution_count": 27,
      "outputs": [
        {
          "output_type": "stream",
          "name": "stderr",
          "text": [
            "[I 2023-06-22 12:15:32,115] A new study created in memory with name: no-name-c5a7853d-143c-45ec-9658-7d4713d19631\n",
            "  0%|          | 0/100 [00:00<?, ?it/s]<ipython-input-26-bd63721c1a00>:5: FutureWarning: suggest_loguniform has been deprecated in v3.0.0. This feature will be removed in v6.0.0. See https://github.com/optuna/optuna/releases/tag/v3.0.0. Use suggest_float(..., log=True) instead.\n",
            "  'learning_rate': trial.suggest_loguniform('learning_rate', 0.01, 0.1),\n",
            "<ipython-input-26-bd63721c1a00>:8: FutureWarning: suggest_uniform has been deprecated in v3.0.0. This feature will be removed in v6.0.0. See https://github.com/optuna/optuna/releases/tag/v3.0.0. Use suggest_float instead.\n",
            "  'subsample': trial.suggest_uniform('subsample', 0.5, 1.0),\n",
            "<ipython-input-26-bd63721c1a00>:9: FutureWarning: suggest_uniform has been deprecated in v3.0.0. This feature will be removed in v6.0.0. See https://github.com/optuna/optuna/releases/tag/v3.0.0. Use suggest_float instead.\n",
            "  'colsample_bytree': trial.suggest_uniform('colsample_bytree', 0.1, 1.0),\n",
            "/usr/local/lib/python3.10/dist-packages/xgboost/sklearn.py:835: UserWarning: `early_stopping_rounds` in `fit` method is deprecated for better compatibility with scikit-learn, use `early_stopping_rounds` in constructor or`set_params` instead.\n",
            "  warnings.warn(\n",
            "[I 2023-06-22 12:15:33,677] Trial 0 finished with value: 29.017033196127873 and parameters: {'n_estimators': 197, 'learning_rate': 0.09351140557440178, 'max_depth': 9, 'min_child_weight': 2, 'subsample': 0.9098732014635028, 'colsample_bytree': 0.7541336037661215}. Best is trial 0 with value: 29.017033196127873.\n",
            "  1%|          | 1/100 [00:01<02:34,  1.56s/it]<ipython-input-26-bd63721c1a00>:5: FutureWarning: suggest_loguniform has been deprecated in v3.0.0. This feature will be removed in v6.0.0. See https://github.com/optuna/optuna/releases/tag/v3.0.0. Use suggest_float(..., log=True) instead.\n",
            "  'learning_rate': trial.suggest_loguniform('learning_rate', 0.01, 0.1),\n",
            "<ipython-input-26-bd63721c1a00>:8: FutureWarning: suggest_uniform has been deprecated in v3.0.0. This feature will be removed in v6.0.0. See https://github.com/optuna/optuna/releases/tag/v3.0.0. Use suggest_float instead.\n",
            "  'subsample': trial.suggest_uniform('subsample', 0.5, 1.0),\n",
            "<ipython-input-26-bd63721c1a00>:9: FutureWarning: suggest_uniform has been deprecated in v3.0.0. This feature will be removed in v6.0.0. See https://github.com/optuna/optuna/releases/tag/v3.0.0. Use suggest_float instead.\n",
            "  'colsample_bytree': trial.suggest_uniform('colsample_bytree', 0.1, 1.0),\n",
            "/usr/local/lib/python3.10/dist-packages/xgboost/sklearn.py:835: UserWarning: `early_stopping_rounds` in `fit` method is deprecated for better compatibility with scikit-learn, use `early_stopping_rounds` in constructor or`set_params` instead.\n",
            "  warnings.warn(\n",
            "[I 2023-06-22 12:15:34,003] Trial 1 finished with value: 28.315061031757796 and parameters: {'n_estimators': 147, 'learning_rate': 0.014941186884027898, 'max_depth': 4, 'min_child_weight': 3, 'subsample': 0.960252621426293, 'colsample_bytree': 0.20332551849006134}. Best is trial 1 with value: 28.315061031757796.\n",
            "  2%|▏         | 2/100 [00:01<01:21,  1.20it/s]<ipython-input-26-bd63721c1a00>:5: FutureWarning: suggest_loguniform has been deprecated in v3.0.0. This feature will be removed in v6.0.0. See https://github.com/optuna/optuna/releases/tag/v3.0.0. Use suggest_float(..., log=True) instead.\n",
            "  'learning_rate': trial.suggest_loguniform('learning_rate', 0.01, 0.1),\n",
            "<ipython-input-26-bd63721c1a00>:8: FutureWarning: suggest_uniform has been deprecated in v3.0.0. This feature will be removed in v6.0.0. See https://github.com/optuna/optuna/releases/tag/v3.0.0. Use suggest_float instead.\n",
            "  'subsample': trial.suggest_uniform('subsample', 0.5, 1.0),\n",
            "<ipython-input-26-bd63721c1a00>:9: FutureWarning: suggest_uniform has been deprecated in v3.0.0. This feature will be removed in v6.0.0. See https://github.com/optuna/optuna/releases/tag/v3.0.0. Use suggest_float instead.\n",
            "  'colsample_bytree': trial.suggest_uniform('colsample_bytree', 0.1, 1.0),\n",
            "/usr/local/lib/python3.10/dist-packages/xgboost/sklearn.py:835: UserWarning: `early_stopping_rounds` in `fit` method is deprecated for better compatibility with scikit-learn, use `early_stopping_rounds` in constructor or`set_params` instead.\n",
            "  warnings.warn(\n",
            "[I 2023-06-22 12:15:34,292] Trial 2 finished with value: 29.04438763872695 and parameters: {'n_estimators': 105, 'learning_rate': 0.038381434232961434, 'max_depth': 5, 'min_child_weight': 2, 'subsample': 0.7109143349418181, 'colsample_bytree': 0.6285278066425698}. Best is trial 1 with value: 28.315061031757796.\n",
            "  3%|▎         | 3/100 [00:02<00:56,  1.71it/s]<ipython-input-26-bd63721c1a00>:5: FutureWarning: suggest_loguniform has been deprecated in v3.0.0. This feature will be removed in v6.0.0. See https://github.com/optuna/optuna/releases/tag/v3.0.0. Use suggest_float(..., log=True) instead.\n",
            "  'learning_rate': trial.suggest_loguniform('learning_rate', 0.01, 0.1),\n",
            "<ipython-input-26-bd63721c1a00>:8: FutureWarning: suggest_uniform has been deprecated in v3.0.0. This feature will be removed in v6.0.0. See https://github.com/optuna/optuna/releases/tag/v3.0.0. Use suggest_float instead.\n",
            "  'subsample': trial.suggest_uniform('subsample', 0.5, 1.0),\n",
            "<ipython-input-26-bd63721c1a00>:9: FutureWarning: suggest_uniform has been deprecated in v3.0.0. This feature will be removed in v6.0.0. See https://github.com/optuna/optuna/releases/tag/v3.0.0. Use suggest_float instead.\n",
            "  'colsample_bytree': trial.suggest_uniform('colsample_bytree', 0.1, 1.0),\n",
            "/usr/local/lib/python3.10/dist-packages/xgboost/sklearn.py:835: UserWarning: `early_stopping_rounds` in `fit` method is deprecated for better compatibility with scikit-learn, use `early_stopping_rounds` in constructor or`set_params` instead.\n",
            "  warnings.warn(\n",
            "[I 2023-06-22 12:15:34,547] Trial 3 finished with value: 29.101518909219877 and parameters: {'n_estimators': 398, 'learning_rate': 0.035876545185067686, 'max_depth': 3, 'min_child_weight': 1, 'subsample': 0.8175757564507578, 'colsample_bytree': 0.8936080149619068}. Best is trial 1 with value: 28.315061031757796.\n",
            "  4%|▍         | 4/100 [00:02<00:43,  2.20it/s]<ipython-input-26-bd63721c1a00>:5: FutureWarning: suggest_loguniform has been deprecated in v3.0.0. This feature will be removed in v6.0.0. See https://github.com/optuna/optuna/releases/tag/v3.0.0. Use suggest_float(..., log=True) instead.\n",
            "  'learning_rate': trial.suggest_loguniform('learning_rate', 0.01, 0.1),\n",
            "<ipython-input-26-bd63721c1a00>:8: FutureWarning: suggest_uniform has been deprecated in v3.0.0. This feature will be removed in v6.0.0. See https://github.com/optuna/optuna/releases/tag/v3.0.0. Use suggest_float instead.\n",
            "  'subsample': trial.suggest_uniform('subsample', 0.5, 1.0),\n",
            "<ipython-input-26-bd63721c1a00>:9: FutureWarning: suggest_uniform has been deprecated in v3.0.0. This feature will be removed in v6.0.0. See https://github.com/optuna/optuna/releases/tag/v3.0.0. Use suggest_float instead.\n",
            "  'colsample_bytree': trial.suggest_uniform('colsample_bytree', 0.1, 1.0),\n",
            "/usr/local/lib/python3.10/dist-packages/xgboost/sklearn.py:835: UserWarning: `early_stopping_rounds` in `fit` method is deprecated for better compatibility with scikit-learn, use `early_stopping_rounds` in constructor or`set_params` instead.\n",
            "  warnings.warn(\n",
            "[I 2023-06-22 12:15:34,749] Trial 4 finished with value: 29.07298850528443 and parameters: {'n_estimators': 107, 'learning_rate': 0.08057563285993365, 'max_depth': 6, 'min_child_weight': 2, 'subsample': 0.6506620224412676, 'colsample_bytree': 0.3718931247796302}. Best is trial 1 with value: 28.315061031757796.\n",
            "  5%|▌         | 5/100 [00:02<00:34,  2.75it/s]<ipython-input-26-bd63721c1a00>:5: FutureWarning: suggest_loguniform has been deprecated in v3.0.0. This feature will be removed in v6.0.0. See https://github.com/optuna/optuna/releases/tag/v3.0.0. Use suggest_float(..., log=True) instead.\n",
            "  'learning_rate': trial.suggest_loguniform('learning_rate', 0.01, 0.1),\n",
            "<ipython-input-26-bd63721c1a00>:8: FutureWarning: suggest_uniform has been deprecated in v3.0.0. This feature will be removed in v6.0.0. See https://github.com/optuna/optuna/releases/tag/v3.0.0. Use suggest_float instead.\n",
            "  'subsample': trial.suggest_uniform('subsample', 0.5, 1.0),\n",
            "<ipython-input-26-bd63721c1a00>:9: FutureWarning: suggest_uniform has been deprecated in v3.0.0. This feature will be removed in v6.0.0. See https://github.com/optuna/optuna/releases/tag/v3.0.0. Use suggest_float instead.\n",
            "  'colsample_bytree': trial.suggest_uniform('colsample_bytree', 0.1, 1.0),\n",
            "/usr/local/lib/python3.10/dist-packages/xgboost/sklearn.py:835: UserWarning: `early_stopping_rounds` in `fit` method is deprecated for better compatibility with scikit-learn, use `early_stopping_rounds` in constructor or`set_params` instead.\n",
            "  warnings.warn(\n",
            "[I 2023-06-22 12:15:36,013] Trial 5 finished with value: 29.0312489731404 and parameters: {'n_estimators': 909, 'learning_rate': 0.011258356377983055, 'max_depth': 9, 'min_child_weight': 7, 'subsample': 0.8360079860884215, 'colsample_bytree': 0.5956334073496444}. Best is trial 1 with value: 28.315061031757796.\n",
            "  6%|▌         | 6/100 [00:03<01:02,  1.50it/s]<ipython-input-26-bd63721c1a00>:5: FutureWarning: suggest_loguniform has been deprecated in v3.0.0. This feature will be removed in v6.0.0. See https://github.com/optuna/optuna/releases/tag/v3.0.0. Use suggest_float(..., log=True) instead.\n",
            "  'learning_rate': trial.suggest_loguniform('learning_rate', 0.01, 0.1),\n",
            "<ipython-input-26-bd63721c1a00>:8: FutureWarning: suggest_uniform has been deprecated in v3.0.0. This feature will be removed in v6.0.0. See https://github.com/optuna/optuna/releases/tag/v3.0.0. Use suggest_float instead.\n",
            "  'subsample': trial.suggest_uniform('subsample', 0.5, 1.0),\n",
            "<ipython-input-26-bd63721c1a00>:9: FutureWarning: suggest_uniform has been deprecated in v3.0.0. This feature will be removed in v6.0.0. See https://github.com/optuna/optuna/releases/tag/v3.0.0. Use suggest_float instead.\n",
            "  'colsample_bytree': trial.suggest_uniform('colsample_bytree', 0.1, 1.0),\n",
            "/usr/local/lib/python3.10/dist-packages/xgboost/sklearn.py:835: UserWarning: `early_stopping_rounds` in `fit` method is deprecated for better compatibility with scikit-learn, use `early_stopping_rounds` in constructor or`set_params` instead.\n",
            "  warnings.warn(\n",
            "[I 2023-06-22 12:15:37,412] Trial 6 finished with value: 28.95143986223811 and parameters: {'n_estimators': 867, 'learning_rate': 0.011063165211674263, 'max_depth': 10, 'min_child_weight': 7, 'subsample': 0.8313405042139347, 'colsample_bytree': 0.7528595866280406}. Best is trial 1 with value: 28.315061031757796.\n",
            "  7%|▋         | 7/100 [00:05<01:24,  1.10it/s]<ipython-input-26-bd63721c1a00>:5: FutureWarning: suggest_loguniform has been deprecated in v3.0.0. This feature will be removed in v6.0.0. See https://github.com/optuna/optuna/releases/tag/v3.0.0. Use suggest_float(..., log=True) instead.\n",
            "  'learning_rate': trial.suggest_loguniform('learning_rate', 0.01, 0.1),\n",
            "<ipython-input-26-bd63721c1a00>:8: FutureWarning: suggest_uniform has been deprecated in v3.0.0. This feature will be removed in v6.0.0. See https://github.com/optuna/optuna/releases/tag/v3.0.0. Use suggest_float instead.\n",
            "  'subsample': trial.suggest_uniform('subsample', 0.5, 1.0),\n",
            "<ipython-input-26-bd63721c1a00>:9: FutureWarning: suggest_uniform has been deprecated in v3.0.0. This feature will be removed in v6.0.0. See https://github.com/optuna/optuna/releases/tag/v3.0.0. Use suggest_float instead.\n",
            "  'colsample_bytree': trial.suggest_uniform('colsample_bytree', 0.1, 1.0),\n",
            "/usr/local/lib/python3.10/dist-packages/xgboost/sklearn.py:835: UserWarning: `early_stopping_rounds` in `fit` method is deprecated for better compatibility with scikit-learn, use `early_stopping_rounds` in constructor or`set_params` instead.\n",
            "  warnings.warn(\n",
            "[I 2023-06-22 12:15:38,633] Trial 7 finished with value: 29.020884329284755 and parameters: {'n_estimators': 287, 'learning_rate': 0.013088015370591132, 'max_depth': 10, 'min_child_weight': 8, 'subsample': 0.8352504600181178, 'colsample_bytree': 0.721754821621735}. Best is trial 1 with value: 28.315061031757796.\n",
            "  8%|▊         | 8/100 [00:06<01:32,  1.01s/it]<ipython-input-26-bd63721c1a00>:5: FutureWarning: suggest_loguniform has been deprecated in v3.0.0. This feature will be removed in v6.0.0. See https://github.com/optuna/optuna/releases/tag/v3.0.0. Use suggest_float(..., log=True) instead.\n",
            "  'learning_rate': trial.suggest_loguniform('learning_rate', 0.01, 0.1),\n",
            "<ipython-input-26-bd63721c1a00>:8: FutureWarning: suggest_uniform has been deprecated in v3.0.0. This feature will be removed in v6.0.0. See https://github.com/optuna/optuna/releases/tag/v3.0.0. Use suggest_float instead.\n",
            "  'subsample': trial.suggest_uniform('subsample', 0.5, 1.0),\n",
            "<ipython-input-26-bd63721c1a00>:9: FutureWarning: suggest_uniform has been deprecated in v3.0.0. This feature will be removed in v6.0.0. See https://github.com/optuna/optuna/releases/tag/v3.0.0. Use suggest_float instead.\n",
            "  'colsample_bytree': trial.suggest_uniform('colsample_bytree', 0.1, 1.0),\n",
            "/usr/local/lib/python3.10/dist-packages/xgboost/sklearn.py:835: UserWarning: `early_stopping_rounds` in `fit` method is deprecated for better compatibility with scikit-learn, use `early_stopping_rounds` in constructor or`set_params` instead.\n",
            "  warnings.warn(\n",
            "[I 2023-06-22 12:15:38,914] Trial 8 finished with value: 29.04132975823313 and parameters: {'n_estimators': 796, 'learning_rate': 0.027808895013401103, 'max_depth': 3, 'min_child_weight': 7, 'subsample': 0.951855726720786, 'colsample_bytree': 0.9050426298214095}. Best is trial 1 with value: 28.315061031757796.\n",
            "  9%|▉         | 9/100 [00:06<01:10,  1.28it/s]<ipython-input-26-bd63721c1a00>:5: FutureWarning: suggest_loguniform has been deprecated in v3.0.0. This feature will be removed in v6.0.0. See https://github.com/optuna/optuna/releases/tag/v3.0.0. Use suggest_float(..., log=True) instead.\n",
            "  'learning_rate': trial.suggest_loguniform('learning_rate', 0.01, 0.1),\n",
            "<ipython-input-26-bd63721c1a00>:8: FutureWarning: suggest_uniform has been deprecated in v3.0.0. This feature will be removed in v6.0.0. See https://github.com/optuna/optuna/releases/tag/v3.0.0. Use suggest_float instead.\n",
            "  'subsample': trial.suggest_uniform('subsample', 0.5, 1.0),\n",
            "<ipython-input-26-bd63721c1a00>:9: FutureWarning: suggest_uniform has been deprecated in v3.0.0. This feature will be removed in v6.0.0. See https://github.com/optuna/optuna/releases/tag/v3.0.0. Use suggest_float instead.\n",
            "  'colsample_bytree': trial.suggest_uniform('colsample_bytree', 0.1, 1.0),\n",
            "/usr/local/lib/python3.10/dist-packages/xgboost/sklearn.py:835: UserWarning: `early_stopping_rounds` in `fit` method is deprecated for better compatibility with scikit-learn, use `early_stopping_rounds` in constructor or`set_params` instead.\n",
            "  warnings.warn(\n",
            "[I 2023-06-22 12:15:39,139] Trial 9 finished with value: 29.059099077203655 and parameters: {'n_estimators': 514, 'learning_rate': 0.04561616517487494, 'max_depth': 4, 'min_child_weight': 9, 'subsample': 0.742174593924666, 'colsample_bytree': 0.21120404037662885}. Best is trial 1 with value: 28.315061031757796.\n",
            " 10%|█         | 10/100 [00:07<00:54,  1.64it/s]<ipython-input-26-bd63721c1a00>:5: FutureWarning: suggest_loguniform has been deprecated in v3.0.0. This feature will be removed in v6.0.0. See https://github.com/optuna/optuna/releases/tag/v3.0.0. Use suggest_float(..., log=True) instead.\n",
            "  'learning_rate': trial.suggest_loguniform('learning_rate', 0.01, 0.1),\n",
            "<ipython-input-26-bd63721c1a00>:8: FutureWarning: suggest_uniform has been deprecated in v3.0.0. This feature will be removed in v6.0.0. See https://github.com/optuna/optuna/releases/tag/v3.0.0. Use suggest_float instead.\n",
            "  'subsample': trial.suggest_uniform('subsample', 0.5, 1.0),\n",
            "<ipython-input-26-bd63721c1a00>:9: FutureWarning: suggest_uniform has been deprecated in v3.0.0. This feature will be removed in v6.0.0. See https://github.com/optuna/optuna/releases/tag/v3.0.0. Use suggest_float instead.\n",
            "  'colsample_bytree': trial.suggest_uniform('colsample_bytree', 0.1, 1.0),\n",
            "/usr/local/lib/python3.10/dist-packages/xgboost/sklearn.py:835: UserWarning: `early_stopping_rounds` in `fit` method is deprecated for better compatibility with scikit-learn, use `early_stopping_rounds` in constructor or`set_params` instead.\n",
            "  warnings.warn(\n",
            "[I 2023-06-22 12:15:39,747] Trial 10 finished with value: 29.002092683710448 and parameters: {'n_estimators': 678, 'learning_rate': 0.018869454119010875, 'max_depth': 7, 'min_child_weight': 4, 'subsample': 0.5027481191994148, 'colsample_bytree': 0.1504596463831535}. Best is trial 1 with value: 28.315061031757796.\n",
            " 11%|█         | 11/100 [00:07<00:54,  1.64it/s]<ipython-input-26-bd63721c1a00>:5: FutureWarning: suggest_loguniform has been deprecated in v3.0.0. This feature will be removed in v6.0.0. See https://github.com/optuna/optuna/releases/tag/v3.0.0. Use suggest_float(..., log=True) instead.\n",
            "  'learning_rate': trial.suggest_loguniform('learning_rate', 0.01, 0.1),\n",
            "<ipython-input-26-bd63721c1a00>:8: FutureWarning: suggest_uniform has been deprecated in v3.0.0. This feature will be removed in v6.0.0. See https://github.com/optuna/optuna/releases/tag/v3.0.0. Use suggest_float instead.\n",
            "  'subsample': trial.suggest_uniform('subsample', 0.5, 1.0),\n",
            "<ipython-input-26-bd63721c1a00>:9: FutureWarning: suggest_uniform has been deprecated in v3.0.0. This feature will be removed in v6.0.0. See https://github.com/optuna/optuna/releases/tag/v3.0.0. Use suggest_float instead.\n",
            "  'colsample_bytree': trial.suggest_uniform('colsample_bytree', 0.1, 1.0),\n",
            "/usr/local/lib/python3.10/dist-packages/xgboost/sklearn.py:835: UserWarning: `early_stopping_rounds` in `fit` method is deprecated for better compatibility with scikit-learn, use `early_stopping_rounds` in constructor or`set_params` instead.\n",
            "  warnings.warn(\n",
            "[I 2023-06-22 12:15:40,834] Trial 11 finished with value: 29.061985903181426 and parameters: {'n_estimators': 963, 'learning_rate': 0.010146790500718414, 'max_depth': 7, 'min_child_weight': 5, 'subsample': 0.9968949045942137, 'colsample_bytree': 0.4229738414805674}. Best is trial 1 with value: 28.315061031757796.\n",
            " 12%|█▏        | 12/100 [00:08<01:06,  1.32it/s]<ipython-input-26-bd63721c1a00>:5: FutureWarning: suggest_loguniform has been deprecated in v3.0.0. This feature will be removed in v6.0.0. See https://github.com/optuna/optuna/releases/tag/v3.0.0. Use suggest_float(..., log=True) instead.\n",
            "  'learning_rate': trial.suggest_loguniform('learning_rate', 0.01, 0.1),\n",
            "<ipython-input-26-bd63721c1a00>:8: FutureWarning: suggest_uniform has been deprecated in v3.0.0. This feature will be removed in v6.0.0. See https://github.com/optuna/optuna/releases/tag/v3.0.0. Use suggest_float instead.\n",
            "  'subsample': trial.suggest_uniform('subsample', 0.5, 1.0),\n",
            "<ipython-input-26-bd63721c1a00>:9: FutureWarning: suggest_uniform has been deprecated in v3.0.0. This feature will be removed in v6.0.0. See https://github.com/optuna/optuna/releases/tag/v3.0.0. Use suggest_float instead.\n",
            "  'colsample_bytree': trial.suggest_uniform('colsample_bytree', 0.1, 1.0),\n",
            "/usr/local/lib/python3.10/dist-packages/xgboost/sklearn.py:835: UserWarning: `early_stopping_rounds` in `fit` method is deprecated for better compatibility with scikit-learn, use `early_stopping_rounds` in constructor or`set_params` instead.\n",
            "  warnings.warn(\n",
            "[I 2023-06-22 12:15:41,672] Trial 12 finished with value: 29.04303294189727 and parameters: {'n_estimators': 630, 'learning_rate': 0.01641474130986514, 'max_depth': 8, 'min_child_weight': 4, 'subsample': 0.9125527177968394, 'colsample_bytree': 0.3968816687794289}. Best is trial 1 with value: 28.315061031757796.\n",
            " 13%|█▎        | 13/100 [00:09<01:07,  1.28it/s]<ipython-input-26-bd63721c1a00>:5: FutureWarning: suggest_loguniform has been deprecated in v3.0.0. This feature will be removed in v6.0.0. See https://github.com/optuna/optuna/releases/tag/v3.0.0. Use suggest_float(..., log=True) instead.\n",
            "  'learning_rate': trial.suggest_loguniform('learning_rate', 0.01, 0.1),\n",
            "<ipython-input-26-bd63721c1a00>:8: FutureWarning: suggest_uniform has been deprecated in v3.0.0. This feature will be removed in v6.0.0. See https://github.com/optuna/optuna/releases/tag/v3.0.0. Use suggest_float instead.\n",
            "  'subsample': trial.suggest_uniform('subsample', 0.5, 1.0),\n",
            "<ipython-input-26-bd63721c1a00>:9: FutureWarning: suggest_uniform has been deprecated in v3.0.0. This feature will be removed in v6.0.0. See https://github.com/optuna/optuna/releases/tag/v3.0.0. Use suggest_float instead.\n",
            "  'colsample_bytree': trial.suggest_uniform('colsample_bytree', 0.1, 1.0),\n",
            "/usr/local/lib/python3.10/dist-packages/xgboost/sklearn.py:835: UserWarning: `early_stopping_rounds` in `fit` method is deprecated for better compatibility with scikit-learn, use `early_stopping_rounds` in constructor or`set_params` instead.\n",
            "  warnings.warn(\n",
            "[I 2023-06-22 12:15:42,225] Trial 13 finished with value: 29.034964935634672 and parameters: {'n_estimators': 459, 'learning_rate': 0.01679262609252187, 'max_depth': 5, 'min_child_weight': 10, 'subsample': 0.9912131782758752, 'colsample_bytree': 0.10388572480337394}. Best is trial 1 with value: 28.315061031757796.\n",
            " 14%|█▍        | 14/100 [00:10<01:01,  1.41it/s]<ipython-input-26-bd63721c1a00>:5: FutureWarning: suggest_loguniform has been deprecated in v3.0.0. This feature will be removed in v6.0.0. See https://github.com/optuna/optuna/releases/tag/v3.0.0. Use suggest_float(..., log=True) instead.\n",
            "  'learning_rate': trial.suggest_loguniform('learning_rate', 0.01, 0.1),\n",
            "<ipython-input-26-bd63721c1a00>:8: FutureWarning: suggest_uniform has been deprecated in v3.0.0. This feature will be removed in v6.0.0. See https://github.com/optuna/optuna/releases/tag/v3.0.0. Use suggest_float instead.\n",
            "  'subsample': trial.suggest_uniform('subsample', 0.5, 1.0),\n",
            "<ipython-input-26-bd63721c1a00>:9: FutureWarning: suggest_uniform has been deprecated in v3.0.0. This feature will be removed in v6.0.0. See https://github.com/optuna/optuna/releases/tag/v3.0.0. Use suggest_float instead.\n",
            "  'colsample_bytree': trial.suggest_uniform('colsample_bytree', 0.1, 1.0),\n",
            "/usr/local/lib/python3.10/dist-packages/xgboost/sklearn.py:835: UserWarning: `early_stopping_rounds` in `fit` method is deprecated for better compatibility with scikit-learn, use `early_stopping_rounds` in constructor or`set_params` instead.\n",
            "  warnings.warn(\n",
            "[I 2023-06-22 12:15:43,529] Trial 14 finished with value: 28.974089894321086 and parameters: {'n_estimators': 759, 'learning_rate': 0.01284491881194415, 'max_depth': 10, 'min_child_weight': 6, 'subsample': 0.8785803716513644, 'colsample_bytree': 0.4979701150093071}. Best is trial 1 with value: 28.315061031757796.\n",
            " 15%|█▌        | 15/100 [00:11<01:15,  1.12it/s]<ipython-input-26-bd63721c1a00>:5: FutureWarning: suggest_loguniform has been deprecated in v3.0.0. This feature will be removed in v6.0.0. See https://github.com/optuna/optuna/releases/tag/v3.0.0. Use suggest_float(..., log=True) instead.\n",
            "  'learning_rate': trial.suggest_loguniform('learning_rate', 0.01, 0.1),\n",
            "<ipython-input-26-bd63721c1a00>:8: FutureWarning: suggest_uniform has been deprecated in v3.0.0. This feature will be removed in v6.0.0. See https://github.com/optuna/optuna/releases/tag/v3.0.0. Use suggest_float instead.\n",
            "  'subsample': trial.suggest_uniform('subsample', 0.5, 1.0),\n",
            "<ipython-input-26-bd63721c1a00>:9: FutureWarning: suggest_uniform has been deprecated in v3.0.0. This feature will be removed in v6.0.0. See https://github.com/optuna/optuna/releases/tag/v3.0.0. Use suggest_float instead.\n",
            "  'colsample_bytree': trial.suggest_uniform('colsample_bytree', 0.1, 1.0),\n",
            "/usr/local/lib/python3.10/dist-packages/xgboost/sklearn.py:835: UserWarning: `early_stopping_rounds` in `fit` method is deprecated for better compatibility with scikit-learn, use `early_stopping_rounds` in constructor or`set_params` instead.\n",
            "  warnings.warn(\n",
            "[I 2023-06-22 12:15:44,205] Trial 15 finished with value: 29.028960767898774 and parameters: {'n_estimators': 829, 'learning_rate': 0.023788014443256122, 'max_depth': 5, 'min_child_weight': 4, 'subsample': 0.9387554969011986, 'colsample_bytree': 0.257620882820606}. Best is trial 1 with value: 28.315061031757796.\n",
            " 16%|█▌        | 16/100 [00:12<01:09,  1.21it/s]<ipython-input-26-bd63721c1a00>:5: FutureWarning: suggest_loguniform has been deprecated in v3.0.0. This feature will be removed in v6.0.0. See https://github.com/optuna/optuna/releases/tag/v3.0.0. Use suggest_float(..., log=True) instead.\n",
            "  'learning_rate': trial.suggest_loguniform('learning_rate', 0.01, 0.1),\n",
            "<ipython-input-26-bd63721c1a00>:8: FutureWarning: suggest_uniform has been deprecated in v3.0.0. This feature will be removed in v6.0.0. See https://github.com/optuna/optuna/releases/tag/v3.0.0. Use suggest_float instead.\n",
            "  'subsample': trial.suggest_uniform('subsample', 0.5, 1.0),\n",
            "<ipython-input-26-bd63721c1a00>:9: FutureWarning: suggest_uniform has been deprecated in v3.0.0. This feature will be removed in v6.0.0. See https://github.com/optuna/optuna/releases/tag/v3.0.0. Use suggest_float instead.\n",
            "  'colsample_bytree': trial.suggest_uniform('colsample_bytree', 0.1, 1.0),\n",
            "/usr/local/lib/python3.10/dist-packages/xgboost/sklearn.py:835: UserWarning: `early_stopping_rounds` in `fit` method is deprecated for better compatibility with scikit-learn, use `early_stopping_rounds` in constructor or`set_params` instead.\n",
            "  warnings.warn(\n",
            "[I 2023-06-22 12:15:45,254] Trial 16 finished with value: 29.03622704814152 and parameters: {'n_estimators': 331, 'learning_rate': 0.014369549570345929, 'max_depth': 6, 'min_child_weight': 6, 'subsample': 0.7953548843900387, 'colsample_bytree': 0.26767291360106676}. Best is trial 1 with value: 28.315061031757796.\n",
            " 17%|█▋        | 17/100 [00:13<01:14,  1.12it/s]<ipython-input-26-bd63721c1a00>:5: FutureWarning: suggest_loguniform has been deprecated in v3.0.0. This feature will be removed in v6.0.0. See https://github.com/optuna/optuna/releases/tag/v3.0.0. Use suggest_float(..., log=True) instead.\n",
            "  'learning_rate': trial.suggest_loguniform('learning_rate', 0.01, 0.1),\n",
            "<ipython-input-26-bd63721c1a00>:8: FutureWarning: suggest_uniform has been deprecated in v3.0.0. This feature will be removed in v6.0.0. See https://github.com/optuna/optuna/releases/tag/v3.0.0. Use suggest_float instead.\n",
            "  'subsample': trial.suggest_uniform('subsample', 0.5, 1.0),\n",
            "<ipython-input-26-bd63721c1a00>:9: FutureWarning: suggest_uniform has been deprecated in v3.0.0. This feature will be removed in v6.0.0. See https://github.com/optuna/optuna/releases/tag/v3.0.0. Use suggest_float instead.\n",
            "  'colsample_bytree': trial.suggest_uniform('colsample_bytree', 0.1, 1.0),\n",
            "/usr/local/lib/python3.10/dist-packages/xgboost/sklearn.py:835: UserWarning: `early_stopping_rounds` in `fit` method is deprecated for better compatibility with scikit-learn, use `early_stopping_rounds` in constructor or`set_params` instead.\n",
            "  warnings.warn(\n",
            "[I 2023-06-22 12:15:46,952] Trial 17 finished with value: 29.014037787479594 and parameters: {'n_estimators': 602, 'learning_rate': 0.010019532161797861, 'max_depth': 8, 'min_child_weight': 3, 'subsample': 0.8844420222346476, 'colsample_bytree': 0.9871056501244903}. Best is trial 1 with value: 28.315061031757796.\n",
            " 18%|█▊        | 18/100 [00:14<01:33,  1.14s/it]<ipython-input-26-bd63721c1a00>:5: FutureWarning: suggest_loguniform has been deprecated in v3.0.0. This feature will be removed in v6.0.0. See https://github.com/optuna/optuna/releases/tag/v3.0.0. Use suggest_float(..., log=True) instead.\n",
            "  'learning_rate': trial.suggest_loguniform('learning_rate', 0.01, 0.1),\n",
            "<ipython-input-26-bd63721c1a00>:8: FutureWarning: suggest_uniform has been deprecated in v3.0.0. This feature will be removed in v6.0.0. See https://github.com/optuna/optuna/releases/tag/v3.0.0. Use suggest_float instead.\n",
            "  'subsample': trial.suggest_uniform('subsample', 0.5, 1.0),\n",
            "<ipython-input-26-bd63721c1a00>:9: FutureWarning: suggest_uniform has been deprecated in v3.0.0. This feature will be removed in v6.0.0. See https://github.com/optuna/optuna/releases/tag/v3.0.0. Use suggest_float instead.\n",
            "  'colsample_bytree': trial.suggest_uniform('colsample_bytree', 0.1, 1.0),\n",
            "/usr/local/lib/python3.10/dist-packages/xgboost/sklearn.py:835: UserWarning: `early_stopping_rounds` in `fit` method is deprecated for better compatibility with scikit-learn, use `early_stopping_rounds` in constructor or`set_params` instead.\n",
            "  warnings.warn(\n",
            "[I 2023-06-22 12:15:47,439] Trial 18 finished with value: 29.006231584825567 and parameters: {'n_estimators': 710, 'learning_rate': 0.019981966805195976, 'max_depth': 4, 'min_child_weight': 5, 'subsample': 0.9540404332503464, 'colsample_bytree': 0.5075683009180488}. Best is trial 1 with value: 28.315061031757796.\n",
            " 19%|█▉        | 19/100 [00:15<01:16,  1.06it/s]<ipython-input-26-bd63721c1a00>:5: FutureWarning: suggest_loguniform has been deprecated in v3.0.0. This feature will be removed in v6.0.0. See https://github.com/optuna/optuna/releases/tag/v3.0.0. Use suggest_float(..., log=True) instead.\n",
            "  'learning_rate': trial.suggest_loguniform('learning_rate', 0.01, 0.1),\n",
            "<ipython-input-26-bd63721c1a00>:8: FutureWarning: suggest_uniform has been deprecated in v3.0.0. This feature will be removed in v6.0.0. See https://github.com/optuna/optuna/releases/tag/v3.0.0. Use suggest_float instead.\n",
            "  'subsample': trial.suggest_uniform('subsample', 0.5, 1.0),\n",
            "<ipython-input-26-bd63721c1a00>:9: FutureWarning: suggest_uniform has been deprecated in v3.0.0. This feature will be removed in v6.0.0. See https://github.com/optuna/optuna/releases/tag/v3.0.0. Use suggest_float instead.\n",
            "  'colsample_bytree': trial.suggest_uniform('colsample_bytree', 0.1, 1.0),\n",
            "/usr/local/lib/python3.10/dist-packages/xgboost/sklearn.py:835: UserWarning: `early_stopping_rounds` in `fit` method is deprecated for better compatibility with scikit-learn, use `early_stopping_rounds` in constructor or`set_params` instead.\n",
            "  warnings.warn(\n",
            "[I 2023-06-22 12:15:47,974] Trial 19 finished with value: 29.050545386530416 and parameters: {'n_estimators': 878, 'learning_rate': 0.015487790577447742, 'max_depth': 4, 'min_child_weight': 8, 'subsample': 0.8744490108579247, 'colsample_bytree': 0.29979359666402855}. Best is trial 1 with value: 28.315061031757796.\n",
            " 20%|██        | 20/100 [00:15<01:05,  1.22it/s]<ipython-input-26-bd63721c1a00>:5: FutureWarning: suggest_loguniform has been deprecated in v3.0.0. This feature will be removed in v6.0.0. See https://github.com/optuna/optuna/releases/tag/v3.0.0. Use suggest_float(..., log=True) instead.\n",
            "  'learning_rate': trial.suggest_loguniform('learning_rate', 0.01, 0.1),\n",
            "<ipython-input-26-bd63721c1a00>:8: FutureWarning: suggest_uniform has been deprecated in v3.0.0. This feature will be removed in v6.0.0. See https://github.com/optuna/optuna/releases/tag/v3.0.0. Use suggest_float instead.\n",
            "  'subsample': trial.suggest_uniform('subsample', 0.5, 1.0),\n",
            "<ipython-input-26-bd63721c1a00>:9: FutureWarning: suggest_uniform has been deprecated in v3.0.0. This feature will be removed in v6.0.0. See https://github.com/optuna/optuna/releases/tag/v3.0.0. Use suggest_float instead.\n",
            "  'colsample_bytree': trial.suggest_uniform('colsample_bytree', 0.1, 1.0),\n",
            "/usr/local/lib/python3.10/dist-packages/xgboost/sklearn.py:835: UserWarning: `early_stopping_rounds` in `fit` method is deprecated for better compatibility with scikit-learn, use `early_stopping_rounds` in constructor or`set_params` instead.\n",
            "  warnings.warn(\n",
            "[I 2023-06-22 12:15:49,004] Trial 20 finished with value: 29.04853123010193 and parameters: {'n_estimators': 987, 'learning_rate': 0.012293322944933432, 'max_depth': 8, 'min_child_weight': 7, 'subsample': 0.7803596530367853, 'colsample_bytree': 0.6839386479282915}. Best is trial 1 with value: 28.315061031757796.\n",
            " 21%|██        | 21/100 [00:16<01:09,  1.13it/s]<ipython-input-26-bd63721c1a00>:5: FutureWarning: suggest_loguniform has been deprecated in v3.0.0. This feature will be removed in v6.0.0. See https://github.com/optuna/optuna/releases/tag/v3.0.0. Use suggest_float(..., log=True) instead.\n",
            "  'learning_rate': trial.suggest_loguniform('learning_rate', 0.01, 0.1),\n",
            "<ipython-input-26-bd63721c1a00>:8: FutureWarning: suggest_uniform has been deprecated in v3.0.0. This feature will be removed in v6.0.0. See https://github.com/optuna/optuna/releases/tag/v3.0.0. Use suggest_float instead.\n",
            "  'subsample': trial.suggest_uniform('subsample', 0.5, 1.0),\n",
            "<ipython-input-26-bd63721c1a00>:9: FutureWarning: suggest_uniform has been deprecated in v3.0.0. This feature will be removed in v6.0.0. See https://github.com/optuna/optuna/releases/tag/v3.0.0. Use suggest_float instead.\n",
            "  'colsample_bytree': trial.suggest_uniform('colsample_bytree', 0.1, 1.0),\n",
            "/usr/local/lib/python3.10/dist-packages/xgboost/sklearn.py:835: UserWarning: `early_stopping_rounds` in `fit` method is deprecated for better compatibility with scikit-learn, use `early_stopping_rounds` in constructor or`set_params` instead.\n",
            "  warnings.warn(\n",
            "[I 2023-06-22 12:15:50,276] Trial 21 finished with value: 28.955532595017992 and parameters: {'n_estimators': 745, 'learning_rate': 0.01320055406933567, 'max_depth': 10, 'min_child_weight': 6, 'subsample': 0.8799221125099609, 'colsample_bytree': 0.49636306352082427}. Best is trial 1 with value: 28.315061031757796.\n",
            " 22%|██▏       | 22/100 [00:18<01:17,  1.00it/s]<ipython-input-26-bd63721c1a00>:5: FutureWarning: suggest_loguniform has been deprecated in v3.0.0. This feature will be removed in v6.0.0. See https://github.com/optuna/optuna/releases/tag/v3.0.0. Use suggest_float(..., log=True) instead.\n",
            "  'learning_rate': trial.suggest_loguniform('learning_rate', 0.01, 0.1),\n",
            "<ipython-input-26-bd63721c1a00>:8: FutureWarning: suggest_uniform has been deprecated in v3.0.0. This feature will be removed in v6.0.0. See https://github.com/optuna/optuna/releases/tag/v3.0.0. Use suggest_float instead.\n",
            "  'subsample': trial.suggest_uniform('subsample', 0.5, 1.0),\n",
            "<ipython-input-26-bd63721c1a00>:9: FutureWarning: suggest_uniform has been deprecated in v3.0.0. This feature will be removed in v6.0.0. See https://github.com/optuna/optuna/releases/tag/v3.0.0. Use suggest_float instead.\n",
            "  'colsample_bytree': trial.suggest_uniform('colsample_bytree', 0.1, 1.0),\n",
            "/usr/local/lib/python3.10/dist-packages/xgboost/sklearn.py:835: UserWarning: `early_stopping_rounds` in `fit` method is deprecated for better compatibility with scikit-learn, use `early_stopping_rounds` in constructor or`set_params` instead.\n",
            "  warnings.warn(\n",
            "[I 2023-06-22 12:15:51,340] Trial 22 finished with value: 28.985428965750316 and parameters: {'n_estimators': 741, 'learning_rate': 0.013447168414783007, 'max_depth': 9, 'min_child_weight': 6, 'subsample': 0.8650673373471256, 'colsample_bytree': 0.4731612585029391}. Best is trial 1 with value: 28.315061031757796.\n",
            " 23%|██▎       | 23/100 [00:19<01:18,  1.02s/it]<ipython-input-26-bd63721c1a00>:5: FutureWarning: suggest_loguniform has been deprecated in v3.0.0. This feature will be removed in v6.0.0. See https://github.com/optuna/optuna/releases/tag/v3.0.0. Use suggest_float(..., log=True) instead.\n",
            "  'learning_rate': trial.suggest_loguniform('learning_rate', 0.01, 0.1),\n",
            "<ipython-input-26-bd63721c1a00>:8: FutureWarning: suggest_uniform has been deprecated in v3.0.0. This feature will be removed in v6.0.0. See https://github.com/optuna/optuna/releases/tag/v3.0.0. Use suggest_float instead.\n",
            "  'subsample': trial.suggest_uniform('subsample', 0.5, 1.0),\n",
            "<ipython-input-26-bd63721c1a00>:9: FutureWarning: suggest_uniform has been deprecated in v3.0.0. This feature will be removed in v6.0.0. See https://github.com/optuna/optuna/releases/tag/v3.0.0. Use suggest_float instead.\n",
            "  'colsample_bytree': trial.suggest_uniform('colsample_bytree', 0.1, 1.0),\n",
            "/usr/local/lib/python3.10/dist-packages/xgboost/sklearn.py:835: UserWarning: `early_stopping_rounds` in `fit` method is deprecated for better compatibility with scikit-learn, use `early_stopping_rounds` in constructor or`set_params` instead.\n",
            "  warnings.warn(\n",
            "[I 2023-06-22 12:15:52,191] Trial 23 finished with value: 28.997464432940298 and parameters: {'n_estimators': 553, 'learning_rate': 0.020050301317331175, 'max_depth': 10, 'min_child_weight': 8, 'subsample': 0.9254129989488011, 'colsample_bytree': 0.34357131441800093}. Best is trial 1 with value: 28.315061031757796.\n",
            " 24%|██▍       | 24/100 [00:20<01:13,  1.03it/s]<ipython-input-26-bd63721c1a00>:5: FutureWarning: suggest_loguniform has been deprecated in v3.0.0. This feature will be removed in v6.0.0. See https://github.com/optuna/optuna/releases/tag/v3.0.0. Use suggest_float(..., log=True) instead.\n",
            "  'learning_rate': trial.suggest_loguniform('learning_rate', 0.01, 0.1),\n",
            "<ipython-input-26-bd63721c1a00>:8: FutureWarning: suggest_uniform has been deprecated in v3.0.0. This feature will be removed in v6.0.0. See https://github.com/optuna/optuna/releases/tag/v3.0.0. Use suggest_float instead.\n",
            "  'subsample': trial.suggest_uniform('subsample', 0.5, 1.0),\n",
            "<ipython-input-26-bd63721c1a00>:9: FutureWarning: suggest_uniform has been deprecated in v3.0.0. This feature will be removed in v6.0.0. See https://github.com/optuna/optuna/releases/tag/v3.0.0. Use suggest_float instead.\n",
            "  'colsample_bytree': trial.suggest_uniform('colsample_bytree', 0.1, 1.0),\n",
            "/usr/local/lib/python3.10/dist-packages/xgboost/sklearn.py:835: UserWarning: `early_stopping_rounds` in `fit` method is deprecated for better compatibility with scikit-learn, use `early_stopping_rounds` in constructor or`set_params` instead.\n",
            "  warnings.warn(\n",
            "[I 2023-06-22 12:15:53,430] Trial 24 finished with value: 28.97612837049843 and parameters: {'n_estimators': 876, 'learning_rate': 0.011482340362251186, 'max_depth': 9, 'min_child_weight': 5, 'subsample': 0.8481767416015391, 'colsample_bytree': 0.5601364096743183}. Best is trial 1 with value: 28.315061031757796.\n",
            " 25%|██▌       | 25/100 [00:21<01:18,  1.05s/it]<ipython-input-26-bd63721c1a00>:5: FutureWarning: suggest_loguniform has been deprecated in v3.0.0. This feature will be removed in v6.0.0. See https://github.com/optuna/optuna/releases/tag/v3.0.0. Use suggest_float(..., log=True) instead.\n",
            "  'learning_rate': trial.suggest_loguniform('learning_rate', 0.01, 0.1),\n",
            "<ipython-input-26-bd63721c1a00>:8: FutureWarning: suggest_uniform has been deprecated in v3.0.0. This feature will be removed in v6.0.0. See https://github.com/optuna/optuna/releases/tag/v3.0.0. Use suggest_float instead.\n",
            "  'subsample': trial.suggest_uniform('subsample', 0.5, 1.0),\n",
            "<ipython-input-26-bd63721c1a00>:9: FutureWarning: suggest_uniform has been deprecated in v3.0.0. This feature will be removed in v6.0.0. See https://github.com/optuna/optuna/releases/tag/v3.0.0. Use suggest_float instead.\n",
            "  'colsample_bytree': trial.suggest_uniform('colsample_bytree', 0.1, 1.0),\n",
            "/usr/local/lib/python3.10/dist-packages/xgboost/sklearn.py:835: UserWarning: `early_stopping_rounds` in `fit` method is deprecated for better compatibility with scikit-learn, use `early_stopping_rounds` in constructor or`set_params` instead.\n",
            "  warnings.warn(\n",
            "[I 2023-06-22 12:15:54,314] Trial 25 finished with value: 28.968532304039318 and parameters: {'n_estimators': 255, 'learning_rate': 0.013790766606386957, 'max_depth': 10, 'min_child_weight': 3, 'subsample': 0.9648493589712083, 'colsample_bytree': 0.21525336746919654}. Best is trial 1 with value: 28.315061031757796.\n",
            " 26%|██▌       | 26/100 [00:22<01:14,  1.00s/it]<ipython-input-26-bd63721c1a00>:5: FutureWarning: suggest_loguniform has been deprecated in v3.0.0. This feature will be removed in v6.0.0. See https://github.com/optuna/optuna/releases/tag/v3.0.0. Use suggest_float(..., log=True) instead.\n",
            "  'learning_rate': trial.suggest_loguniform('learning_rate', 0.01, 0.1),\n",
            "<ipython-input-26-bd63721c1a00>:8: FutureWarning: suggest_uniform has been deprecated in v3.0.0. This feature will be removed in v6.0.0. See https://github.com/optuna/optuna/releases/tag/v3.0.0. Use suggest_float instead.\n",
            "  'subsample': trial.suggest_uniform('subsample', 0.5, 1.0),\n",
            "<ipython-input-26-bd63721c1a00>:9: FutureWarning: suggest_uniform has been deprecated in v3.0.0. This feature will be removed in v6.0.0. See https://github.com/optuna/optuna/releases/tag/v3.0.0. Use suggest_float instead.\n",
            "  'colsample_bytree': trial.suggest_uniform('colsample_bytree', 0.1, 1.0),\n",
            "/usr/local/lib/python3.10/dist-packages/xgboost/sklearn.py:835: UserWarning: `early_stopping_rounds` in `fit` method is deprecated for better compatibility with scikit-learn, use `early_stopping_rounds` in constructor or`set_params` instead.\n",
            "  warnings.warn(\n",
            "[I 2023-06-22 12:15:55,019] Trial 26 finished with value: 29.028958774245243 and parameters: {'n_estimators': 652, 'learning_rate': 0.016387655430423656, 'max_depth': 7, 'min_child_weight': 9, 'subsample': 0.890391705155889, 'colsample_bytree': 0.45974428396823797}. Best is trial 1 with value: 28.315061031757796.\n",
            " 27%|██▋       | 27/100 [00:22<01:06,  1.10it/s]<ipython-input-26-bd63721c1a00>:5: FutureWarning: suggest_loguniform has been deprecated in v3.0.0. This feature will be removed in v6.0.0. See https://github.com/optuna/optuna/releases/tag/v3.0.0. Use suggest_float(..., log=True) instead.\n",
            "  'learning_rate': trial.suggest_loguniform('learning_rate', 0.01, 0.1),\n",
            "<ipython-input-26-bd63721c1a00>:8: FutureWarning: suggest_uniform has been deprecated in v3.0.0. This feature will be removed in v6.0.0. See https://github.com/optuna/optuna/releases/tag/v3.0.0. Use suggest_float instead.\n",
            "  'subsample': trial.suggest_uniform('subsample', 0.5, 1.0),\n",
            "<ipython-input-26-bd63721c1a00>:9: FutureWarning: suggest_uniform has been deprecated in v3.0.0. This feature will be removed in v6.0.0. See https://github.com/optuna/optuna/releases/tag/v3.0.0. Use suggest_float instead.\n",
            "  'colsample_bytree': trial.suggest_uniform('colsample_bytree', 0.1, 1.0),\n",
            "/usr/local/lib/python3.10/dist-packages/xgboost/sklearn.py:835: UserWarning: `early_stopping_rounds` in `fit` method is deprecated for better compatibility with scikit-learn, use `early_stopping_rounds` in constructor or`set_params` instead.\n",
            "  warnings.warn(\n",
            "[I 2023-06-22 12:15:56,214] Trial 27 finished with value: 29.10459949086384 and parameters: {'n_estimators': 817, 'learning_rate': 0.01160008878192222, 'max_depth': 8, 'min_child_weight': 7, 'subsample': 0.9214442356727802, 'colsample_bytree': 0.542120308584901}. Best is trial 1 with value: 28.315061031757796.\n",
            " 28%|██▊       | 28/100 [00:24<01:11,  1.00it/s]<ipython-input-26-bd63721c1a00>:5: FutureWarning: suggest_loguniform has been deprecated in v3.0.0. This feature will be removed in v6.0.0. See https://github.com/optuna/optuna/releases/tag/v3.0.0. Use suggest_float(..., log=True) instead.\n",
            "  'learning_rate': trial.suggest_loguniform('learning_rate', 0.01, 0.1),\n",
            "<ipython-input-26-bd63721c1a00>:8: FutureWarning: suggest_uniform has been deprecated in v3.0.0. This feature will be removed in v6.0.0. See https://github.com/optuna/optuna/releases/tag/v3.0.0. Use suggest_float instead.\n",
            "  'subsample': trial.suggest_uniform('subsample', 0.5, 1.0),\n",
            "<ipython-input-26-bd63721c1a00>:9: FutureWarning: suggest_uniform has been deprecated in v3.0.0. This feature will be removed in v6.0.0. See https://github.com/optuna/optuna/releases/tag/v3.0.0. Use suggest_float instead.\n",
            "  'colsample_bytree': trial.suggest_uniform('colsample_bytree', 0.1, 1.0),\n",
            "/usr/local/lib/python3.10/dist-packages/xgboost/sklearn.py:835: UserWarning: `early_stopping_rounds` in `fit` method is deprecated for better compatibility with scikit-learn, use `early_stopping_rounds` in constructor or`set_params` instead.\n",
            "  warnings.warn(\n",
            "[I 2023-06-22 12:15:58,043] Trial 28 finished with value: 29.045189551780236 and parameters: {'n_estimators': 393, 'learning_rate': 0.010097789618885258, 'max_depth': 9, 'min_child_weight': 1, 'subsample': 0.9839733038616814, 'colsample_bytree': 0.4042724150931586}. Best is trial 1 with value: 28.315061031757796.\n",
            " 29%|██▉       | 29/100 [00:25<01:28,  1.25s/it]<ipython-input-26-bd63721c1a00>:5: FutureWarning: suggest_loguniform has been deprecated in v3.0.0. This feature will be removed in v6.0.0. See https://github.com/optuna/optuna/releases/tag/v3.0.0. Use suggest_float(..., log=True) instead.\n",
            "  'learning_rate': trial.suggest_loguniform('learning_rate', 0.01, 0.1),\n",
            "<ipython-input-26-bd63721c1a00>:8: FutureWarning: suggest_uniform has been deprecated in v3.0.0. This feature will be removed in v6.0.0. See https://github.com/optuna/optuna/releases/tag/v3.0.0. Use suggest_float instead.\n",
            "  'subsample': trial.suggest_uniform('subsample', 0.5, 1.0),\n",
            "<ipython-input-26-bd63721c1a00>:9: FutureWarning: suggest_uniform has been deprecated in v3.0.0. This feature will be removed in v6.0.0. See https://github.com/optuna/optuna/releases/tag/v3.0.0. Use suggest_float instead.\n",
            "  'colsample_bytree': trial.suggest_uniform('colsample_bytree', 0.1, 1.0),\n",
            "/usr/local/lib/python3.10/dist-packages/xgboost/sklearn.py:835: UserWarning: `early_stopping_rounds` in `fit` method is deprecated for better compatibility with scikit-learn, use `early_stopping_rounds` in constructor or`set_params` instead.\n",
            "  warnings.warn(\n",
            "[I 2023-06-22 12:15:59,464] Trial 29 finished with value: 28.708452431338923 and parameters: {'n_estimators': 190, 'learning_rate': 0.015023760896981712, 'max_depth': 10, 'min_child_weight': 3, 'subsample': 0.9162108840896497, 'colsample_bytree': 0.7863607089307845}. Best is trial 1 with value: 28.315061031757796.\n",
            " 30%|███       | 30/100 [00:27<01:30,  1.30s/it]<ipython-input-26-bd63721c1a00>:5: FutureWarning: suggest_loguniform has been deprecated in v3.0.0. This feature will be removed in v6.0.0. See https://github.com/optuna/optuna/releases/tag/v3.0.0. Use suggest_float(..., log=True) instead.\n",
            "  'learning_rate': trial.suggest_loguniform('learning_rate', 0.01, 0.1),\n",
            "<ipython-input-26-bd63721c1a00>:8: FutureWarning: suggest_uniform has been deprecated in v3.0.0. This feature will be removed in v6.0.0. See https://github.com/optuna/optuna/releases/tag/v3.0.0. Use suggest_float instead.\n",
            "  'subsample': trial.suggest_uniform('subsample', 0.5, 1.0),\n",
            "<ipython-input-26-bd63721c1a00>:9: FutureWarning: suggest_uniform has been deprecated in v3.0.0. This feature will be removed in v6.0.0. See https://github.com/optuna/optuna/releases/tag/v3.0.0. Use suggest_float instead.\n",
            "  'colsample_bytree': trial.suggest_uniform('colsample_bytree', 0.1, 1.0),\n",
            "/usr/local/lib/python3.10/dist-packages/xgboost/sklearn.py:835: UserWarning: `early_stopping_rounds` in `fit` method is deprecated for better compatibility with scikit-learn, use `early_stopping_rounds` in constructor or`set_params` instead.\n",
            "  warnings.warn(\n",
            "[I 2023-06-22 12:16:00,312] Trial 30 finished with value: 29.032747754734523 and parameters: {'n_estimators': 191, 'learning_rate': 0.022010658910067676, 'max_depth': 6, 'min_child_weight': 3, 'subsample': 0.9164667149241374, 'colsample_bytree': 0.791647878949212}. Best is trial 1 with value: 28.315061031757796.\n",
            " 31%|███       | 31/100 [00:28<01:20,  1.17s/it]<ipython-input-26-bd63721c1a00>:5: FutureWarning: suggest_loguniform has been deprecated in v3.0.0. This feature will be removed in v6.0.0. See https://github.com/optuna/optuna/releases/tag/v3.0.0. Use suggest_float(..., log=True) instead.\n",
            "  'learning_rate': trial.suggest_loguniform('learning_rate', 0.01, 0.1),\n",
            "<ipython-input-26-bd63721c1a00>:8: FutureWarning: suggest_uniform has been deprecated in v3.0.0. This feature will be removed in v6.0.0. See https://github.com/optuna/optuna/releases/tag/v3.0.0. Use suggest_float instead.\n",
            "  'subsample': trial.suggest_uniform('subsample', 0.5, 1.0),\n",
            "<ipython-input-26-bd63721c1a00>:9: FutureWarning: suggest_uniform has been deprecated in v3.0.0. This feature will be removed in v6.0.0. See https://github.com/optuna/optuna/releases/tag/v3.0.0. Use suggest_float instead.\n",
            "  'colsample_bytree': trial.suggest_uniform('colsample_bytree', 0.1, 1.0),\n",
            "/usr/local/lib/python3.10/dist-packages/xgboost/sklearn.py:835: UserWarning: `early_stopping_rounds` in `fit` method is deprecated for better compatibility with scikit-learn, use `early_stopping_rounds` in constructor or`set_params` instead.\n",
            "  warnings.warn(\n",
            "[I 2023-06-22 12:16:01,350] Trial 31 finished with value: 28.721971798878347 and parameters: {'n_estimators': 180, 'learning_rate': 0.015942517715902684, 'max_depth': 10, 'min_child_weight': 4, 'subsample': 0.8998263550963908, 'colsample_bytree': 0.7916021198100366}. Best is trial 1 with value: 28.315061031757796.\n",
            " 32%|███▏      | 32/100 [00:29<01:16,  1.13s/it]<ipython-input-26-bd63721c1a00>:5: FutureWarning: suggest_loguniform has been deprecated in v3.0.0. This feature will be removed in v6.0.0. See https://github.com/optuna/optuna/releases/tag/v3.0.0. Use suggest_float(..., log=True) instead.\n",
            "  'learning_rate': trial.suggest_loguniform('learning_rate', 0.01, 0.1),\n",
            "<ipython-input-26-bd63721c1a00>:8: FutureWarning: suggest_uniform has been deprecated in v3.0.0. This feature will be removed in v6.0.0. See https://github.com/optuna/optuna/releases/tag/v3.0.0. Use suggest_float instead.\n",
            "  'subsample': trial.suggest_uniform('subsample', 0.5, 1.0),\n",
            "<ipython-input-26-bd63721c1a00>:9: FutureWarning: suggest_uniform has been deprecated in v3.0.0. This feature will be removed in v6.0.0. See https://github.com/optuna/optuna/releases/tag/v3.0.0. Use suggest_float instead.\n",
            "  'colsample_bytree': trial.suggest_uniform('colsample_bytree', 0.1, 1.0),\n",
            "/usr/local/lib/python3.10/dist-packages/xgboost/sklearn.py:835: UserWarning: `early_stopping_rounds` in `fit` method is deprecated for better compatibility with scikit-learn, use `early_stopping_rounds` in constructor or`set_params` instead.\n",
            "  warnings.warn(\n",
            "[I 2023-06-22 12:16:02,128] Trial 32 finished with value: 28.78041332412161 and parameters: {'n_estimators': 164, 'learning_rate': 0.017990749821207918, 'max_depth': 9, 'min_child_weight': 2, 'subsample': 0.9585917136005617, 'colsample_bytree': 0.7798339432498711}. Best is trial 1 with value: 28.315061031757796.\n",
            " 33%|███▎      | 33/100 [00:30<01:08,  1.02s/it]<ipython-input-26-bd63721c1a00>:5: FutureWarning: suggest_loguniform has been deprecated in v3.0.0. This feature will be removed in v6.0.0. See https://github.com/optuna/optuna/releases/tag/v3.0.0. Use suggest_float(..., log=True) instead.\n",
            "  'learning_rate': trial.suggest_loguniform('learning_rate', 0.01, 0.1),\n",
            "<ipython-input-26-bd63721c1a00>:8: FutureWarning: suggest_uniform has been deprecated in v3.0.0. This feature will be removed in v6.0.0. See https://github.com/optuna/optuna/releases/tag/v3.0.0. Use suggest_float instead.\n",
            "  'subsample': trial.suggest_uniform('subsample', 0.5, 1.0),\n",
            "<ipython-input-26-bd63721c1a00>:9: FutureWarning: suggest_uniform has been deprecated in v3.0.0. This feature will be removed in v6.0.0. See https://github.com/optuna/optuna/releases/tag/v3.0.0. Use suggest_float instead.\n",
            "  'colsample_bytree': trial.suggest_uniform('colsample_bytree', 0.1, 1.0),\n",
            "/usr/local/lib/python3.10/dist-packages/xgboost/sklearn.py:835: UserWarning: `early_stopping_rounds` in `fit` method is deprecated for better compatibility with scikit-learn, use `early_stopping_rounds` in constructor or`set_params` instead.\n",
            "  warnings.warn(\n",
            "[I 2023-06-22 12:16:02,870] Trial 33 finished with value: 28.65431701149071 and parameters: {'n_estimators': 151, 'learning_rate': 0.01827278190786389, 'max_depth': 9, 'min_child_weight': 2, 'subsample': 0.964578781571563, 'colsample_bytree': 0.6678420862022996}. Best is trial 1 with value: 28.315061031757796.\n",
            " 34%|███▍      | 34/100 [00:30<01:01,  1.07it/s]<ipython-input-26-bd63721c1a00>:5: FutureWarning: suggest_loguniform has been deprecated in v3.0.0. This feature will be removed in v6.0.0. See https://github.com/optuna/optuna/releases/tag/v3.0.0. Use suggest_float(..., log=True) instead.\n",
            "  'learning_rate': trial.suggest_loguniform('learning_rate', 0.01, 0.1),\n",
            "<ipython-input-26-bd63721c1a00>:8: FutureWarning: suggest_uniform has been deprecated in v3.0.0. This feature will be removed in v6.0.0. See https://github.com/optuna/optuna/releases/tag/v3.0.0. Use suggest_float instead.\n",
            "  'subsample': trial.suggest_uniform('subsample', 0.5, 1.0),\n",
            "<ipython-input-26-bd63721c1a00>:9: FutureWarning: suggest_uniform has been deprecated in v3.0.0. This feature will be removed in v6.0.0. See https://github.com/optuna/optuna/releases/tag/v3.0.0. Use suggest_float instead.\n",
            "  'colsample_bytree': trial.suggest_uniform('colsample_bytree', 0.1, 1.0),\n",
            "/usr/local/lib/python3.10/dist-packages/xgboost/sklearn.py:835: UserWarning: `early_stopping_rounds` in `fit` method is deprecated for better compatibility with scikit-learn, use `early_stopping_rounds` in constructor or`set_params` instead.\n",
            "  warnings.warn(\n",
            "[I 2023-06-22 12:16:03,769] Trial 34 finished with value: 28.31446298713842 and parameters: {'n_estimators': 144, 'learning_rate': 0.015226983176578848, 'max_depth': 10, 'min_child_weight': 1, 'subsample': 0.9394960196260412, 'colsample_bytree': 0.6522596081717175}. Best is trial 34 with value: 28.31446298713842.\n",
            " 35%|███▌      | 35/100 [00:31<01:00,  1.08it/s]<ipython-input-26-bd63721c1a00>:5: FutureWarning: suggest_loguniform has been deprecated in v3.0.0. This feature will be removed in v6.0.0. See https://github.com/optuna/optuna/releases/tag/v3.0.0. Use suggest_float(..., log=True) instead.\n",
            "  'learning_rate': trial.suggest_loguniform('learning_rate', 0.01, 0.1),\n",
            "<ipython-input-26-bd63721c1a00>:8: FutureWarning: suggest_uniform has been deprecated in v3.0.0. This feature will be removed in v6.0.0. See https://github.com/optuna/optuna/releases/tag/v3.0.0. Use suggest_float instead.\n",
            "  'subsample': trial.suggest_uniform('subsample', 0.5, 1.0),\n",
            "<ipython-input-26-bd63721c1a00>:9: FutureWarning: suggest_uniform has been deprecated in v3.0.0. This feature will be removed in v6.0.0. See https://github.com/optuna/optuna/releases/tag/v3.0.0. Use suggest_float instead.\n",
            "  'colsample_bytree': trial.suggest_uniform('colsample_bytree', 0.1, 1.0),\n",
            "/usr/local/lib/python3.10/dist-packages/xgboost/sklearn.py:835: UserWarning: `early_stopping_rounds` in `fit` method is deprecated for better compatibility with scikit-learn, use `early_stopping_rounds` in constructor or`set_params` instead.\n",
            "  warnings.warn(\n",
            "[I 2023-06-22 12:16:04,406] Trial 35 finished with value: 28.147515137195587 and parameters: {'n_estimators': 126, 'learning_rate': 0.015041406636235804, 'max_depth': 9, 'min_child_weight': 1, 'subsample': 0.9708258693600403, 'colsample_bytree': 0.62903415780154}. Best is trial 35 with value: 28.147515137195587.\n",
            " 36%|███▌      | 36/100 [00:32<00:53,  1.19it/s]<ipython-input-26-bd63721c1a00>:5: FutureWarning: suggest_loguniform has been deprecated in v3.0.0. This feature will be removed in v6.0.0. See https://github.com/optuna/optuna/releases/tag/v3.0.0. Use suggest_float(..., log=True) instead.\n",
            "  'learning_rate': trial.suggest_loguniform('learning_rate', 0.01, 0.1),\n",
            "<ipython-input-26-bd63721c1a00>:8: FutureWarning: suggest_uniform has been deprecated in v3.0.0. This feature will be removed in v6.0.0. See https://github.com/optuna/optuna/releases/tag/v3.0.0. Use suggest_float instead.\n",
            "  'subsample': trial.suggest_uniform('subsample', 0.5, 1.0),\n",
            "<ipython-input-26-bd63721c1a00>:9: FutureWarning: suggest_uniform has been deprecated in v3.0.0. This feature will be removed in v6.0.0. See https://github.com/optuna/optuna/releases/tag/v3.0.0. Use suggest_float instead.\n",
            "  'colsample_bytree': trial.suggest_uniform('colsample_bytree', 0.1, 1.0),\n",
            "/usr/local/lib/python3.10/dist-packages/xgboost/sklearn.py:835: UserWarning: `early_stopping_rounds` in `fit` method is deprecated for better compatibility with scikit-learn, use `early_stopping_rounds` in constructor or`set_params` instead.\n",
            "  warnings.warn(\n",
            "[I 2023-06-22 12:16:04,872] Trial 36 finished with value: 28.54576470164304 and parameters: {'n_estimators': 104, 'learning_rate': 0.024581145907659828, 'max_depth': 8, 'min_child_weight': 1, 'subsample': 0.9779895319831652, 'colsample_bytree': 0.6448267552153171}. Best is trial 35 with value: 28.147515137195587.\n",
            " 37%|███▋      | 37/100 [00:32<00:45,  1.38it/s]<ipython-input-26-bd63721c1a00>:5: FutureWarning: suggest_loguniform has been deprecated in v3.0.0. This feature will be removed in v6.0.0. See https://github.com/optuna/optuna/releases/tag/v3.0.0. Use suggest_float(..., log=True) instead.\n",
            "  'learning_rate': trial.suggest_loguniform('learning_rate', 0.01, 0.1),\n",
            "<ipython-input-26-bd63721c1a00>:8: FutureWarning: suggest_uniform has been deprecated in v3.0.0. This feature will be removed in v6.0.0. See https://github.com/optuna/optuna/releases/tag/v3.0.0. Use suggest_float instead.\n",
            "  'subsample': trial.suggest_uniform('subsample', 0.5, 1.0),\n",
            "<ipython-input-26-bd63721c1a00>:9: FutureWarning: suggest_uniform has been deprecated in v3.0.0. This feature will be removed in v6.0.0. See https://github.com/optuna/optuna/releases/tag/v3.0.0. Use suggest_float instead.\n",
            "  'colsample_bytree': trial.suggest_uniform('colsample_bytree', 0.1, 1.0),\n",
            "/usr/local/lib/python3.10/dist-packages/xgboost/sklearn.py:835: UserWarning: `early_stopping_rounds` in `fit` method is deprecated for better compatibility with scikit-learn, use `early_stopping_rounds` in constructor or`set_params` instead.\n",
            "  warnings.warn(\n",
            "[I 2023-06-22 12:16:05,328] Trial 37 finished with value: 28.265616663727315 and parameters: {'n_estimators': 100, 'learning_rate': 0.02088962829512904, 'max_depth': 8, 'min_child_weight': 1, 'subsample': 0.9967078432821526, 'colsample_bytree': 0.6140704058667049}. Best is trial 35 with value: 28.147515137195587.\n",
            " 38%|███▊      | 38/100 [00:33<00:40,  1.55it/s]<ipython-input-26-bd63721c1a00>:5: FutureWarning: suggest_loguniform has been deprecated in v3.0.0. This feature will be removed in v6.0.0. See https://github.com/optuna/optuna/releases/tag/v3.0.0. Use suggest_float(..., log=True) instead.\n",
            "  'learning_rate': trial.suggest_loguniform('learning_rate', 0.01, 0.1),\n",
            "<ipython-input-26-bd63721c1a00>:8: FutureWarning: suggest_uniform has been deprecated in v3.0.0. This feature will be removed in v6.0.0. See https://github.com/optuna/optuna/releases/tag/v3.0.0. Use suggest_float instead.\n",
            "  'subsample': trial.suggest_uniform('subsample', 0.5, 1.0),\n",
            "<ipython-input-26-bd63721c1a00>:9: FutureWarning: suggest_uniform has been deprecated in v3.0.0. This feature will be removed in v6.0.0. See https://github.com/optuna/optuna/releases/tag/v3.0.0. Use suggest_float instead.\n",
            "  'colsample_bytree': trial.suggest_uniform('colsample_bytree', 0.1, 1.0),\n",
            "/usr/local/lib/python3.10/dist-packages/xgboost/sklearn.py:835: UserWarning: `early_stopping_rounds` in `fit` method is deprecated for better compatibility with scikit-learn, use `early_stopping_rounds` in constructor or`set_params` instead.\n",
            "  warnings.warn(\n",
            "[I 2023-06-22 12:16:05,981] Trial 38 finished with value: 29.0811852778519 and parameters: {'n_estimators': 241, 'learning_rate': 0.021377673099640903, 'max_depth': 7, 'min_child_weight': 1, 'subsample': 0.9381132946143974, 'colsample_bytree': 0.601108562528228}. Best is trial 35 with value: 28.147515137195587.\n",
            " 39%|███▉      | 39/100 [00:33<00:39,  1.54it/s]<ipython-input-26-bd63721c1a00>:5: FutureWarning: suggest_loguniform has been deprecated in v3.0.0. This feature will be removed in v6.0.0. See https://github.com/optuna/optuna/releases/tag/v3.0.0. Use suggest_float(..., log=True) instead.\n",
            "  'learning_rate': trial.suggest_loguniform('learning_rate', 0.01, 0.1),\n",
            "<ipython-input-26-bd63721c1a00>:8: FutureWarning: suggest_uniform has been deprecated in v3.0.0. This feature will be removed in v6.0.0. See https://github.com/optuna/optuna/releases/tag/v3.0.0. Use suggest_float instead.\n",
            "  'subsample': trial.suggest_uniform('subsample', 0.5, 1.0),\n",
            "<ipython-input-26-bd63721c1a00>:9: FutureWarning: suggest_uniform has been deprecated in v3.0.0. This feature will be removed in v6.0.0. See https://github.com/optuna/optuna/releases/tag/v3.0.0. Use suggest_float instead.\n",
            "  'colsample_bytree': trial.suggest_uniform('colsample_bytree', 0.1, 1.0),\n",
            "/usr/local/lib/python3.10/dist-packages/xgboost/sklearn.py:835: UserWarning: `early_stopping_rounds` in `fit` method is deprecated for better compatibility with scikit-learn, use `early_stopping_rounds` in constructor or`set_params` instead.\n",
            "  warnings.warn(\n",
            "[I 2023-06-22 12:16:06,291] Trial 39 finished with value: 28.925366046797507 and parameters: {'n_estimators': 312, 'learning_rate': 0.02794735751871577, 'max_depth': 3, 'min_child_weight': 2, 'subsample': 0.9980499084012378, 'colsample_bytree': 0.6169107225872853}. Best is trial 35 with value: 28.147515137195587.\n",
            " 40%|████      | 40/100 [00:34<00:32,  1.83it/s]<ipython-input-26-bd63721c1a00>:5: FutureWarning: suggest_loguniform has been deprecated in v3.0.0. This feature will be removed in v6.0.0. See https://github.com/optuna/optuna/releases/tag/v3.0.0. Use suggest_float(..., log=True) instead.\n",
            "  'learning_rate': trial.suggest_loguniform('learning_rate', 0.01, 0.1),\n",
            "<ipython-input-26-bd63721c1a00>:8: FutureWarning: suggest_uniform has been deprecated in v3.0.0. This feature will be removed in v6.0.0. See https://github.com/optuna/optuna/releases/tag/v3.0.0. Use suggest_float instead.\n",
            "  'subsample': trial.suggest_uniform('subsample', 0.5, 1.0),\n",
            "<ipython-input-26-bd63721c1a00>:9: FutureWarning: suggest_uniform has been deprecated in v3.0.0. This feature will be removed in v6.0.0. See https://github.com/optuna/optuna/releases/tag/v3.0.0. Use suggest_float instead.\n",
            "  'colsample_bytree': trial.suggest_uniform('colsample_bytree', 0.1, 1.0),\n",
            "/usr/local/lib/python3.10/dist-packages/xgboost/sklearn.py:835: UserWarning: `early_stopping_rounds` in `fit` method is deprecated for better compatibility with scikit-learn, use `early_stopping_rounds` in constructor or`set_params` instead.\n",
            "  warnings.warn(\n",
            "[I 2023-06-22 12:16:06,832] Trial 40 finished with value: 28.11776464088187 and parameters: {'n_estimators': 129, 'learning_rate': 0.01448767948801101, 'max_depth': 8, 'min_child_weight': 1, 'subsample': 0.9437423872352197, 'colsample_bytree': 0.5684835120421339}. Best is trial 40 with value: 28.11776464088187.\n",
            " 41%|████      | 41/100 [00:34<00:32,  1.84it/s]<ipython-input-26-bd63721c1a00>:5: FutureWarning: suggest_loguniform has been deprecated in v3.0.0. This feature will be removed in v6.0.0. See https://github.com/optuna/optuna/releases/tag/v3.0.0. Use suggest_float(..., log=True) instead.\n",
            "  'learning_rate': trial.suggest_loguniform('learning_rate', 0.01, 0.1),\n",
            "<ipython-input-26-bd63721c1a00>:8: FutureWarning: suggest_uniform has been deprecated in v3.0.0. This feature will be removed in v6.0.0. See https://github.com/optuna/optuna/releases/tag/v3.0.0. Use suggest_float instead.\n",
            "  'subsample': trial.suggest_uniform('subsample', 0.5, 1.0),\n",
            "<ipython-input-26-bd63721c1a00>:9: FutureWarning: suggest_uniform has been deprecated in v3.0.0. This feature will be removed in v6.0.0. See https://github.com/optuna/optuna/releases/tag/v3.0.0. Use suggest_float instead.\n",
            "  'colsample_bytree': trial.suggest_uniform('colsample_bytree', 0.1, 1.0),\n",
            "/usr/local/lib/python3.10/dist-packages/xgboost/sklearn.py:835: UserWarning: `early_stopping_rounds` in `fit` method is deprecated for better compatibility with scikit-learn, use `early_stopping_rounds` in constructor or`set_params` instead.\n",
            "  warnings.warn(\n",
            "[I 2023-06-22 12:16:07,429] Trial 41 finished with value: 28.278204666777867 and parameters: {'n_estimators': 139, 'learning_rate': 0.015231096266862108, 'max_depth': 8, 'min_child_weight': 1, 'subsample': 0.9428005921997049, 'colsample_bytree': 0.5603414311934295}. Best is trial 40 with value: 28.11776464088187.\n",
            " 42%|████▏     | 42/100 [00:35<00:32,  1.78it/s]<ipython-input-26-bd63721c1a00>:5: FutureWarning: suggest_loguniform has been deprecated in v3.0.0. This feature will be removed in v6.0.0. See https://github.com/optuna/optuna/releases/tag/v3.0.0. Use suggest_float(..., log=True) instead.\n",
            "  'learning_rate': trial.suggest_loguniform('learning_rate', 0.01, 0.1),\n",
            "<ipython-input-26-bd63721c1a00>:8: FutureWarning: suggest_uniform has been deprecated in v3.0.0. This feature will be removed in v6.0.0. See https://github.com/optuna/optuna/releases/tag/v3.0.0. Use suggest_float instead.\n",
            "  'subsample': trial.suggest_uniform('subsample', 0.5, 1.0),\n",
            "<ipython-input-26-bd63721c1a00>:9: FutureWarning: suggest_uniform has been deprecated in v3.0.0. This feature will be removed in v6.0.0. See https://github.com/optuna/optuna/releases/tag/v3.0.0. Use suggest_float instead.\n",
            "  'colsample_bytree': trial.suggest_uniform('colsample_bytree', 0.1, 1.0),\n",
            "/usr/local/lib/python3.10/dist-packages/xgboost/sklearn.py:835: UserWarning: `early_stopping_rounds` in `fit` method is deprecated for better compatibility with scikit-learn, use `early_stopping_rounds` in constructor or`set_params` instead.\n",
            "  warnings.warn(\n",
            "[I 2023-06-22 12:16:08,351] Trial 42 finished with value: 28.90271569338951 and parameters: {'n_estimators': 236, 'learning_rate': 0.014258563170579816, 'max_depth': 8, 'min_child_weight': 1, 'subsample': 0.9413264659166589, 'colsample_bytree': 0.5527512437648171}. Best is trial 40 with value: 28.11776464088187.\n",
            " 43%|████▎     | 43/100 [00:36<00:38,  1.49it/s]<ipython-input-26-bd63721c1a00>:5: FutureWarning: suggest_loguniform has been deprecated in v3.0.0. This feature will be removed in v6.0.0. See https://github.com/optuna/optuna/releases/tag/v3.0.0. Use suggest_float(..., log=True) instead.\n",
            "  'learning_rate': trial.suggest_loguniform('learning_rate', 0.01, 0.1),\n",
            "<ipython-input-26-bd63721c1a00>:8: FutureWarning: suggest_uniform has been deprecated in v3.0.0. This feature will be removed in v6.0.0. See https://github.com/optuna/optuna/releases/tag/v3.0.0. Use suggest_float instead.\n",
            "  'subsample': trial.suggest_uniform('subsample', 0.5, 1.0),\n",
            "<ipython-input-26-bd63721c1a00>:9: FutureWarning: suggest_uniform has been deprecated in v3.0.0. This feature will be removed in v6.0.0. See https://github.com/optuna/optuna/releases/tag/v3.0.0. Use suggest_float instead.\n",
            "  'colsample_bytree': trial.suggest_uniform('colsample_bytree', 0.1, 1.0),\n",
            "/usr/local/lib/python3.10/dist-packages/xgboost/sklearn.py:835: UserWarning: `early_stopping_rounds` in `fit` method is deprecated for better compatibility with scikit-learn, use `early_stopping_rounds` in constructor or`set_params` instead.\n",
            "  warnings.warn(\n",
            "[I 2023-06-22 12:16:08,861] Trial 43 finished with value: 28.123250607350915 and parameters: {'n_estimators': 100, 'learning_rate': 0.017848937317404633, 'max_depth': 9, 'min_child_weight': 2, 'subsample': 0.974096666987375, 'colsample_bytree': 0.5827916713046055}. Best is trial 40 with value: 28.11776464088187.\n",
            " 44%|████▍     | 44/100 [00:36<00:34,  1.61it/s]<ipython-input-26-bd63721c1a00>:5: FutureWarning: suggest_loguniform has been deprecated in v3.0.0. This feature will be removed in v6.0.0. See https://github.com/optuna/optuna/releases/tag/v3.0.0. Use suggest_float(..., log=True) instead.\n",
            "  'learning_rate': trial.suggest_loguniform('learning_rate', 0.01, 0.1),\n",
            "<ipython-input-26-bd63721c1a00>:8: FutureWarning: suggest_uniform has been deprecated in v3.0.0. This feature will be removed in v6.0.0. See https://github.com/optuna/optuna/releases/tag/v3.0.0. Use suggest_float instead.\n",
            "  'subsample': trial.suggest_uniform('subsample', 0.5, 1.0),\n",
            "<ipython-input-26-bd63721c1a00>:9: FutureWarning: suggest_uniform has been deprecated in v3.0.0. This feature will be removed in v6.0.0. See https://github.com/optuna/optuna/releases/tag/v3.0.0. Use suggest_float instead.\n",
            "  'colsample_bytree': trial.suggest_uniform('colsample_bytree', 0.1, 1.0),\n",
            "/usr/local/lib/python3.10/dist-packages/xgboost/sklearn.py:835: UserWarning: `early_stopping_rounds` in `fit` method is deprecated for better compatibility with scikit-learn, use `early_stopping_rounds` in constructor or`set_params` instead.\n",
            "  warnings.warn(\n",
            "[I 2023-06-22 12:16:09,328] Trial 44 finished with value: 28.15953737721259 and parameters: {'n_estimators': 105, 'learning_rate': 0.01816595646078814, 'max_depth': 8, 'min_child_weight': 2, 'subsample': 0.9759559325162037, 'colsample_bytree': 0.6061449692313952}. Best is trial 40 with value: 28.11776464088187.\n",
            " 45%|████▌     | 45/100 [00:37<00:31,  1.74it/s]<ipython-input-26-bd63721c1a00>:5: FutureWarning: suggest_loguniform has been deprecated in v3.0.0. This feature will be removed in v6.0.0. See https://github.com/optuna/optuna/releases/tag/v3.0.0. Use suggest_float(..., log=True) instead.\n",
            "  'learning_rate': trial.suggest_loguniform('learning_rate', 0.01, 0.1),\n",
            "<ipython-input-26-bd63721c1a00>:8: FutureWarning: suggest_uniform has been deprecated in v3.0.0. This feature will be removed in v6.0.0. See https://github.com/optuna/optuna/releases/tag/v3.0.0. Use suggest_float instead.\n",
            "  'subsample': trial.suggest_uniform('subsample', 0.5, 1.0),\n",
            "<ipython-input-26-bd63721c1a00>:9: FutureWarning: suggest_uniform has been deprecated in v3.0.0. This feature will be removed in v6.0.0. See https://github.com/optuna/optuna/releases/tag/v3.0.0. Use suggest_float instead.\n",
            "  'colsample_bytree': trial.suggest_uniform('colsample_bytree', 0.1, 1.0),\n",
            "/usr/local/lib/python3.10/dist-packages/xgboost/sklearn.py:835: UserWarning: `early_stopping_rounds` in `fit` method is deprecated for better compatibility with scikit-learn, use `early_stopping_rounds` in constructor or`set_params` instead.\n",
            "  warnings.warn(\n",
            "[I 2023-06-22 12:16:09,877] Trial 45 finished with value: 28.24505643664144 and parameters: {'n_estimators': 109, 'learning_rate': 0.01867385435280777, 'max_depth': 9, 'min_child_weight': 2, 'subsample': 0.9934910203073295, 'colsample_bytree': 0.5963376076731997}. Best is trial 40 with value: 28.11776464088187.\n",
            " 46%|████▌     | 46/100 [00:37<00:30,  1.76it/s]<ipython-input-26-bd63721c1a00>:5: FutureWarning: suggest_loguniform has been deprecated in v3.0.0. This feature will be removed in v6.0.0. See https://github.com/optuna/optuna/releases/tag/v3.0.0. Use suggest_float(..., log=True) instead.\n",
            "  'learning_rate': trial.suggest_loguniform('learning_rate', 0.01, 0.1),\n",
            "<ipython-input-26-bd63721c1a00>:8: FutureWarning: suggest_uniform has been deprecated in v3.0.0. This feature will be removed in v6.0.0. See https://github.com/optuna/optuna/releases/tag/v3.0.0. Use suggest_float instead.\n",
            "  'subsample': trial.suggest_uniform('subsample', 0.5, 1.0),\n",
            "<ipython-input-26-bd63721c1a00>:9: FutureWarning: suggest_uniform has been deprecated in v3.0.0. This feature will be removed in v6.0.0. See https://github.com/optuna/optuna/releases/tag/v3.0.0. Use suggest_float instead.\n",
            "  'colsample_bytree': trial.suggest_uniform('colsample_bytree', 0.1, 1.0),\n",
            "/usr/local/lib/python3.10/dist-packages/xgboost/sklearn.py:835: UserWarning: `early_stopping_rounds` in `fit` method is deprecated for better compatibility with scikit-learn, use `early_stopping_rounds` in constructor or`set_params` instead.\n",
            "  warnings.warn(\n",
            "[I 2023-06-22 12:16:10,903] Trial 46 finished with value: 29.05537156232813 and parameters: {'n_estimators': 213, 'learning_rate': 0.01825330803212703, 'max_depth': 9, 'min_child_weight': 2, 'subsample': 0.9739933732170747, 'colsample_bytree': 0.7061259106216795}. Best is trial 40 with value: 28.11776464088187.\n",
            " 47%|████▋     | 47/100 [00:38<00:37,  1.42it/s]<ipython-input-26-bd63721c1a00>:5: FutureWarning: suggest_loguniform has been deprecated in v3.0.0. This feature will be removed in v6.0.0. See https://github.com/optuna/optuna/releases/tag/v3.0.0. Use suggest_float(..., log=True) instead.\n",
            "  'learning_rate': trial.suggest_loguniform('learning_rate', 0.01, 0.1),\n",
            "<ipython-input-26-bd63721c1a00>:8: FutureWarning: suggest_uniform has been deprecated in v3.0.0. This feature will be removed in v6.0.0. See https://github.com/optuna/optuna/releases/tag/v3.0.0. Use suggest_float instead.\n",
            "  'subsample': trial.suggest_uniform('subsample', 0.5, 1.0),\n",
            "<ipython-input-26-bd63721c1a00>:9: FutureWarning: suggest_uniform has been deprecated in v3.0.0. This feature will be removed in v6.0.0. See https://github.com/optuna/optuna/releases/tag/v3.0.0. Use suggest_float instead.\n",
            "  'colsample_bytree': trial.suggest_uniform('colsample_bytree', 0.1, 1.0),\n",
            "/usr/local/lib/python3.10/dist-packages/xgboost/sklearn.py:835: UserWarning: `early_stopping_rounds` in `fit` method is deprecated for better compatibility with scikit-learn, use `early_stopping_rounds` in constructor or`set_params` instead.\n",
            "  warnings.warn(\n",
            "[I 2023-06-22 12:16:12,070] Trial 47 finished with value: 28.963158047344148 and parameters: {'n_estimators': 268, 'learning_rate': 0.01749639502516461, 'max_depth': 9, 'min_child_weight': 3, 'subsample': 0.9770774995956248, 'colsample_bytree': 0.5763057146754192}. Best is trial 40 with value: 28.11776464088187.\n",
            " 48%|████▊     | 48/100 [00:39<00:43,  1.19it/s]<ipython-input-26-bd63721c1a00>:5: FutureWarning: suggest_loguniform has been deprecated in v3.0.0. This feature will be removed in v6.0.0. See https://github.com/optuna/optuna/releases/tag/v3.0.0. Use suggest_float(..., log=True) instead.\n",
            "  'learning_rate': trial.suggest_loguniform('learning_rate', 0.01, 0.1),\n",
            "<ipython-input-26-bd63721c1a00>:8: FutureWarning: suggest_uniform has been deprecated in v3.0.0. This feature will be removed in v6.0.0. See https://github.com/optuna/optuna/releases/tag/v3.0.0. Use suggest_float instead.\n",
            "  'subsample': trial.suggest_uniform('subsample', 0.5, 1.0),\n",
            "<ipython-input-26-bd63721c1a00>:9: FutureWarning: suggest_uniform has been deprecated in v3.0.0. This feature will be removed in v6.0.0. See https://github.com/optuna/optuna/releases/tag/v3.0.0. Use suggest_float instead.\n",
            "  'colsample_bytree': trial.suggest_uniform('colsample_bytree', 0.1, 1.0),\n",
            "/usr/local/lib/python3.10/dist-packages/xgboost/sklearn.py:835: UserWarning: `early_stopping_rounds` in `fit` method is deprecated for better compatibility with scikit-learn, use `early_stopping_rounds` in constructor or`set_params` instead.\n",
            "  warnings.warn(\n",
            "[I 2023-06-22 12:16:13,392] Trial 48 finished with value: 29.069364475044758 and parameters: {'n_estimators': 342, 'learning_rate': 0.012126000934961027, 'max_depth': 7, 'min_child_weight': 2, 'subsample': 0.9609793645370944, 'colsample_bytree': 0.6296618391898822}. Best is trial 40 with value: 28.11776464088187.\n",
            " 49%|████▉     | 49/100 [00:41<00:50,  1.01it/s]<ipython-input-26-bd63721c1a00>:5: FutureWarning: suggest_loguniform has been deprecated in v3.0.0. This feature will be removed in v6.0.0. See https://github.com/optuna/optuna/releases/tag/v3.0.0. Use suggest_float(..., log=True) instead.\n",
            "  'learning_rate': trial.suggest_loguniform('learning_rate', 0.01, 0.1),\n",
            "<ipython-input-26-bd63721c1a00>:8: FutureWarning: suggest_uniform has been deprecated in v3.0.0. This feature will be removed in v6.0.0. See https://github.com/optuna/optuna/releases/tag/v3.0.0. Use suggest_float instead.\n",
            "  'subsample': trial.suggest_uniform('subsample', 0.5, 1.0),\n",
            "<ipython-input-26-bd63721c1a00>:9: FutureWarning: suggest_uniform has been deprecated in v3.0.0. This feature will be removed in v6.0.0. See https://github.com/optuna/optuna/releases/tag/v3.0.0. Use suggest_float instead.\n",
            "  'colsample_bytree': trial.suggest_uniform('colsample_bytree', 0.1, 1.0),\n",
            "/usr/local/lib/python3.10/dist-packages/xgboost/sklearn.py:835: UserWarning: `early_stopping_rounds` in `fit` method is deprecated for better compatibility with scikit-learn, use `early_stopping_rounds` in constructor or`set_params` instead.\n",
            "  warnings.warn(\n",
            "[I 2023-06-22 12:16:14,456] Trial 49 finished with value: 28.670328131486038 and parameters: {'n_estimators': 140, 'learning_rate': 0.019549742438464197, 'max_depth': 9, 'min_child_weight': 2, 'subsample': 0.9019913507014307, 'colsample_bytree': 0.589126237052967}. Best is trial 40 with value: 28.11776464088187.\n",
            " 50%|█████     | 50/100 [00:42<00:50,  1.01s/it]<ipython-input-26-bd63721c1a00>:5: FutureWarning: suggest_loguniform has been deprecated in v3.0.0. This feature will be removed in v6.0.0. See https://github.com/optuna/optuna/releases/tag/v3.0.0. Use suggest_float(..., log=True) instead.\n",
            "  'learning_rate': trial.suggest_loguniform('learning_rate', 0.01, 0.1),\n",
            "<ipython-input-26-bd63721c1a00>:8: FutureWarning: suggest_uniform has been deprecated in v3.0.0. This feature will be removed in v6.0.0. See https://github.com/optuna/optuna/releases/tag/v3.0.0. Use suggest_float instead.\n",
            "  'subsample': trial.suggest_uniform('subsample', 0.5, 1.0),\n",
            "<ipython-input-26-bd63721c1a00>:9: FutureWarning: suggest_uniform has been deprecated in v3.0.0. This feature will be removed in v6.0.0. See https://github.com/optuna/optuna/releases/tag/v3.0.0. Use suggest_float instead.\n",
            "  'colsample_bytree': trial.suggest_uniform('colsample_bytree', 0.1, 1.0),\n",
            "/usr/local/lib/python3.10/dist-packages/xgboost/sklearn.py:835: UserWarning: `early_stopping_rounds` in `fit` method is deprecated for better compatibility with scikit-learn, use `early_stopping_rounds` in constructor or`set_params` instead.\n",
            "  warnings.warn(\n",
            "[I 2023-06-22 12:16:15,578] Trial 50 finished with value: 28.977181882687038 and parameters: {'n_estimators': 213, 'learning_rate': 0.01687740921733672, 'max_depth': 9, 'min_child_weight': 2, 'subsample': 0.9961611810953217, 'colsample_bytree': 0.7225413333125514}. Best is trial 40 with value: 28.11776464088187.\n",
            " 51%|█████     | 51/100 [00:43<00:51,  1.04s/it]<ipython-input-26-bd63721c1a00>:5: FutureWarning: suggest_loguniform has been deprecated in v3.0.0. This feature will be removed in v6.0.0. See https://github.com/optuna/optuna/releases/tag/v3.0.0. Use suggest_float(..., log=True) instead.\n",
            "  'learning_rate': trial.suggest_loguniform('learning_rate', 0.01, 0.1),\n",
            "<ipython-input-26-bd63721c1a00>:8: FutureWarning: suggest_uniform has been deprecated in v3.0.0. This feature will be removed in v6.0.0. See https://github.com/optuna/optuna/releases/tag/v3.0.0. Use suggest_float instead.\n",
            "  'subsample': trial.suggest_uniform('subsample', 0.5, 1.0),\n",
            "<ipython-input-26-bd63721c1a00>:9: FutureWarning: suggest_uniform has been deprecated in v3.0.0. This feature will be removed in v6.0.0. See https://github.com/optuna/optuna/releases/tag/v3.0.0. Use suggest_float instead.\n",
            "  'colsample_bytree': trial.suggest_uniform('colsample_bytree', 0.1, 1.0),\n",
            "/usr/local/lib/python3.10/dist-packages/xgboost/sklearn.py:835: UserWarning: `early_stopping_rounds` in `fit` method is deprecated for better compatibility with scikit-learn, use `early_stopping_rounds` in constructor or`set_params` instead.\n",
            "  warnings.warn(\n",
            "[I 2023-06-22 12:16:16,072] Trial 51 finished with value: 28.546531517637373 and parameters: {'n_estimators': 116, 'learning_rate': 0.02200833616563434, 'max_depth': 8, 'min_child_weight': 1, 'subsample': 0.9762237230199831, 'colsample_bytree': 0.6151273022561308}. Best is trial 40 with value: 28.11776464088187.\n",
            " 52%|█████▏    | 52/100 [00:43<00:42,  1.14it/s]<ipython-input-26-bd63721c1a00>:5: FutureWarning: suggest_loguniform has been deprecated in v3.0.0. This feature will be removed in v6.0.0. See https://github.com/optuna/optuna/releases/tag/v3.0.0. Use suggest_float(..., log=True) instead.\n",
            "  'learning_rate': trial.suggest_loguniform('learning_rate', 0.01, 0.1),\n",
            "<ipython-input-26-bd63721c1a00>:8: FutureWarning: suggest_uniform has been deprecated in v3.0.0. This feature will be removed in v6.0.0. See https://github.com/optuna/optuna/releases/tag/v3.0.0. Use suggest_float instead.\n",
            "  'subsample': trial.suggest_uniform('subsample', 0.5, 1.0),\n",
            "<ipython-input-26-bd63721c1a00>:9: FutureWarning: suggest_uniform has been deprecated in v3.0.0. This feature will be removed in v6.0.0. See https://github.com/optuna/optuna/releases/tag/v3.0.0. Use suggest_float instead.\n",
            "  'colsample_bytree': trial.suggest_uniform('colsample_bytree', 0.1, 1.0),\n",
            "/usr/local/lib/python3.10/dist-packages/xgboost/sklearn.py:835: UserWarning: `early_stopping_rounds` in `fit` method is deprecated for better compatibility with scikit-learn, use `early_stopping_rounds` in constructor or`set_params` instead.\n",
            "  warnings.warn(\n",
            "[I 2023-06-22 12:16:16,550] Trial 52 finished with value: 28.116879437312235 and parameters: {'n_estimators': 106, 'learning_rate': 0.017138967466767616, 'max_depth': 8, 'min_child_weight': 1, 'subsample': 0.9935471693821444, 'colsample_bytree': 0.5278765629519586}. Best is trial 52 with value: 28.116879437312235.\n",
            " 53%|█████▎    | 53/100 [00:44<00:35,  1.32it/s]<ipython-input-26-bd63721c1a00>:5: FutureWarning: suggest_loguniform has been deprecated in v3.0.0. This feature will be removed in v6.0.0. See https://github.com/optuna/optuna/releases/tag/v3.0.0. Use suggest_float(..., log=True) instead.\n",
            "  'learning_rate': trial.suggest_loguniform('learning_rate', 0.01, 0.1),\n",
            "<ipython-input-26-bd63721c1a00>:8: FutureWarning: suggest_uniform has been deprecated in v3.0.0. This feature will be removed in v6.0.0. See https://github.com/optuna/optuna/releases/tag/v3.0.0. Use suggest_float instead.\n",
            "  'subsample': trial.suggest_uniform('subsample', 0.5, 1.0),\n",
            "<ipython-input-26-bd63721c1a00>:9: FutureWarning: suggest_uniform has been deprecated in v3.0.0. This feature will be removed in v6.0.0. See https://github.com/optuna/optuna/releases/tag/v3.0.0. Use suggest_float instead.\n",
            "  'colsample_bytree': trial.suggest_uniform('colsample_bytree', 0.1, 1.0),\n",
            "/usr/local/lib/python3.10/dist-packages/xgboost/sklearn.py:835: UserWarning: `early_stopping_rounds` in `fit` method is deprecated for better compatibility with scikit-learn, use `early_stopping_rounds` in constructor or`set_params` instead.\n",
            "  warnings.warn(\n",
            "[I 2023-06-22 12:16:16,982] Trial 53 finished with value: 28.077121496161045 and parameters: {'n_estimators': 101, 'learning_rate': 0.017233452020052328, 'max_depth': 8, 'min_child_weight': 3, 'subsample': 0.9987942269016554, 'colsample_bytree': 0.5387012106410168}. Best is trial 53 with value: 28.077121496161045.\n",
            " 54%|█████▍    | 54/100 [00:44<00:30,  1.51it/s]<ipython-input-26-bd63721c1a00>:5: FutureWarning: suggest_loguniform has been deprecated in v3.0.0. This feature will be removed in v6.0.0. See https://github.com/optuna/optuna/releases/tag/v3.0.0. Use suggest_float(..., log=True) instead.\n",
            "  'learning_rate': trial.suggest_loguniform('learning_rate', 0.01, 0.1),\n",
            "<ipython-input-26-bd63721c1a00>:8: FutureWarning: suggest_uniform has been deprecated in v3.0.0. This feature will be removed in v6.0.0. See https://github.com/optuna/optuna/releases/tag/v3.0.0. Use suggest_float instead.\n",
            "  'subsample': trial.suggest_uniform('subsample', 0.5, 1.0),\n",
            "<ipython-input-26-bd63721c1a00>:9: FutureWarning: suggest_uniform has been deprecated in v3.0.0. This feature will be removed in v6.0.0. See https://github.com/optuna/optuna/releases/tag/v3.0.0. Use suggest_float instead.\n",
            "  'colsample_bytree': trial.suggest_uniform('colsample_bytree', 0.1, 1.0),\n",
            "/usr/local/lib/python3.10/dist-packages/xgboost/sklearn.py:835: UserWarning: `early_stopping_rounds` in `fit` method is deprecated for better compatibility with scikit-learn, use `early_stopping_rounds` in constructor or`set_params` instead.\n",
            "  warnings.warn(\n",
            "[I 2023-06-22 12:16:17,552] Trial 54 finished with value: 28.311474297718448 and parameters: {'n_estimators': 169, 'learning_rate': 0.012902600890188281, 'max_depth': 7, 'min_child_weight': 1, 'subsample': 0.9558488701676012, 'colsample_bytree': 0.5294972623543693}. Best is trial 53 with value: 28.077121496161045.\n",
            " 55%|█████▌    | 55/100 [00:45<00:28,  1.58it/s]<ipython-input-26-bd63721c1a00>:5: FutureWarning: suggest_loguniform has been deprecated in v3.0.0. This feature will be removed in v6.0.0. See https://github.com/optuna/optuna/releases/tag/v3.0.0. Use suggest_float(..., log=True) instead.\n",
            "  'learning_rate': trial.suggest_loguniform('learning_rate', 0.01, 0.1),\n",
            "<ipython-input-26-bd63721c1a00>:8: FutureWarning: suggest_uniform has been deprecated in v3.0.0. This feature will be removed in v6.0.0. See https://github.com/optuna/optuna/releases/tag/v3.0.0. Use suggest_float instead.\n",
            "  'subsample': trial.suggest_uniform('subsample', 0.5, 1.0),\n",
            "<ipython-input-26-bd63721c1a00>:9: FutureWarning: suggest_uniform has been deprecated in v3.0.0. This feature will be removed in v6.0.0. See https://github.com/optuna/optuna/releases/tag/v3.0.0. Use suggest_float instead.\n",
            "  'colsample_bytree': trial.suggest_uniform('colsample_bytree', 0.1, 1.0),\n",
            "/usr/local/lib/python3.10/dist-packages/xgboost/sklearn.py:835: UserWarning: `early_stopping_rounds` in `fit` method is deprecated for better compatibility with scikit-learn, use `early_stopping_rounds` in constructor or`set_params` instead.\n",
            "  warnings.warn(\n",
            "[I 2023-06-22 12:16:18,356] Trial 55 finished with value: 28.86161667535318 and parameters: {'n_estimators': 223, 'learning_rate': 0.01419080913418492, 'max_depth': 8, 'min_child_weight': 3, 'subsample': 0.9258036189768057, 'colsample_bytree': 0.5146955591911333}. Best is trial 53 with value: 28.077121496161045.\n",
            " 56%|█████▌    | 56/100 [00:46<00:30,  1.46it/s]<ipython-input-26-bd63721c1a00>:5: FutureWarning: suggest_loguniform has been deprecated in v3.0.0. This feature will be removed in v6.0.0. See https://github.com/optuna/optuna/releases/tag/v3.0.0. Use suggest_float(..., log=True) instead.\n",
            "  'learning_rate': trial.suggest_loguniform('learning_rate', 0.01, 0.1),\n",
            "<ipython-input-26-bd63721c1a00>:8: FutureWarning: suggest_uniform has been deprecated in v3.0.0. This feature will be removed in v6.0.0. See https://github.com/optuna/optuna/releases/tag/v3.0.0. Use suggest_float instead.\n",
            "  'subsample': trial.suggest_uniform('subsample', 0.5, 1.0),\n",
            "<ipython-input-26-bd63721c1a00>:9: FutureWarning: suggest_uniform has been deprecated in v3.0.0. This feature will be removed in v6.0.0. See https://github.com/optuna/optuna/releases/tag/v3.0.0. Use suggest_float instead.\n",
            "  'colsample_bytree': trial.suggest_uniform('colsample_bytree', 0.1, 1.0),\n",
            "/usr/local/lib/python3.10/dist-packages/xgboost/sklearn.py:835: UserWarning: `early_stopping_rounds` in `fit` method is deprecated for better compatibility with scikit-learn, use `early_stopping_rounds` in constructor or`set_params` instead.\n",
            "  warnings.warn(\n",
            "[I 2023-06-22 12:16:18,820] Trial 56 finished with value: 28.440507548975024 and parameters: {'n_estimators': 136, 'learning_rate': 0.01728044733736108, 'max_depth': 7, 'min_child_weight': 2, 'subsample': 0.9750107645950721, 'colsample_bytree': 0.44633837715165015}. Best is trial 53 with value: 28.077121496161045.\n",
            " 57%|█████▋    | 57/100 [00:46<00:26,  1.62it/s]<ipython-input-26-bd63721c1a00>:5: FutureWarning: suggest_loguniform has been deprecated in v3.0.0. This feature will be removed in v6.0.0. See https://github.com/optuna/optuna/releases/tag/v3.0.0. Use suggest_float(..., log=True) instead.\n",
            "  'learning_rate': trial.suggest_loguniform('learning_rate', 0.01, 0.1),\n",
            "<ipython-input-26-bd63721c1a00>:8: FutureWarning: suggest_uniform has been deprecated in v3.0.0. This feature will be removed in v6.0.0. See https://github.com/optuna/optuna/releases/tag/v3.0.0. Use suggest_float instead.\n",
            "  'subsample': trial.suggest_uniform('subsample', 0.5, 1.0),\n",
            "<ipython-input-26-bd63721c1a00>:9: FutureWarning: suggest_uniform has been deprecated in v3.0.0. This feature will be removed in v6.0.0. See https://github.com/optuna/optuna/releases/tag/v3.0.0. Use suggest_float instead.\n",
            "  'colsample_bytree': trial.suggest_uniform('colsample_bytree', 0.1, 1.0),\n",
            "/usr/local/lib/python3.10/dist-packages/xgboost/sklearn.py:835: UserWarning: `early_stopping_rounds` in `fit` method is deprecated for better compatibility with scikit-learn, use `early_stopping_rounds` in constructor or`set_params` instead.\n",
            "  warnings.warn(\n",
            "[I 2023-06-22 12:16:19,707] Trial 57 finished with value: 29.050951947955134 and parameters: {'n_estimators': 275, 'learning_rate': 0.016141879646018733, 'max_depth': 8, 'min_child_weight': 1, 'subsample': 0.9483742098570425, 'colsample_bytree': 0.48634173108711787}. Best is trial 53 with value: 28.077121496161045.\n",
            " 58%|█████▊    | 58/100 [00:47<00:29,  1.43it/s]<ipython-input-26-bd63721c1a00>:5: FutureWarning: suggest_loguniform has been deprecated in v3.0.0. This feature will be removed in v6.0.0. See https://github.com/optuna/optuna/releases/tag/v3.0.0. Use suggest_float(..., log=True) instead.\n",
            "  'learning_rate': trial.suggest_loguniform('learning_rate', 0.01, 0.1),\n",
            "<ipython-input-26-bd63721c1a00>:8: FutureWarning: suggest_uniform has been deprecated in v3.0.0. This feature will be removed in v6.0.0. See https://github.com/optuna/optuna/releases/tag/v3.0.0. Use suggest_float instead.\n",
            "  'subsample': trial.suggest_uniform('subsample', 0.5, 1.0),\n",
            "<ipython-input-26-bd63721c1a00>:9: FutureWarning: suggest_uniform has been deprecated in v3.0.0. This feature will be removed in v6.0.0. See https://github.com/optuna/optuna/releases/tag/v3.0.0. Use suggest_float instead.\n",
            "  'colsample_bytree': trial.suggest_uniform('colsample_bytree', 0.1, 1.0),\n",
            "/usr/local/lib/python3.10/dist-packages/xgboost/sklearn.py:835: UserWarning: `early_stopping_rounds` in `fit` method is deprecated for better compatibility with scikit-learn, use `early_stopping_rounds` in constructor or`set_params` instead.\n",
            "  warnings.warn(\n",
            "[I 2023-06-22 12:16:20,262] Trial 58 finished with value: 28.639530856201002 and parameters: {'n_estimators': 191, 'learning_rate': 0.014352815934625921, 'max_depth': 6, 'min_child_weight': 2, 'subsample': 0.903665368852925, 'colsample_bytree': 0.5270777992761038}. Best is trial 53 with value: 28.077121496161045.\n",
            " 59%|█████▉    | 59/100 [00:48<00:26,  1.52it/s]<ipython-input-26-bd63721c1a00>:5: FutureWarning: suggest_loguniform has been deprecated in v3.0.0. This feature will be removed in v6.0.0. See https://github.com/optuna/optuna/releases/tag/v3.0.0. Use suggest_float(..., log=True) instead.\n",
            "  'learning_rate': trial.suggest_loguniform('learning_rate', 0.01, 0.1),\n",
            "<ipython-input-26-bd63721c1a00>:8: FutureWarning: suggest_uniform has been deprecated in v3.0.0. This feature will be removed in v6.0.0. See https://github.com/optuna/optuna/releases/tag/v3.0.0. Use suggest_float instead.\n",
            "  'subsample': trial.suggest_uniform('subsample', 0.5, 1.0),\n",
            "<ipython-input-26-bd63721c1a00>:9: FutureWarning: suggest_uniform has been deprecated in v3.0.0. This feature will be removed in v6.0.0. See https://github.com/optuna/optuna/releases/tag/v3.0.0. Use suggest_float instead.\n",
            "  'colsample_bytree': trial.suggest_uniform('colsample_bytree', 0.1, 1.0),\n",
            "/usr/local/lib/python3.10/dist-packages/xgboost/sklearn.py:835: UserWarning: `early_stopping_rounds` in `fit` method is deprecated for better compatibility with scikit-learn, use `early_stopping_rounds` in constructor or`set_params` instead.\n",
            "  warnings.warn(\n",
            "[I 2023-06-22 12:16:21,374] Trial 59 finished with value: 28.995422523785688 and parameters: {'n_estimators': 361, 'learning_rate': 0.011208271518819476, 'max_depth': 8, 'min_child_weight': 4, 'subsample': 0.9985270383717944, 'colsample_bytree': 0.439294151162382}. Best is trial 53 with value: 28.077121496161045.\n",
            " 60%|██████    | 60/100 [00:49<00:31,  1.26it/s]<ipython-input-26-bd63721c1a00>:5: FutureWarning: suggest_loguniform has been deprecated in v3.0.0. This feature will be removed in v6.0.0. See https://github.com/optuna/optuna/releases/tag/v3.0.0. Use suggest_float(..., log=True) instead.\n",
            "  'learning_rate': trial.suggest_loguniform('learning_rate', 0.01, 0.1),\n",
            "<ipython-input-26-bd63721c1a00>:8: FutureWarning: suggest_uniform has been deprecated in v3.0.0. This feature will be removed in v6.0.0. See https://github.com/optuna/optuna/releases/tag/v3.0.0. Use suggest_float instead.\n",
            "  'subsample': trial.suggest_uniform('subsample', 0.5, 1.0),\n",
            "<ipython-input-26-bd63721c1a00>:9: FutureWarning: suggest_uniform has been deprecated in v3.0.0. This feature will be removed in v6.0.0. See https://github.com/optuna/optuna/releases/tag/v3.0.0. Use suggest_float instead.\n",
            "  'colsample_bytree': trial.suggest_uniform('colsample_bytree', 0.1, 1.0),\n",
            "/usr/local/lib/python3.10/dist-packages/xgboost/sklearn.py:835: UserWarning: `early_stopping_rounds` in `fit` method is deprecated for better compatibility with scikit-learn, use `early_stopping_rounds` in constructor or`set_params` instead.\n",
            "  warnings.warn(\n",
            "[I 2023-06-22 12:16:22,267] Trial 60 finished with value: 28.987545436087238 and parameters: {'n_estimators': 290, 'learning_rate': 0.012681745139897498, 'max_depth': 7, 'min_child_weight': 1, 'subsample': 0.9651364069438435, 'colsample_bytree': 0.5621391077161235}. Best is trial 53 with value: 28.077121496161045.\n",
            " 61%|██████    | 61/100 [00:50<00:32,  1.21it/s]<ipython-input-26-bd63721c1a00>:5: FutureWarning: suggest_loguniform has been deprecated in v3.0.0. This feature will be removed in v6.0.0. See https://github.com/optuna/optuna/releases/tag/v3.0.0. Use suggest_float(..., log=True) instead.\n",
            "  'learning_rate': trial.suggest_loguniform('learning_rate', 0.01, 0.1),\n",
            "<ipython-input-26-bd63721c1a00>:8: FutureWarning: suggest_uniform has been deprecated in v3.0.0. This feature will be removed in v6.0.0. See https://github.com/optuna/optuna/releases/tag/v3.0.0. Use suggest_float instead.\n",
            "  'subsample': trial.suggest_uniform('subsample', 0.5, 1.0),\n",
            "<ipython-input-26-bd63721c1a00>:9: FutureWarning: suggest_uniform has been deprecated in v3.0.0. This feature will be removed in v6.0.0. See https://github.com/optuna/optuna/releases/tag/v3.0.0. Use suggest_float instead.\n",
            "  'colsample_bytree': trial.suggest_uniform('colsample_bytree', 0.1, 1.0),\n",
            "/usr/local/lib/python3.10/dist-packages/xgboost/sklearn.py:835: UserWarning: `early_stopping_rounds` in `fit` method is deprecated for better compatibility with scikit-learn, use `early_stopping_rounds` in constructor or`set_params` instead.\n",
            "  warnings.warn(\n",
            "[I 2023-06-22 12:16:22,884] Trial 61 finished with value: 28.45869718599056 and parameters: {'n_estimators': 124, 'learning_rate': 0.019273703783639018, 'max_depth': 9, 'min_child_weight': 2, 'subsample': 0.9809062263634714, 'colsample_bytree': 0.5841342774989631}. Best is trial 53 with value: 28.077121496161045.\n",
            " 62%|██████▏   | 62/100 [00:50<00:28,  1.31it/s]<ipython-input-26-bd63721c1a00>:5: FutureWarning: suggest_loguniform has been deprecated in v3.0.0. This feature will be removed in v6.0.0. See https://github.com/optuna/optuna/releases/tag/v3.0.0. Use suggest_float(..., log=True) instead.\n",
            "  'learning_rate': trial.suggest_loguniform('learning_rate', 0.01, 0.1),\n",
            "<ipython-input-26-bd63721c1a00>:8: FutureWarning: suggest_uniform has been deprecated in v3.0.0. This feature will be removed in v6.0.0. See https://github.com/optuna/optuna/releases/tag/v3.0.0. Use suggest_float instead.\n",
            "  'subsample': trial.suggest_uniform('subsample', 0.5, 1.0),\n",
            "<ipython-input-26-bd63721c1a00>:9: FutureWarning: suggest_uniform has been deprecated in v3.0.0. This feature will be removed in v6.0.0. See https://github.com/optuna/optuna/releases/tag/v3.0.0. Use suggest_float instead.\n",
            "  'colsample_bytree': trial.suggest_uniform('colsample_bytree', 0.1, 1.0),\n",
            "/usr/local/lib/python3.10/dist-packages/xgboost/sklearn.py:835: UserWarning: `early_stopping_rounds` in `fit` method is deprecated for better compatibility with scikit-learn, use `early_stopping_rounds` in constructor or`set_params` instead.\n",
            "  warnings.warn(\n",
            "[I 2023-06-22 12:16:23,397] Trial 62 finished with value: 28.168027403604917 and parameters: {'n_estimators': 100, 'learning_rate': 0.018885638677893873, 'max_depth': 9, 'min_child_weight': 2, 'subsample': 0.9857479204566241, 'colsample_bytree': 0.6435320332954688}. Best is trial 53 with value: 28.077121496161045.\n",
            " 63%|██████▎   | 63/100 [00:51<00:25,  1.46it/s]<ipython-input-26-bd63721c1a00>:5: FutureWarning: suggest_loguniform has been deprecated in v3.0.0. This feature will be removed in v6.0.0. See https://github.com/optuna/optuna/releases/tag/v3.0.0. Use suggest_float(..., log=True) instead.\n",
            "  'learning_rate': trial.suggest_loguniform('learning_rate', 0.01, 0.1),\n",
            "<ipython-input-26-bd63721c1a00>:8: FutureWarning: suggest_uniform has been deprecated in v3.0.0. This feature will be removed in v6.0.0. See https://github.com/optuna/optuna/releases/tag/v3.0.0. Use suggest_float instead.\n",
            "  'subsample': trial.suggest_uniform('subsample', 0.5, 1.0),\n",
            "<ipython-input-26-bd63721c1a00>:9: FutureWarning: suggest_uniform has been deprecated in v3.0.0. This feature will be removed in v6.0.0. See https://github.com/optuna/optuna/releases/tag/v3.0.0. Use suggest_float instead.\n",
            "  'colsample_bytree': trial.suggest_uniform('colsample_bytree', 0.1, 1.0),\n",
            "/usr/local/lib/python3.10/dist-packages/xgboost/sklearn.py:835: UserWarning: `early_stopping_rounds` in `fit` method is deprecated for better compatibility with scikit-learn, use `early_stopping_rounds` in constructor or`set_params` instead.\n",
            "  warnings.warn(\n",
            "[I 2023-06-22 12:16:24,145] Trial 63 finished with value: 28.53329738740763 and parameters: {'n_estimators': 161, 'learning_rate': 0.01589745805311042, 'max_depth': 9, 'min_child_weight': 3, 'subsample': 0.9324846260176104, 'colsample_bytree': 0.6847370480890871}. Best is trial 53 with value: 28.077121496161045.\n",
            " 64%|██████▍   | 64/100 [00:52<00:25,  1.42it/s]<ipython-input-26-bd63721c1a00>:5: FutureWarning: suggest_loguniform has been deprecated in v3.0.0. This feature will be removed in v6.0.0. See https://github.com/optuna/optuna/releases/tag/v3.0.0. Use suggest_float(..., log=True) instead.\n",
            "  'learning_rate': trial.suggest_loguniform('learning_rate', 0.01, 0.1),\n",
            "<ipython-input-26-bd63721c1a00>:8: FutureWarning: suggest_uniform has been deprecated in v3.0.0. This feature will be removed in v6.0.0. See https://github.com/optuna/optuna/releases/tag/v3.0.0. Use suggest_float instead.\n",
            "  'subsample': trial.suggest_uniform('subsample', 0.5, 1.0),\n",
            "<ipython-input-26-bd63721c1a00>:9: FutureWarning: suggest_uniform has been deprecated in v3.0.0. This feature will be removed in v6.0.0. See https://github.com/optuna/optuna/releases/tag/v3.0.0. Use suggest_float instead.\n",
            "  'colsample_bytree': trial.suggest_uniform('colsample_bytree', 0.1, 1.0),\n",
            "/usr/local/lib/python3.10/dist-packages/xgboost/sklearn.py:835: UserWarning: `early_stopping_rounds` in `fit` method is deprecated for better compatibility with scikit-learn, use `early_stopping_rounds` in constructor or`set_params` instead.\n",
            "  warnings.warn(\n",
            "[I 2023-06-22 12:16:24,845] Trial 64 finished with value: 28.712529281977133 and parameters: {'n_estimators': 168, 'learning_rate': 0.01715340534556299, 'max_depth': 8, 'min_child_weight': 1, 'subsample': 0.9541368841391645, 'colsample_bytree': 0.6384233038340507}. Best is trial 53 with value: 28.077121496161045.\n",
            " 65%|██████▌   | 65/100 [00:52<00:24,  1.42it/s]<ipython-input-26-bd63721c1a00>:5: FutureWarning: suggest_loguniform has been deprecated in v3.0.0. This feature will be removed in v6.0.0. See https://github.com/optuna/optuna/releases/tag/v3.0.0. Use suggest_float(..., log=True) instead.\n",
            "  'learning_rate': trial.suggest_loguniform('learning_rate', 0.01, 0.1),\n",
            "<ipython-input-26-bd63721c1a00>:8: FutureWarning: suggest_uniform has been deprecated in v3.0.0. This feature will be removed in v6.0.0. See https://github.com/optuna/optuna/releases/tag/v3.0.0. Use suggest_float instead.\n",
            "  'subsample': trial.suggest_uniform('subsample', 0.5, 1.0),\n",
            "<ipython-input-26-bd63721c1a00>:9: FutureWarning: suggest_uniform has been deprecated in v3.0.0. This feature will be removed in v6.0.0. See https://github.com/optuna/optuna/releases/tag/v3.0.0. Use suggest_float instead.\n",
            "  'colsample_bytree': trial.suggest_uniform('colsample_bytree', 0.1, 1.0),\n",
            "/usr/local/lib/python3.10/dist-packages/xgboost/sklearn.py:835: UserWarning: `early_stopping_rounds` in `fit` method is deprecated for better compatibility with scikit-learn, use `early_stopping_rounds` in constructor or`set_params` instead.\n",
            "  warnings.warn(\n",
            "[I 2023-06-22 12:16:26,209] Trial 65 finished with value: 28.994875939076774 and parameters: {'n_estimators': 478, 'learning_rate': 0.013612144882515451, 'max_depth': 8, 'min_child_weight': 2, 'subsample': 0.9851075247771296, 'colsample_bytree': 0.5193027908388314}. Best is trial 53 with value: 28.077121496161045.\n",
            " 66%|██████▌   | 66/100 [00:54<00:30,  1.11it/s]<ipython-input-26-bd63721c1a00>:5: FutureWarning: suggest_loguniform has been deprecated in v3.0.0. This feature will be removed in v6.0.0. See https://github.com/optuna/optuna/releases/tag/v3.0.0. Use suggest_float(..., log=True) instead.\n",
            "  'learning_rate': trial.suggest_loguniform('learning_rate', 0.01, 0.1),\n",
            "<ipython-input-26-bd63721c1a00>:8: FutureWarning: suggest_uniform has been deprecated in v3.0.0. This feature will be removed in v6.0.0. See https://github.com/optuna/optuna/releases/tag/v3.0.0. Use suggest_float instead.\n",
            "  'subsample': trial.suggest_uniform('subsample', 0.5, 1.0),\n",
            "<ipython-input-26-bd63721c1a00>:9: FutureWarning: suggest_uniform has been deprecated in v3.0.0. This feature will be removed in v6.0.0. See https://github.com/optuna/optuna/releases/tag/v3.0.0. Use suggest_float instead.\n",
            "  'colsample_bytree': trial.suggest_uniform('colsample_bytree', 0.1, 1.0),\n",
            "/usr/local/lib/python3.10/dist-packages/xgboost/sklearn.py:835: UserWarning: `early_stopping_rounds` in `fit` method is deprecated for better compatibility with scikit-learn, use `early_stopping_rounds` in constructor or`set_params` instead.\n",
            "  warnings.warn(\n",
            "[I 2023-06-22 12:16:26,844] Trial 66 finished with value: 28.250684559674553 and parameters: {'n_estimators': 104, 'learning_rate': 0.019752546481525204, 'max_depth': 9, 'min_child_weight': 3, 'subsample': 0.9299824289196509, 'colsample_bytree': 0.4939793880489761}. Best is trial 53 with value: 28.077121496161045.\n",
            " 67%|██████▋   | 67/100 [00:54<00:27,  1.22it/s]<ipython-input-26-bd63721c1a00>:5: FutureWarning: suggest_loguniform has been deprecated in v3.0.0. This feature will be removed in v6.0.0. See https://github.com/optuna/optuna/releases/tag/v3.0.0. Use suggest_float(..., log=True) instead.\n",
            "  'learning_rate': trial.suggest_loguniform('learning_rate', 0.01, 0.1),\n",
            "<ipython-input-26-bd63721c1a00>:8: FutureWarning: suggest_uniform has been deprecated in v3.0.0. This feature will be removed in v6.0.0. See https://github.com/optuna/optuna/releases/tag/v3.0.0. Use suggest_float instead.\n",
            "  'subsample': trial.suggest_uniform('subsample', 0.5, 1.0),\n",
            "<ipython-input-26-bd63721c1a00>:9: FutureWarning: suggest_uniform has been deprecated in v3.0.0. This feature will be removed in v6.0.0. See https://github.com/optuna/optuna/releases/tag/v3.0.0. Use suggest_float instead.\n",
            "  'colsample_bytree': trial.suggest_uniform('colsample_bytree', 0.1, 1.0),\n",
            "/usr/local/lib/python3.10/dist-packages/xgboost/sklearn.py:835: UserWarning: `early_stopping_rounds` in `fit` method is deprecated for better compatibility with scikit-learn, use `early_stopping_rounds` in constructor or`set_params` instead.\n",
            "  warnings.warn(\n",
            "[I 2023-06-22 12:16:27,942] Trial 67 finished with value: 28.988235501571253 and parameters: {'n_estimators': 200, 'learning_rate': 0.022913220132818525, 'max_depth': 9, 'min_child_weight': 1, 'subsample': 0.9628170079951845, 'colsample_bytree': 0.5443123875699273}. Best is trial 53 with value: 28.077121496161045.\n",
            " 68%|██████▊   | 68/100 [00:55<00:28,  1.11it/s]<ipython-input-26-bd63721c1a00>:5: FutureWarning: suggest_loguniform has been deprecated in v3.0.0. This feature will be removed in v6.0.0. See https://github.com/optuna/optuna/releases/tag/v3.0.0. Use suggest_float(..., log=True) instead.\n",
            "  'learning_rate': trial.suggest_loguniform('learning_rate', 0.01, 0.1),\n",
            "<ipython-input-26-bd63721c1a00>:8: FutureWarning: suggest_uniform has been deprecated in v3.0.0. This feature will be removed in v6.0.0. See https://github.com/optuna/optuna/releases/tag/v3.0.0. Use suggest_float instead.\n",
            "  'subsample': trial.suggest_uniform('subsample', 0.5, 1.0),\n",
            "<ipython-input-26-bd63721c1a00>:9: FutureWarning: suggest_uniform has been deprecated in v3.0.0. This feature will be removed in v6.0.0. See https://github.com/optuna/optuna/releases/tag/v3.0.0. Use suggest_float instead.\n",
            "  'colsample_bytree': trial.suggest_uniform('colsample_bytree', 0.1, 1.0),\n",
            "/usr/local/lib/python3.10/dist-packages/xgboost/sklearn.py:835: UserWarning: `early_stopping_rounds` in `fit` method is deprecated for better compatibility with scikit-learn, use `early_stopping_rounds` in constructor or`set_params` instead.\n",
            "  warnings.warn(\n",
            "[I 2023-06-22 12:16:28,697] Trial 68 finished with value: 28.18326893740596 and parameters: {'n_estimators': 130, 'learning_rate': 0.01479347727272118, 'max_depth': 8, 'min_child_weight': 3, 'subsample': 0.949201991481353, 'colsample_bytree': 0.470484180668145}. Best is trial 53 with value: 28.077121496161045.\n",
            " 69%|██████▉   | 69/100 [00:56<00:26,  1.16it/s]<ipython-input-26-bd63721c1a00>:5: FutureWarning: suggest_loguniform has been deprecated in v3.0.0. This feature will be removed in v6.0.0. See https://github.com/optuna/optuna/releases/tag/v3.0.0. Use suggest_float(..., log=True) instead.\n",
            "  'learning_rate': trial.suggest_loguniform('learning_rate', 0.01, 0.1),\n",
            "<ipython-input-26-bd63721c1a00>:8: FutureWarning: suggest_uniform has been deprecated in v3.0.0. This feature will be removed in v6.0.0. See https://github.com/optuna/optuna/releases/tag/v3.0.0. Use suggest_float instead.\n",
            "  'subsample': trial.suggest_uniform('subsample', 0.5, 1.0),\n",
            "<ipython-input-26-bd63721c1a00>:9: FutureWarning: suggest_uniform has been deprecated in v3.0.0. This feature will be removed in v6.0.0. See https://github.com/optuna/optuna/releases/tag/v3.0.0. Use suggest_float instead.\n",
            "  'colsample_bytree': trial.suggest_uniform('colsample_bytree', 0.1, 1.0),\n",
            "/usr/local/lib/python3.10/dist-packages/xgboost/sklearn.py:835: UserWarning: `early_stopping_rounds` in `fit` method is deprecated for better compatibility with scikit-learn, use `early_stopping_rounds` in constructor or`set_params` instead.\n",
            "  warnings.warn(\n",
            "[I 2023-06-22 12:16:29,586] Trial 69 finished with value: 28.95355835456216 and parameters: {'n_estimators': 179, 'learning_rate': 0.020837712175384368, 'max_depth': 10, 'min_child_weight': 4, 'subsample': 0.9848836418440824, 'colsample_bytree': 0.657380713926974}. Best is trial 53 with value: 28.077121496161045.\n",
            " 70%|███████   | 70/100 [00:57<00:26,  1.15it/s]<ipython-input-26-bd63721c1a00>:5: FutureWarning: suggest_loguniform has been deprecated in v3.0.0. This feature will be removed in v6.0.0. See https://github.com/optuna/optuna/releases/tag/v3.0.0. Use suggest_float(..., log=True) instead.\n",
            "  'learning_rate': trial.suggest_loguniform('learning_rate', 0.01, 0.1),\n",
            "<ipython-input-26-bd63721c1a00>:8: FutureWarning: suggest_uniform has been deprecated in v3.0.0. This feature will be removed in v6.0.0. See https://github.com/optuna/optuna/releases/tag/v3.0.0. Use suggest_float instead.\n",
            "  'subsample': trial.suggest_uniform('subsample', 0.5, 1.0),\n",
            "<ipython-input-26-bd63721c1a00>:9: FutureWarning: suggest_uniform has been deprecated in v3.0.0. This feature will be removed in v6.0.0. See https://github.com/optuna/optuna/releases/tag/v3.0.0. Use suggest_float instead.\n",
            "  'colsample_bytree': trial.suggest_uniform('colsample_bytree', 0.1, 1.0),\n",
            "/usr/local/lib/python3.10/dist-packages/xgboost/sklearn.py:835: UserWarning: `early_stopping_rounds` in `fit` method is deprecated for better compatibility with scikit-learn, use `early_stopping_rounds` in constructor or`set_params` instead.\n",
            "  warnings.warn(\n",
            "[I 2023-06-22 12:16:30,175] Trial 70 finished with value: 28.63294986004329 and parameters: {'n_estimators': 147, 'learning_rate': 0.01809894526454126, 'max_depth': 8, 'min_child_weight': 2, 'subsample': 0.9153485475689571, 'colsample_bytree': 0.5772154465164819}. Best is trial 53 with value: 28.077121496161045.\n",
            " 71%|███████   | 71/100 [00:58<00:22,  1.27it/s]<ipython-input-26-bd63721c1a00>:5: FutureWarning: suggest_loguniform has been deprecated in v3.0.0. This feature will be removed in v6.0.0. See https://github.com/optuna/optuna/releases/tag/v3.0.0. Use suggest_float(..., log=True) instead.\n",
            "  'learning_rate': trial.suggest_loguniform('learning_rate', 0.01, 0.1),\n",
            "<ipython-input-26-bd63721c1a00>:8: FutureWarning: suggest_uniform has been deprecated in v3.0.0. This feature will be removed in v6.0.0. See https://github.com/optuna/optuna/releases/tag/v3.0.0. Use suggest_float instead.\n",
            "  'subsample': trial.suggest_uniform('subsample', 0.5, 1.0),\n",
            "<ipython-input-26-bd63721c1a00>:9: FutureWarning: suggest_uniform has been deprecated in v3.0.0. This feature will be removed in v6.0.0. See https://github.com/optuna/optuna/releases/tag/v3.0.0. Use suggest_float instead.\n",
            "  'colsample_bytree': trial.suggest_uniform('colsample_bytree', 0.1, 1.0),\n",
            "/usr/local/lib/python3.10/dist-packages/xgboost/sklearn.py:835: UserWarning: `early_stopping_rounds` in `fit` method is deprecated for better compatibility with scikit-learn, use `early_stopping_rounds` in constructor or`set_params` instead.\n",
            "  warnings.warn(\n",
            "[I 2023-06-22 12:16:30,677] Trial 71 finished with value: 28.20670526158085 and parameters: {'n_estimators': 127, 'learning_rate': 0.015447742876551266, 'max_depth': 8, 'min_child_weight': 3, 'subsample': 0.9478164538207401, 'colsample_bytree': 0.46292945965593735}. Best is trial 53 with value: 28.077121496161045.\n",
            " 72%|███████▏  | 72/100 [00:58<00:19,  1.43it/s]<ipython-input-26-bd63721c1a00>:5: FutureWarning: suggest_loguniform has been deprecated in v3.0.0. This feature will be removed in v6.0.0. See https://github.com/optuna/optuna/releases/tag/v3.0.0. Use suggest_float(..., log=True) instead.\n",
            "  'learning_rate': trial.suggest_loguniform('learning_rate', 0.01, 0.1),\n",
            "<ipython-input-26-bd63721c1a00>:8: FutureWarning: suggest_uniform has been deprecated in v3.0.0. This feature will be removed in v6.0.0. See https://github.com/optuna/optuna/releases/tag/v3.0.0. Use suggest_float instead.\n",
            "  'subsample': trial.suggest_uniform('subsample', 0.5, 1.0),\n",
            "<ipython-input-26-bd63721c1a00>:9: FutureWarning: suggest_uniform has been deprecated in v3.0.0. This feature will be removed in v6.0.0. See https://github.com/optuna/optuna/releases/tag/v3.0.0. Use suggest_float instead.\n",
            "  'colsample_bytree': trial.suggest_uniform('colsample_bytree', 0.1, 1.0),\n",
            "/usr/local/lib/python3.10/dist-packages/xgboost/sklearn.py:835: UserWarning: `early_stopping_rounds` in `fit` method is deprecated for better compatibility with scikit-learn, use `early_stopping_rounds` in constructor or`set_params` instead.\n",
            "  warnings.warn(\n",
            "[I 2023-06-22 12:16:31,099] Trial 72 finished with value: 28.055001225352946 and parameters: {'n_estimators': 101, 'learning_rate': 0.0148832477370708, 'max_depth': 8, 'min_child_weight': 3, 'subsample': 0.9695159759409995, 'colsample_bytree': 0.4775193450330456}. Best is trial 72 with value: 28.055001225352946.\n",
            " 73%|███████▎  | 73/100 [00:58<00:16,  1.62it/s]<ipython-input-26-bd63721c1a00>:5: FutureWarning: suggest_loguniform has been deprecated in v3.0.0. This feature will be removed in v6.0.0. See https://github.com/optuna/optuna/releases/tag/v3.0.0. Use suggest_float(..., log=True) instead.\n",
            "  'learning_rate': trial.suggest_loguniform('learning_rate', 0.01, 0.1),\n",
            "<ipython-input-26-bd63721c1a00>:8: FutureWarning: suggest_uniform has been deprecated in v3.0.0. This feature will be removed in v6.0.0. See https://github.com/optuna/optuna/releases/tag/v3.0.0. Use suggest_float instead.\n",
            "  'subsample': trial.suggest_uniform('subsample', 0.5, 1.0),\n",
            "<ipython-input-26-bd63721c1a00>:9: FutureWarning: suggest_uniform has been deprecated in v3.0.0. This feature will be removed in v6.0.0. See https://github.com/optuna/optuna/releases/tag/v3.0.0. Use suggest_float instead.\n",
            "  'colsample_bytree': trial.suggest_uniform('colsample_bytree', 0.1, 1.0),\n",
            "/usr/local/lib/python3.10/dist-packages/xgboost/sklearn.py:835: UserWarning: `early_stopping_rounds` in `fit` method is deprecated for better compatibility with scikit-learn, use `early_stopping_rounds` in constructor or`set_params` instead.\n",
            "  warnings.warn(\n",
            "[I 2023-06-22 12:16:31,476] Trial 73 finished with value: 28.05405479203272 and parameters: {'n_estimators': 101, 'learning_rate': 0.016346486175698755, 'max_depth': 7, 'min_child_weight': 4, 'subsample': 0.9694401599214145, 'colsample_bytree': 0.5323120520885639}. Best is trial 73 with value: 28.05405479203272.\n",
            " 74%|███████▍  | 74/100 [00:59<00:14,  1.83it/s]<ipython-input-26-bd63721c1a00>:5: FutureWarning: suggest_loguniform has been deprecated in v3.0.0. This feature will be removed in v6.0.0. See https://github.com/optuna/optuna/releases/tag/v3.0.0. Use suggest_float(..., log=True) instead.\n",
            "  'learning_rate': trial.suggest_loguniform('learning_rate', 0.01, 0.1),\n",
            "<ipython-input-26-bd63721c1a00>:8: FutureWarning: suggest_uniform has been deprecated in v3.0.0. This feature will be removed in v6.0.0. See https://github.com/optuna/optuna/releases/tag/v3.0.0. Use suggest_float instead.\n",
            "  'subsample': trial.suggest_uniform('subsample', 0.5, 1.0),\n",
            "<ipython-input-26-bd63721c1a00>:9: FutureWarning: suggest_uniform has been deprecated in v3.0.0. This feature will be removed in v6.0.0. See https://github.com/optuna/optuna/releases/tag/v3.0.0. Use suggest_float instead.\n",
            "  'colsample_bytree': trial.suggest_uniform('colsample_bytree', 0.1, 1.0),\n",
            "/usr/local/lib/python3.10/dist-packages/xgboost/sklearn.py:835: UserWarning: `early_stopping_rounds` in `fit` method is deprecated for better compatibility with scikit-learn, use `early_stopping_rounds` in constructor or`set_params` instead.\n",
            "  warnings.warn(\n",
            "[I 2023-06-22 12:16:32,009] Trial 74 finished with value: 28.63130344431703 and parameters: {'n_estimators': 163, 'learning_rate': 0.016337846055709978, 'max_depth': 7, 'min_child_weight': 4, 'subsample': 0.9669939987495496, 'colsample_bytree': 0.4920916989966679}. Best is trial 73 with value: 28.05405479203272.\n",
            " 75%|███████▌  | 75/100 [00:59<00:13,  1.85it/s]<ipython-input-26-bd63721c1a00>:5: FutureWarning: suggest_loguniform has been deprecated in v3.0.0. This feature will be removed in v6.0.0. See https://github.com/optuna/optuna/releases/tag/v3.0.0. Use suggest_float(..., log=True) instead.\n",
            "  'learning_rate': trial.suggest_loguniform('learning_rate', 0.01, 0.1),\n",
            "<ipython-input-26-bd63721c1a00>:8: FutureWarning: suggest_uniform has been deprecated in v3.0.0. This feature will be removed in v6.0.0. See https://github.com/optuna/optuna/releases/tag/v3.0.0. Use suggest_float instead.\n",
            "  'subsample': trial.suggest_uniform('subsample', 0.5, 1.0),\n",
            "<ipython-input-26-bd63721c1a00>:9: FutureWarning: suggest_uniform has been deprecated in v3.0.0. This feature will be removed in v6.0.0. See https://github.com/optuna/optuna/releases/tag/v3.0.0. Use suggest_float instead.\n",
            "  'colsample_bytree': trial.suggest_uniform('colsample_bytree', 0.1, 1.0),\n",
            "/usr/local/lib/python3.10/dist-packages/xgboost/sklearn.py:835: UserWarning: `early_stopping_rounds` in `fit` method is deprecated for better compatibility with scikit-learn, use `early_stopping_rounds` in constructor or`set_params` instead.\n",
            "  warnings.warn(\n",
            "[I 2023-06-22 12:16:32,737] Trial 75 finished with value: 28.851135066385428 and parameters: {'n_estimators': 239, 'learning_rate': 0.013568657484046386, 'max_depth': 7, 'min_child_weight': 5, 'subsample': 0.9313913748239784, 'colsample_bytree': 0.5271551662587387}. Best is trial 73 with value: 28.05405479203272.\n",
            " 76%|███████▌  | 76/100 [01:00<00:14,  1.67it/s]<ipython-input-26-bd63721c1a00>:5: FutureWarning: suggest_loguniform has been deprecated in v3.0.0. This feature will be removed in v6.0.0. See https://github.com/optuna/optuna/releases/tag/v3.0.0. Use suggest_float(..., log=True) instead.\n",
            "  'learning_rate': trial.suggest_loguniform('learning_rate', 0.01, 0.1),\n",
            "<ipython-input-26-bd63721c1a00>:8: FutureWarning: suggest_uniform has been deprecated in v3.0.0. This feature will be removed in v6.0.0. See https://github.com/optuna/optuna/releases/tag/v3.0.0. Use suggest_float instead.\n",
            "  'subsample': trial.suggest_uniform('subsample', 0.5, 1.0),\n",
            "<ipython-input-26-bd63721c1a00>:9: FutureWarning: suggest_uniform has been deprecated in v3.0.0. This feature will be removed in v6.0.0. See https://github.com/optuna/optuna/releases/tag/v3.0.0. Use suggest_float instead.\n",
            "  'colsample_bytree': trial.suggest_uniform('colsample_bytree', 0.1, 1.0),\n",
            "/usr/local/lib/python3.10/dist-packages/xgboost/sklearn.py:835: UserWarning: `early_stopping_rounds` in `fit` method is deprecated for better compatibility with scikit-learn, use `early_stopping_rounds` in constructor or`set_params` instead.\n",
            "  warnings.warn(\n",
            "[I 2023-06-22 12:16:33,384] Trial 76 finished with value: 28.524996648690976 and parameters: {'n_estimators': 210, 'learning_rate': 0.011837016282740677, 'max_depth': 7, 'min_child_weight': 3, 'subsample': 0.9681799713540864, 'colsample_bytree': 0.4237628569848173}. Best is trial 73 with value: 28.05405479203272.\n",
            " 77%|███████▋  | 77/100 [01:01<00:14,  1.63it/s]<ipython-input-26-bd63721c1a00>:5: FutureWarning: suggest_loguniform has been deprecated in v3.0.0. This feature will be removed in v6.0.0. See https://github.com/optuna/optuna/releases/tag/v3.0.0. Use suggest_float(..., log=True) instead.\n",
            "  'learning_rate': trial.suggest_loguniform('learning_rate', 0.01, 0.1),\n",
            "<ipython-input-26-bd63721c1a00>:8: FutureWarning: suggest_uniform has been deprecated in v3.0.0. This feature will be removed in v6.0.0. See https://github.com/optuna/optuna/releases/tag/v3.0.0. Use suggest_float instead.\n",
            "  'subsample': trial.suggest_uniform('subsample', 0.5, 1.0),\n",
            "<ipython-input-26-bd63721c1a00>:9: FutureWarning: suggest_uniform has been deprecated in v3.0.0. This feature will be removed in v6.0.0. See https://github.com/optuna/optuna/releases/tag/v3.0.0. Use suggest_float instead.\n",
            "  'colsample_bytree': trial.suggest_uniform('colsample_bytree', 0.1, 1.0),\n",
            "/usr/local/lib/python3.10/dist-packages/xgboost/sklearn.py:835: UserWarning: `early_stopping_rounds` in `fit` method is deprecated for better compatibility with scikit-learn, use `early_stopping_rounds` in constructor or`set_params` instead.\n",
            "  warnings.warn(\n",
            "[I 2023-06-22 12:16:33,881] Trial 77 finished with value: 28.114734684933612 and parameters: {'n_estimators': 125, 'learning_rate': 0.014614573819717123, 'max_depth': 8, 'min_child_weight': 4, 'subsample': 0.9846782551257409, 'colsample_bytree': 0.5466969983357419}. Best is trial 73 with value: 28.05405479203272.\n",
            " 78%|███████▊  | 78/100 [01:01<00:12,  1.74it/s]<ipython-input-26-bd63721c1a00>:5: FutureWarning: suggest_loguniform has been deprecated in v3.0.0. This feature will be removed in v6.0.0. See https://github.com/optuna/optuna/releases/tag/v3.0.0. Use suggest_float(..., log=True) instead.\n",
            "  'learning_rate': trial.suggest_loguniform('learning_rate', 0.01, 0.1),\n",
            "<ipython-input-26-bd63721c1a00>:8: FutureWarning: suggest_uniform has been deprecated in v3.0.0. This feature will be removed in v6.0.0. See https://github.com/optuna/optuna/releases/tag/v3.0.0. Use suggest_float instead.\n",
            "  'subsample': trial.suggest_uniform('subsample', 0.5, 1.0),\n",
            "<ipython-input-26-bd63721c1a00>:9: FutureWarning: suggest_uniform has been deprecated in v3.0.0. This feature will be removed in v6.0.0. See https://github.com/optuna/optuna/releases/tag/v3.0.0. Use suggest_float instead.\n",
            "  'colsample_bytree': trial.suggest_uniform('colsample_bytree', 0.1, 1.0),\n",
            "/usr/local/lib/python3.10/dist-packages/xgboost/sklearn.py:835: UserWarning: `early_stopping_rounds` in `fit` method is deprecated for better compatibility with scikit-learn, use `early_stopping_rounds` in constructor or`set_params` instead.\n",
            "  warnings.warn(\n",
            "[I 2023-06-22 12:16:34,286] Trial 78 finished with value: 28.061876311447083 and parameters: {'n_estimators': 132, 'learning_rate': 0.010788147564268751, 'max_depth': 6, 'min_child_weight': 4, 'subsample': 0.9992436751853249, 'colsample_bytree': 0.545067387954367}. Best is trial 73 with value: 28.05405479203272.\n",
            " 79%|███████▉  | 79/100 [01:02<00:11,  1.90it/s]<ipython-input-26-bd63721c1a00>:5: FutureWarning: suggest_loguniform has been deprecated in v3.0.0. This feature will be removed in v6.0.0. See https://github.com/optuna/optuna/releases/tag/v3.0.0. Use suggest_float(..., log=True) instead.\n",
            "  'learning_rate': trial.suggest_loguniform('learning_rate', 0.01, 0.1),\n",
            "<ipython-input-26-bd63721c1a00>:8: FutureWarning: suggest_uniform has been deprecated in v3.0.0. This feature will be removed in v6.0.0. See https://github.com/optuna/optuna/releases/tag/v3.0.0. Use suggest_float instead.\n",
            "  'subsample': trial.suggest_uniform('subsample', 0.5, 1.0),\n",
            "<ipython-input-26-bd63721c1a00>:9: FutureWarning: suggest_uniform has been deprecated in v3.0.0. This feature will be removed in v6.0.0. See https://github.com/optuna/optuna/releases/tag/v3.0.0. Use suggest_float instead.\n",
            "  'colsample_bytree': trial.suggest_uniform('colsample_bytree', 0.1, 1.0),\n",
            "/usr/local/lib/python3.10/dist-packages/xgboost/sklearn.py:835: UserWarning: `early_stopping_rounds` in `fit` method is deprecated for better compatibility with scikit-learn, use `early_stopping_rounds` in constructor or`set_params` instead.\n",
            "  warnings.warn(\n",
            "[I 2023-06-22 12:16:34,820] Trial 79 finished with value: 28.169932353918064 and parameters: {'n_estimators': 185, 'learning_rate': 0.010566109957541371, 'max_depth': 6, 'min_child_weight': 4, 'subsample': 0.9984010772530281, 'colsample_bytree': 0.5035074619195036}. Best is trial 73 with value: 28.05405479203272.\n",
            " 80%|████████  | 80/100 [01:02<00:10,  1.89it/s]<ipython-input-26-bd63721c1a00>:5: FutureWarning: suggest_loguniform has been deprecated in v3.0.0. This feature will be removed in v6.0.0. See https://github.com/optuna/optuna/releases/tag/v3.0.0. Use suggest_float(..., log=True) instead.\n",
            "  'learning_rate': trial.suggest_loguniform('learning_rate', 0.01, 0.1),\n",
            "<ipython-input-26-bd63721c1a00>:8: FutureWarning: suggest_uniform has been deprecated in v3.0.0. This feature will be removed in v6.0.0. See https://github.com/optuna/optuna/releases/tag/v3.0.0. Use suggest_float instead.\n",
            "  'subsample': trial.suggest_uniform('subsample', 0.5, 1.0),\n",
            "<ipython-input-26-bd63721c1a00>:9: FutureWarning: suggest_uniform has been deprecated in v3.0.0. This feature will be removed in v6.0.0. See https://github.com/optuna/optuna/releases/tag/v3.0.0. Use suggest_float instead.\n",
            "  'colsample_bytree': trial.suggest_uniform('colsample_bytree', 0.1, 1.0),\n",
            "/usr/local/lib/python3.10/dist-packages/xgboost/sklearn.py:835: UserWarning: `early_stopping_rounds` in `fit` method is deprecated for better compatibility with scikit-learn, use `early_stopping_rounds` in constructor or`set_params` instead.\n",
            "  warnings.warn(\n",
            "[I 2023-06-22 12:16:35,221] Trial 80 finished with value: 28.03046057076744 and parameters: {'n_estimators': 150, 'learning_rate': 0.010831578537422823, 'max_depth': 5, 'min_child_weight': 4, 'subsample': 0.9494391961119026, 'colsample_bytree': 0.547751622663191}. Best is trial 80 with value: 28.03046057076744.\n",
            " 81%|████████  | 81/100 [01:03<00:09,  2.04it/s]<ipython-input-26-bd63721c1a00>:5: FutureWarning: suggest_loguniform has been deprecated in v3.0.0. This feature will be removed in v6.0.0. See https://github.com/optuna/optuna/releases/tag/v3.0.0. Use suggest_float(..., log=True) instead.\n",
            "  'learning_rate': trial.suggest_loguniform('learning_rate', 0.01, 0.1),\n",
            "<ipython-input-26-bd63721c1a00>:8: FutureWarning: suggest_uniform has been deprecated in v3.0.0. This feature will be removed in v6.0.0. See https://github.com/optuna/optuna/releases/tag/v3.0.0. Use suggest_float instead.\n",
            "  'subsample': trial.suggest_uniform('subsample', 0.5, 1.0),\n",
            "<ipython-input-26-bd63721c1a00>:9: FutureWarning: suggest_uniform has been deprecated in v3.0.0. This feature will be removed in v6.0.0. See https://github.com/optuna/optuna/releases/tag/v3.0.0. Use suggest_float instead.\n",
            "  'colsample_bytree': trial.suggest_uniform('colsample_bytree', 0.1, 1.0),\n",
            "/usr/local/lib/python3.10/dist-packages/xgboost/sklearn.py:835: UserWarning: `early_stopping_rounds` in `fit` method is deprecated for better compatibility with scikit-learn, use `early_stopping_rounds` in constructor or`set_params` instead.\n",
            "  warnings.warn(\n",
            "[I 2023-06-22 12:16:35,638] Trial 81 finished with value: 28.05154684278847 and parameters: {'n_estimators': 153, 'learning_rate': 0.011019408557355007, 'max_depth': 5, 'min_child_weight': 4, 'subsample': 0.9572882871395363, 'colsample_bytree': 0.5456666953142681}. Best is trial 80 with value: 28.03046057076744.\n",
            " 82%|████████▏ | 82/100 [01:03<00:08,  2.14it/s]<ipython-input-26-bd63721c1a00>:5: FutureWarning: suggest_loguniform has been deprecated in v3.0.0. This feature will be removed in v6.0.0. See https://github.com/optuna/optuna/releases/tag/v3.0.0. Use suggest_float(..., log=True) instead.\n",
            "  'learning_rate': trial.suggest_loguniform('learning_rate', 0.01, 0.1),\n",
            "<ipython-input-26-bd63721c1a00>:8: FutureWarning: suggest_uniform has been deprecated in v3.0.0. This feature will be removed in v6.0.0. See https://github.com/optuna/optuna/releases/tag/v3.0.0. Use suggest_float instead.\n",
            "  'subsample': trial.suggest_uniform('subsample', 0.5, 1.0),\n",
            "<ipython-input-26-bd63721c1a00>:9: FutureWarning: suggest_uniform has been deprecated in v3.0.0. This feature will be removed in v6.0.0. See https://github.com/optuna/optuna/releases/tag/v3.0.0. Use suggest_float instead.\n",
            "  'colsample_bytree': trial.suggest_uniform('colsample_bytree', 0.1, 1.0),\n",
            "/usr/local/lib/python3.10/dist-packages/xgboost/sklearn.py:835: UserWarning: `early_stopping_rounds` in `fit` method is deprecated for better compatibility with scikit-learn, use `early_stopping_rounds` in constructor or`set_params` instead.\n",
            "  warnings.warn(\n",
            "[I 2023-06-22 12:16:36,062] Trial 82 finished with value: 28.059668352933222 and parameters: {'n_estimators': 158, 'learning_rate': 0.01092628567637014, 'max_depth': 5, 'min_child_weight': 5, 'subsample': 0.9511946230699828, 'colsample_bytree': 0.5500137541845027}. Best is trial 80 with value: 28.03046057076744.\n",
            " 83%|████████▎ | 83/100 [01:03<00:07,  2.19it/s]<ipython-input-26-bd63721c1a00>:5: FutureWarning: suggest_loguniform has been deprecated in v3.0.0. This feature will be removed in v6.0.0. See https://github.com/optuna/optuna/releases/tag/v3.0.0. Use suggest_float(..., log=True) instead.\n",
            "  'learning_rate': trial.suggest_loguniform('learning_rate', 0.01, 0.1),\n",
            "<ipython-input-26-bd63721c1a00>:8: FutureWarning: suggest_uniform has been deprecated in v3.0.0. This feature will be removed in v6.0.0. See https://github.com/optuna/optuna/releases/tag/v3.0.0. Use suggest_float instead.\n",
            "  'subsample': trial.suggest_uniform('subsample', 0.5, 1.0),\n",
            "<ipython-input-26-bd63721c1a00>:9: FutureWarning: suggest_uniform has been deprecated in v3.0.0. This feature will be removed in v6.0.0. See https://github.com/optuna/optuna/releases/tag/v3.0.0. Use suggest_float instead.\n",
            "  'colsample_bytree': trial.suggest_uniform('colsample_bytree', 0.1, 1.0),\n",
            "/usr/local/lib/python3.10/dist-packages/xgboost/sklearn.py:835: UserWarning: `early_stopping_rounds` in `fit` method is deprecated for better compatibility with scikit-learn, use `early_stopping_rounds` in constructor or`set_params` instead.\n",
            "  warnings.warn(\n",
            "[I 2023-06-22 12:16:36,478] Trial 83 finished with value: 28.043339550561008 and parameters: {'n_estimators': 156, 'learning_rate': 0.010848941367347186, 'max_depth': 5, 'min_child_weight': 5, 'subsample': 0.9844224726004448, 'colsample_bytree': 0.5472145604184245}. Best is trial 80 with value: 28.03046057076744.\n",
            " 84%|████████▍ | 84/100 [01:04<00:07,  2.26it/s]<ipython-input-26-bd63721c1a00>:5: FutureWarning: suggest_loguniform has been deprecated in v3.0.0. This feature will be removed in v6.0.0. See https://github.com/optuna/optuna/releases/tag/v3.0.0. Use suggest_float(..., log=True) instead.\n",
            "  'learning_rate': trial.suggest_loguniform('learning_rate', 0.01, 0.1),\n",
            "<ipython-input-26-bd63721c1a00>:8: FutureWarning: suggest_uniform has been deprecated in v3.0.0. This feature will be removed in v6.0.0. See https://github.com/optuna/optuna/releases/tag/v3.0.0. Use suggest_float instead.\n",
            "  'subsample': trial.suggest_uniform('subsample', 0.5, 1.0),\n",
            "<ipython-input-26-bd63721c1a00>:9: FutureWarning: suggest_uniform has been deprecated in v3.0.0. This feature will be removed in v6.0.0. See https://github.com/optuna/optuna/releases/tag/v3.0.0. Use suggest_float instead.\n",
            "  'colsample_bytree': trial.suggest_uniform('colsample_bytree', 0.1, 1.0),\n",
            "/usr/local/lib/python3.10/dist-packages/xgboost/sklearn.py:835: UserWarning: `early_stopping_rounds` in `fit` method is deprecated for better compatibility with scikit-learn, use `early_stopping_rounds` in constructor or`set_params` instead.\n",
            "  warnings.warn(\n",
            "[I 2023-06-22 12:16:37,063] Trial 84 finished with value: 28.609158855722754 and parameters: {'n_estimators': 251, 'learning_rate': 0.010670413206204151, 'max_depth': 5, 'min_child_weight': 5, 'subsample': 0.9568519450078827, 'colsample_bytree': 0.5449404533170982}. Best is trial 80 with value: 28.03046057076744.\n",
            " 85%|████████▌ | 85/100 [01:04<00:07,  2.06it/s]<ipython-input-26-bd63721c1a00>:5: FutureWarning: suggest_loguniform has been deprecated in v3.0.0. This feature will be removed in v6.0.0. See https://github.com/optuna/optuna/releases/tag/v3.0.0. Use suggest_float(..., log=True) instead.\n",
            "  'learning_rate': trial.suggest_loguniform('learning_rate', 0.01, 0.1),\n",
            "<ipython-input-26-bd63721c1a00>:8: FutureWarning: suggest_uniform has been deprecated in v3.0.0. This feature will be removed in v6.0.0. See https://github.com/optuna/optuna/releases/tag/v3.0.0. Use suggest_float instead.\n",
            "  'subsample': trial.suggest_uniform('subsample', 0.5, 1.0),\n",
            "<ipython-input-26-bd63721c1a00>:9: FutureWarning: suggest_uniform has been deprecated in v3.0.0. This feature will be removed in v6.0.0. See https://github.com/optuna/optuna/releases/tag/v3.0.0. Use suggest_float instead.\n",
            "  'colsample_bytree': trial.suggest_uniform('colsample_bytree', 0.1, 1.0),\n",
            "/usr/local/lib/python3.10/dist-packages/xgboost/sklearn.py:835: UserWarning: `early_stopping_rounds` in `fit` method is deprecated for better compatibility with scikit-learn, use `early_stopping_rounds` in constructor or`set_params` instead.\n",
            "  warnings.warn(\n",
            "[I 2023-06-22 12:16:37,477] Trial 85 finished with value: 28.11088982081545 and parameters: {'n_estimators': 158, 'learning_rate': 0.011414345654536749, 'max_depth': 5, 'min_child_weight': 5, 'subsample': 0.9107782128181653, 'colsample_bytree': 0.478519888067479}. Best is trial 80 with value: 28.03046057076744.\n",
            " 86%|████████▌ | 86/100 [01:05<00:06,  2.15it/s]<ipython-input-26-bd63721c1a00>:5: FutureWarning: suggest_loguniform has been deprecated in v3.0.0. This feature will be removed in v6.0.0. See https://github.com/optuna/optuna/releases/tag/v3.0.0. Use suggest_float(..., log=True) instead.\n",
            "  'learning_rate': trial.suggest_loguniform('learning_rate', 0.01, 0.1),\n",
            "<ipython-input-26-bd63721c1a00>:8: FutureWarning: suggest_uniform has been deprecated in v3.0.0. This feature will be removed in v6.0.0. See https://github.com/optuna/optuna/releases/tag/v3.0.0. Use suggest_float instead.\n",
            "  'subsample': trial.suggest_uniform('subsample', 0.5, 1.0),\n",
            "<ipython-input-26-bd63721c1a00>:9: FutureWarning: suggest_uniform has been deprecated in v3.0.0. This feature will be removed in v6.0.0. See https://github.com/optuna/optuna/releases/tag/v3.0.0. Use suggest_float instead.\n",
            "  'colsample_bytree': trial.suggest_uniform('colsample_bytree', 0.1, 1.0),\n",
            "/usr/local/lib/python3.10/dist-packages/xgboost/sklearn.py:835: UserWarning: `early_stopping_rounds` in `fit` method is deprecated for better compatibility with scikit-learn, use `early_stopping_rounds` in constructor or`set_params` instead.\n",
            "  warnings.warn(\n",
            "[I 2023-06-22 12:16:37,891] Trial 86 finished with value: 28.085033151998047 and parameters: {'n_estimators': 154, 'learning_rate': 0.01142817297479964, 'max_depth': 5, 'min_child_weight': 5, 'subsample': 0.9188211079209577, 'colsample_bytree': 0.4809671046280753}. Best is trial 80 with value: 28.03046057076744.\n",
            " 87%|████████▋ | 87/100 [01:05<00:05,  2.22it/s]<ipython-input-26-bd63721c1a00>:5: FutureWarning: suggest_loguniform has been deprecated in v3.0.0. This feature will be removed in v6.0.0. See https://github.com/optuna/optuna/releases/tag/v3.0.0. Use suggest_float(..., log=True) instead.\n",
            "  'learning_rate': trial.suggest_loguniform('learning_rate', 0.01, 0.1),\n",
            "<ipython-input-26-bd63721c1a00>:8: FutureWarning: suggest_uniform has been deprecated in v3.0.0. This feature will be removed in v6.0.0. See https://github.com/optuna/optuna/releases/tag/v3.0.0. Use suggest_float instead.\n",
            "  'subsample': trial.suggest_uniform('subsample', 0.5, 1.0),\n",
            "<ipython-input-26-bd63721c1a00>:9: FutureWarning: suggest_uniform has been deprecated in v3.0.0. This feature will be removed in v6.0.0. See https://github.com/optuna/optuna/releases/tag/v3.0.0. Use suggest_float instead.\n",
            "  'colsample_bytree': trial.suggest_uniform('colsample_bytree', 0.1, 1.0),\n",
            "/usr/local/lib/python3.10/dist-packages/xgboost/sklearn.py:835: UserWarning: `early_stopping_rounds` in `fit` method is deprecated for better compatibility with scikit-learn, use `early_stopping_rounds` in constructor or`set_params` instead.\n",
            "  warnings.warn(\n",
            "[I 2023-06-22 12:16:38,444] Trial 87 finished with value: 28.4781541324057 and parameters: {'n_estimators': 230, 'learning_rate': 0.010669788633393818, 'max_depth': 5, 'min_child_weight': 5, 'subsample': 0.8915731215089592, 'colsample_bytree': 0.5050800863729247}. Best is trial 80 with value: 28.03046057076744.\n",
            " 88%|████████▊ | 88/100 [01:06<00:05,  2.08it/s]<ipython-input-26-bd63721c1a00>:5: FutureWarning: suggest_loguniform has been deprecated in v3.0.0. This feature will be removed in v6.0.0. See https://github.com/optuna/optuna/releases/tag/v3.0.0. Use suggest_float(..., log=True) instead.\n",
            "  'learning_rate': trial.suggest_loguniform('learning_rate', 0.01, 0.1),\n",
            "<ipython-input-26-bd63721c1a00>:8: FutureWarning: suggest_uniform has been deprecated in v3.0.0. This feature will be removed in v6.0.0. See https://github.com/optuna/optuna/releases/tag/v3.0.0. Use suggest_float instead.\n",
            "  'subsample': trial.suggest_uniform('subsample', 0.5, 1.0),\n",
            "<ipython-input-26-bd63721c1a00>:9: FutureWarning: suggest_uniform has been deprecated in v3.0.0. This feature will be removed in v6.0.0. See https://github.com/optuna/optuna/releases/tag/v3.0.0. Use suggest_float instead.\n",
            "  'colsample_bytree': trial.suggest_uniform('colsample_bytree', 0.1, 1.0),\n",
            "/usr/local/lib/python3.10/dist-packages/xgboost/sklearn.py:835: UserWarning: `early_stopping_rounds` in `fit` method is deprecated for better compatibility with scikit-learn, use `early_stopping_rounds` in constructor or`set_params` instead.\n",
            "  warnings.warn(\n",
            "[I 2023-06-22 12:16:39,052] Trial 88 finished with value: 28.446272879766497 and parameters: {'n_estimators': 200, 'learning_rate': 0.012046666432641568, 'max_depth': 4, 'min_child_weight': 6, 'subsample': 0.9275225049230394, 'colsample_bytree': 0.450134044303389}. Best is trial 80 with value: 28.03046057076744.\n",
            " 89%|████████▉ | 89/100 [01:06<00:05,  1.93it/s]<ipython-input-26-bd63721c1a00>:5: FutureWarning: suggest_loguniform has been deprecated in v3.0.0. This feature will be removed in v6.0.0. See https://github.com/optuna/optuna/releases/tag/v3.0.0. Use suggest_float(..., log=True) instead.\n",
            "  'learning_rate': trial.suggest_loguniform('learning_rate', 0.01, 0.1),\n",
            "<ipython-input-26-bd63721c1a00>:8: FutureWarning: suggest_uniform has been deprecated in v3.0.0. This feature will be removed in v6.0.0. See https://github.com/optuna/optuna/releases/tag/v3.0.0. Use suggest_float instead.\n",
            "  'subsample': trial.suggest_uniform('subsample', 0.5, 1.0),\n",
            "<ipython-input-26-bd63721c1a00>:9: FutureWarning: suggest_uniform has been deprecated in v3.0.0. This feature will be removed in v6.0.0. See https://github.com/optuna/optuna/releases/tag/v3.0.0. Use suggest_float instead.\n",
            "  'colsample_bytree': trial.suggest_uniform('colsample_bytree', 0.1, 1.0),\n",
            "/usr/local/lib/python3.10/dist-packages/xgboost/sklearn.py:835: UserWarning: `early_stopping_rounds` in `fit` method is deprecated for better compatibility with scikit-learn, use `early_stopping_rounds` in constructor or`set_params` instead.\n",
            "  warnings.warn(\n",
            "[I 2023-06-22 12:16:39,598] Trial 89 finished with value: 28.0352751606604 and parameters: {'n_estimators': 152, 'learning_rate': 0.010180768777649006, 'max_depth': 5, 'min_child_weight': 4, 'subsample': 0.9385841850008998, 'colsample_bytree': 0.40548638221310174}. Best is trial 80 with value: 28.03046057076744.\n",
            " 90%|█████████ | 90/100 [01:07<00:05,  1.90it/s]<ipython-input-26-bd63721c1a00>:5: FutureWarning: suggest_loguniform has been deprecated in v3.0.0. This feature will be removed in v6.0.0. See https://github.com/optuna/optuna/releases/tag/v3.0.0. Use suggest_float(..., log=True) instead.\n",
            "  'learning_rate': trial.suggest_loguniform('learning_rate', 0.01, 0.1),\n",
            "<ipython-input-26-bd63721c1a00>:8: FutureWarning: suggest_uniform has been deprecated in v3.0.0. This feature will be removed in v6.0.0. See https://github.com/optuna/optuna/releases/tag/v3.0.0. Use suggest_float instead.\n",
            "  'subsample': trial.suggest_uniform('subsample', 0.5, 1.0),\n",
            "<ipython-input-26-bd63721c1a00>:9: FutureWarning: suggest_uniform has been deprecated in v3.0.0. This feature will be removed in v6.0.0. See https://github.com/optuna/optuna/releases/tag/v3.0.0. Use suggest_float instead.\n",
            "  'colsample_bytree': trial.suggest_uniform('colsample_bytree', 0.1, 1.0),\n",
            "/usr/local/lib/python3.10/dist-packages/xgboost/sklearn.py:835: UserWarning: `early_stopping_rounds` in `fit` method is deprecated for better compatibility with scikit-learn, use `early_stopping_rounds` in constructor or`set_params` instead.\n",
            "  warnings.warn(\n",
            "[I 2023-06-22 12:16:40,252] Trial 90 finished with value: 28.364883749669428 and parameters: {'n_estimators': 180, 'learning_rate': 0.012632151718014089, 'max_depth': 5, 'min_child_weight': 4, 'subsample': 0.9599620975592317, 'colsample_bytree': 0.39316179497250225}. Best is trial 80 with value: 28.03046057076744.\n",
            " 91%|█████████ | 91/100 [01:08<00:05,  1.77it/s]<ipython-input-26-bd63721c1a00>:5: FutureWarning: suggest_loguniform has been deprecated in v3.0.0. This feature will be removed in v6.0.0. See https://github.com/optuna/optuna/releases/tag/v3.0.0. Use suggest_float(..., log=True) instead.\n",
            "  'learning_rate': trial.suggest_loguniform('learning_rate', 0.01, 0.1),\n",
            "<ipython-input-26-bd63721c1a00>:8: FutureWarning: suggest_uniform has been deprecated in v3.0.0. This feature will be removed in v6.0.0. See https://github.com/optuna/optuna/releases/tag/v3.0.0. Use suggest_float instead.\n",
            "  'subsample': trial.suggest_uniform('subsample', 0.5, 1.0),\n",
            "<ipython-input-26-bd63721c1a00>:9: FutureWarning: suggest_uniform has been deprecated in v3.0.0. This feature will be removed in v6.0.0. See https://github.com/optuna/optuna/releases/tag/v3.0.0. Use suggest_float instead.\n",
            "  'colsample_bytree': trial.suggest_uniform('colsample_bytree', 0.1, 1.0),\n",
            "/usr/local/lib/python3.10/dist-packages/xgboost/sklearn.py:835: UserWarning: `early_stopping_rounds` in `fit` method is deprecated for better compatibility with scikit-learn, use `early_stopping_rounds` in constructor or`set_params` instead.\n",
            "  warnings.warn(\n",
            "[I 2023-06-22 12:16:41,002] Trial 91 finished with value: 28.036148486835522 and parameters: {'n_estimators': 153, 'learning_rate': 0.010001416303976959, 'max_depth': 5, 'min_child_weight': 4, 'subsample': 0.9403649464876239, 'colsample_bytree': 0.4715548909784992}. Best is trial 80 with value: 28.03046057076744.\n",
            " 92%|█████████▏| 92/100 [01:08<00:04,  1.60it/s]<ipython-input-26-bd63721c1a00>:5: FutureWarning: suggest_loguniform has been deprecated in v3.0.0. This feature will be removed in v6.0.0. See https://github.com/optuna/optuna/releases/tag/v3.0.0. Use suggest_float(..., log=True) instead.\n",
            "  'learning_rate': trial.suggest_loguniform('learning_rate', 0.01, 0.1),\n",
            "<ipython-input-26-bd63721c1a00>:8: FutureWarning: suggest_uniform has been deprecated in v3.0.0. This feature will be removed in v6.0.0. See https://github.com/optuna/optuna/releases/tag/v3.0.0. Use suggest_float instead.\n",
            "  'subsample': trial.suggest_uniform('subsample', 0.5, 1.0),\n",
            "<ipython-input-26-bd63721c1a00>:9: FutureWarning: suggest_uniform has been deprecated in v3.0.0. This feature will be removed in v6.0.0. See https://github.com/optuna/optuna/releases/tag/v3.0.0. Use suggest_float instead.\n",
            "  'colsample_bytree': trial.suggest_uniform('colsample_bytree', 0.1, 1.0),\n",
            "/usr/local/lib/python3.10/dist-packages/xgboost/sklearn.py:835: UserWarning: `early_stopping_rounds` in `fit` method is deprecated for better compatibility with scikit-learn, use `early_stopping_rounds` in constructor or`set_params` instead.\n",
            "  warnings.warn(\n",
            "[I 2023-06-22 12:16:42,125] Trial 92 finished with value: 28.032701116635653 and parameters: {'n_estimators': 146, 'learning_rate': 0.010092851404515418, 'max_depth': 4, 'min_child_weight': 4, 'subsample': 0.9405949163944766, 'colsample_bytree': 0.4321040358240595}. Best is trial 80 with value: 28.03046057076744.\n",
            " 93%|█████████▎| 93/100 [01:10<00:05,  1.30it/s]<ipython-input-26-bd63721c1a00>:5: FutureWarning: suggest_loguniform has been deprecated in v3.0.0. This feature will be removed in v6.0.0. See https://github.com/optuna/optuna/releases/tag/v3.0.0. Use suggest_float(..., log=True) instead.\n",
            "  'learning_rate': trial.suggest_loguniform('learning_rate', 0.01, 0.1),\n",
            "<ipython-input-26-bd63721c1a00>:8: FutureWarning: suggest_uniform has been deprecated in v3.0.0. This feature will be removed in v6.0.0. See https://github.com/optuna/optuna/releases/tag/v3.0.0. Use suggest_float instead.\n",
            "  'subsample': trial.suggest_uniform('subsample', 0.5, 1.0),\n",
            "<ipython-input-26-bd63721c1a00>:9: FutureWarning: suggest_uniform has been deprecated in v3.0.0. This feature will be removed in v6.0.0. See https://github.com/optuna/optuna/releases/tag/v3.0.0. Use suggest_float instead.\n",
            "  'colsample_bytree': trial.suggest_uniform('colsample_bytree', 0.1, 1.0),\n",
            "/usr/local/lib/python3.10/dist-packages/xgboost/sklearn.py:835: UserWarning: `early_stopping_rounds` in `fit` method is deprecated for better compatibility with scikit-learn, use `early_stopping_rounds` in constructor or`set_params` instead.\n",
            "  warnings.warn(\n",
            "[I 2023-06-22 12:16:44,372] Trial 93 finished with value: 28.98430918277298 and parameters: {'n_estimators': 560, 'learning_rate': 0.01011678859930706, 'max_depth': 4, 'min_child_weight': 4, 'subsample': 0.9371621218891153, 'colsample_bytree': 0.42991232086867665}. Best is trial 80 with value: 28.03046057076744.\n",
            " 94%|█████████▍| 94/100 [01:12<00:07,  1.21s/it]<ipython-input-26-bd63721c1a00>:5: FutureWarning: suggest_loguniform has been deprecated in v3.0.0. This feature will be removed in v6.0.0. See https://github.com/optuna/optuna/releases/tag/v3.0.0. Use suggest_float(..., log=True) instead.\n",
            "  'learning_rate': trial.suggest_loguniform('learning_rate', 0.01, 0.1),\n",
            "<ipython-input-26-bd63721c1a00>:8: FutureWarning: suggest_uniform has been deprecated in v3.0.0. This feature will be removed in v6.0.0. See https://github.com/optuna/optuna/releases/tag/v3.0.0. Use suggest_float instead.\n",
            "  'subsample': trial.suggest_uniform('subsample', 0.5, 1.0),\n",
            "<ipython-input-26-bd63721c1a00>:9: FutureWarning: suggest_uniform has been deprecated in v3.0.0. This feature will be removed in v6.0.0. See https://github.com/optuna/optuna/releases/tag/v3.0.0. Use suggest_float instead.\n",
            "  'colsample_bytree': trial.suggest_uniform('colsample_bytree', 0.1, 1.0),\n",
            "/usr/local/lib/python3.10/dist-packages/xgboost/sklearn.py:835: UserWarning: `early_stopping_rounds` in `fit` method is deprecated for better compatibility with scikit-learn, use `early_stopping_rounds` in constructor or`set_params` instead.\n",
            "  warnings.warn(\n",
            "[I 2023-06-22 12:16:45,134] Trial 94 finished with value: 28.04967190670045 and parameters: {'n_estimators': 147, 'learning_rate': 0.010786068666498715, 'max_depth': 6, 'min_child_weight': 5, 'subsample': 0.9458420904514608, 'colsample_bytree': 0.40746233341171817}. Best is trial 80 with value: 28.03046057076744.\n",
            " 95%|█████████▌| 95/100 [01:13<00:05,  1.08s/it]<ipython-input-26-bd63721c1a00>:5: FutureWarning: suggest_loguniform has been deprecated in v3.0.0. This feature will be removed in v6.0.0. See https://github.com/optuna/optuna/releases/tag/v3.0.0. Use suggest_float(..., log=True) instead.\n",
            "  'learning_rate': trial.suggest_loguniform('learning_rate', 0.01, 0.1),\n",
            "<ipython-input-26-bd63721c1a00>:8: FutureWarning: suggest_uniform has been deprecated in v3.0.0. This feature will be removed in v6.0.0. See https://github.com/optuna/optuna/releases/tag/v3.0.0. Use suggest_float instead.\n",
            "  'subsample': trial.suggest_uniform('subsample', 0.5, 1.0),\n",
            "<ipython-input-26-bd63721c1a00>:9: FutureWarning: suggest_uniform has been deprecated in v3.0.0. This feature will be removed in v6.0.0. See https://github.com/optuna/optuna/releases/tag/v3.0.0. Use suggest_float instead.\n",
            "  'colsample_bytree': trial.suggest_uniform('colsample_bytree', 0.1, 1.0),\n",
            "/usr/local/lib/python3.10/dist-packages/xgboost/sklearn.py:835: UserWarning: `early_stopping_rounds` in `fit` method is deprecated for better compatibility with scikit-learn, use `early_stopping_rounds` in constructor or`set_params` instead.\n",
            "  warnings.warn(\n",
            "[I 2023-06-22 12:16:45,761] Trial 95 finished with value: 28.293875004007013 and parameters: {'n_estimators': 217, 'learning_rate': 0.010039669843866936, 'max_depth': 4, 'min_child_weight': 5, 'subsample': 0.9393163633477173, 'colsample_bytree': 0.408591651340918}. Best is trial 80 with value: 28.03046057076744.\n",
            " 96%|█████████▌| 96/100 [01:13<00:03,  1.06it/s]<ipython-input-26-bd63721c1a00>:5: FutureWarning: suggest_loguniform has been deprecated in v3.0.0. This feature will be removed in v6.0.0. See https://github.com/optuna/optuna/releases/tag/v3.0.0. Use suggest_float(..., log=True) instead.\n",
            "  'learning_rate': trial.suggest_loguniform('learning_rate', 0.01, 0.1),\n",
            "<ipython-input-26-bd63721c1a00>:8: FutureWarning: suggest_uniform has been deprecated in v3.0.0. This feature will be removed in v6.0.0. See https://github.com/optuna/optuna/releases/tag/v3.0.0. Use suggest_float instead.\n",
            "  'subsample': trial.suggest_uniform('subsample', 0.5, 1.0),\n",
            "<ipython-input-26-bd63721c1a00>:9: FutureWarning: suggest_uniform has been deprecated in v3.0.0. This feature will be removed in v6.0.0. See https://github.com/optuna/optuna/releases/tag/v3.0.0. Use suggest_float instead.\n",
            "  'colsample_bytree': trial.suggest_uniform('colsample_bytree', 0.1, 1.0),\n",
            "/usr/local/lib/python3.10/dist-packages/xgboost/sklearn.py:835: UserWarning: `early_stopping_rounds` in `fit` method is deprecated for better compatibility with scikit-learn, use `early_stopping_rounds` in constructor or`set_params` instead.\n",
            "  warnings.warn(\n",
            "[I 2023-06-22 12:16:46,486] Trial 96 finished with value: 28.916669748053366 and parameters: {'n_estimators': 307, 'learning_rate': 0.010988488118131195, 'max_depth': 5, 'min_child_weight': 6, 'subsample': 0.9052677171498336, 'colsample_bytree': 0.37539298950397004}. Best is trial 80 with value: 28.03046057076744.\n",
            " 97%|█████████▋| 97/100 [01:14<00:02,  1.14it/s]<ipython-input-26-bd63721c1a00>:5: FutureWarning: suggest_loguniform has been deprecated in v3.0.0. This feature will be removed in v6.0.0. See https://github.com/optuna/optuna/releases/tag/v3.0.0. Use suggest_float(..., log=True) instead.\n",
            "  'learning_rate': trial.suggest_loguniform('learning_rate', 0.01, 0.1),\n",
            "<ipython-input-26-bd63721c1a00>:8: FutureWarning: suggest_uniform has been deprecated in v3.0.0. This feature will be removed in v6.0.0. See https://github.com/optuna/optuna/releases/tag/v3.0.0. Use suggest_float instead.\n",
            "  'subsample': trial.suggest_uniform('subsample', 0.5, 1.0),\n",
            "<ipython-input-26-bd63721c1a00>:9: FutureWarning: suggest_uniform has been deprecated in v3.0.0. This feature will be removed in v6.0.0. See https://github.com/optuna/optuna/releases/tag/v3.0.0. Use suggest_float instead.\n",
            "  'colsample_bytree': trial.suggest_uniform('colsample_bytree', 0.1, 1.0),\n",
            "/usr/local/lib/python3.10/dist-packages/xgboost/sklearn.py:835: UserWarning: `early_stopping_rounds` in `fit` method is deprecated for better compatibility with scikit-learn, use `early_stopping_rounds` in constructor or`set_params` instead.\n",
            "  warnings.warn(\n",
            "[I 2023-06-22 12:16:47,166] Trial 97 finished with value: 28.921460581234147 and parameters: {'n_estimators': 939, 'learning_rate': 0.012248328122382069, 'max_depth': 5, 'min_child_weight': 5, 'subsample': 0.8914806653952259, 'colsample_bytree': 0.45357232050369456}. Best is trial 80 with value: 28.03046057076744.\n",
            " 98%|█████████▊| 98/100 [01:15<00:01,  1.22it/s]<ipython-input-26-bd63721c1a00>:5: FutureWarning: suggest_loguniform has been deprecated in v3.0.0. This feature will be removed in v6.0.0. See https://github.com/optuna/optuna/releases/tag/v3.0.0. Use suggest_float(..., log=True) instead.\n",
            "  'learning_rate': trial.suggest_loguniform('learning_rate', 0.01, 0.1),\n",
            "<ipython-input-26-bd63721c1a00>:8: FutureWarning: suggest_uniform has been deprecated in v3.0.0. This feature will be removed in v6.0.0. See https://github.com/optuna/optuna/releases/tag/v3.0.0. Use suggest_float instead.\n",
            "  'subsample': trial.suggest_uniform('subsample', 0.5, 1.0),\n",
            "<ipython-input-26-bd63721c1a00>:9: FutureWarning: suggest_uniform has been deprecated in v3.0.0. This feature will be removed in v6.0.0. See https://github.com/optuna/optuna/releases/tag/v3.0.0. Use suggest_float instead.\n",
            "  'colsample_bytree': trial.suggest_uniform('colsample_bytree', 0.1, 1.0),\n",
            "/usr/local/lib/python3.10/dist-packages/xgboost/sklearn.py:835: UserWarning: `early_stopping_rounds` in `fit` method is deprecated for better compatibility with scikit-learn, use `early_stopping_rounds` in constructor or`set_params` instead.\n",
            "  warnings.warn(\n",
            "[I 2023-06-22 12:16:47,610] Trial 98 finished with value: 28.047225889764437 and parameters: {'n_estimators': 148, 'learning_rate': 0.010499148738863203, 'max_depth': 6, 'min_child_weight': 5, 'subsample': 0.9466688670793523, 'colsample_bytree': 0.3511845690905514}. Best is trial 80 with value: 28.03046057076744.\n",
            " 99%|█████████▉| 99/100 [01:15<00:00,  1.41it/s]<ipython-input-26-bd63721c1a00>:5: FutureWarning: suggest_loguniform has been deprecated in v3.0.0. This feature will be removed in v6.0.0. See https://github.com/optuna/optuna/releases/tag/v3.0.0. Use suggest_float(..., log=True) instead.\n",
            "  'learning_rate': trial.suggest_loguniform('learning_rate', 0.01, 0.1),\n",
            "<ipython-input-26-bd63721c1a00>:8: FutureWarning: suggest_uniform has been deprecated in v3.0.0. This feature will be removed in v6.0.0. See https://github.com/optuna/optuna/releases/tag/v3.0.0. Use suggest_float instead.\n",
            "  'subsample': trial.suggest_uniform('subsample', 0.5, 1.0),\n",
            "<ipython-input-26-bd63721c1a00>:9: FutureWarning: suggest_uniform has been deprecated in v3.0.0. This feature will be removed in v6.0.0. See https://github.com/optuna/optuna/releases/tag/v3.0.0. Use suggest_float instead.\n",
            "  'colsample_bytree': trial.suggest_uniform('colsample_bytree', 0.1, 1.0),\n",
            "/usr/local/lib/python3.10/dist-packages/xgboost/sklearn.py:835: UserWarning: `early_stopping_rounds` in `fit` method is deprecated for better compatibility with scikit-learn, use `early_stopping_rounds` in constructor or`set_params` instead.\n",
            "  warnings.warn(\n",
            "[I 2023-06-22 12:16:48,174] Trial 99 finished with value: 28.22017343625179 and parameters: {'n_estimators': 195, 'learning_rate': 0.010361950568812065, 'max_depth': 6, 'min_child_weight': 4, 'subsample': 0.9236927416173061, 'colsample_bytree': 0.34622744571951725}. Best is trial 80 with value: 28.03046057076744.\n",
            "100%|██████████| 100/100 [01:16<00:00,  1.31it/s]\n"
          ]
        }
      ]
    },
    {
      "cell_type": "code",
      "source": [
        "print(\"Best Parameters:\", study.best_params)\n",
        "print(\"Best MAE:\", study.best_value)"
      ],
      "metadata": {
        "colab": {
          "base_uri": "https://localhost:8080/"
        },
        "id": "J4pOUd5ACQk9",
        "outputId": "cabc9fbd-8519-4084-8d55-1515c64e98ca"
      },
      "execution_count": 28,
      "outputs": [
        {
          "output_type": "stream",
          "name": "stdout",
          "text": [
            "Best Parameters: {'n_estimators': 150, 'learning_rate': 0.010831578537422823, 'max_depth': 5, 'min_child_weight': 4, 'subsample': 0.9494391961119026, 'colsample_bytree': 0.547751622663191}\n",
            "Best MAE: 28.03046057076744\n"
          ]
        }
      ]
    }
  ]
}