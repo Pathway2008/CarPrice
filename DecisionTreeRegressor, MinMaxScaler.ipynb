{
 "cells": [
  {
   "cell_type": "code",
   "execution_count": 1,
   "id": "6627ab42",
   "metadata": {},
   "outputs": [],
   "source": [
    "import pandas as pd\n",
    "import numpy as np\n",
    "import matplotlib.pyplot as plt\n",
    "import seaborn as sns"
   ]
  },
  {
   "cell_type": "code",
   "execution_count": 2,
   "id": "950fac46",
   "metadata": {
    "scrolled": true
   },
   "outputs": [],
   "source": [
    "train = pd.read_csv(\"./train.csv\")\n",
    "test = pd.read_csv(\"./test.csv\")"
   ]
  },
  {
   "cell_type": "code",
   "execution_count": 3,
   "id": "92caaa28",
   "metadata": {
    "scrolled": true
   },
   "outputs": [
    {
     "data": {
      "text/html": [
       "<div>\n",
       "<style scoped>\n",
       "    .dataframe tbody tr th:only-of-type {\n",
       "        vertical-align: middle;\n",
       "    }\n",
       "\n",
       "    .dataframe tbody tr th {\n",
       "        vertical-align: top;\n",
       "    }\n",
       "\n",
       "    .dataframe thead th {\n",
       "        text-align: right;\n",
       "    }\n",
       "</style>\n",
       "<table border=\"1\" class=\"dataframe\">\n",
       "  <thead>\n",
       "    <tr style=\"text-align: right;\">\n",
       "      <th></th>\n",
       "      <th>ID</th>\n",
       "      <th>제조사</th>\n",
       "      <th>모델</th>\n",
       "      <th>차량상태</th>\n",
       "      <th>배터리용량</th>\n",
       "      <th>구동방식</th>\n",
       "      <th>주행거리(km)</th>\n",
       "      <th>보증기간(년)</th>\n",
       "      <th>사고이력</th>\n",
       "      <th>연식(년)</th>\n",
       "      <th>가격(백만원)</th>\n",
       "    </tr>\n",
       "  </thead>\n",
       "  <tbody>\n",
       "    <tr>\n",
       "      <th>0</th>\n",
       "      <td>TRAIN_0000</td>\n",
       "      <td>P사</td>\n",
       "      <td>TayGTS</td>\n",
       "      <td>Nearly New</td>\n",
       "      <td>86.077</td>\n",
       "      <td>AWD</td>\n",
       "      <td>13642</td>\n",
       "      <td>0</td>\n",
       "      <td>No</td>\n",
       "      <td>2</td>\n",
       "      <td>159.66</td>\n",
       "    </tr>\n",
       "    <tr>\n",
       "      <th>1</th>\n",
       "      <td>TRAIN_0001</td>\n",
       "      <td>K사</td>\n",
       "      <td>Niro</td>\n",
       "      <td>Nearly New</td>\n",
       "      <td>56.000</td>\n",
       "      <td>FWD</td>\n",
       "      <td>10199</td>\n",
       "      <td>6</td>\n",
       "      <td>No</td>\n",
       "      <td>0</td>\n",
       "      <td>28.01</td>\n",
       "    </tr>\n",
       "    <tr>\n",
       "      <th>2</th>\n",
       "      <td>TRAIN_0002</td>\n",
       "      <td>A사</td>\n",
       "      <td>eT</td>\n",
       "      <td>Brand New</td>\n",
       "      <td>91.200</td>\n",
       "      <td>AWD</td>\n",
       "      <td>2361</td>\n",
       "      <td>7</td>\n",
       "      <td>No</td>\n",
       "      <td>0</td>\n",
       "      <td>66.27</td>\n",
       "    </tr>\n",
       "    <tr>\n",
       "      <th>3</th>\n",
       "      <td>TRAIN_0003</td>\n",
       "      <td>A사</td>\n",
       "      <td>RSeTGT</td>\n",
       "      <td>Nearly New</td>\n",
       "      <td>NaN</td>\n",
       "      <td>AWD</td>\n",
       "      <td>21683</td>\n",
       "      <td>3</td>\n",
       "      <td>No</td>\n",
       "      <td>0</td>\n",
       "      <td>99.16</td>\n",
       "    </tr>\n",
       "    <tr>\n",
       "      <th>4</th>\n",
       "      <td>TRAIN_0004</td>\n",
       "      <td>B사</td>\n",
       "      <td>i5</td>\n",
       "      <td>Pre-Owned</td>\n",
       "      <td>61.018</td>\n",
       "      <td>AWD</td>\n",
       "      <td>178205</td>\n",
       "      <td>1</td>\n",
       "      <td>No</td>\n",
       "      <td>0</td>\n",
       "      <td>62.02</td>\n",
       "    </tr>\n",
       "  </tbody>\n",
       "</table>\n",
       "</div>"
      ],
      "text/plain": [
       "           ID 제조사      모델        차량상태   배터리용량 구동방식  주행거리(km)  보증기간(년) 사고이력  \\\n",
       "0  TRAIN_0000  P사  TayGTS  Nearly New  86.077  AWD     13642        0   No   \n",
       "1  TRAIN_0001  K사    Niro  Nearly New  56.000  FWD     10199        6   No   \n",
       "2  TRAIN_0002  A사      eT   Brand New  91.200  AWD      2361        7   No   \n",
       "3  TRAIN_0003  A사  RSeTGT  Nearly New     NaN  AWD     21683        3   No   \n",
       "4  TRAIN_0004  B사      i5   Pre-Owned  61.018  AWD    178205        1   No   \n",
       "\n",
       "   연식(년)  가격(백만원)  \n",
       "0      2   159.66  \n",
       "1      0    28.01  \n",
       "2      0    66.27  \n",
       "3      0    99.16  \n",
       "4      0    62.02  "
      ]
     },
     "execution_count": 3,
     "metadata": {},
     "output_type": "execute_result"
    }
   ],
   "source": [
    "train.head()"
   ]
  },
  {
   "cell_type": "code",
   "execution_count": 4,
   "id": "97e3db2c",
   "metadata": {
    "scrolled": true
   },
   "outputs": [
    {
     "name": "stdout",
     "output_type": "stream",
     "text": [
      "<class 'pandas.core.frame.DataFrame'>\n",
      "RangeIndex: 7497 entries, 0 to 7496\n",
      "Data columns (total 11 columns):\n",
      " #   Column    Non-Null Count  Dtype  \n",
      "---  ------    --------------  -----  \n",
      " 0   ID        7497 non-null   object \n",
      " 1   제조사       7497 non-null   object \n",
      " 2   모델        7497 non-null   object \n",
      " 3   차량상태      7497 non-null   object \n",
      " 4   배터리용량     4786 non-null   float64\n",
      " 5   구동방식      7497 non-null   object \n",
      " 6   주행거리(km)  7497 non-null   int64  \n",
      " 7   보증기간(년)   7497 non-null   int64  \n",
      " 8   사고이력      7497 non-null   object \n",
      " 9   연식(년)     7497 non-null   int64  \n",
      " 10  가격(백만원)   7497 non-null   float64\n",
      "dtypes: float64(2), int64(3), object(6)\n",
      "memory usage: 644.4+ KB\n"
     ]
    }
   ],
   "source": [
    "train.info()"
   ]
  },
  {
   "cell_type": "code",
   "execution_count": 5,
   "id": "571344ba",
   "metadata": {
    "scrolled": true
   },
   "outputs": [
    {
     "name": "stdout",
     "output_type": "stream",
     "text": [
      "제조사  모델    \n",
      "A사   Q4eT      69.040715\n",
      "     RSeTGT    84.399252\n",
      "     eT        83.776564\n",
      "B사   i3        52.691131\n",
      "     i5        65.493361\n",
      "     iX        90.000000\n",
      "H사   ION5      66.439545\n",
      "     ION6      65.876923\n",
      "     IONIQ     62.044352\n",
      "     KNE       72.117597\n",
      "K사   EV6       90.000000\n",
      "     Niro      54.578933\n",
      "     Soul      53.714460\n",
      "P사   Tay       67.167316\n",
      "     TayCT     77.563933\n",
      "     TayGTS    80.454170\n",
      "T사   M3        64.482882\n",
      "     MS        89.672213\n",
      "     MX        90.031151\n",
      "     MY        63.916380\n",
      "V사   ID4       65.424440\n",
      "Name: 배터리용량, dtype: float64\n",
      "--------------------------------------------------\n",
      "제조사  모델    \n",
      "A사   Q4eT      67.367433\n",
      "     RSeTGT    82.151333\n",
      "     eT        83.432727\n",
      "B사   i3        51.555556\n",
      "     i5        68.286029\n",
      "     iX        90.000000\n",
      "H사   ION5      61.544609\n",
      "     ION6      69.195643\n",
      "     IONIQ     62.705000\n",
      "     KNE       70.792857\n",
      "K사   EV6       90.000000\n",
      "     Niro      54.966351\n",
      "     Soul      54.050581\n",
      "P사   Tay       68.125000\n",
      "     TayCT     78.576393\n",
      "     TayGTS    76.860281\n",
      "T사   M3        63.141350\n",
      "     MS        90.278000\n",
      "     MX        91.076571\n",
      "     MY        63.571000\n",
      "V사   ID4       66.575465\n",
      "Name: 배터리용량, dtype: float64\n"
     ]
    }
   ],
   "source": [
    "brand_col = '제조사'\n",
    "model_col = '모델'\n",
    "battery_col = '배터리용량'\n",
    "\n",
    "train_group_means = train.groupby([brand_col, model_col])[battery_col].mean()\n",
    "\n",
    "test_group_means = test.groupby([brand_col, model_col])[battery_col].mean()\n",
    "\n",
    "print(train_group_means)\n",
    "\n",
    "print(\"-\" * 50)\n",
    "\n",
    "print(test_group_means)"
   ]
  },
  {
   "cell_type": "code",
   "execution_count": 6,
   "id": "add44095",
   "metadata": {
    "scrolled": true
   },
   "outputs": [],
   "source": [
    "def train_fill_battery(row):\n",
    "    if pd.isna(row[battery_col]):\n",
    "        mean_val = train_group_means.get((row[brand_col], row[model_col]), np.nan)\n",
    "        return mean_val\n",
    "    return row[battery_col]\n",
    "\n",
    "def test_fill_battery(row):\n",
    "    if pd.isna(row[battery_col]):\n",
    "        mean_val = test_group_means.get((row[brand_col], row[model_col]), np.nan)\n",
    "        return mean_val\n",
    "    return row[battery_col]\n",
    "\n",
    "\n",
    "train[battery_col] = train.apply(train_fill_battery, axis=1)\n",
    "test[battery_col] = test.apply(test_fill_battery, axis=1)"
   ]
  },
  {
   "cell_type": "markdown",
   "id": "af080669",
   "metadata": {},
   "source": [
    "## Checking Train & Test Data 'Battery_Col' presence "
   ]
  },
  {
   "cell_type": "code",
   "execution_count": 7,
   "id": "9d53c877",
   "metadata": {},
   "outputs": [
    {
     "name": "stdout",
     "output_type": "stream",
     "text": [
      "Empty DataFrame\n",
      "Columns: [ID, 제조사, 모델, 차량상태, 배터리용량, 구동방식, 주행거리(km), 보증기간(년), 사고이력, 연식(년), 가격(백만원)]\n",
      "Index: []\n",
      "Empty DataFrame\n",
      "Columns: [ID, 제조사, 모델, 차량상태, 배터리용량, 구동방식, 주행거리(km), 보증기간(년), 사고이력, 연식(년)]\n",
      "Index: []\n"
     ]
    }
   ],
   "source": [
    "print(train[train[battery_col] == 'NaN'])\n",
    "print(test[test[battery_col] == 'NaN'])"
   ]
  },
  {
   "cell_type": "markdown",
   "id": "d7321bda",
   "metadata": {},
   "source": [
    "## Column Renaming"
   ]
  },
  {
   "cell_type": "code",
   "execution_count": 8,
   "id": "45a77741",
   "metadata": {
    "scrolled": true
   },
   "outputs": [],
   "source": [
    "RENAME = {\n",
    "    '제조사' : 'brand',\n",
    "    '모델' : 'model',\n",
    "    '차량상태' : 'status',\n",
    "    '배터리용량' : 'battery',\n",
    "    '구동방식' : 'driving_sys',\n",
    "    '주행거리(km)' : 'mileage',\n",
    "    '보증기간(년)' : 'warranty',\n",
    "    '사고이력' : 'accident',\n",
    "    '연식(년)' : 'year',\n",
    "    '가격(백만원)' : 'price'\n",
    "}\n",
    "\n",
    "\n",
    "for a in train.columns[1:]:\n",
    "    train.rename(columns={a : RENAME[a]}, inplace = True)\n",
    "    \n",
    "for b in test.columns[1:]:\n",
    "    test.rename(columns={b : RENAME[b]}, inplace = True)"
   ]
  },
  {
   "cell_type": "code",
   "execution_count": 9,
   "id": "cb2a7721",
   "metadata": {},
   "outputs": [
    {
     "name": "stdout",
     "output_type": "stream",
     "text": [
      "Index(['ID', 'brand', 'model', 'status', 'battery', 'driving_sys', 'mileage',\n",
      "       'warranty', 'accident', 'year', 'price'],\n",
      "      dtype='object')\n",
      "--------------------------------------------------\n",
      "Index(['ID', 'brand', 'model', 'status', 'battery', 'driving_sys', 'mileage',\n",
      "       'warranty', 'accident', 'year'],\n",
      "      dtype='object')\n"
     ]
    }
   ],
   "source": [
    "print(train.columns)\n",
    "print('-' * 50)\n",
    "print(test.columns)"
   ]
  },
  {
   "cell_type": "code",
   "execution_count": 10,
   "id": "732415a5-e827-49f1-861e-c644ca36ce02",
   "metadata": {
    "scrolled": true
   },
   "outputs": [
    {
     "name": "stdout",
     "output_type": "stream",
     "text": [
      "<class 'pandas.core.frame.DataFrame'>\n",
      "RangeIndex: 7497 entries, 0 to 7496\n",
      "Data columns (total 11 columns):\n",
      " #   Column       Non-Null Count  Dtype  \n",
      "---  ------       --------------  -----  \n",
      " 0   ID           7497 non-null   object \n",
      " 1   brand        7497 non-null   object \n",
      " 2   model        7497 non-null   object \n",
      " 3   status       7497 non-null   object \n",
      " 4   battery      7497 non-null   float64\n",
      " 5   driving_sys  7497 non-null   object \n",
      " 6   mileage      7497 non-null   int64  \n",
      " 7   warranty     7497 non-null   int64  \n",
      " 8   accident     7497 non-null   object \n",
      " 9   year         7497 non-null   int64  \n",
      " 10  price        7497 non-null   float64\n",
      "dtypes: float64(2), int64(3), object(6)\n",
      "memory usage: 644.4+ KB\n"
     ]
    }
   ],
   "source": [
    "train.info()"
   ]
  },
  {
   "cell_type": "code",
   "execution_count": 11,
   "id": "6356345f-a39f-46f4-989a-7f0629c3fa14",
   "metadata": {},
   "outputs": [
    {
     "name": "stdout",
     "output_type": "stream",
     "text": [
      "<class 'pandas.core.frame.DataFrame'>\n",
      "RangeIndex: 846 entries, 0 to 845\n",
      "Data columns (total 10 columns):\n",
      " #   Column       Non-Null Count  Dtype  \n",
      "---  ------       --------------  -----  \n",
      " 0   ID           846 non-null    object \n",
      " 1   brand        846 non-null    object \n",
      " 2   model        846 non-null    object \n",
      " 3   status       846 non-null    object \n",
      " 4   battery      846 non-null    float64\n",
      " 5   driving_sys  846 non-null    object \n",
      " 6   mileage      846 non-null    int64  \n",
      " 7   warranty     846 non-null    int64  \n",
      " 8   accident     846 non-null    object \n",
      " 9   year         846 non-null    int64  \n",
      "dtypes: float64(1), int64(3), object(6)\n",
      "memory usage: 66.2+ KB\n"
     ]
    }
   ],
   "source": [
    "test.info()"
   ]
  },
  {
   "cell_type": "markdown",
   "id": "633b23fb",
   "metadata": {},
   "source": [
    "## Checking Distribution"
   ]
  },
  {
   "cell_type": "code",
   "execution_count": 12,
   "id": "a26153c4",
   "metadata": {},
   "outputs": [
    {
     "name": "stdout",
     "output_type": "stream",
     "text": [
      "brand\n",
      "H사    1237\n",
      "B사    1169\n",
      "K사    1164\n",
      "A사    1142\n",
      "T사    1109\n",
      "P사    1071\n",
      "V사     605\n",
      "Name: count, dtype: int64\n",
      "----------------------------------------------------------------------------------------------------\n"
     ]
    },
    {
     "data": {
      "text/plain": [
       "Text(0.5, 1.0, 'Brand')"
      ]
     },
     "execution_count": 12,
     "metadata": {},
     "output_type": "execute_result"
    },
    {
     "name": "stderr",
     "output_type": "stream",
     "text": [
      "C:\\Users\\kck\\AppData\\Local\\anaconda3\\envs\\llm_fine\\Lib\\site-packages\\IPython\\core\\events.py:82: UserWarning: Glyph 49324 (\\N{HANGUL SYLLABLE SA}) missing from font(s) DejaVu Sans.\n",
      "  func(*args, **kwargs)\n",
      "C:\\Users\\kck\\AppData\\Local\\anaconda3\\envs\\llm_fine\\Lib\\site-packages\\IPython\\core\\pylabtools.py:170: UserWarning: Glyph 49324 (\\N{HANGUL SYLLABLE SA}) missing from font(s) DejaVu Sans.\n",
      "  fig.canvas.print_figure(bytes_io, **kw)\n"
     ]
    },
    {
     "data": {
      "image/png": "[encoded data removed]",
      "text/plain": [
       "<Figure size 2000x500 with 1 Axes>"
      ]
     },
     "metadata": {},
     "output_type": "display_data"
    }
   ],
   "source": [
    "print(train['brand'].value_counts())\n",
    "\n",
    "print(\"-\" * 100)\n",
    "\n",
    "plt.figure(figsize=(20, 5))\n",
    "plt.bar(train['brand'].value_counts().index, train['brand'].value_counts().values)\n",
    "plt.title('Brand')"
   ]
  },
  {
   "cell_type": "code",
   "execution_count": 13,
   "id": "7bf9d76a",
   "metadata": {
    "scrolled": true
   },
   "outputs": [
    {
     "name": "stdout",
     "output_type": "stream",
     "text": [
      "model\n",
      "ID4       605\n",
      "i5        414\n",
      "Niro      398\n",
      "Soul      397\n",
      "i3        388\n",
      "RSeTGT    385\n",
      "eT        379\n",
      "ION6      379\n",
      "Q4eT      378\n",
      "TayGTS    375\n",
      "EV6       369\n",
      "iX        367\n",
      "KNE       365\n",
      "Tay       361\n",
      "ION5      353\n",
      "TayCT     335\n",
      "MY        289\n",
      "M3        279\n",
      "MS        277\n",
      "MX        264\n",
      "IONIQ     140\n",
      "Name: count, dtype: int64\n",
      "----------------------------------------------------------------------------------------------------\n"
     ]
    },
    {
     "data": {
      "text/plain": [
       "Text(0.5, 1.0, 'model')"
      ]
     },
     "execution_count": 13,
     "metadata": {},
     "output_type": "execute_result"
    },
    {
     "data": {
      "image/png": "[encoded data removed]",
      "text/plain": [
       "<Figure size 2000x500 with 1 Axes>"
      ]
     },
     "metadata": {},
     "output_type": "display_data"
    }
   ],
   "source": [
    "print(train['model'].value_counts())\n",
    "\n",
    "print(\"-\" * 100)\n",
    "\n",
    "plt.figure(figsize=(20, 5))\n",
    "plt.bar(train['model'].value_counts().index, train['model'].value_counts().values)\n",
    "plt.title('model')"
   ]
  },
  {
   "cell_type": "code",
   "execution_count": 14,
   "id": "41bd5e0f",
   "metadata": {
    "scrolled": true
   },
   "outputs": [
    {
     "name": "stdout",
     "output_type": "stream",
     "text": [
      "status\n",
      "Brand New     3380\n",
      "Nearly New    2059\n",
      "Pre-Owned     2058\n",
      "Name: count, dtype: int64\n",
      "----------------------------------------------------------------------------------------------------\n"
     ]
    },
    {
     "data": {
      "text/plain": [
       "Text(0.5, 1.0, 'status')"
      ]
     },
     "execution_count": 14,
     "metadata": {},
     "output_type": "execute_result"
    },
    {
     "data": {
      "image/png": "[encoded data removed]",
      "text/plain": [
       "<Figure size 2000x500 with 1 Axes>"
      ]
     },
     "metadata": {},
     "output_type": "display_data"
    }
   ],
   "source": [
    "print(train['status'].value_counts())\n",
    "\n",
    "print(\"-\" * 100)\n",
    "\n",
    "plt.figure(figsize=(20, 5))\n",
    "plt.bar(train['status'].value_counts().index, train['status'].value_counts().values)\n",
    "plt.title('status')"
   ]
  },
  {
   "cell_type": "code",
   "execution_count": 15,
   "id": "3b004c5a",
   "metadata": {
    "scrolled": true
   },
   "outputs": [
    {
     "name": "stdout",
     "output_type": "stream",
     "text": [
      "driving_sys\n",
      "AWD    5167\n",
      "FWD    1267\n",
      "RWD    1063\n",
      "Name: count, dtype: int64\n",
      "----------------------------------------------------------------------------------------------------\n"
     ]
    },
    {
     "data": {
      "text/plain": [
       "Text(0.5, 1.0, 'driving_sys')"
      ]
     },
     "execution_count": 15,
     "metadata": {},
     "output_type": "execute_result"
    },
    {
     "data": {
      "image/png": "[encoded data removed]",
      "text/plain": [
       "<Figure size 2000x500 with 1 Axes>"
      ]
     },
     "metadata": {},
     "output_type": "display_data"
    }
   ],
   "source": [
    "print(train['driving_sys'].value_counts())\n",
    "\n",
    "print(\"-\" * 100)\n",
    "\n",
    "plt.figure(figsize=(20, 5))\n",
    "plt.bar(train['driving_sys'].value_counts().index, train['driving_sys'].value_counts().values)\n",
    "plt.title('driving_sys')"
   ]
  },
  {
   "cell_type": "code",
   "execution_count": 16,
   "id": "ce271f4f",
   "metadata": {},
   "outputs": [
    {
     "name": "stdout",
     "output_type": "stream",
     "text": [
      "accident\n",
      "No     7154\n",
      "Yes     343\n",
      "Name: count, dtype: int64\n",
      "----------------------------------------------------------------------------------------------------\n"
     ]
    },
    {
     "data": {
      "text/plain": [
       "Text(0.5, 1.0, 'accident')"
      ]
     },
     "execution_count": 16,
     "metadata": {},
     "output_type": "execute_result"
    },
    {
     "data": {
      "image/png": "[encoded data removed]",
      "text/plain": [
       "<Figure size 2000x500 with 1 Axes>"
      ]
     },
     "metadata": {},
     "output_type": "display_data"
    }
   ],
   "source": [
    "print(train['accident'].value_counts())\n",
    "\n",
    "print(\"-\" * 100)\n",
    "\n",
    "plt.figure(figsize=(20, 5))\n",
    "plt.bar(train['accident'].value_counts().index, train['accident'].value_counts().values)\n",
    "plt.title('accident')"
   ]
  },
  {
   "cell_type": "markdown",
   "id": "facdc105",
   "metadata": {},
   "source": [
    "## Label Encoding"
   ]
  },
  {
   "cell_type": "code",
   "execution_count": 17,
   "id": "037b6d81",
   "metadata": {},
   "outputs": [],
   "source": [
    "from sklearn.preprocessing import LabelEncoder"
   ]
  },
  {
   "cell_type": "code",
   "execution_count": 18,
   "id": "6545484f",
   "metadata": {},
   "outputs": [
    {
     "name": "stdout",
     "output_type": "stream",
     "text": [
      "['A사' 'B사' 'H사' 'K사' 'P사' 'T사' 'V사']\n",
      "['A사' 'B사' 'H사' 'K사' 'P사' 'T사' 'V사']\n",
      "['Brand New' 'Nearly New' 'Pre-Owned']\n",
      "['AWD' 'FWD' 'RWD']\n",
      "['No' 'Yes']\n"
     ]
    }
   ],
   "source": [
    "le1 = LabelEncoder()\n",
    "le1.fit(train['brand'])\n",
    "print(le1.classes_)\n",
    "train['brand'] = le1.transform(train['brand'])\n",
    "test['brand'] = le1.transform(test['brand'])\n",
    "\n",
    "le2 = LabelEncoder()\n",
    "le2.fit(train['model'])\n",
    "print(le1.classes_)\n",
    "train['model'] = le2.transform(train['model'])\n",
    "test['model'] = le2.transform(test['model']) \n",
    "\n",
    "le3 = LabelEncoder()\n",
    "le3.fit(train['status'])\n",
    "print(le3.classes_)\n",
    "train['status'] = le3.transform(train['status'])\n",
    "test['status'] = le3.transform(test['status'])\n",
    "\n",
    "le4 = LabelEncoder()\n",
    "le4.fit(train['driving_sys'])\n",
    "print(le4.classes_)\n",
    "train['driving_sys'] = le4.transform(train['driving_sys'])\n",
    "test['driving_sys'] = le4.transform(test['driving_sys'])\n",
    "\n",
    "le5 = LabelEncoder()\n",
    "le5.fit(train['accident'])\n",
    "print(le5.classes_)\n",
    "train['accident'] = le5.transform(train['accident'])\n",
    "test['accident'] = le5.transform(test['accident'])"
   ]
  },
  {
   "cell_type": "markdown",
   "id": "456e6131",
   "metadata": {},
   "source": [
    "## Correlation"
   ]
  },
  {
   "cell_type": "code",
   "execution_count": 19,
   "id": "72455af7-e9a9-4717-b508-c02c80bc1332",
   "metadata": {
    "scrolled": true
   },
   "outputs": [
    {
     "data": {
      "text/html": [
       "<div>\n",
       "<style scoped>\n",
       "    .dataframe tbody tr th:only-of-type {\n",
       "        vertical-align: middle;\n",
       "    }\n",
       "\n",
       "    .dataframe tbody tr th {\n",
       "        vertical-align: top;\n",
       "    }\n",
       "\n",
       "    .dataframe thead th {\n",
       "        text-align: right;\n",
       "    }\n",
       "</style>\n",
       "<table border=\"1\" class=\"dataframe\">\n",
       "  <thead>\n",
       "    <tr style=\"text-align: right;\">\n",
       "      <th></th>\n",
       "      <th>brand</th>\n",
       "      <th>model</th>\n",
       "      <th>status</th>\n",
       "      <th>battery</th>\n",
       "      <th>driving_sys</th>\n",
       "      <th>mileage</th>\n",
       "      <th>warranty</th>\n",
       "      <th>accident</th>\n",
       "      <th>year</th>\n",
       "      <th>price</th>\n",
       "    </tr>\n",
       "  </thead>\n",
       "  <tbody>\n",
       "    <tr>\n",
       "      <th>0</th>\n",
       "      <td>4</td>\n",
       "      <td>16</td>\n",
       "      <td>1</td>\n",
       "      <td>86.077000</td>\n",
       "      <td>0</td>\n",
       "      <td>13642</td>\n",
       "      <td>0</td>\n",
       "      <td>0</td>\n",
       "      <td>2</td>\n",
       "      <td>159.66</td>\n",
       "    </tr>\n",
       "    <tr>\n",
       "      <th>1</th>\n",
       "      <td>3</td>\n",
       "      <td>10</td>\n",
       "      <td>1</td>\n",
       "      <td>56.000000</td>\n",
       "      <td>1</td>\n",
       "      <td>10199</td>\n",
       "      <td>6</td>\n",
       "      <td>0</td>\n",
       "      <td>0</td>\n",
       "      <td>28.01</td>\n",
       "    </tr>\n",
       "    <tr>\n",
       "      <th>2</th>\n",
       "      <td>0</td>\n",
       "      <td>17</td>\n",
       "      <td>0</td>\n",
       "      <td>91.200000</td>\n",
       "      <td>0</td>\n",
       "      <td>2361</td>\n",
       "      <td>7</td>\n",
       "      <td>0</td>\n",
       "      <td>0</td>\n",
       "      <td>66.27</td>\n",
       "    </tr>\n",
       "    <tr>\n",
       "      <th>3</th>\n",
       "      <td>0</td>\n",
       "      <td>12</td>\n",
       "      <td>1</td>\n",
       "      <td>84.399252</td>\n",
       "      <td>0</td>\n",
       "      <td>21683</td>\n",
       "      <td>3</td>\n",
       "      <td>0</td>\n",
       "      <td>0</td>\n",
       "      <td>99.16</td>\n",
       "    </tr>\n",
       "    <tr>\n",
       "      <th>4</th>\n",
       "      <td>1</td>\n",
       "      <td>19</td>\n",
       "      <td>2</td>\n",
       "      <td>61.018000</td>\n",
       "      <td>0</td>\n",
       "      <td>178205</td>\n",
       "      <td>1</td>\n",
       "      <td>0</td>\n",
       "      <td>0</td>\n",
       "      <td>62.02</td>\n",
       "    </tr>\n",
       "    <tr>\n",
       "      <th>...</th>\n",
       "      <td>...</td>\n",
       "      <td>...</td>\n",
       "      <td>...</td>\n",
       "      <td>...</td>\n",
       "      <td>...</td>\n",
       "      <td>...</td>\n",
       "      <td>...</td>\n",
       "      <td>...</td>\n",
       "      <td>...</td>\n",
       "      <td>...</td>\n",
       "    </tr>\n",
       "    <tr>\n",
       "      <th>7492</th>\n",
       "      <td>2</td>\n",
       "      <td>2</td>\n",
       "      <td>0</td>\n",
       "      <td>66.439545</td>\n",
       "      <td>0</td>\n",
       "      <td>3773</td>\n",
       "      <td>10</td>\n",
       "      <td>0</td>\n",
       "      <td>0</td>\n",
       "      <td>35.95</td>\n",
       "    </tr>\n",
       "    <tr>\n",
       "      <th>7493</th>\n",
       "      <td>1</td>\n",
       "      <td>18</td>\n",
       "      <td>2</td>\n",
       "      <td>46.000000</td>\n",
       "      <td>2</td>\n",
       "      <td>135411</td>\n",
       "      <td>2</td>\n",
       "      <td>0</td>\n",
       "      <td>0</td>\n",
       "      <td>23.40</td>\n",
       "    </tr>\n",
       "    <tr>\n",
       "      <th>7494</th>\n",
       "      <td>4</td>\n",
       "      <td>15</td>\n",
       "      <td>0</td>\n",
       "      <td>77.563933</td>\n",
       "      <td>0</td>\n",
       "      <td>1363</td>\n",
       "      <td>2</td>\n",
       "      <td>0</td>\n",
       "      <td>0</td>\n",
       "      <td>120.00</td>\n",
       "    </tr>\n",
       "    <tr>\n",
       "      <th>7495</th>\n",
       "      <td>1</td>\n",
       "      <td>18</td>\n",
       "      <td>1</td>\n",
       "      <td>56.000000</td>\n",
       "      <td>2</td>\n",
       "      <td>39445</td>\n",
       "      <td>6</td>\n",
       "      <td>0</td>\n",
       "      <td>2</td>\n",
       "      <td>24.00</td>\n",
       "    </tr>\n",
       "    <tr>\n",
       "      <th>7496</th>\n",
       "      <td>5</td>\n",
       "      <td>9</td>\n",
       "      <td>2</td>\n",
       "      <td>51.940000</td>\n",
       "      <td>0</td>\n",
       "      <td>80215</td>\n",
       "      <td>0</td>\n",
       "      <td>0</td>\n",
       "      <td>0</td>\n",
       "      <td>74.06</td>\n",
       "    </tr>\n",
       "  </tbody>\n",
       "</table>\n",
       "<p>7497 rows × 10 columns</p>\n",
       "</div>"
      ],
      "text/plain": [
       "      brand  model  status    battery  driving_sys  mileage  warranty  \\\n",
       "0         4     16       1  86.077000            0    13642         0   \n",
       "1         3     10       1  56.000000            1    10199         6   \n",
       "2         0     17       0  91.200000            0     2361         7   \n",
       "3         0     12       1  84.399252            0    21683         3   \n",
       "4         1     19       2  61.018000            0   178205         1   \n",
       "...     ...    ...     ...        ...          ...      ...       ...   \n",
       "7492      2      2       0  66.439545            0     3773        10   \n",
       "7493      1     18       2  46.000000            2   135411         2   \n",
       "7494      4     15       0  77.563933            0     1363         2   \n",
       "7495      1     18       1  56.000000            2    39445         6   \n",
       "7496      5      9       2  51.940000            0    80215         0   \n",
       "\n",
       "      accident  year   price  \n",
       "0            0     2  159.66  \n",
       "1            0     0   28.01  \n",
       "2            0     0   66.27  \n",
       "3            0     0   99.16  \n",
       "4            0     0   62.02  \n",
       "...        ...   ...     ...  \n",
       "7492         0     0   35.95  \n",
       "7493         0     0   23.40  \n",
       "7494         0     0  120.00  \n",
       "7495         0     2   24.00  \n",
       "7496         0     0   74.06  \n",
       "\n",
       "[7497 rows x 10 columns]"
      ]
     },
     "execution_count": 19,
     "metadata": {},
     "output_type": "execute_result"
    }
   ],
   "source": [
    "train = train.drop('ID', axis=1)\n",
    "train"
   ]
  },
  {
   "cell_type": "code",
   "execution_count": 20,
   "id": "44653ee2",
   "metadata": {},
   "outputs": [
    {
     "data": {
      "text/html": [
       "<div>\n",
       "<style scoped>\n",
       "    .dataframe tbody tr th:only-of-type {\n",
       "        vertical-align: middle;\n",
       "    }\n",
       "\n",
       "    .dataframe tbody tr th {\n",
       "        vertical-align: top;\n",
       "    }\n",
       "\n",
       "    .dataframe thead th {\n",
       "        text-align: right;\n",
       "    }\n",
       "</style>\n",
       "<table border=\"1\" class=\"dataframe\">\n",
       "  <thead>\n",
       "    <tr style=\"text-align: right;\">\n",
       "      <th></th>\n",
       "      <th>brand</th>\n",
       "      <th>model</th>\n",
       "      <th>status</th>\n",
       "      <th>battery</th>\n",
       "      <th>driving_sys</th>\n",
       "      <th>mileage</th>\n",
       "      <th>warranty</th>\n",
       "      <th>accident</th>\n",
       "      <th>year</th>\n",
       "      <th>price</th>\n",
       "    </tr>\n",
       "  </thead>\n",
       "  <tbody>\n",
       "    <tr>\n",
       "      <th>brand</th>\n",
       "      <td>1.000000</td>\n",
       "      <td>-0.456246</td>\n",
       "      <td>-0.003524</td>\n",
       "      <td>-0.053238</td>\n",
       "      <td>-0.161701</td>\n",
       "      <td>0.007119</td>\n",
       "      <td>-0.109198</td>\n",
       "      <td>0.003991</td>\n",
       "      <td>-0.018010</td>\n",
       "      <td>0.115258</td>\n",
       "    </tr>\n",
       "    <tr>\n",
       "      <th>model</th>\n",
       "      <td>-0.456246</td>\n",
       "      <td>1.000000</td>\n",
       "      <td>0.065619</td>\n",
       "      <td>0.026001</td>\n",
       "      <td>0.206105</td>\n",
       "      <td>0.056717</td>\n",
       "      <td>-0.293671</td>\n",
       "      <td>0.007158</td>\n",
       "      <td>0.007291</td>\n",
       "      <td>0.441733</td>\n",
       "    </tr>\n",
       "    <tr>\n",
       "      <th>status</th>\n",
       "      <td>-0.003524</td>\n",
       "      <td>0.065619</td>\n",
       "      <td>1.000000</td>\n",
       "      <td>-0.560073</td>\n",
       "      <td>0.013026</td>\n",
       "      <td>0.853196</td>\n",
       "      <td>-0.768512</td>\n",
       "      <td>0.000371</td>\n",
       "      <td>0.103255</td>\n",
       "      <td>-0.065019</td>\n",
       "    </tr>\n",
       "    <tr>\n",
       "      <th>battery</th>\n",
       "      <td>-0.053238</td>\n",
       "      <td>0.026001</td>\n",
       "      <td>-0.560073</td>\n",
       "      <td>1.000000</td>\n",
       "      <td>-0.160354</td>\n",
       "      <td>-0.470917</td>\n",
       "      <td>0.383864</td>\n",
       "      <td>-0.016054</td>\n",
       "      <td>-0.029175</td>\n",
       "      <td>0.440537</td>\n",
       "    </tr>\n",
       "    <tr>\n",
       "      <th>driving_sys</th>\n",
       "      <td>-0.161701</td>\n",
       "      <td>0.206105</td>\n",
       "      <td>0.013026</td>\n",
       "      <td>-0.160354</td>\n",
       "      <td>1.000000</td>\n",
       "      <td>0.003149</td>\n",
       "      <td>0.082218</td>\n",
       "      <td>-0.005461</td>\n",
       "      <td>0.018356</td>\n",
       "      <td>-0.297554</td>\n",
       "    </tr>\n",
       "    <tr>\n",
       "      <th>mileage</th>\n",
       "      <td>0.007119</td>\n",
       "      <td>0.056717</td>\n",
       "      <td>0.853196</td>\n",
       "      <td>-0.470917</td>\n",
       "      <td>0.003149</td>\n",
       "      <td>1.000000</td>\n",
       "      <td>-0.664071</td>\n",
       "      <td>-0.000616</td>\n",
       "      <td>-0.089586</td>\n",
       "      <td>-0.035488</td>\n",
       "    </tr>\n",
       "    <tr>\n",
       "      <th>warranty</th>\n",
       "      <td>-0.109198</td>\n",
       "      <td>-0.293671</td>\n",
       "      <td>-0.768512</td>\n",
       "      <td>0.383864</td>\n",
       "      <td>0.082218</td>\n",
       "      <td>-0.664071</td>\n",
       "      <td>1.000000</td>\n",
       "      <td>-0.008011</td>\n",
       "      <td>0.035294</td>\n",
       "      <td>-0.349962</td>\n",
       "    </tr>\n",
       "    <tr>\n",
       "      <th>accident</th>\n",
       "      <td>0.003991</td>\n",
       "      <td>0.007158</td>\n",
       "      <td>0.000371</td>\n",
       "      <td>-0.016054</td>\n",
       "      <td>-0.005461</td>\n",
       "      <td>-0.000616</td>\n",
       "      <td>-0.008011</td>\n",
       "      <td>1.000000</td>\n",
       "      <td>-0.010446</td>\n",
       "      <td>0.004627</td>\n",
       "    </tr>\n",
       "    <tr>\n",
       "      <th>year</th>\n",
       "      <td>-0.018010</td>\n",
       "      <td>0.007291</td>\n",
       "      <td>0.103255</td>\n",
       "      <td>-0.029175</td>\n",
       "      <td>0.018356</td>\n",
       "      <td>-0.089586</td>\n",
       "      <td>0.035294</td>\n",
       "      <td>-0.010446</td>\n",
       "      <td>1.000000</td>\n",
       "      <td>-0.058455</td>\n",
       "    </tr>\n",
       "    <tr>\n",
       "      <th>price</th>\n",
       "      <td>0.115258</td>\n",
       "      <td>0.441733</td>\n",
       "      <td>-0.065019</td>\n",
       "      <td>0.440537</td>\n",
       "      <td>-0.297554</td>\n",
       "      <td>-0.035488</td>\n",
       "      <td>-0.349962</td>\n",
       "      <td>0.004627</td>\n",
       "      <td>-0.058455</td>\n",
       "      <td>1.000000</td>\n",
       "    </tr>\n",
       "  </tbody>\n",
       "</table>\n",
       "</div>"
      ],
      "text/plain": [
       "                brand     model    status   battery  driving_sys   mileage  \\\n",
       "brand        1.000000 -0.456246 -0.003524 -0.053238    -0.161701  0.007119   \n",
       "model       -0.456246  1.000000  0.065619  0.026001     0.206105  0.056717   \n",
       "status      -0.003524  0.065619  1.000000 -0.560073     0.013026  0.853196   \n",
       "battery     -0.053238  0.026001 -0.560073  1.000000    -0.160354 -0.470917   \n",
       "driving_sys -0.161701  0.206105  0.013026 -0.160354     1.000000  0.003149   \n",
       "mileage      0.007119  0.056717  0.853196 -0.470917     0.003149  1.000000   \n",
       "warranty    -0.109198 -0.293671 -0.768512  0.383864     0.082218 -0.664071   \n",
       "accident     0.003991  0.007158  0.000371 -0.016054    -0.005461 -0.000616   \n",
       "year        -0.018010  0.007291  0.103255 -0.029175     0.018356 -0.089586   \n",
       "price        0.115258  0.441733 -0.065019  0.440537    -0.297554 -0.035488   \n",
       "\n",
       "             warranty  accident      year     price  \n",
       "brand       -0.109198  0.003991 -0.018010  0.115258  \n",
       "model       -0.293671  0.007158  0.007291  0.441733  \n",
       "status      -0.768512  0.000371  0.103255 -0.065019  \n",
       "battery      0.383864 -0.016054 -0.029175  0.440537  \n",
       "driving_sys  0.082218 -0.005461  0.018356 -0.297554  \n",
       "mileage     -0.664071 -0.000616 -0.089586 -0.035488  \n",
       "warranty     1.000000 -0.008011  0.035294 -0.349962  \n",
       "accident    -0.008011  1.000000 -0.010446  0.004627  \n",
       "year         0.035294 -0.010446  1.000000 -0.058455  \n",
       "price       -0.349962  0.004627 -0.058455  1.000000  "
      ]
     },
     "execution_count": 20,
     "metadata": {},
     "output_type": "execute_result"
    }
   ],
   "source": [
    "train.corr()"
   ]
  },
  {
   "cell_type": "code",
   "execution_count": 21,
   "id": "a527fc76",
   "metadata": {
    "scrolled": true
   },
   "outputs": [
    {
     "data": {
      "text/plain": [
       "<Axes: >"
      ]
     },
     "execution_count": 21,
     "metadata": {},
     "output_type": "execute_result"
    },
    {
     "data": {
      "image/png": "[encoded data removed]",
      "text/plain": [
       "<Figure size 1000x1000 with 2 Axes>"
      ]
     },
     "metadata": {},
     "output_type": "display_data"
    }
   ],
   "source": [
    "# %matplotlib inline \n",
    "\n",
    "plt.figure(figsize=(10,10))\n",
    "sns.heatmap(data = train.corr(), annot=True, fmt = '.2f', linewidths=.5, cmap='Blues')"
   ]
  },
  {
   "cell_type": "code",
   "execution_count": 22,
   "id": "de95d45c",
   "metadata": {},
   "outputs": [],
   "source": [
    "train.to_csv('./refined_train_private.csv', index=False)\n",
    "test.to_csv('./refined_test_private.csv', index=False)"
   ]
  },
  {
   "cell_type": "markdown",
   "id": "fef4744d-ef09-448a-9b95-799cba4debf3",
   "metadata": {},
   "source": [
    "# Model Prediction"
   ]
  },
  {
   "cell_type": "code",
   "execution_count": 23,
   "id": "ddac23fa-3bcd-44d1-9842-ed6d5ca91f9f",
   "metadata": {},
   "outputs": [
    {
     "name": "stdout",
     "output_type": "stream",
     "text": [
      "(6147, 9)\n",
      "(1350,)\n",
      "DecisionTreeRegressor - MSE: 1.8770418685374501, RMSE: 1.3700517758601134\n"
     ]
    }
   ],
   "source": [
    "import pandas as pd\n",
    "import numpy as np\n",
    "from sklearn.model_selection import train_test_split\n",
    "from sklearn.metrics import mean_squared_error\n",
    "from sklearn.tree import DecisionTreeRegressor\n",
    "from sklearn.preprocessing import  MinMaxScaler\n",
    "\n",
    "df1 = pd.read_csv(\"./refined_train_private.csv\")\n",
    "df2 = pd.read_csv(\"./refined_test_private.csv\")\n",
    "\n",
    "\n",
    "X = df1.drop(['price'], axis=1)\n",
    "re_df2 = df2.drop('ID', axis=1)\n",
    "y = df1['price']\n",
    "\n",
    "train_x, val_x, train_y, val_y = train_test_split(X, y, test_size=0.18, random_state=2025, shuffle=True)\n",
    "\n",
    "\n",
    "ms = MinMaxScaler()\n",
    "train_x = ms.fit_transform(train_x)\n",
    "val_x = ms.transform(val_x)\n",
    "\n",
    "print(train_x.shape)\n",
    "print(val_y.shape)\n",
    "\n",
    "\n",
    "model = DecisionTreeRegressor(max_depth=10, random_state=2532, max_features=10, max_leaf_nodes=167)\n",
    "model.fit(train_x, train_y)\n",
    "prediction = model.predict(val_x)\n",
    "mse = mean_squared_error(val_y, prediction)\n",
    "rmse = np.sqrt(mse)\n",
    "\n",
    "print(f'DecisionTreeRegressor - MSE: {mse}, RMSE: {rmse}')\n",
    "\n",
    "re_df2 = ms.fit_transform(re_df2)\n",
    "\n",
    "prediction = model.predict(re_df2)\n",
    "submission=pd.DataFrame()\n",
    "submission['ID'] = df2['ID']  \n",
    "submission['가격(백만원)']=prediction\n",
    "\n",
    "submission.to_csv(\"./25_01_05_04_submission.csv\", index=False)"
   ]
  }
 ],
 "metadata": {
  "kernelspec": {
   "display_name": "llm_fine",
   "language": "python",
   "name": "llm_fine"
  },
  "language_info": {
   "codemirror_mode": {
    "name": "ipython",
    "version": 3
   },
   "file_extension": ".py",
   "mimetype": "text/x-python",
   "name": "python",
   "nbconvert_exporter": "python",
   "pygments_lexer": "ipython3",
   "version": "3.11.9"
  }
 },
 "nbformat": 4,
 "nbformat_minor": 5
}
