{
  "nbformat": 4,
  "nbformat_minor": 0,
  "metadata": {
    "colab": {
      "provenance": [],
      "mount_file_id": "1T2YxPbDkgH7L81xGov7V3BE2XZSlVz2P",
      "authorship_tag": "ABX9TyNYGDoN0w0DvJLUneX+TI6W",
      "include_colab_link": true
    },
    "kernelspec": {
      "name": "python3",
      "display_name": "Python 3"
    },
    "language_info": {
      "name": "python"
    }
  },
  "cells": [
    {
      "cell_type": "markdown",
      "metadata": {
        "id": "view-in-github",
        "colab_type": "text"
      },
      "source": [
        "<a href=\"https://colab.research.google.com/github/Pathway2008/CarPrice/blob/main/stack(xgb%2Ccat%2Clgb%2Crf%2Cnn).ipynb\" target=\"_parent\"><img src=\"https://colab.research.google.com/assets/colab-badge.svg\" alt=\"Open In Colab\"/></a>"
      ]
    },
    {
      "cell_type": "code",
      "execution_count": 17,
      "metadata": {
        "id": "BUphOLG85IN_"
      },
      "outputs": [],
      "source": [
        "import pandas as pd\n",
        "import numpy as np\n",
        "from sklearn.model_selection import train_test_split\n",
        "from sklearn.preprocessing import StandardScaler\n",
        "import tensorflow as tf\n",
        "from tensorflow.keras import layers\n",
        "from sklearn.metrics import mean_absolute_error"
      ]
    },
    {
      "cell_type": "code",
      "source": [
        "train = pd.read_csv('/content/drive/MyDrive/CarPrice/train.csv')\n",
        "test = pd.read_csv('/content/drive/MyDrive/CarPrice/test.csv')\n",
        "sub = pd.read_csv('/content/drive/MyDrive/CarPrice/sample_submission.csv')"
      ],
      "metadata": {
        "id": "QU6ZiSBdL6AI"
      },
      "execution_count": 174,
      "outputs": []
    },
    {
      "cell_type": "code",
      "source": [
        "from sklearn.preprocessing import LabelEncoder"
      ],
      "metadata": {
        "id": "vgeNRuz7L7kv"
      },
      "execution_count": 175,
      "outputs": []
    },
    {
      "cell_type": "code",
      "source": [
        "ordinal_features = ['브랜드', '차량모델명', '판매도시', '판매구역']\n",
        "\n",
        "for feature in ordinal_features:\n",
        "    le = LabelEncoder()\n",
        "    le = le.fit(train[feature])\n",
        "    train[feature] = le.transform(train[feature])\n",
        "\n",
        "    for label in np.unique(test[feature]):\n",
        "        if label not in le.classes_:\n",
        "            le.classes_ = np.append(le.classes_, label)\n",
        "    test[feature] = le.transform(test[feature])"
      ],
      "metadata": {
        "id": "TM8IiAabL955"
      },
      "execution_count": 176,
      "outputs": []
    },
    {
      "cell_type": "code",
      "source": [
        "train.head()"
      ],
      "metadata": {
        "colab": {
          "base_uri": "https://localhost:8080/",
          "height": 267
        },
        "id": "hIUZ3DQkgMoY",
        "outputId": "8813853b-799e-40aa-d725-2021a0c85d50"
      },
      "execution_count": 61,
      "outputs": [
        {
          "output_type": "execute_result",
          "data": {
            "text/plain": [
              "            ID  생산년도  모델출시년도  브랜드  차량모델명  판매도시  판매구역    주행거리   배기량  \\\n",
              "0  TRAIN_00000  2018    2014   16     47  1214    12   85231   999   \n",
              "1  TRAIN_00001  2010    2006   17     20  2137    13  135000  1598   \n",
              "2  TRAIN_00002  2002    2002    9     36   785    15  255223  1796   \n",
              "3  TRAIN_00003  2006    2001   11    133   546    15  238000  2184   \n",
              "4  TRAIN_00004  2007    2007    3     25  1839     5  251000  1910   \n",
              "\n",
              "   압축천연가스(CNG)  경유  가솔린  하이브리드  액화석유가스(LPG)     가격  \n",
              "0            0   0    1      0            0  51.74  \n",
              "1            0   0    1      0            0  41.47  \n",
              "2            0   0    1      0            0  17.81  \n",
              "3            0   1    0      0            0  18.20  \n",
              "4            0   1    0      0            0  17.55  "
            ],
            "text/html": [
              "\n",
              "  <div id=\"df-c5e426f5-a01b-47d7-b8c0-9ccb08b189a3\">\n",
              "    <div class=\"colab-df-container\">\n",
              "      <div>\n",
              "<style scoped>\n",
              "    .dataframe tbody tr th:only-of-type {\n",
              "        vertical-align: middle;\n",
              "    }\n",
              "\n",
              "    .dataframe tbody tr th {\n",
              "        vertical-align: top;\n",
              "    }\n",
              "\n",
              "    .dataframe thead th {\n",
              "        text-align: right;\n",
              "    }\n",
              "</style>\n",
              "<table border=\"1\" class=\"dataframe\">\n",
              "  <thead>\n",
              "    <tr style=\"text-align: right;\">\n",
              "      <th></th>\n",
              "      <th>ID</th>\n",
              "      <th>생산년도</th>\n",
              "      <th>모델출시년도</th>\n",
              "      <th>브랜드</th>\n",
              "      <th>차량모델명</th>\n",
              "      <th>판매도시</th>\n",
              "      <th>판매구역</th>\n",
              "      <th>주행거리</th>\n",
              "      <th>배기량</th>\n",
              "      <th>압축천연가스(CNG)</th>\n",
              "      <th>경유</th>\n",
              "      <th>가솔린</th>\n",
              "      <th>하이브리드</th>\n",
              "      <th>액화석유가스(LPG)</th>\n",
              "      <th>가격</th>\n",
              "    </tr>\n",
              "  </thead>\n",
              "  <tbody>\n",
              "    <tr>\n",
              "      <th>0</th>\n",
              "      <td>TRAIN_00000</td>\n",
              "      <td>2018</td>\n",
              "      <td>2014</td>\n",
              "      <td>16</td>\n",
              "      <td>47</td>\n",
              "      <td>1214</td>\n",
              "      <td>12</td>\n",
              "      <td>85231</td>\n",
              "      <td>999</td>\n",
              "      <td>0</td>\n",
              "      <td>0</td>\n",
              "      <td>1</td>\n",
              "      <td>0</td>\n",
              "      <td>0</td>\n",
              "      <td>51.74</td>\n",
              "    </tr>\n",
              "    <tr>\n",
              "      <th>1</th>\n",
              "      <td>TRAIN_00001</td>\n",
              "      <td>2010</td>\n",
              "      <td>2006</td>\n",
              "      <td>17</td>\n",
              "      <td>20</td>\n",
              "      <td>2137</td>\n",
              "      <td>13</td>\n",
              "      <td>135000</td>\n",
              "      <td>1598</td>\n",
              "      <td>0</td>\n",
              "      <td>0</td>\n",
              "      <td>1</td>\n",
              "      <td>0</td>\n",
              "      <td>0</td>\n",
              "      <td>41.47</td>\n",
              "    </tr>\n",
              "    <tr>\n",
              "      <th>2</th>\n",
              "      <td>TRAIN_00002</td>\n",
              "      <td>2002</td>\n",
              "      <td>2002</td>\n",
              "      <td>9</td>\n",
              "      <td>36</td>\n",
              "      <td>785</td>\n",
              "      <td>15</td>\n",
              "      <td>255223</td>\n",
              "      <td>1796</td>\n",
              "      <td>0</td>\n",
              "      <td>0</td>\n",
              "      <td>1</td>\n",
              "      <td>0</td>\n",
              "      <td>0</td>\n",
              "      <td>17.81</td>\n",
              "    </tr>\n",
              "    <tr>\n",
              "      <th>3</th>\n",
              "      <td>TRAIN_00003</td>\n",
              "      <td>2006</td>\n",
              "      <td>2001</td>\n",
              "      <td>11</td>\n",
              "      <td>133</td>\n",
              "      <td>546</td>\n",
              "      <td>15</td>\n",
              "      <td>238000</td>\n",
              "      <td>2184</td>\n",
              "      <td>0</td>\n",
              "      <td>1</td>\n",
              "      <td>0</td>\n",
              "      <td>0</td>\n",
              "      <td>0</td>\n",
              "      <td>18.20</td>\n",
              "    </tr>\n",
              "    <tr>\n",
              "      <th>4</th>\n",
              "      <td>TRAIN_00004</td>\n",
              "      <td>2007</td>\n",
              "      <td>2007</td>\n",
              "      <td>3</td>\n",
              "      <td>25</td>\n",
              "      <td>1839</td>\n",
              "      <td>5</td>\n",
              "      <td>251000</td>\n",
              "      <td>1910</td>\n",
              "      <td>0</td>\n",
              "      <td>1</td>\n",
              "      <td>0</td>\n",
              "      <td>0</td>\n",
              "      <td>0</td>\n",
              "      <td>17.55</td>\n",
              "    </tr>\n",
              "  </tbody>\n",
              "</table>\n",
              "</div>\n",
              "      <button class=\"colab-df-convert\" onclick=\"convertToInteractive('df-c5e426f5-a01b-47d7-b8c0-9ccb08b189a3')\"\n",
              "              title=\"Convert this dataframe to an interactive table.\"\n",
              "              style=\"display:none;\">\n",
              "        \n",
              "  <svg xmlns=\"http://www.w3.org/2000/svg\" height=\"24px\"viewBox=\"0 0 24 24\"\n",
              "       width=\"24px\">\n",
              "    <path d=\"M0 0h24v24H0V0z\" fill=\"none\"/>\n",
              "    <path d=\"M18.56 5.44l.94 2.06.94-2.06 2.06-.94-2.06-.94-.94-2.06-.94 2.06-2.06.94zm-11 1L8.5 8.5l.94-2.06 2.06-.94-2.06-.94L8.5 2.5l-.94 2.06-2.06.94zm10 10l.94 2.06.94-2.06 2.06-.94-2.06-.94-.94-2.06-.94 2.06-2.06.94z\"/><path d=\"M17.41 7.96l-1.37-1.37c-.4-.4-.92-.59-1.43-.59-.52 0-1.04.2-1.43.59L10.3 9.45l-7.72 7.72c-.78.78-.78 2.05 0 2.83L4 21.41c.39.39.9.59 1.41.59.51 0 1.02-.2 1.41-.59l7.78-7.78 2.81-2.81c.8-.78.8-2.07 0-2.86zM5.41 20L4 18.59l7.72-7.72 1.47 1.35L5.41 20z\"/>\n",
              "  </svg>\n",
              "      </button>\n",
              "      \n",
              "  <style>\n",
              "    .colab-df-container {\n",
              "      display:flex;\n",
              "      flex-wrap:wrap;\n",
              "      gap: 12px;\n",
              "    }\n",
              "\n",
              "    .colab-df-convert {\n",
              "      background-color: #E8F0FE;\n",
              "      border: none;\n",
              "      border-radius: 50%;\n",
              "      cursor: pointer;\n",
              "      display: none;\n",
              "      fill: #1967D2;\n",
              "      height: 32px;\n",
              "      padding: 0 0 0 0;\n",
              "      width: 32px;\n",
              "    }\n",
              "\n",
              "    .colab-df-convert:hover {\n",
              "      background-color: #E2EBFA;\n",
              "      box-shadow: 0px 1px 2px rgba(60, 64, 67, 0.3), 0px 1px 3px 1px rgba(60, 64, 67, 0.15);\n",
              "      fill: #174EA6;\n",
              "    }\n",
              "\n",
              "    [theme=dark] .colab-df-convert {\n",
              "      background-color: #3B4455;\n",
              "      fill: #D2E3FC;\n",
              "    }\n",
              "\n",
              "    [theme=dark] .colab-df-convert:hover {\n",
              "      background-color: #434B5C;\n",
              "      box-shadow: 0px 1px 3px 1px rgba(0, 0, 0, 0.15);\n",
              "      filter: drop-shadow(0px 1px 2px rgba(0, 0, 0, 0.3));\n",
              "      fill: #FFFFFF;\n",
              "    }\n",
              "  </style>\n",
              "\n",
              "      <script>\n",
              "        const buttonEl =\n",
              "          document.querySelector('#df-c5e426f5-a01b-47d7-b8c0-9ccb08b189a3 button.colab-df-convert');\n",
              "        buttonEl.style.display =\n",
              "          google.colab.kernel.accessAllowed ? 'block' : 'none';\n",
              "\n",
              "        async function convertToInteractive(key) {\n",
              "          const element = document.querySelector('#df-c5e426f5-a01b-47d7-b8c0-9ccb08b189a3');\n",
              "          const dataTable =\n",
              "            await google.colab.kernel.invokeFunction('convertToInteractive',\n",
              "                                                     [key], {});\n",
              "          if (!dataTable) return;\n",
              "\n",
              "          const docLinkHtml = 'Like what you see? Visit the ' +\n",
              "            '<a target=\"_blank\" href=https://colab.research.google.com/notebooks/data_table.ipynb>data table notebook</a>'\n",
              "            + ' to learn more about interactive tables.';\n",
              "          element.innerHTML = '';\n",
              "          dataTable['output_type'] = 'display_data';\n",
              "          await google.colab.output.renderOutput(dataTable, element);\n",
              "          const docLink = document.createElement('div');\n",
              "          docLink.innerHTML = docLinkHtml;\n",
              "          element.appendChild(docLink);\n",
              "        }\n",
              "      </script>\n",
              "    </div>\n",
              "  </div>\n",
              "  "
            ]
          },
          "metadata": {},
          "execution_count": 61
        }
      ]
    },
    {
      "cell_type": "code",
      "source": [
        "X = train.drop(['ID', '가격'], axis=1)\n",
        "y = train['가격']"
      ],
      "metadata": {
        "id": "2usx1VYNMA04"
      },
      "execution_count": 6,
      "outputs": []
    },
    {
      "cell_type": "code",
      "source": [
        "X_train, X_valid, y_train, y_valid = train_test_split(X, y, test_size=0.2, random_state=42)"
      ],
      "metadata": {
        "id": "jLdrBmxoMKPM"
      },
      "execution_count": 82,
      "outputs": []
    },
    {
      "cell_type": "code",
      "source": [
        "scaler = StandardScaler()\n",
        "X_train_scaled = scaler.fit_transform(X_train)\n",
        "X_valid_scaled = scaler.transform(X_valid)"
      ],
      "metadata": {
        "id": "BO1szkuuj8Ao"
      },
      "execution_count": 83,
      "outputs": []
    },
    {
      "cell_type": "code",
      "source": [
        "model = tf.keras.Sequential([\n",
        "    layers.Dense(64, activation='relu', input_shape=(X_train_scaled.shape[1],)),\n",
        "    layers.Dense(64, activation='relu'),\n",
        "    layers.Dense(1)\n",
        "])"
      ],
      "metadata": {
        "id": "61n49K8kMn-C"
      },
      "execution_count": 78,
      "outputs": []
    },
    {
      "cell_type": "code",
      "source": [
        "model.compile(optimizer='adam', loss='mean_absolute_error')"
      ],
      "metadata": {
        "id": "vdTScyJOM3-c"
      },
      "execution_count": 79,
      "outputs": []
    },
    {
      "cell_type": "code",
      "source": [
        "model.fit(X_train_scaled, y_train, validation_data=(X_valid_scaled, y_valid), epochs=10, batch_size=32)"
      ],
      "metadata": {
        "colab": {
          "base_uri": "https://localhost:8080/"
        },
        "id": "ZCm__QpSM68c",
        "outputId": "bafcf4b6-ebf6-4f5a-e309-90a944d05ec3"
      },
      "execution_count": 80,
      "outputs": [
        {
          "output_type": "stream",
          "name": "stdout",
          "text": [
            "Epoch 1/10\n",
            "1448/1448 [==============================] - 3s 1ms/step - loss: 22.5636 - val_loss: 14.1598\n",
            "Epoch 2/10\n",
            "1448/1448 [==============================] - 2s 1ms/step - loss: 14.1415 - val_loss: 12.3377\n",
            "Epoch 3/10\n",
            "1448/1448 [==============================] - 2s 1ms/step - loss: 12.9541 - val_loss: 14.0973\n",
            "Epoch 4/10\n",
            "1448/1448 [==============================] - 2s 2ms/step - loss: 12.4923 - val_loss: 11.5017\n",
            "Epoch 5/10\n",
            "1448/1448 [==============================] - 2s 2ms/step - loss: 12.2302 - val_loss: 12.4659\n",
            "Epoch 6/10\n",
            "1448/1448 [==============================] - 4s 3ms/step - loss: 11.8225 - val_loss: 11.0552\n",
            "Epoch 7/10\n",
            "1448/1448 [==============================] - 2s 2ms/step - loss: 11.7919 - val_loss: 12.8745\n",
            "Epoch 8/10\n",
            "1448/1448 [==============================] - 2s 2ms/step - loss: 11.6247 - val_loss: 10.8343\n",
            "Epoch 9/10\n",
            "1448/1448 [==============================] - 3s 2ms/step - loss: 11.5519 - val_loss: 11.7669\n",
            "Epoch 10/10\n",
            "1448/1448 [==============================] - 3s 2ms/step - loss: 11.3442 - val_loss: 11.4781\n"
          ]
        },
        {
          "output_type": "execute_result",
          "data": {
            "text/plain": [
              "<keras.callbacks.History at 0x7f2d9e5b3880>"
            ]
          },
          "metadata": {},
          "execution_count": 80
        }
      ]
    },
    {
      "cell_type": "code",
      "source": [
        "# 생산년도, 모델출시년도, 주행거리, 배기량 scaling\n",
        "y_pred = model.predict(X_valid_scaled)\n",
        "\n",
        "mae = mean_absolute_error(y_valid, y_pred)\n",
        "print(f\"Mean Absolute Error (MAE): {mae}\")"
      ],
      "metadata": {
        "colab": {
          "base_uri": "https://localhost:8080/"
        },
        "id": "2LtSOCQGiVLS",
        "outputId": "ecd827fe-50cc-439f-8881-bedea2c49748"
      },
      "execution_count": 81,
      "outputs": [
        {
          "output_type": "stream",
          "name": "stdout",
          "text": [
            "362/362 [==============================] - 0s 830us/step\n",
            "Mean Absolute Error (MAE): 11.47808090030571\n"
          ]
        }
      ]
    },
    {
      "cell_type": "code",
      "source": [
        "# 주행거리, 배기량 scaling\n",
        "y_pred = model.predict(X_valid_scaled)\n",
        "\n",
        "mae = mean_absolute_error(y_valid, y_pred)\n",
        "print(f\"Mean Absolute Error (MAE): {mae}\")"
      ],
      "metadata": {
        "colab": {
          "base_uri": "https://localhost:8080/"
        },
        "id": "ReIhN28nh4od",
        "outputId": "69b73c99-f493-411f-8a4a-ac4b7ed17422"
      },
      "execution_count": 75,
      "outputs": [
        {
          "output_type": "stream",
          "name": "stdout",
          "text": [
            "362/362 [==============================] - 0s 760us/step\n",
            "Mean Absolute Error (MAE): 19.750413768999355\n"
          ]
        }
      ]
    },
    {
      "cell_type": "code",
      "source": [
        "# all scaling\n",
        "y_pred = model.predict(X_valid_scaled)\n",
        "\n",
        "mae = mean_absolute_error(y_valid, y_pred)\n",
        "print(f\"Mean Absolute Error (MAE): {mae}\")"
      ],
      "metadata": {
        "colab": {
          "base_uri": "https://localhost:8080/"
        },
        "id": "b03j6TRqNGZz",
        "outputId": "ddc92c7f-572d-4526-94e4-13416b819bd7"
      },
      "execution_count": 19,
      "outputs": [
        {
          "output_type": "stream",
          "name": "stdout",
          "text": [
            "362/362 [==============================] - 1s 2ms/step\n",
            "Mean Absolute Error (MAE): 8.859541535926828\n"
          ]
        }
      ]
    },
    {
      "cell_type": "markdown",
      "source": [
        "Neural Networks + optuna"
      ],
      "metadata": {
        "id": "pt8WkA_9ZRlg"
      }
    },
    {
      "cell_type": "code",
      "source": [
        "def objective(trial):\n",
        "    # Define the hyperparameters to be tuned\n",
        "    n_units = trial.suggest_int('n_units', 32, 128)\n",
        "    learning_rate = trial.suggest_loguniform('learning_rate', 1e-4, 1e-1)\n",
        "\n",
        "    # Build the neural network model\n",
        "    model = tf.keras.Sequential([\n",
        "        layers.Dense(n_units, activation='relu', input_shape=(X_train_scaled.shape[1],)),\n",
        "        layers.Dense(n_units, activation='relu'),\n",
        "        layers.Dense(1)\n",
        "    ])\n",
        "\n",
        "    # Compile the model\n",
        "    model.compile(optimizer=tf.keras.optimizers.Adam(learning_rate=learning_rate),\n",
        "                  loss='mean_absolute_error')\n",
        "\n",
        "    # Train the model with early stopping based on the validation loss\n",
        "    model.fit(X_train_scaled, y_train,\n",
        "              validation_data=(X_valid_scaled, y_valid),\n",
        "              epochs=10,\n",
        "              batch_size=32,\n",
        "              callbacks=[TFKerasPruningCallback(trial, 'val_loss')])  # Enable pruning\n",
        "\n",
        "    # Evaluate the model on the validation set\n",
        "    val_loss = model.evaluate(X_valid_scaled, y_valid)\n",
        "\n",
        "    return val_loss"
      ],
      "metadata": {
        "id": "a8SiNtjnZROz"
      },
      "execution_count": 45,
      "outputs": []
    },
    {
      "cell_type": "code",
      "source": [
        "import optuna\n",
        "from optuna.integration import TFKerasPruningCallback\n",
        "from tqdm import tqdm"
      ],
      "metadata": {
        "id": "grJNmorgZ-in"
      },
      "execution_count": 55,
      "outputs": []
    },
    {
      "cell_type": "code",
      "source": [
        "!pip install optuna"
      ],
      "metadata": {
        "id": "Raqv5Rd5aAUz"
      },
      "execution_count": null,
      "outputs": []
    },
    {
      "cell_type": "code",
      "source": [
        "!pip install optuna-integration"
      ],
      "metadata": {
        "id": "cNKSbzn8aeoh"
      },
      "execution_count": null,
      "outputs": []
    },
    {
      "cell_type": "code",
      "source": [
        "study = optuna.create_study(direction='minimize')\n",
        "n_trials = 100\n",
        "\n",
        "with tqdm(total=n_trials) as pbar:\n",
        "    def update_pbar(study, trial):\n",
        "        pbar.update(1)\n",
        "\n",
        "    study.optimize(objective, n_trials=n_trials, callbacks=[update_pbar])"
      ],
      "metadata": {
        "colab": {
          "base_uri": "https://localhost:8080/"
        },
        "id": "mzv9RLJmZZsH",
        "outputId": "77e9a7f8-d961-43e3-99a0-5f0e2c3f20ad"
      },
      "execution_count": 56,
      "outputs": [
        {
          "output_type": "stream",
          "name": "stderr",
          "text": [
            "[I 2023-06-19 06:49:15,982] A new study created in memory with name: no-name-26b8c157-8b01-475d-82ef-faf12d12e281\n",
            "  0%|          | 0/100 [00:00<?, ?it/s]"
          ]
        },
        {
          "output_type": "stream",
          "name": "stdout",
          "text": [
            "Epoch 1/10\n"
          ]
        },
        {
          "output_type": "stream",
          "name": "stderr",
          "text": [
            "<ipython-input-45-d9649e96336f>:4: FutureWarning: suggest_loguniform has been deprecated in v3.0.0. This feature will be removed in v6.0.0. See https://github.com/optuna/optuna/releases/tag/v3.0.0. Use suggest_float(..., log=True) instead.\n",
            "  learning_rate = trial.suggest_loguniform('learning_rate', 1e-4, 1e-1)\n"
          ]
        },
        {
          "output_type": "stream",
          "name": "stdout",
          "text": [
            "1448/1448 [==============================] - 5s 3ms/step - loss: 11.2912 - val_loss: 9.7481\n",
            "Epoch 2/10\n",
            "1448/1448 [==============================] - 4s 2ms/step - loss: 10.1366 - val_loss: 10.4292\n",
            "Epoch 3/10\n",
            "1448/1448 [==============================] - 4s 3ms/step - loss: 9.9394 - val_loss: 9.5830\n",
            "Epoch 4/10\n",
            "1448/1448 [==============================] - 2s 1ms/step - loss: 9.9097 - val_loss: 9.6065\n",
            "Epoch 5/10\n",
            "1448/1448 [==============================] - 2s 1ms/step - loss: 9.7591 - val_loss: 9.6564\n",
            "Epoch 6/10\n",
            "1448/1448 [==============================] - 2s 1ms/step - loss: 9.7230 - val_loss: 9.8117\n",
            "Epoch 7/10\n",
            "1448/1448 [==============================] - 2s 1ms/step - loss: 9.7498 - val_loss: 9.3901\n",
            "Epoch 8/10\n",
            "1448/1448 [==============================] - 2s 1ms/step - loss: 9.6598 - val_loss: 9.3166\n",
            "Epoch 9/10\n",
            "1448/1448 [==============================] - 2s 1ms/step - loss: 9.8090 - val_loss: 9.8849\n",
            "Epoch 10/10\n",
            "1448/1448 [==============================] - 3s 2ms/step - loss: 9.6263 - val_loss: 9.5874\n",
            "362/362 [==============================] - 0s 823us/step - loss: 9.5874\n"
          ]
        },
        {
          "output_type": "stream",
          "name": "stderr",
          "text": [
            "[I 2023-06-19 06:49:58,220] Trial 0 finished with value: 9.587353706359863 and parameters: {'n_units': 55, 'learning_rate': 0.08288835417882426}. Best is trial 0 with value: 9.587353706359863.\n",
            "  1%|          | 1/100 [00:42<1:09:40, 42.23s/it]"
          ]
        },
        {
          "output_type": "stream",
          "name": "stdout",
          "text": [
            "Epoch 1/10\n",
            "1448/1448 [==============================] - 2s 1ms/step - loss: 11.9318 - val_loss: 10.1912\n",
            "Epoch 2/10\n",
            "1448/1448 [==============================] - 2s 1ms/step - loss: 9.5010 - val_loss: 9.4877\n",
            "Epoch 3/10\n",
            "1448/1448 [==============================] - 2s 1ms/step - loss: 9.1684 - val_loss: 9.1750\n",
            "Epoch 4/10\n",
            "1448/1448 [==============================] - 2s 2ms/step - loss: 8.9781 - val_loss: 9.0554\n",
            "Epoch 5/10\n",
            "1448/1448 [==============================] - 2s 1ms/step - loss: 8.8429 - val_loss: 8.8156\n",
            "Epoch 6/10\n",
            "1448/1448 [==============================] - 2s 1ms/step - loss: 8.7287 - val_loss: 8.8122\n",
            "Epoch 7/10\n",
            "1448/1448 [==============================] - 2s 1ms/step - loss: 8.6214 - val_loss: 8.8238\n",
            "Epoch 8/10\n",
            "1448/1448 [==============================] - 2s 1ms/step - loss: 8.5251 - val_loss: 8.6484\n",
            "Epoch 9/10\n",
            "1448/1448 [==============================] - 2s 2ms/step - loss: 8.4195 - val_loss: 8.6343\n",
            "Epoch 10/10\n",
            "1448/1448 [==============================] - 3s 2ms/step - loss: 8.3346 - val_loss: 8.4806\n",
            "362/362 [==============================] - 0s 876us/step - loss: 8.4806\n"
          ]
        },
        {
          "output_type": "stream",
          "name": "stderr",
          "text": [
            "[I 2023-06-19 06:50:20,466] Trial 1 finished with value: 8.48056411743164 and parameters: {'n_units': 51, 'learning_rate': 0.002301968060308737}. Best is trial 1 with value: 8.48056411743164.\n",
            "  2%|▏         | 2/100 [01:04<49:46, 30.47s/it]  "
          ]
        },
        {
          "output_type": "stream",
          "name": "stdout",
          "text": [
            "Epoch 1/10\n",
            "1448/1448 [==============================] - 2s 1ms/step - loss: 35.2981 - val_loss: 15.7380\n",
            "Epoch 2/10\n",
            "1448/1448 [==============================] - 2s 2ms/step - loss: 12.9058 - val_loss: 11.8017\n",
            "Epoch 3/10\n",
            "1448/1448 [==============================] - 3s 2ms/step - loss: 11.2958 - val_loss: 11.1902\n",
            "Epoch 4/10\n",
            "1448/1448 [==============================] - 5s 3ms/step - loss: 10.8734 - val_loss: 10.8985\n",
            "Epoch 5/10\n",
            "1448/1448 [==============================] - 4s 3ms/step - loss: 10.6215 - val_loss: 10.7141\n",
            "Epoch 6/10\n",
            "1448/1448 [==============================] - 3s 2ms/step - loss: 10.4424 - val_loss: 10.5599\n",
            "Epoch 7/10\n",
            "1448/1448 [==============================] - 2s 1ms/step - loss: 10.3008 - val_loss: 10.4358\n",
            "Epoch 8/10\n",
            "1448/1448 [==============================] - 2s 1ms/step - loss: 10.1717 - val_loss: 10.3164\n",
            "Epoch 9/10\n",
            "1448/1448 [==============================] - 3s 2ms/step - loss: 10.0536 - val_loss: 10.2179\n",
            "Epoch 10/10\n",
            "1448/1448 [==============================] - 2s 1ms/step - loss: 9.9515 - val_loss: 10.1114\n",
            "362/362 [==============================] - 0s 852us/step - loss: 10.1114\n"
          ]
        },
        {
          "output_type": "stream",
          "name": "stderr",
          "text": [
            "[I 2023-06-19 06:50:48,629] Trial 2 finished with value: 10.111350059509277 and parameters: {'n_units': 34, 'learning_rate': 0.0001577163808729458}. Best is trial 1 with value: 8.48056411743164.\n",
            "  3%|▎         | 3/100 [01:32<47:33, 29.42s/it]"
          ]
        },
        {
          "output_type": "stream",
          "name": "stdout",
          "text": [
            "Epoch 1/10\n",
            "1448/1448 [==============================] - 2s 1ms/step - loss: 10.9330 - val_loss: 9.5522\n",
            "Epoch 2/10\n",
            "1448/1448 [==============================] - 2s 1ms/step - loss: 9.5324 - val_loss: 9.1958\n",
            "Epoch 3/10\n",
            "1448/1448 [==============================] - 2s 1ms/step - loss: 9.2162 - val_loss: 9.0255\n",
            "Epoch 4/10\n",
            "1448/1448 [==============================] - 2s 1ms/step - loss: 8.9210 - val_loss: 9.2981\n",
            "Epoch 5/10\n",
            "1448/1448 [==============================] - 3s 2ms/step - loss: 8.7387 - val_loss: 8.6278\n",
            "Epoch 6/10\n",
            "1448/1448 [==============================] - 2s 1ms/step - loss: 8.5342 - val_loss: 8.4123\n",
            "Epoch 7/10\n",
            "1448/1448 [==============================] - 2s 1ms/step - loss: 8.3394 - val_loss: 8.3538\n",
            "Epoch 8/10\n",
            "1448/1448 [==============================] - 2s 1ms/step - loss: 8.2216 - val_loss: 8.3420\n",
            "Epoch 9/10\n",
            "1448/1448 [==============================] - 2s 1ms/step - loss: 8.0967 - val_loss: 8.3040\n",
            "Epoch 10/10\n",
            "1448/1448 [==============================] - 2s 1ms/step - loss: 7.9649 - val_loss: 7.9812\n",
            "362/362 [==============================] - 0s 1ms/step - loss: 7.9812\n"
          ]
        },
        {
          "output_type": "stream",
          "name": "stderr",
          "text": [
            "[I 2023-06-19 06:51:10,230] Trial 3 finished with value: 7.981236934661865 and parameters: {'n_units': 126, 'learning_rate': 0.005659241762444885}. Best is trial 3 with value: 7.981236934661865.\n",
            "  4%|▍         | 4/100 [01:54<42:07, 26.33s/it]"
          ]
        },
        {
          "output_type": "stream",
          "name": "stdout",
          "text": [
            "Epoch 1/10\n",
            "1448/1448 [==============================] - 3s 2ms/step - loss: 16.4287 - val_loss: 10.7110\n",
            "Epoch 2/10\n",
            "1448/1448 [==============================] - 2s 1ms/step - loss: 10.1670 - val_loss: 10.0885\n",
            "Epoch 3/10\n",
            "1448/1448 [==============================] - 2s 1ms/step - loss: 9.7257 - val_loss: 9.8223\n",
            "Epoch 4/10\n",
            "1448/1448 [==============================] - 2s 1ms/step - loss: 9.5434 - val_loss: 9.6732\n",
            "Epoch 5/10\n",
            "1448/1448 [==============================] - 2s 1ms/step - loss: 9.4218 - val_loss: 9.5848\n",
            "Epoch 6/10\n",
            "1448/1448 [==============================] - 2s 1ms/step - loss: 9.3189 - val_loss: 9.4343\n",
            "Epoch 7/10\n",
            "1448/1448 [==============================] - 3s 2ms/step - loss: 9.2323 - val_loss: 9.4423\n",
            "Epoch 8/10\n",
            "1448/1448 [==============================] - 2s 1ms/step - loss: 9.1612 - val_loss: 9.3019\n",
            "Epoch 9/10\n",
            "1448/1448 [==============================] - 2s 2ms/step - loss: 9.0890 - val_loss: 9.2472\n",
            "Epoch 10/10\n",
            "1448/1448 [==============================] - 2s 1ms/step - loss: 9.0275 - val_loss: 9.1946\n",
            "362/362 [==============================] - 0s 831us/step - loss: 9.1946\n"
          ]
        },
        {
          "output_type": "stream",
          "name": "stderr",
          "text": [
            "[I 2023-06-19 06:51:32,820] Trial 4 finished with value: 9.194565773010254 and parameters: {'n_units': 82, 'learning_rate': 0.00038903743127475913}. Best is trial 3 with value: 7.981236934661865.\n",
            "  5%|▌         | 5/100 [02:16<39:33, 24.98s/it]"
          ]
        },
        {
          "output_type": "stream",
          "name": "stdout",
          "text": [
            "Epoch 1/10\n",
            "1420/1448 [============================>.] - ETA: 0s - loss: 11.3943"
          ]
        },
        {
          "output_type": "stream",
          "name": "stderr",
          "text": [
            "[I 2023-06-19 06:51:35,348] Trial 5 pruned. Trial was pruned at epoch 0.\n",
            "  6%|▌         | 6/100 [02:19<27:10, 17.35s/it]"
          ]
        },
        {
          "output_type": "stream",
          "name": "stdout",
          "text": [
            "Epoch 1/10\n",
            "1448/1448 [==============================] - 3s 2ms/step - loss: 10.7269 - val_loss: 9.8884\n",
            "Epoch 2/10\n",
            "1448/1448 [==============================] - 2s 1ms/step - loss: 9.5903 - val_loss: 9.3494\n",
            "Epoch 3/10\n",
            "1448/1448 [==============================] - 2s 1ms/step - loss: 9.3449 - val_loss: 10.1372\n",
            "Epoch 4/10\n",
            "1448/1448 [==============================] - 2s 1ms/step - loss: 9.1005 - val_loss: 9.2098\n",
            "Epoch 5/10\n",
            "1448/1448 [==============================] - 2s 1ms/step - loss: 8.8621 - val_loss: 9.0015\n",
            "Epoch 6/10\n",
            "1448/1448 [==============================] - 2s 1ms/step - loss: 8.5860 - val_loss: 8.5090\n",
            "Epoch 7/10\n",
            "1448/1448 [==============================] - 3s 2ms/step - loss: 8.4433 - val_loss: 8.7722\n",
            "Epoch 8/10\n",
            "1448/1448 [==============================] - 2s 1ms/step - loss: 8.2303 - val_loss: 8.3049\n",
            "Epoch 9/10\n",
            "1448/1448 [==============================] - 2s 1ms/step - loss: 8.0565 - val_loss: 7.9948\n",
            "Epoch 10/10\n",
            "1448/1448 [==============================] - 2s 1ms/step - loss: 7.9273 - val_loss: 8.7470\n",
            "362/362 [==============================] - 0s 869us/step - loss: 8.7470\n"
          ]
        },
        {
          "output_type": "stream",
          "name": "stderr",
          "text": [
            "[I 2023-06-19 06:52:17,293] Trial 6 finished with value: 8.746953964233398 and parameters: {'n_units': 107, 'learning_rate': 0.005852737204415576}. Best is trial 3 with value: 7.981236934661865.\n",
            "  7%|▋         | 7/100 [03:01<39:21, 25.39s/it]"
          ]
        },
        {
          "output_type": "stream",
          "name": "stdout",
          "text": [
            "Epoch 1/10\n",
            "1448/1448 [==============================] - 2s 1ms/step - loss: 10.7654 - val_loss: 9.9681\n",
            "Epoch 2/10\n",
            "1448/1448 [==============================] - 2s 1ms/step - loss: 9.4716 - val_loss: 9.3496\n",
            "Epoch 3/10\n",
            "1448/1448 [==============================] - 2s 1ms/step - loss: 9.1201 - val_loss: 9.0682\n",
            "Epoch 4/10\n",
            "1448/1448 [==============================] - 2s 2ms/step - loss: 8.8883 - val_loss: 9.0490\n",
            "Epoch 5/10\n",
            "1448/1448 [==============================] - 3s 2ms/step - loss: 8.6603 - val_loss: 8.6004\n",
            "Epoch 6/10\n",
            "1448/1448 [==============================] - 2s 1ms/step - loss: 8.4946 - val_loss: 8.5020\n",
            "Epoch 7/10\n",
            "1448/1448 [==============================] - 2s 1ms/step - loss: 8.3111 - val_loss: 8.3274\n",
            "Epoch 8/10\n",
            "1448/1448 [==============================] - 2s 1ms/step - loss: 8.1592 - val_loss: 8.0591\n",
            "Epoch 9/10\n",
            "1448/1448 [==============================] - 2s 1ms/step - loss: 8.0463 - val_loss: 8.2718\n",
            "Epoch 10/10\n",
            "1448/1448 [==============================] - 2s 2ms/step - loss: 7.9567 - val_loss: 8.0697\n",
            "362/362 [==============================] - 0s 866us/step - loss: 8.0697\n"
          ]
        },
        {
          "output_type": "stream",
          "name": "stderr",
          "text": [
            "[I 2023-06-19 06:52:59,378] Trial 7 finished with value: 8.069742202758789 and parameters: {'n_units': 115, 'learning_rate': 0.00412578889931003}. Best is trial 3 with value: 7.981236934661865.\n",
            "  8%|▊         | 8/100 [03:43<47:04, 30.70s/it]"
          ]
        },
        {
          "output_type": "stream",
          "name": "stdout",
          "text": [
            "Epoch 1/10\n",
            "1448/1448 [==============================] - 2s 1ms/step - loss: 10.8318 - val_loss: 9.8293\n",
            "Epoch 2/10\n",
            "1432/1448 [============================>.] - ETA: 0s - loss: 9.7307"
          ]
        },
        {
          "output_type": "stream",
          "name": "stderr",
          "text": [
            "[I 2023-06-19 06:53:04,775] Trial 8 pruned. Trial was pruned at epoch 1.\n",
            "  9%|▉         | 9/100 [03:48<34:34, 22.79s/it]"
          ]
        },
        {
          "output_type": "stream",
          "name": "stdout",
          "text": [
            "Epoch 1/10\n",
            "1448/1448 [==============================] - ETA: 0s - loss: 10.8378"
          ]
        },
        {
          "output_type": "stream",
          "name": "stderr",
          "text": [
            "[I 2023-06-19 06:53:07,368] Trial 9 pruned. Trial was pruned at epoch 0.\n",
            " 10%|█         | 10/100 [03:51<24:50, 16.56s/it]"
          ]
        },
        {
          "output_type": "stream",
          "name": "stdout",
          "text": [
            "Epoch 1/10\n",
            "1409/1448 [============================>.] - ETA: 0s - loss: 12.6013"
          ]
        },
        {
          "output_type": "stream",
          "name": "stderr",
          "text": [
            "[I 2023-06-19 06:53:09,914] Trial 10 pruned. Trial was pruned at epoch 0.\n",
            " 11%|█         | 11/100 [03:53<18:11, 12.27s/it]"
          ]
        },
        {
          "output_type": "stream",
          "name": "stdout",
          "text": [
            "Epoch 1/10\n",
            "1448/1448 [==============================] - 2s 1ms/step - loss: 11.3138 - val_loss: 9.7391\n",
            "Epoch 2/10\n",
            "1448/1448 [==============================] - 2s 1ms/step - loss: 9.4429 - val_loss: 9.4419\n",
            "Epoch 3/10\n",
            "1448/1448 [==============================] - 3s 2ms/step - loss: 9.0972 - val_loss: 9.1575\n",
            "Epoch 4/10\n",
            "1448/1448 [==============================] - 2s 1ms/step - loss: 8.8663 - val_loss: 9.0147\n",
            "Epoch 5/10\n",
            "1448/1448 [==============================] - 2s 1ms/step - loss: 8.6867 - val_loss: 8.7802\n",
            "Epoch 6/10\n",
            "1448/1448 [==============================] - 2s 1ms/step - loss: 8.5400 - val_loss: 8.6383\n",
            "Epoch 7/10\n",
            "1448/1448 [==============================] - 2s 1ms/step - loss: 8.4267 - val_loss: 8.5489\n",
            "Epoch 8/10\n",
            "1448/1448 [==============================] - 2s 1ms/step - loss: 8.3308 - val_loss: 8.3086\n",
            "Epoch 9/10\n",
            "1448/1448 [==============================] - 2s 2ms/step - loss: 8.2029 - val_loss: 8.3219\n",
            "Epoch 10/10\n",
            "1448/1448 [==============================] - 2s 2ms/step - loss: 8.0779 - val_loss: 8.2429\n",
            "362/362 [==============================] - 0s 868us/step - loss: 8.2429\n"
          ]
        },
        {
          "output_type": "stream",
          "name": "stderr",
          "text": [
            "[I 2023-06-19 06:53:51,728] Trial 11 finished with value: 8.242915153503418 and parameters: {'n_units': 102, 'learning_rate': 0.002238622672072429}. Best is trial 3 with value: 7.981236934661865.\n",
            " 12%|█▏        | 12/100 [04:35<31:10, 21.26s/it]"
          ]
        },
        {
          "output_type": "stream",
          "name": "stdout",
          "text": [
            "Epoch 1/10\n",
            "1448/1448 [==============================] - 3s 2ms/step - loss: 10.8104 - val_loss: 9.7165\n",
            "Epoch 2/10\n",
            "1418/1448 [============================>.] - ETA: 0s - loss: 9.5738"
          ]
        },
        {
          "output_type": "stream",
          "name": "stderr",
          "text": [
            "[I 2023-06-19 06:53:57,141] Trial 12 pruned. Trial was pruned at epoch 1.\n",
            " 13%|█▎        | 13/100 [04:41<23:51, 16.46s/it]"
          ]
        },
        {
          "output_type": "stream",
          "name": "stdout",
          "text": [
            "Epoch 1/10\n",
            "1413/1448 [============================>.] - ETA: 0s - loss: 12.7366"
          ]
        },
        {
          "output_type": "stream",
          "name": "stderr",
          "text": [
            "[I 2023-06-19 06:53:59,769] Trial 13 pruned. Trial was pruned at epoch 0.\n",
            " 14%|█▍        | 14/100 [04:43<17:36, 12.28s/it]"
          ]
        },
        {
          "output_type": "stream",
          "name": "stdout",
          "text": [
            "Epoch 1/10\n",
            "1448/1448 [==============================] - 2s 1ms/step - loss: 10.6930 - val_loss: 9.7868\n",
            "Epoch 2/10\n",
            "1415/1448 [============================>.] - ETA: 0s - loss: 9.7227"
          ]
        },
        {
          "output_type": "stream",
          "name": "stderr",
          "text": [
            "[I 2023-06-19 06:54:04,268] Trial 14 pruned. Trial was pruned at epoch 1.\n",
            " 15%|█▌        | 15/100 [04:48<14:04,  9.93s/it]"
          ]
        },
        {
          "output_type": "stream",
          "name": "stdout",
          "text": [
            "Epoch 1/10\n",
            "1448/1448 [==============================] - 3s 2ms/step - loss: 11.1598 - val_loss: 9.8762\n",
            "Epoch 2/10\n",
            "1405/1448 [============================>.] - ETA: 0s - loss: 9.5494"
          ]
        },
        {
          "output_type": "stream",
          "name": "stderr",
          "text": [
            "[I 2023-06-19 06:54:09,458] Trial 15 pruned. Trial was pruned at epoch 1.\n",
            " 16%|█▌        | 16/100 [04:53<11:54,  8.51s/it]"
          ]
        },
        {
          "output_type": "stream",
          "name": "stdout",
          "text": [
            "Epoch 1/10\n",
            "1448/1448 [==============================] - 3s 1ms/step - loss: 10.9595 - val_loss: 9.8931\n",
            "Epoch 2/10\n",
            "1405/1448 [============================>.] - ETA: 0s - loss: 9.7107"
          ]
        },
        {
          "output_type": "stream",
          "name": "stderr",
          "text": [
            "[I 2023-06-19 06:54:14,597] Trial 16 pruned. Trial was pruned at epoch 1.\n",
            " 17%|█▋        | 17/100 [04:58<10:21,  7.49s/it]"
          ]
        },
        {
          "output_type": "stream",
          "name": "stdout",
          "text": [
            "Epoch 1/10\n",
            "1427/1448 [============================>.] - ETA: 0s - loss: 12.1314"
          ]
        },
        {
          "output_type": "stream",
          "name": "stderr",
          "text": [
            "[I 2023-06-19 06:54:18,361] Trial 17 pruned. Trial was pruned at epoch 0.\n",
            " 18%|█▊        | 18/100 [05:02<08:42,  6.37s/it]"
          ]
        },
        {
          "output_type": "stream",
          "name": "stdout",
          "text": [
            "Epoch 1/10\n",
            "1448/1448 [==============================] - ETA: 0s - loss: 10.9107"
          ]
        },
        {
          "output_type": "stream",
          "name": "stderr",
          "text": [
            "[I 2023-06-19 06:54:21,842] Trial 18 pruned. Trial was pruned at epoch 0.\n",
            " 19%|█▉        | 19/100 [05:05<07:25,  5.50s/it]"
          ]
        },
        {
          "output_type": "stream",
          "name": "stdout",
          "text": [
            "Epoch 1/10\n",
            "1412/1448 [============================>.] - ETA: 0s - loss: 10.9602"
          ]
        },
        {
          "output_type": "stream",
          "name": "stderr",
          "text": [
            "[I 2023-06-19 06:54:26,548] Trial 19 pruned. Trial was pruned at epoch 0.\n",
            " 20%|██        | 20/100 [05:10<07:01,  5.26s/it]"
          ]
        },
        {
          "output_type": "stream",
          "name": "stdout",
          "text": [
            "Epoch 1/10\n",
            "1424/1448 [============================>.] - ETA: 0s - loss: 10.9146"
          ]
        },
        {
          "output_type": "stream",
          "name": "stderr",
          "text": [
            "[I 2023-06-19 06:54:29,578] Trial 20 pruned. Trial was pruned at epoch 0.\n",
            " 21%|██        | 21/100 [05:13<06:02,  4.59s/it]"
          ]
        },
        {
          "output_type": "stream",
          "name": "stdout",
          "text": [
            "Epoch 1/10\n",
            "1446/1448 [============================>.] - ETA: 0s - loss: 11.3379"
          ]
        },
        {
          "output_type": "stream",
          "name": "stderr",
          "text": [
            "[I 2023-06-19 06:54:32,508] Trial 21 pruned. Trial was pruned at epoch 0.\n",
            " 22%|██▏       | 22/100 [05:16<05:19,  4.09s/it]"
          ]
        },
        {
          "output_type": "stream",
          "name": "stdout",
          "text": [
            "Epoch 1/10\n",
            "1426/1448 [============================>.] - ETA: 0s - loss: 11.0773"
          ]
        },
        {
          "output_type": "stream",
          "name": "stderr",
          "text": [
            "[I 2023-06-19 06:54:35,505] Trial 22 pruned. Trial was pruned at epoch 0.\n",
            " 23%|██▎       | 23/100 [05:19<04:49,  3.77s/it]"
          ]
        },
        {
          "output_type": "stream",
          "name": "stdout",
          "text": [
            "Epoch 1/10\n",
            "   1/1448 [..............................] - ETA: 9:38 - loss: 56.8453"
          ]
        },
        {
          "output_type": "stream",
          "name": "stderr",
          "text": [
            "WARNING:tensorflow:Callback method `on_train_batch_end` is slow compared to the batch time (batch time: 0.0011s vs `on_train_batch_end` time: 0.0012s). Check your callbacks.\n"
          ]
        },
        {
          "output_type": "stream",
          "name": "stdout",
          "text": [
            "1408/1448 [============================>.] - ETA: 0s - loss: 11.8061"
          ]
        },
        {
          "output_type": "stream",
          "name": "stderr",
          "text": [
            "[I 2023-06-19 06:54:38,121] Trial 23 pruned. Trial was pruned at epoch 0.\n",
            " 24%|██▍       | 24/100 [05:22<04:19,  3.42s/it]"
          ]
        },
        {
          "output_type": "stream",
          "name": "stdout",
          "text": [
            "Epoch 1/10\n",
            "1448/1448 [==============================] - 2s 1ms/step - loss: 10.8627 - val_loss: 9.8710\n",
            "Epoch 2/10\n",
            "1405/1448 [============================>.] - ETA: 0s - loss: 9.5293"
          ]
        },
        {
          "output_type": "stream",
          "name": "stderr",
          "text": [
            "[I 2023-06-19 06:54:43,022] Trial 24 pruned. Trial was pruned at epoch 1.\n",
            " 25%|██▌       | 25/100 [05:27<04:49,  3.86s/it]"
          ]
        },
        {
          "output_type": "stream",
          "name": "stdout",
          "text": [
            "Epoch 1/10\n",
            "1448/1448 [==============================] - 3s 2ms/step - loss: 10.7704 - val_loss: 9.7617\n",
            "Epoch 2/10\n",
            "1419/1448 [============================>.] - ETA: 0s - loss: 9.6676"
          ]
        },
        {
          "output_type": "stream",
          "name": "stderr",
          "text": [
            "[I 2023-06-19 06:54:49,599] Trial 25 pruned. Trial was pruned at epoch 1.\n",
            " 26%|██▌       | 26/100 [05:33<05:46,  4.68s/it]"
          ]
        },
        {
          "output_type": "stream",
          "name": "stdout",
          "text": [
            "Epoch 1/10\n",
            "1441/1448 [============================>.] - ETA: 0s - loss: 11.2062"
          ]
        },
        {
          "output_type": "stream",
          "name": "stderr",
          "text": [
            "[I 2023-06-19 06:54:52,381] Trial 26 pruned. Trial was pruned at epoch 0.\n",
            " 27%|██▋       | 27/100 [05:36<04:59,  4.11s/it]"
          ]
        },
        {
          "output_type": "stream",
          "name": "stdout",
          "text": [
            "Epoch 1/10\n",
            "1434/1448 [============================>.] - ETA: 0s - loss: 14.0364"
          ]
        },
        {
          "output_type": "stream",
          "name": "stderr",
          "text": [
            "[I 2023-06-19 06:54:54,815] Trial 27 pruned. Trial was pruned at epoch 0.\n",
            " 28%|██▊       | 28/100 [05:38<04:19,  3.61s/it]"
          ]
        },
        {
          "output_type": "stream",
          "name": "stdout",
          "text": [
            "Epoch 1/10\n",
            "1448/1448 [==============================] - 2s 1ms/step - loss: 11.3547 - val_loss: 9.7441\n",
            "Epoch 2/10\n",
            "1448/1448 [==============================] - 3s 2ms/step - loss: 9.5047 - val_loss: 9.4246\n",
            "Epoch 3/10\n",
            "1448/1448 [==============================] - 2s 1ms/step - loss: 9.1676 - val_loss: 9.1949\n",
            "Epoch 4/10\n",
            "1448/1448 [==============================] - 2s 1ms/step - loss: 8.9457 - val_loss: 8.9265\n",
            "Epoch 5/10\n",
            "1448/1448 [==============================] - 2s 1ms/step - loss: 8.7507 - val_loss: 8.7468\n",
            "Epoch 6/10\n",
            "1434/1448 [============================>.] - ETA: 0s - loss: 8.5641"
          ]
        },
        {
          "output_type": "stream",
          "name": "stderr",
          "text": [
            "[I 2023-06-19 06:55:08,186] Trial 28 pruned. Trial was pruned at epoch 5.\n",
            " 29%|██▉       | 29/100 [05:52<07:44,  6.54s/it]"
          ]
        },
        {
          "output_type": "stream",
          "name": "stdout",
          "text": [
            "Epoch 1/10\n",
            "1448/1448 [==============================] - 2s 1ms/step - loss: 11.0842 - val_loss: 9.7772\n",
            "Epoch 2/10\n",
            "1448/1448 [==============================] - 3s 2ms/step - loss: 9.5226 - val_loss: 9.4444\n",
            "Epoch 3/10\n",
            "1448/1448 [==============================] - 2s 1ms/step - loss: 9.2308 - val_loss: 9.2127\n",
            "Epoch 4/10\n",
            "1448/1448 [==============================] - 2s 1ms/step - loss: 9.0762 - val_loss: 9.0825\n",
            "Epoch 5/10\n",
            "1423/1448 [============================>.] - ETA: 0s - loss: 8.8384"
          ]
        },
        {
          "output_type": "stream",
          "name": "stderr",
          "text": [
            "[I 2023-06-19 06:55:19,012] Trial 29 pruned. Trial was pruned at epoch 4.\n",
            " 30%|███       | 30/100 [06:03<09:07,  7.82s/it]"
          ]
        },
        {
          "output_type": "stream",
          "name": "stdout",
          "text": [
            "Epoch 1/10\n",
            "1424/1448 [============================>.] - ETA: 0s - loss: 11.8605"
          ]
        },
        {
          "output_type": "stream",
          "name": "stderr",
          "text": [
            "[I 2023-06-19 06:55:21,488] Trial 30 pruned. Trial was pruned at epoch 0.\n",
            " 31%|███       | 31/100 [06:05<07:09,  6.22s/it]"
          ]
        },
        {
          "output_type": "stream",
          "name": "stdout",
          "text": [
            "Epoch 1/10\n",
            "1436/1448 [============================>.] - ETA: 0s - loss: 11.6358"
          ]
        },
        {
          "output_type": "stream",
          "name": "stderr",
          "text": [
            "[I 2023-06-19 06:55:24,019] Trial 31 pruned. Trial was pruned at epoch 0.\n",
            " 32%|███▏      | 32/100 [06:08<05:47,  5.11s/it]"
          ]
        },
        {
          "output_type": "stream",
          "name": "stdout",
          "text": [
            "Epoch 1/10\n",
            "1434/1448 [============================>.] - ETA: 0s - loss: 11.7694"
          ]
        },
        {
          "output_type": "stream",
          "name": "stderr",
          "text": [
            "[I 2023-06-19 06:55:27,555] Trial 32 pruned. Trial was pruned at epoch 0.\n",
            " 33%|███▎      | 33/100 [06:11<05:10,  4.64s/it]"
          ]
        },
        {
          "output_type": "stream",
          "name": "stdout",
          "text": [
            "Epoch 1/10\n",
            "1448/1448 [==============================] - 2s 1ms/step - loss: 11.0808 - val_loss: 9.9064\n",
            "Epoch 2/10\n",
            "1422/1448 [============================>.] - ETA: 0s - loss: 9.5078"
          ]
        },
        {
          "output_type": "stream",
          "name": "stderr",
          "text": [
            "[I 2023-06-19 06:55:31,871] Trial 33 pruned. Trial was pruned at epoch 1.\n",
            " 34%|███▍      | 34/100 [06:15<04:59,  4.54s/it]"
          ]
        },
        {
          "output_type": "stream",
          "name": "stdout",
          "text": [
            "Epoch 1/10\n",
            "1420/1448 [============================>.] - ETA: 0s - loss: 22.0248"
          ]
        },
        {
          "output_type": "stream",
          "name": "stderr",
          "text": [
            "[I 2023-06-19 06:55:34,359] Trial 34 pruned. Trial was pruned at epoch 0.\n",
            " 35%|███▌      | 35/100 [06:18<04:15,  3.93s/it]"
          ]
        },
        {
          "output_type": "stream",
          "name": "stdout",
          "text": [
            "Epoch 1/10\n",
            "1439/1448 [============================>.] - ETA: 0s - loss: 12.6701"
          ]
        },
        {
          "output_type": "stream",
          "name": "stderr",
          "text": [
            "[I 2023-06-19 06:55:37,948] Trial 35 pruned. Trial was pruned at epoch 0.\n",
            " 36%|███▌      | 36/100 [06:21<04:04,  3.82s/it]"
          ]
        },
        {
          "output_type": "stream",
          "name": "stdout",
          "text": [
            "Epoch 1/10\n",
            "1418/1448 [============================>.] - ETA: 0s - loss: 17.1721"
          ]
        },
        {
          "output_type": "stream",
          "name": "stderr",
          "text": [
            "[I 2023-06-19 06:55:40,750] Trial 36 pruned. Trial was pruned at epoch 0.\n",
            " 37%|███▋      | 37/100 [06:24<03:41,  3.52s/it]"
          ]
        },
        {
          "output_type": "stream",
          "name": "stdout",
          "text": [
            "Epoch 1/10\n",
            "1410/1448 [============================>.] - ETA: 0s - loss: 12.7926"
          ]
        },
        {
          "output_type": "stream",
          "name": "stderr",
          "text": [
            "[I 2023-06-19 06:55:43,291] Trial 37 pruned. Trial was pruned at epoch 0.\n",
            " 38%|███▊      | 38/100 [06:27<03:19,  3.22s/it]"
          ]
        },
        {
          "output_type": "stream",
          "name": "stdout",
          "text": [
            "Epoch 1/10\n",
            "1407/1448 [============================>.] - ETA: 0s - loss: 10.7126"
          ]
        },
        {
          "output_type": "stream",
          "name": "stderr",
          "text": [
            "[I 2023-06-19 06:55:45,772] Trial 38 pruned. Trial was pruned at epoch 0.\n",
            " 39%|███▉      | 39/100 [06:29<03:03,  3.00s/it]"
          ]
        },
        {
          "output_type": "stream",
          "name": "stdout",
          "text": [
            "Epoch 1/10\n",
            "1404/1448 [============================>.] - ETA: 0s - loss: 24.0096"
          ]
        },
        {
          "output_type": "stream",
          "name": "stderr",
          "text": [
            "[I 2023-06-19 06:55:48,245] Trial 39 pruned. Trial was pruned at epoch 0.\n",
            " 40%|████      | 40/100 [06:32<02:50,  2.84s/it]"
          ]
        },
        {
          "output_type": "stream",
          "name": "stdout",
          "text": [
            "Epoch 1/10\n",
            "1448/1448 [==============================] - 3s 2ms/step - loss: 10.9225 - val_loss: 9.6498\n",
            "Epoch 2/10\n",
            "1448/1448 [==============================] - 2s 1ms/step - loss: 9.4528 - val_loss: 9.2933\n",
            "Epoch 3/10\n",
            "1448/1448 [==============================] - 2s 1ms/step - loss: 9.1528 - val_loss: 9.0248\n",
            "Epoch 4/10\n",
            "1448/1448 [==============================] - 2s 1ms/step - loss: 8.9548 - val_loss: 8.9867\n",
            "Epoch 5/10\n",
            "1448/1448 [==============================] - 2s 1ms/step - loss: 8.7308 - val_loss: 8.8018\n",
            "Epoch 6/10\n",
            "1448/1448 [==============================] - 2s 1ms/step - loss: 8.5939 - val_loss: 8.7211\n",
            "Epoch 7/10\n",
            "1448/1448 [==============================] - 3s 2ms/step - loss: 8.4468 - val_loss: 8.4977\n",
            "Epoch 8/10\n",
            "1424/1448 [============================>.] - ETA: 0s - loss: 8.3298"
          ]
        },
        {
          "output_type": "stream",
          "name": "stderr",
          "text": [
            "[I 2023-06-19 06:56:06,279] Trial 40 pruned. Trial was pruned at epoch 7.\n",
            " 41%|████      | 41/100 [06:50<07:16,  7.40s/it]"
          ]
        },
        {
          "output_type": "stream",
          "name": "stdout",
          "text": [
            "Epoch 1/10\n",
            "1414/1448 [============================>.] - ETA: 0s - loss: 11.1472"
          ]
        },
        {
          "output_type": "stream",
          "name": "stderr",
          "text": [
            "[I 2023-06-19 06:56:08,843] Trial 41 pruned. Trial was pruned at epoch 0.\n",
            " 42%|████▏     | 42/100 [06:52<05:45,  5.95s/it]"
          ]
        },
        {
          "output_type": "stream",
          "name": "stdout",
          "text": [
            "Epoch 1/10\n",
            "1448/1448 [==============================] - 2s 1ms/step - loss: 10.8257 - val_loss: 9.8051\n",
            "Epoch 2/10\n",
            "1433/1448 [============================>.] - ETA: 0s - loss: 9.6869"
          ]
        },
        {
          "output_type": "stream",
          "name": "stderr",
          "text": [
            "[I 2023-06-19 06:56:13,792] Trial 42 pruned. Trial was pruned at epoch 1.\n",
            " 43%|████▎     | 43/100 [06:57<05:22,  5.65s/it]"
          ]
        },
        {
          "output_type": "stream",
          "name": "stdout",
          "text": [
            "Epoch 1/10\n",
            "1448/1448 [==============================] - 4s 2ms/step - loss: 10.7675 - val_loss: 9.6192\n",
            "Epoch 2/10\n",
            "1443/1448 [============================>.] - ETA: 0s - loss: 9.7267"
          ]
        },
        {
          "output_type": "stream",
          "name": "stderr",
          "text": [
            "[I 2023-06-19 06:56:20,607] Trial 43 pruned. Trial was pruned at epoch 1.\n",
            " 44%|████▍     | 44/100 [07:04<05:35,  6.00s/it]"
          ]
        },
        {
          "output_type": "stream",
          "name": "stdout",
          "text": [
            "Epoch 1/10\n",
            "1425/1448 [============================>.] - ETA: 0s - loss: 11.0058"
          ]
        },
        {
          "output_type": "stream",
          "name": "stderr",
          "text": [
            "[I 2023-06-19 06:56:23,480] Trial 44 pruned. Trial was pruned at epoch 0.\n",
            " 45%|████▌     | 45/100 [07:07<04:38,  5.06s/it]"
          ]
        },
        {
          "output_type": "stream",
          "name": "stdout",
          "text": [
            "Epoch 1/10\n",
            "1448/1448 [==============================] - 3s 1ms/step - loss: 11.0021 - val_loss: 9.6457\n",
            "Epoch 2/10\n",
            "1448/1448 [==============================] - 2s 1ms/step - loss: 9.4119 - val_loss: 9.3400\n",
            "Epoch 3/10\n",
            "1448/1448 [==============================] - 3s 2ms/step - loss: 9.1347 - val_loss: 9.1673\n",
            "Epoch 4/10\n",
            "1448/1448 [==============================] - 2s 1ms/step - loss: 8.9706 - val_loss: 8.9668\n",
            "Epoch 5/10\n",
            "1448/1448 [==============================] - 2s 1ms/step - loss: 8.7952 - val_loss: 8.8632\n",
            "Epoch 6/10\n",
            "1436/1448 [============================>.] - ETA: 0s - loss: 8.6344"
          ]
        },
        {
          "output_type": "stream",
          "name": "stderr",
          "text": [
            "[I 2023-06-19 06:56:36,708] Trial 45 pruned. Trial was pruned at epoch 5.\n",
            " 46%|████▌     | 46/100 [07:20<06:45,  7.51s/it]"
          ]
        },
        {
          "output_type": "stream",
          "name": "stdout",
          "text": [
            "Epoch 1/10\n",
            "1435/1448 [============================>.] - ETA: 0s - loss: 11.4205"
          ]
        },
        {
          "output_type": "stream",
          "name": "stderr",
          "text": [
            "[I 2023-06-19 06:56:39,205] Trial 46 pruned. Trial was pruned at epoch 0.\n",
            " 47%|████▋     | 47/100 [07:23<05:18,  6.01s/it]"
          ]
        },
        {
          "output_type": "stream",
          "name": "stdout",
          "text": [
            "Epoch 1/10\n",
            "1429/1448 [============================>.] - ETA: 0s - loss: 10.9286"
          ]
        },
        {
          "output_type": "stream",
          "name": "stderr",
          "text": [
            "[I 2023-06-19 06:56:42,815] Trial 47 pruned. Trial was pruned at epoch 0.\n",
            " 48%|████▊     | 48/100 [07:26<04:34,  5.29s/it]"
          ]
        },
        {
          "output_type": "stream",
          "name": "stdout",
          "text": [
            "Epoch 1/10\n",
            "1448/1448 [==============================] - 3s 2ms/step - loss: 12.2566 - val_loss: 9.9021\n",
            "Epoch 2/10\n",
            "1432/1448 [============================>.] - ETA: 0s - loss: 9.4767"
          ]
        },
        {
          "output_type": "stream",
          "name": "stderr",
          "text": [
            "[I 2023-06-19 06:56:47,726] Trial 48 pruned. Trial was pruned at epoch 1.\n",
            " 49%|████▉     | 49/100 [07:31<04:23,  5.17s/it]"
          ]
        },
        {
          "output_type": "stream",
          "name": "stdout",
          "text": [
            "Epoch 1/10\n",
            "1431/1448 [============================>.] - ETA: 0s - loss: 10.8078"
          ]
        },
        {
          "output_type": "stream",
          "name": "stderr",
          "text": [
            "[I 2023-06-19 06:56:51,543] Trial 49 pruned. Trial was pruned at epoch 0.\n",
            " 50%|█████     | 50/100 [07:35<03:58,  4.77s/it]"
          ]
        },
        {
          "output_type": "stream",
          "name": "stdout",
          "text": [
            "Epoch 1/10\n",
            "1448/1448 [==============================] - 3s 1ms/step - loss: 10.8023 - val_loss: 9.7843\n",
            "Epoch 2/10\n",
            "1448/1448 [==============================] - 3s 2ms/step - loss: 9.7000 - val_loss: 9.4148\n",
            "Epoch 3/10\n",
            "1428/1448 [============================>.] - ETA: 0s - loss: 9.3862"
          ]
        },
        {
          "output_type": "stream",
          "name": "stderr",
          "text": [
            "[I 2023-06-19 06:56:59,371] Trial 50 pruned. Trial was pruned at epoch 2.\n",
            " 51%|█████     | 51/100 [07:43<04:38,  5.69s/it]"
          ]
        },
        {
          "output_type": "stream",
          "name": "stdout",
          "text": [
            "Epoch 1/10\n",
            "1440/1448 [============================>.] - ETA: 0s - loss: 11.1964"
          ]
        },
        {
          "output_type": "stream",
          "name": "stderr",
          "text": [
            "[I 2023-06-19 06:57:04,845] Trial 51 pruned. Trial was pruned at epoch 0.\n",
            " 52%|█████▏    | 52/100 [07:48<04:29,  5.62s/it]"
          ]
        },
        {
          "output_type": "stream",
          "name": "stdout",
          "text": [
            "Epoch 1/10\n",
            "1426/1448 [============================>.] - ETA: 0s - loss: 17.3278"
          ]
        },
        {
          "output_type": "stream",
          "name": "stderr",
          "text": [
            "[I 2023-06-19 06:57:07,413] Trial 52 pruned. Trial was pruned at epoch 0.\n",
            " 53%|█████▎    | 53/100 [07:51<03:41,  4.71s/it]"
          ]
        },
        {
          "output_type": "stream",
          "name": "stdout",
          "text": [
            "Epoch 1/10\n",
            "1447/1448 [============================>.] - ETA: 0s - loss: 11.2051"
          ]
        },
        {
          "output_type": "stream",
          "name": "stderr",
          "text": [
            "[I 2023-06-19 06:57:11,059] Trial 53 pruned. Trial was pruned at epoch 0.\n",
            " 54%|█████▍    | 54/100 [07:55<03:21,  4.39s/it]"
          ]
        },
        {
          "output_type": "stream",
          "name": "stdout",
          "text": [
            "Epoch 1/10\n",
            "1448/1448 [==============================] - 3s 2ms/step - loss: 10.8446 - val_loss: 9.7937\n",
            "Epoch 2/10\n",
            "1416/1448 [============================>.] - ETA: 0s - loss: 9.5338"
          ]
        },
        {
          "output_type": "stream",
          "name": "stderr",
          "text": [
            "[I 2023-06-19 06:57:15,803] Trial 54 pruned. Trial was pruned at epoch 1.\n",
            " 55%|█████▌    | 55/100 [07:59<03:22,  4.50s/it]"
          ]
        },
        {
          "output_type": "stream",
          "name": "stdout",
          "text": [
            "Epoch 1/10\n",
            "1448/1448 [==============================] - 3s 1ms/step - loss: 11.8771 - val_loss: 9.8998\n",
            "Epoch 2/10\n",
            "1419/1448 [============================>.] - ETA: 0s - loss: 9.4986"
          ]
        },
        {
          "output_type": "stream",
          "name": "stderr",
          "text": [
            "[I 2023-06-19 06:57:21,914] Trial 55 pruned. Trial was pruned at epoch 1.\n",
            " 56%|█████▌    | 56/100 [08:05<03:39,  4.98s/it]"
          ]
        },
        {
          "output_type": "stream",
          "name": "stdout",
          "text": [
            "Epoch 1/10\n",
            "1429/1448 [============================>.] - ETA: 0s - loss: 10.7850"
          ]
        },
        {
          "output_type": "stream",
          "name": "stderr",
          "text": [
            "[I 2023-06-19 06:57:24,914] Trial 56 pruned. Trial was pruned at epoch 0.\n",
            " 57%|█████▋    | 57/100 [08:08<03:08,  4.39s/it]"
          ]
        },
        {
          "output_type": "stream",
          "name": "stdout",
          "text": [
            "Epoch 1/10\n",
            "1411/1448 [============================>.] - ETA: 0s - loss: 37.8172"
          ]
        },
        {
          "output_type": "stream",
          "name": "stderr",
          "text": [
            "[I 2023-06-19 06:57:27,850] Trial 57 pruned. Trial was pruned at epoch 0.\n",
            " 58%|█████▊    | 58/100 [08:11<02:45,  3.95s/it]"
          ]
        },
        {
          "output_type": "stream",
          "name": "stdout",
          "text": [
            "Epoch 1/10\n",
            "1448/1448 [==============================] - 2s 1ms/step - loss: 11.4938 - val_loss: 9.8092\n",
            "Epoch 2/10\n",
            "1448/1448 [==============================] - 2s 1ms/step - loss: 9.4472 - val_loss: 9.3568\n",
            "Epoch 3/10\n",
            "1448/1448 [==============================] - 2s 2ms/step - loss: 9.1504 - val_loss: 9.4799\n",
            "Epoch 4/10\n",
            "1448/1448 [==============================] - 2s 2ms/step - loss: 8.8991 - val_loss: 9.0753\n",
            "Epoch 5/10\n",
            "1448/1448 [==============================] - 2s 1ms/step - loss: 8.7394 - val_loss: 8.8653\n",
            "Epoch 6/10\n",
            "1411/1448 [============================>.] - ETA: 0s - loss: 8.5352"
          ]
        },
        {
          "output_type": "stream",
          "name": "stderr",
          "text": [
            "[I 2023-06-19 06:57:40,486] Trial 58 pruned. Trial was pruned at epoch 5.\n",
            " 59%|█████▉    | 59/100 [08:24<04:28,  6.56s/it]"
          ]
        },
        {
          "output_type": "stream",
          "name": "stdout",
          "text": [
            "Epoch 1/10\n",
            "1436/1448 [============================>.] - ETA: 0s - loss: 13.0161"
          ]
        },
        {
          "output_type": "stream",
          "name": "stderr",
          "text": [
            "[I 2023-06-19 06:57:51,267] Trial 59 pruned. Trial was pruned at epoch 0.\n",
            " 60%|██████    | 60/100 [08:35<05:12,  7.82s/it]"
          ]
        },
        {
          "output_type": "stream",
          "name": "stdout",
          "text": [
            "Epoch 1/10\n",
            "1448/1448 [==============================] - 2s 1ms/step - loss: 11.0607 - val_loss: 9.7935\n",
            "Epoch 2/10\n",
            "1448/1448 [==============================] - 2s 1ms/step - loss: 9.4525 - val_loss: 9.3229\n",
            "Epoch 3/10\n",
            "1448/1448 [==============================] - 2s 2ms/step - loss: 9.1712 - val_loss: 9.0947\n",
            "Epoch 4/10\n",
            "1448/1448 [==============================] - 3s 2ms/step - loss: 9.0102 - val_loss: 9.0139\n",
            "Epoch 5/10\n",
            "1448/1448 [==============================] - 2s 1ms/step - loss: 8.8557 - val_loss: 8.7902\n",
            "Epoch 6/10\n",
            "1419/1448 [============================>.] - ETA: 0s - loss: 8.7709"
          ]
        },
        {
          "output_type": "stream",
          "name": "stderr",
          "text": [
            "[I 2023-06-19 06:58:04,630] Trial 60 pruned. Trial was pruned at epoch 5.\n",
            " 61%|██████    | 61/100 [08:48<06:09,  9.49s/it]"
          ]
        },
        {
          "output_type": "stream",
          "name": "stdout",
          "text": [
            "Epoch 1/10\n",
            "1413/1448 [============================>.] - ETA: 0s - loss: 10.9568"
          ]
        },
        {
          "output_type": "stream",
          "name": "stderr",
          "text": [
            "[I 2023-06-19 06:58:15,067] Trial 61 pruned. Trial was pruned at epoch 0.\n",
            " 62%|██████▏   | 62/100 [08:59<06:11,  9.77s/it]"
          ]
        },
        {
          "output_type": "stream",
          "name": "stdout",
          "text": [
            "Epoch 1/10\n",
            "1441/1448 [============================>.] - ETA: 0s - loss: 10.7623"
          ]
        },
        {
          "output_type": "stream",
          "name": "stderr",
          "text": [
            "[I 2023-06-19 06:58:18,117] Trial 62 pruned. Trial was pruned at epoch 0.\n",
            " 63%|██████▎   | 63/100 [09:02<04:46,  7.75s/it]"
          ]
        },
        {
          "output_type": "stream",
          "name": "stdout",
          "text": [
            "Epoch 1/10\n",
            "1448/1448 [==============================] - 2s 1ms/step - loss: 10.8394 - val_loss: 9.8588\n",
            "Epoch 2/10\n",
            "1448/1448 [==============================] - 2s 1ms/step - loss: 9.5260 - val_loss: 9.2389\n",
            "Epoch 3/10\n",
            "1448/1448 [==============================] - 3s 2ms/step - loss: 9.3209 - val_loss: 9.2406\n",
            "Epoch 4/10\n",
            "1448/1448 [==============================] - 2s 1ms/step - loss: 9.1104 - val_loss: 9.0776\n",
            "Epoch 5/10\n",
            "1448/1448 [==============================] - 2s 1ms/step - loss: 8.9212 - val_loss: 8.8331\n",
            "Epoch 6/10\n",
            "1411/1448 [============================>.] - ETA: 0s - loss: 8.7829"
          ]
        },
        {
          "output_type": "stream",
          "name": "stderr",
          "text": [
            "[I 2023-06-19 06:58:30,819] Trial 63 pruned. Trial was pruned at epoch 5.\n",
            " 64%|██████▍   | 64/100 [09:14<05:32,  9.24s/it]"
          ]
        },
        {
          "output_type": "stream",
          "name": "stdout",
          "text": [
            "Epoch 1/10\n",
            "1430/1448 [============================>.] - ETA: 0s - loss: 12.6847"
          ]
        },
        {
          "output_type": "stream",
          "name": "stderr",
          "text": [
            "[I 2023-06-19 06:58:33,203] Trial 64 pruned. Trial was pruned at epoch 0.\n",
            " 65%|██████▌   | 65/100 [09:17<04:11,  7.18s/it]"
          ]
        },
        {
          "output_type": "stream",
          "name": "stdout",
          "text": [
            "Epoch 1/10\n",
            "1433/1448 [============================>.] - ETA: 0s - loss: 11.1914"
          ]
        },
        {
          "output_type": "stream",
          "name": "stderr",
          "text": [
            "[I 2023-06-19 06:58:36,708] Trial 65 pruned. Trial was pruned at epoch 0.\n",
            " 66%|██████▌   | 66/100 [09:20<03:26,  6.08s/it]"
          ]
        },
        {
          "output_type": "stream",
          "name": "stdout",
          "text": [
            "Epoch 1/10\n",
            "1426/1448 [============================>.] - ETA: 0s - loss: 11.6225"
          ]
        },
        {
          "output_type": "stream",
          "name": "stderr",
          "text": [
            "[I 2023-06-19 06:58:41,852] Trial 66 pruned. Trial was pruned at epoch 0.\n",
            " 67%|██████▋   | 67/100 [09:25<03:11,  5.80s/it]"
          ]
        },
        {
          "output_type": "stream",
          "name": "stdout",
          "text": [
            "Epoch 1/10\n",
            "1448/1448 [==============================] - 3s 1ms/step - loss: 10.8632 - val_loss: 9.9020\n",
            "Epoch 2/10\n",
            "1424/1448 [============================>.] - ETA: 0s - loss: 9.8530"
          ]
        },
        {
          "output_type": "stream",
          "name": "stderr",
          "text": [
            "[I 2023-06-19 06:58:46,932] Trial 67 pruned. Trial was pruned at epoch 1.\n",
            " 68%|██████▊   | 68/100 [09:30<02:58,  5.58s/it]"
          ]
        },
        {
          "output_type": "stream",
          "name": "stdout",
          "text": [
            "Epoch 1/10\n",
            "1422/1448 [============================>.] - ETA: 0s - loss: 10.8338"
          ]
        },
        {
          "output_type": "stream",
          "name": "stderr",
          "text": [
            "[I 2023-06-19 06:58:51,216] Trial 68 pruned. Trial was pruned at epoch 0.\n",
            " 69%|██████▉   | 69/100 [09:35<02:40,  5.19s/it]"
          ]
        },
        {
          "output_type": "stream",
          "name": "stdout",
          "text": [
            "Epoch 1/10\n",
            "1444/1448 [============================>.] - ETA: 0s - loss: 11.2756"
          ]
        },
        {
          "output_type": "stream",
          "name": "stderr",
          "text": [
            "[I 2023-06-19 06:58:56,100] Trial 69 pruned. Trial was pruned at epoch 0.\n",
            " 70%|███████   | 70/100 [09:40<02:33,  5.10s/it]"
          ]
        },
        {
          "output_type": "stream",
          "name": "stdout",
          "text": [
            "Epoch 1/10\n",
            "1408/1448 [============================>.] - ETA: 0s - loss: 12.6165"
          ]
        },
        {
          "output_type": "stream",
          "name": "stderr",
          "text": [
            "[I 2023-06-19 06:58:58,975] Trial 70 pruned. Trial was pruned at epoch 0.\n",
            " 71%|███████   | 71/100 [09:42<02:08,  4.43s/it]"
          ]
        },
        {
          "output_type": "stream",
          "name": "stdout",
          "text": [
            "Epoch 1/10\n",
            "1448/1448 [==============================] - 3s 2ms/step - loss: 11.9157 - val_loss: 9.7717\n",
            "Epoch 2/10\n",
            "1430/1448 [============================>.] - ETA: 0s - loss: 9.4414"
          ]
        },
        {
          "output_type": "stream",
          "name": "stderr",
          "text": [
            "[I 2023-06-19 06:59:04,306] Trial 71 pruned. Trial was pruned at epoch 1.\n",
            " 72%|███████▏  | 72/100 [09:48<02:11,  4.70s/it]"
          ]
        },
        {
          "output_type": "stream",
          "name": "stdout",
          "text": [
            "Epoch 1/10\n",
            "1422/1448 [============================>.] - ETA: 0s - loss: 11.2746"
          ]
        },
        {
          "output_type": "stream",
          "name": "stderr",
          "text": [
            "[I 2023-06-19 06:59:07,116] Trial 72 pruned. Trial was pruned at epoch 0.\n",
            " 73%|███████▎  | 73/100 [09:51<01:51,  4.13s/it]"
          ]
        },
        {
          "output_type": "stream",
          "name": "stdout",
          "text": [
            "Epoch 1/10\n",
            "1448/1448 [==============================] - 2s 1ms/step - loss: 11.3419 - val_loss: 9.6192\n",
            "Epoch 2/10\n",
            "1445/1448 [============================>.] - ETA: 0s - loss: 9.4782"
          ]
        },
        {
          "output_type": "stream",
          "name": "stderr",
          "text": [
            "[I 2023-06-19 06:59:11,326] Trial 73 pruned. Trial was pruned at epoch 1.\n",
            " 74%|███████▍  | 74/100 [09:55<01:48,  4.16s/it]"
          ]
        },
        {
          "output_type": "stream",
          "name": "stdout",
          "text": [
            "Epoch 1/10\n",
            "1448/1448 [==============================] - 2s 1ms/step - loss: 11.3955 - val_loss: 9.8685\n",
            "Epoch 2/10\n",
            "1448/1448 [==============================] - ETA: 0s - loss: 9.5352"
          ]
        },
        {
          "output_type": "stream",
          "name": "stderr",
          "text": [
            "[I 2023-06-19 06:59:16,618] Trial 74 pruned. Trial was pruned at epoch 1.\n",
            " 75%|███████▌  | 75/100 [10:00<01:52,  4.50s/it]"
          ]
        },
        {
          "output_type": "stream",
          "name": "stdout",
          "text": [
            "Epoch 1/10\n",
            "1421/1448 [============================>.] - ETA: 0s - loss: 16.8698"
          ]
        },
        {
          "output_type": "stream",
          "name": "stderr",
          "text": [
            "[I 2023-06-19 06:59:19,314] Trial 75 pruned. Trial was pruned at epoch 0.\n",
            " 76%|███████▌  | 76/100 [10:03<01:34,  3.96s/it]"
          ]
        },
        {
          "output_type": "stream",
          "name": "stdout",
          "text": [
            "Epoch 1/10\n",
            "1442/1448 [============================>.] - ETA: 0s - loss: 14.6003"
          ]
        },
        {
          "output_type": "stream",
          "name": "stderr",
          "text": [
            "[I 2023-06-19 06:59:21,827] Trial 76 pruned. Trial was pruned at epoch 0.\n",
            " 77%|███████▋  | 77/100 [10:05<01:21,  3.52s/it]"
          ]
        },
        {
          "output_type": "stream",
          "name": "stdout",
          "text": [
            "Epoch 1/10\n",
            "1448/1448 [==============================] - 2s 1ms/step - loss: 11.1753 - val_loss: 9.8478\n",
            "Epoch 2/10\n",
            "1434/1448 [============================>.] - ETA: 0s - loss: 9.5874"
          ]
        },
        {
          "output_type": "stream",
          "name": "stderr",
          "text": [
            "[I 2023-06-19 06:59:26,940] Trial 77 pruned. Trial was pruned at epoch 1.\n",
            " 78%|███████▊  | 78/100 [10:10<01:28,  4.00s/it]"
          ]
        },
        {
          "output_type": "stream",
          "name": "stdout",
          "text": [
            "Epoch 1/10\n",
            "1448/1448 [==============================] - 3s 1ms/step - loss: 10.9070 - val_loss: 9.8801\n",
            "Epoch 2/10\n",
            "1441/1448 [============================>.] - ETA: 0s - loss: 9.6968"
          ]
        },
        {
          "output_type": "stream",
          "name": "stderr",
          "text": [
            "[I 2023-06-19 06:59:32,569] Trial 78 pruned. Trial was pruned at epoch 1.\n",
            " 79%|███████▉  | 79/100 [10:16<01:34,  4.49s/it]"
          ]
        },
        {
          "output_type": "stream",
          "name": "stdout",
          "text": [
            "Epoch 1/10\n",
            "1448/1448 [==============================] - 2s 1ms/step - loss: 10.9260 - val_loss: 9.8586\n",
            "Epoch 2/10\n",
            "1445/1448 [============================>.] - ETA: 0s - loss: 9.5100"
          ]
        },
        {
          "output_type": "stream",
          "name": "stderr",
          "text": [
            "[I 2023-06-19 06:59:38,064] Trial 79 pruned. Trial was pruned at epoch 1.\n",
            " 80%|████████  | 80/100 [10:22<01:35,  4.79s/it]"
          ]
        },
        {
          "output_type": "stream",
          "name": "stdout",
          "text": [
            "Epoch 1/10\n",
            "1439/1448 [============================>.] - ETA: 0s - loss: 11.4183"
          ]
        },
        {
          "output_type": "stream",
          "name": "stderr",
          "text": [
            "[I 2023-06-19 06:59:41,048] Trial 80 pruned. Trial was pruned at epoch 0.\n",
            " 81%|████████  | 81/100 [10:25<01:20,  4.25s/it]"
          ]
        },
        {
          "output_type": "stream",
          "name": "stdout",
          "text": [
            "Epoch 1/10\n",
            "1448/1448 [==============================] - 2s 1ms/step - loss: 11.3827 - val_loss: 9.8926\n",
            "Epoch 2/10\n",
            "1448/1448 [==============================] - 2s 1ms/step - loss: 9.4320 - val_loss: 9.3469\n",
            "Epoch 3/10\n",
            "1448/1448 [==============================] - 2s 1ms/step - loss: 9.1316 - val_loss: 9.3558\n",
            "Epoch 4/10\n",
            "1448/1448 [==============================] - 2s 1ms/step - loss: 8.8966 - val_loss: 8.8938\n",
            "Epoch 5/10\n",
            "1448/1448 [==============================] - 3s 2ms/step - loss: 8.6708 - val_loss: 8.8066\n",
            "Epoch 6/10\n",
            "1414/1448 [============================>.] - ETA: 0s - loss: 8.4839"
          ]
        },
        {
          "output_type": "stream",
          "name": "stderr",
          "text": [
            "[I 2023-06-19 06:59:56,511] Trial 81 pruned. Trial was pruned at epoch 5.\n",
            " 82%|████████▏ | 82/100 [10:40<02:17,  7.61s/it]"
          ]
        },
        {
          "output_type": "stream",
          "name": "stdout",
          "text": [
            "Epoch 1/10\n",
            "1429/1448 [============================>.] - ETA: 0s - loss: 10.9034"
          ]
        },
        {
          "output_type": "stream",
          "name": "stderr",
          "text": [
            "[I 2023-06-19 06:59:59,615] Trial 82 pruned. Trial was pruned at epoch 0.\n",
            " 83%|████████▎ | 83/100 [10:43<01:46,  6.26s/it]"
          ]
        },
        {
          "output_type": "stream",
          "name": "stdout",
          "text": [
            "Epoch 1/10\n",
            "1414/1448 [============================>.] - ETA: 0s - loss: 10.9880"
          ]
        },
        {
          "output_type": "stream",
          "name": "stderr",
          "text": [
            "[I 2023-06-19 07:00:02,213] Trial 83 pruned. Trial was pruned at epoch 0.\n",
            " 84%|████████▍ | 84/100 [10:46<01:22,  5.16s/it]"
          ]
        },
        {
          "output_type": "stream",
          "name": "stdout",
          "text": [
            "Epoch 1/10\n",
            "1438/1448 [============================>.] - ETA: 0s - loss: 10.9535"
          ]
        },
        {
          "output_type": "stream",
          "name": "stderr",
          "text": [
            "[I 2023-06-19 07:00:05,658] Trial 84 pruned. Trial was pruned at epoch 0.\n",
            " 85%|████████▌ | 85/100 [10:49<01:09,  4.65s/it]"
          ]
        },
        {
          "output_type": "stream",
          "name": "stdout",
          "text": [
            "Epoch 1/10\n",
            "1448/1448 [==============================] - 3s 2ms/step - loss: 10.9795 - val_loss: 9.9064\n",
            "Epoch 2/10\n",
            "1430/1448 [============================>.] - ETA: 0s - loss: 9.5345"
          ]
        },
        {
          "output_type": "stream",
          "name": "stderr",
          "text": [
            "[I 2023-06-19 07:00:10,720] Trial 85 pruned. Trial was pruned at epoch 1.\n",
            " 86%|████████▌ | 86/100 [10:54<01:06,  4.77s/it]"
          ]
        },
        {
          "output_type": "stream",
          "name": "stdout",
          "text": [
            "Epoch 1/10\n",
            "1410/1448 [============================>.] - ETA: 0s - loss: 10.7825"
          ]
        },
        {
          "output_type": "stream",
          "name": "stderr",
          "text": [
            "[I 2023-06-19 07:00:13,345] Trial 86 pruned. Trial was pruned at epoch 0.\n",
            " 87%|████████▋ | 87/100 [10:57<00:53,  4.13s/it]"
          ]
        },
        {
          "output_type": "stream",
          "name": "stdout",
          "text": [
            "Epoch 1/10\n",
            "1405/1448 [============================>.] - ETA: 0s - loss: 11.0402"
          ]
        },
        {
          "output_type": "stream",
          "name": "stderr",
          "text": [
            "[I 2023-06-19 07:00:16,281] Trial 87 pruned. Trial was pruned at epoch 0.\n",
            " 88%|████████▊ | 88/100 [11:00<00:45,  3.77s/it]"
          ]
        },
        {
          "output_type": "stream",
          "name": "stdout",
          "text": [
            "Epoch 1/10\n",
            "1423/1448 [============================>.] - ETA: 0s - loss: 12.2835"
          ]
        },
        {
          "output_type": "stream",
          "name": "stderr",
          "text": [
            "[I 2023-06-19 07:00:20,222] Trial 88 pruned. Trial was pruned at epoch 0.\n",
            " 89%|████████▉ | 89/100 [11:04<00:42,  3.82s/it]"
          ]
        },
        {
          "output_type": "stream",
          "name": "stdout",
          "text": [
            "Epoch 1/10\n",
            "1448/1448 [==============================] - 3s 1ms/step - loss: 11.5190 - val_loss: 9.8791\n",
            "Epoch 2/10\n",
            "1448/1448 [==============================] - 2s 1ms/step - loss: 9.4980 - val_loss: 9.3597\n",
            "Epoch 3/10\n",
            "1448/1448 [==============================] - 2s 1ms/step - loss: 9.1233 - val_loss: 9.2688\n",
            "Epoch 4/10\n",
            "1448/1448 [==============================] - 2s 2ms/step - loss: 8.9031 - val_loss: 9.0278\n",
            "Epoch 5/10\n",
            "1448/1448 [==============================] - 3s 2ms/step - loss: 8.7461 - val_loss: 8.7720\n",
            "Epoch 6/10\n",
            "1448/1448 [==============================] - 2s 1ms/step - loss: 8.5979 - val_loss: 8.6064\n",
            "Epoch 7/10\n",
            "1448/1448 [==============================] - 2s 1ms/step - loss: 8.4472 - val_loss: 8.4711\n",
            "Epoch 8/10\n",
            "1448/1448 [==============================] - 2s 1ms/step - loss: 8.3163 - val_loss: 8.3731\n",
            "Epoch 9/10\n",
            "1448/1448 [==============================] - 2s 1ms/step - loss: 8.2142 - val_loss: 8.2814\n",
            "Epoch 10/10\n",
            "1448/1448 [==============================] - 3s 2ms/step - loss: 8.1291 - val_loss: 8.5561\n",
            "362/362 [==============================] - 0s 886us/step - loss: 8.5561\n"
          ]
        },
        {
          "output_type": "stream",
          "name": "stderr",
          "text": [
            "[I 2023-06-19 07:01:04,430] Trial 89 finished with value: 8.5560941696167 and parameters: {'n_units': 115, 'learning_rate': 0.001877249184256195}. Best is trial 3 with value: 7.981236934661865.\n",
            " 90%|█████████ | 90/100 [11:48<02:39, 15.94s/it]"
          ]
        },
        {
          "output_type": "stream",
          "name": "stdout",
          "text": [
            "Epoch 1/10\n",
            "1448/1448 [==============================] - 3s 1ms/step - loss: 11.2770 - val_loss: 9.7954\n",
            "Epoch 2/10\n",
            "1448/1448 [==============================] - 2s 2ms/step - loss: 9.4812 - val_loss: 9.3591\n",
            "Epoch 3/10\n",
            "1448/1448 [==============================] - 3s 2ms/step - loss: 9.1918 - val_loss: 9.0850\n",
            "Epoch 4/10\n",
            "1448/1448 [==============================] - 2s 1ms/step - loss: 8.9969 - val_loss: 8.9119\n",
            "Epoch 5/10\n",
            "1414/1448 [============================>.] - ETA: 0s - loss: 8.8043"
          ]
        },
        {
          "output_type": "stream",
          "name": "stderr",
          "text": [
            "[I 2023-06-19 07:01:16,171] Trial 90 pruned. Trial was pruned at epoch 4.\n",
            " 91%|█████████ | 91/100 [12:00<02:12, 14.68s/it]"
          ]
        },
        {
          "output_type": "stream",
          "name": "stdout",
          "text": [
            "Epoch 1/10\n",
            "1448/1448 [==============================] - 3s 1ms/step - loss: 11.4109 - val_loss: 9.8310\n",
            "Epoch 2/10\n",
            "1447/1448 [============================>.] - ETA: 0s - loss: 9.4643"
          ]
        },
        {
          "output_type": "stream",
          "name": "stderr",
          "text": [
            "[I 2023-06-19 07:01:20,896] Trial 91 pruned. Trial was pruned at epoch 1.\n",
            " 92%|█████████▏| 92/100 [12:04<01:33, 11.69s/it]"
          ]
        },
        {
          "output_type": "stream",
          "name": "stdout",
          "text": [
            "Epoch 1/10\n",
            "1448/1448 [==============================] - 3s 2ms/step - loss: 11.1534 - val_loss: 9.7949\n",
            "Epoch 2/10\n",
            "1448/1448 [==============================] - 2s 1ms/step - loss: 9.4543 - val_loss: 9.3047\n",
            "Epoch 3/10\n",
            "1448/1448 [==============================] - 2s 1ms/step - loss: 9.1086 - val_loss: 9.1430\n",
            "Epoch 4/10\n",
            "1448/1448 [==============================] - 2s 1ms/step - loss: 8.9054 - val_loss: 8.7798\n",
            "Epoch 5/10\n",
            "1448/1448 [==============================] - 2s 1ms/step - loss: 8.7331 - val_loss: 9.5725\n",
            "Epoch 6/10\n",
            "1448/1448 [==============================] - 2s 1ms/step - loss: 8.6117 - val_loss: 8.5428\n",
            "Epoch 7/10\n",
            "1448/1448 [==============================] - 3s 2ms/step - loss: 8.4684 - val_loss: 8.5125\n",
            "Epoch 8/10\n",
            "1427/1448 [============================>.] - ETA: 0s - loss: 8.3544"
          ]
        },
        {
          "output_type": "stream",
          "name": "stderr",
          "text": [
            "[I 2023-06-19 07:01:39,545] Trial 92 pruned. Trial was pruned at epoch 7.\n",
            " 93%|█████████▎| 93/100 [12:23<01:36, 13.78s/it]"
          ]
        },
        {
          "output_type": "stream",
          "name": "stdout",
          "text": [
            "Epoch 1/10\n",
            "1420/1448 [============================>.] - ETA: 0s - loss: 11.5762"
          ]
        },
        {
          "output_type": "stream",
          "name": "stderr",
          "text": [
            "[I 2023-06-19 07:01:41,998] Trial 93 pruned. Trial was pruned at epoch 0.\n",
            " 94%|█████████▍| 94/100 [12:26<01:02, 10.38s/it]"
          ]
        },
        {
          "output_type": "stream",
          "name": "stdout",
          "text": [
            "Epoch 1/10\n",
            "1437/1448 [============================>.] - ETA: 0s - loss: 11.1188"
          ]
        },
        {
          "output_type": "stream",
          "name": "stderr",
          "text": [
            "[I 2023-06-19 07:01:45,182] Trial 94 pruned. Trial was pruned at epoch 0.\n",
            " 95%|█████████▌| 95/100 [12:29<00:41,  8.22s/it]"
          ]
        },
        {
          "output_type": "stream",
          "name": "stdout",
          "text": [
            "Epoch 1/10\n",
            "1448/1448 [==============================] - 3s 2ms/step - loss: 11.0144 - val_loss: 9.8714\n",
            "Epoch 2/10\n",
            "1412/1448 [============================>.] - ETA: 0s - loss: 9.4871"
          ]
        },
        {
          "output_type": "stream",
          "name": "stderr",
          "text": [
            "[I 2023-06-19 07:01:51,110] Trial 95 pruned. Trial was pruned at epoch 1.\n",
            " 96%|█████████▌| 96/100 [12:35<00:30,  7.53s/it]"
          ]
        },
        {
          "output_type": "stream",
          "name": "stdout",
          "text": [
            "Epoch 1/10\n",
            "1404/1448 [============================>.] - ETA: 0s - loss: 11.6454"
          ]
        },
        {
          "output_type": "stream",
          "name": "stderr",
          "text": [
            "[I 2023-06-19 07:01:53,567] Trial 96 pruned. Trial was pruned at epoch 0.\n",
            " 97%|█████████▋| 97/100 [12:37<00:18,  6.01s/it]"
          ]
        },
        {
          "output_type": "stream",
          "name": "stdout",
          "text": [
            "Epoch 1/10\n",
            "1438/1448 [============================>.] - ETA: 0s - loss: 12.3073"
          ]
        },
        {
          "output_type": "stream",
          "name": "stderr",
          "text": [
            "[I 2023-06-19 07:01:56,072] Trial 97 pruned. Trial was pruned at epoch 0.\n",
            " 98%|█████████▊| 98/100 [12:40<00:09,  4.96s/it]"
          ]
        },
        {
          "output_type": "stream",
          "name": "stdout",
          "text": [
            "Epoch 1/10\n",
            "1448/1448 [==============================] - 2s 1ms/step - loss: 11.6237 - val_loss: 9.7990\n",
            "Epoch 2/10\n",
            "1448/1448 [==============================] - 2s 2ms/step - loss: 9.4452 - val_loss: 9.2636\n",
            "Epoch 3/10\n",
            "1448/1448 [==============================] - 3s 2ms/step - loss: 9.0541 - val_loss: 9.0573\n",
            "Epoch 4/10\n",
            "1448/1448 [==============================] - 2s 1ms/step - loss: 8.8358 - val_loss: 8.9713\n",
            "Epoch 5/10\n",
            "1448/1448 [==============================] - 2s 1ms/step - loss: 8.6658 - val_loss: 8.8077\n",
            "Epoch 6/10\n",
            "1448/1448 [==============================] - 2s 1ms/step - loss: 8.5403 - val_loss: 8.6203\n",
            "Epoch 7/10\n",
            "1448/1448 [==============================] - 2s 1ms/step - loss: 8.3924 - val_loss: 8.3765\n",
            "Epoch 8/10\n",
            "1448/1448 [==============================] - 2s 2ms/step - loss: 8.2655 - val_loss: 8.2958\n",
            "Epoch 9/10\n",
            "1448/1448 [==============================] - 3s 2ms/step - loss: 8.1435 - val_loss: 8.3283\n",
            "Epoch 10/10\n",
            "1448/1448 [==============================] - 2s 1ms/step - loss: 8.0441 - val_loss: 8.1635\n",
            "362/362 [==============================] - 0s 941us/step - loss: 8.1635\n"
          ]
        },
        {
          "output_type": "stream",
          "name": "stderr",
          "text": [
            "[I 2023-06-19 07:02:19,349] Trial 98 finished with value: 8.163507461547852 and parameters: {'n_units': 122, 'learning_rate': 0.0015424011380295315}. Best is trial 3 with value: 7.981236934661865.\n",
            " 99%|█████████▉| 99/100 [13:03<00:10, 10.45s/it]"
          ]
        },
        {
          "output_type": "stream",
          "name": "stdout",
          "text": [
            "Epoch 1/10\n",
            "1443/1448 [============================>.] - ETA: 0s - loss: 11.6468"
          ]
        },
        {
          "output_type": "stream",
          "name": "stderr",
          "text": [
            "[I 2023-06-19 07:02:22,577] Trial 99 pruned. Trial was pruned at epoch 0.\n",
            "100%|██████████| 100/100 [13:06<00:00,  7.87s/it]\n"
          ]
        }
      ]
    },
    {
      "cell_type": "code",
      "source": [
        "best_params = study.best_params\n",
        "best_loss = study.best_value\n",
        "print(\"Best Parameters:\", best_params)\n",
        "print(\"Best Loss:\", best_loss)"
      ],
      "metadata": {
        "colab": {
          "base_uri": "https://localhost:8080/"
        },
        "id": "Oje2GutFZZp-",
        "outputId": "b075a15d-a578-4de7-eae1-3fd859b12015"
      },
      "execution_count": 57,
      "outputs": [
        {
          "output_type": "stream",
          "name": "stdout",
          "text": [
            "Best Parameters: {'n_units': 126, 'learning_rate': 0.005659241762444885}\n",
            "Best Loss: 7.981236934661865\n"
          ]
        }
      ]
    },
    {
      "cell_type": "code",
      "source": [
        "best_model = tf.keras.Sequential([\n",
        "    layers.Dense(best_params['n_units'], activation='relu', input_shape=(X_train_scaled.shape[1],)),\n",
        "    layers.Dense(best_params['n_units'], activation='relu'),\n",
        "    layers.Dense(1)\n",
        "])"
      ],
      "metadata": {
        "id": "BBXFBn6SZZn-"
      },
      "execution_count": 58,
      "outputs": []
    },
    {
      "cell_type": "code",
      "source": [
        "best_model.compile(optimizer=tf.keras.optimizers.Adam(learning_rate=best_params['learning_rate']),\n",
        "                   loss='mean_absolute_error')"
      ],
      "metadata": {
        "id": "LJw3bDVmdvt0"
      },
      "execution_count": 59,
      "outputs": []
    },
    {
      "cell_type": "code",
      "source": [
        "best_model.fit(X_train_scaled, y_train, epochs=10, batch_size=32)"
      ],
      "metadata": {
        "colab": {
          "base_uri": "https://localhost:8080/"
        },
        "id": "0QUpeS-ydvri",
        "outputId": "45e69988-e2cb-4cc6-c1ff-f991e153a8bf"
      },
      "execution_count": 60,
      "outputs": [
        {
          "output_type": "stream",
          "name": "stdout",
          "text": [
            "Epoch 1/10\n",
            "1448/1448 [==============================] - 2s 1ms/step - loss: 10.7953\n",
            "Epoch 2/10\n",
            "1448/1448 [==============================] - 3s 2ms/step - loss: 9.5511\n",
            "Epoch 3/10\n",
            "1448/1448 [==============================] - 2s 1ms/step - loss: 9.2940\n",
            "Epoch 4/10\n",
            "1448/1448 [==============================] - 2s 1ms/step - loss: 9.0658\n",
            "Epoch 5/10\n",
            "1448/1448 [==============================] - 2s 1ms/step - loss: 8.8301\n",
            "Epoch 6/10\n",
            "1448/1448 [==============================] - 2s 1ms/step - loss: 8.6087\n",
            "Epoch 7/10\n",
            "1448/1448 [==============================] - 2s 1ms/step - loss: 8.4451\n",
            "Epoch 8/10\n",
            "1448/1448 [==============================] - 2s 1ms/step - loss: 8.2529\n",
            "Epoch 9/10\n",
            "1448/1448 [==============================] - 3s 2ms/step - loss: 8.1343\n",
            "Epoch 10/10\n",
            "1448/1448 [==============================] - 2s 1ms/step - loss: 7.9638\n"
          ]
        },
        {
          "output_type": "execute_result",
          "data": {
            "text/plain": [
              "<keras.callbacks.History at 0x7f2dac251e40>"
            ]
          },
          "metadata": {},
          "execution_count": 60
        }
      ]
    },
    {
      "cell_type": "code",
      "source": [
        "#predictions = best_model.predict(X_test_scaled)"
      ],
      "metadata": {
        "id": "3ciIE_z9dvpQ"
      },
      "execution_count": null,
      "outputs": []
    },
    {
      "cell_type": "markdown",
      "source": [
        "Random Forest"
      ],
      "metadata": {
        "id": "E-anITB2NzWk"
      }
    },
    {
      "cell_type": "code",
      "source": [
        "from sklearn.ensemble import RandomForestRegressor"
      ],
      "metadata": {
        "id": "p4AnFUZ3Nfis"
      },
      "execution_count": 20,
      "outputs": []
    },
    {
      "cell_type": "code",
      "source": [
        "model = RandomForestRegressor(n_estimators=100, random_state=42)"
      ],
      "metadata": {
        "id": "u8YMc-ULNq_0"
      },
      "execution_count": 21,
      "outputs": []
    },
    {
      "cell_type": "code",
      "source": [
        "model.fit(X_train_scaled, y_train)"
      ],
      "metadata": {
        "colab": {
          "base_uri": "https://localhost:8080/",
          "height": 74
        },
        "id": "C51ynIRMNtZL",
        "outputId": "452c5f91-674c-43f2-f7d1-e2135b4609fb"
      },
      "execution_count": 22,
      "outputs": [
        {
          "output_type": "execute_result",
          "data": {
            "text/plain": [
              "RandomForestRegressor(random_state=42)"
            ],
            "text/html": [
              "<style>#sk-container-id-1 {color: black;background-color: white;}#sk-container-id-1 pre{padding: 0;}#sk-container-id-1 div.sk-toggleable {background-color: white;}#sk-container-id-1 label.sk-toggleable__label {cursor: pointer;display: block;width: 100%;margin-bottom: 0;padding: 0.3em;box-sizing: border-box;text-align: center;}#sk-container-id-1 label.sk-toggleable__label-arrow:before {content: \"▸\";float: left;margin-right: 0.25em;color: #696969;}#sk-container-id-1 label.sk-toggleable__label-arrow:hover:before {color: black;}#sk-container-id-1 div.sk-estimator:hover label.sk-toggleable__label-arrow:before {color: black;}#sk-container-id-1 div.sk-toggleable__content {max-height: 0;max-width: 0;overflow: hidden;text-align: left;background-color: #f0f8ff;}#sk-container-id-1 div.sk-toggleable__content pre {margin: 0.2em;color: black;border-radius: 0.25em;background-color: #f0f8ff;}#sk-container-id-1 input.sk-toggleable__control:checked~div.sk-toggleable__content {max-height: 200px;max-width: 100%;overflow: auto;}#sk-container-id-1 input.sk-toggleable__control:checked~label.sk-toggleable__label-arrow:before {content: \"▾\";}#sk-container-id-1 div.sk-estimator input.sk-toggleable__control:checked~label.sk-toggleable__label {background-color: #d4ebff;}#sk-container-id-1 div.sk-label input.sk-toggleable__control:checked~label.sk-toggleable__label {background-color: #d4ebff;}#sk-container-id-1 input.sk-hidden--visually {border: 0;clip: rect(1px 1px 1px 1px);clip: rect(1px, 1px, 1px, 1px);height: 1px;margin: -1px;overflow: hidden;padding: 0;position: absolute;width: 1px;}#sk-container-id-1 div.sk-estimator {font-family: monospace;background-color: #f0f8ff;border: 1px dotted black;border-radius: 0.25em;box-sizing: border-box;margin-bottom: 0.5em;}#sk-container-id-1 div.sk-estimator:hover {background-color: #d4ebff;}#sk-container-id-1 div.sk-parallel-item::after {content: \"\";width: 100%;border-bottom: 1px solid gray;flex-grow: 1;}#sk-container-id-1 div.sk-label:hover label.sk-toggleable__label {background-color: #d4ebff;}#sk-container-id-1 div.sk-serial::before {content: \"\";position: absolute;border-left: 1px solid gray;box-sizing: border-box;top: 0;bottom: 0;left: 50%;z-index: 0;}#sk-container-id-1 div.sk-serial {display: flex;flex-direction: column;align-items: center;background-color: white;padding-right: 0.2em;padding-left: 0.2em;position: relative;}#sk-container-id-1 div.sk-item {position: relative;z-index: 1;}#sk-container-id-1 div.sk-parallel {display: flex;align-items: stretch;justify-content: center;background-color: white;position: relative;}#sk-container-id-1 div.sk-item::before, #sk-container-id-1 div.sk-parallel-item::before {content: \"\";position: absolute;border-left: 1px solid gray;box-sizing: border-box;top: 0;bottom: 0;left: 50%;z-index: -1;}#sk-container-id-1 div.sk-parallel-item {display: flex;flex-direction: column;z-index: 1;position: relative;background-color: white;}#sk-container-id-1 div.sk-parallel-item:first-child::after {align-self: flex-end;width: 50%;}#sk-container-id-1 div.sk-parallel-item:last-child::after {align-self: flex-start;width: 50%;}#sk-container-id-1 div.sk-parallel-item:only-child::after {width: 0;}#sk-container-id-1 div.sk-dashed-wrapped {border: 1px dashed gray;margin: 0 0.4em 0.5em 0.4em;box-sizing: border-box;padding-bottom: 0.4em;background-color: white;}#sk-container-id-1 div.sk-label label {font-family: monospace;font-weight: bold;display: inline-block;line-height: 1.2em;}#sk-container-id-1 div.sk-label-container {text-align: center;}#sk-container-id-1 div.sk-container {/* jupyter's `normalize.less` sets `[hidden] { display: none; }` but bootstrap.min.css set `[hidden] { display: none !important; }` so we also need the `!important` here to be able to override the default hidden behavior on the sphinx rendered scikit-learn.org. See: https://github.com/scikit-learn/scikit-learn/issues/21755 */display: inline-block !important;position: relative;}#sk-container-id-1 div.sk-text-repr-fallback {display: none;}</style><div id=\"sk-container-id-1\" class=\"sk-top-container\"><div class=\"sk-text-repr-fallback\"><pre>RandomForestRegressor(random_state=42)</pre><b>In a Jupyter environment, please rerun this cell to show the HTML representation or trust the notebook. <br />On GitHub, the HTML representation is unable to render, please try loading this page with nbviewer.org.</b></div><div class=\"sk-container\" hidden><div class=\"sk-item\"><div class=\"sk-estimator sk-toggleable\"><input class=\"sk-toggleable__control sk-hidden--visually\" id=\"sk-estimator-id-1\" type=\"checkbox\" checked><label for=\"sk-estimator-id-1\" class=\"sk-toggleable__label sk-toggleable__label-arrow\">RandomForestRegressor</label><div class=\"sk-toggleable__content\"><pre>RandomForestRegressor(random_state=42)</pre></div></div></div></div></div>"
            ]
          },
          "metadata": {},
          "execution_count": 22
        }
      ]
    },
    {
      "cell_type": "code",
      "source": [
        "valid_predictions = model.predict(X_valid_scaled)\n",
        "\n",
        "# Calculate the mean absolute error on the validation set\n",
        "mae = mean_absolute_error(y_valid, valid_predictions)\n",
        "print(\"Validation MAE:\", mae)"
      ],
      "metadata": {
        "colab": {
          "base_uri": "https://localhost:8080/"
        },
        "id": "pIsByEQ9Nvxr",
        "outputId": "b182f4c9-3397-4fa6-f584-14f10b23c08b"
      },
      "execution_count": 23,
      "outputs": [
        {
          "output_type": "stream",
          "name": "stdout",
          "text": [
            "Validation MAE: 6.338990727965884\n"
          ]
        }
      ]
    },
    {
      "cell_type": "markdown",
      "source": [
        "RandomForest + grid search"
      ],
      "metadata": {
        "id": "LImjb6DGOR2T"
      }
    },
    {
      "cell_type": "code",
      "source": [
        "import pandas as pd\n",
        "import numpy as np\n",
        "from sklearn.model_selection import train_test_split, GridSearchCV\n",
        "from sklearn.ensemble import RandomForestRegressor\n",
        "from sklearn.preprocessing import StandardScaler\n",
        "from sklearn.metrics import mean_absolute_error"
      ],
      "metadata": {
        "id": "BhrLEvtSPtij"
      },
      "execution_count": 34,
      "outputs": []
    },
    {
      "cell_type": "code",
      "source": [
        "model = RandomForestRegressor(random_state=42)"
      ],
      "metadata": {
        "id": "aCxGl45VQmrS"
      },
      "execution_count": 35,
      "outputs": []
    },
    {
      "cell_type": "code",
      "source": [
        "param_grid = {\n",
        "    'n_estimators': [100, 300, 500],\n",
        "    'max_depth': [5, 10],\n",
        "    'min_samples_split': [2, 5, 10],\n",
        "    'min_samples_leaf': [1, 2, 4],\n",
        "}"
      ],
      "metadata": {
        "id": "9xUfKt1cQmpJ"
      },
      "execution_count": 36,
      "outputs": []
    },
    {
      "cell_type": "code",
      "source": [
        "search = GridSearchCV(model, param_grid, scoring='neg_mean_absolute_error')"
      ],
      "metadata": {
        "id": "assDhOKQQmmy"
      },
      "execution_count": 37,
      "outputs": []
    },
    {
      "cell_type": "code",
      "source": [
        "from tqdm import tqdm"
      ],
      "metadata": {
        "id": "3_wOqQ40RAFM"
      },
      "execution_count": 39,
      "outputs": []
    },
    {
      "cell_type": "code",
      "source": [
        "total_iterations = np.prod([len(param) for param in param_grid.values()])\n",
        "with tqdm(total=total_iterations) as pbar:\n",
        "    best_mae = np.inf\n",
        "    best_params = None\n",
        "\n",
        "    for n_estimators in param_grid['n_estimators']:\n",
        "        for max_depth in param_grid['max_depth']:\n",
        "            for min_samples_split in param_grid['min_samples_split']:\n",
        "                for min_samples_leaf in param_grid['min_samples_leaf']:\n",
        "                    model.set_params(\n",
        "                        n_estimators=n_estimators,\n",
        "                        max_depth=max_depth,\n",
        "                        min_samples_split=min_samples_split,\n",
        "                        min_samples_leaf=min_samples_leaf\n",
        "                    )\n",
        "\n",
        "                    model.fit(X_train_scaled, y_train)\n",
        "                    valid_predictions = model.predict(X_valid_scaled)\n",
        "                    mae = mean_absolute_error(y_valid, valid_predictions)\n",
        "\n",
        "                    if mae < best_mae:\n",
        "                        best_mae = mae\n",
        "                        best_params = {\n",
        "                            'n_estimators': n_estimators,\n",
        "                            'max_depth': max_depth,\n",
        "                            'min_samples_split': min_samples_split,\n",
        "                            'min_samples_leaf': min_samples_leaf\n",
        "                        }\n",
        "\n",
        "                    pbar.update(1)"
      ],
      "metadata": {
        "colab": {
          "base_uri": "https://localhost:8080/"
        },
        "id": "MMyDRnfMQ14B",
        "outputId": "dfdc0e4b-92af-4f7a-f653-da1a668b46bc"
      },
      "execution_count": 43,
      "outputs": [
        {
          "output_type": "stream",
          "name": "stderr",
          "text": [
            "100%|██████████| 54/54 [23:04<00:00, 25.63s/it]\n"
          ]
        }
      ]
    },
    {
      "cell_type": "code",
      "source": [
        "# Print the best parameters and MAE\n",
        "print(\"Best Parameters:\", best_params)\n",
        "print(\"Validation MAE:\", best_mae)"
      ],
      "metadata": {
        "colab": {
          "base_uri": "https://localhost:8080/"
        },
        "id": "Ci85C0D6SFf6",
        "outputId": "351f6e56-5b8b-4601-9030-b5d9d186cbb2"
      },
      "execution_count": 44,
      "outputs": [
        {
          "output_type": "stream",
          "name": "stdout",
          "text": [
            "Best Parameters: {'n_estimators': 500, 'max_depth': 10, 'min_samples_split': 2, 'min_samples_leaf': 2}\n",
            "Validation MAE: 7.544151627163294\n"
          ]
        }
      ]
    },
    {
      "cell_type": "markdown",
      "source": [
        "stack regression"
      ],
      "metadata": {
        "id": "4_0vRMWxeH2d"
      }
    },
    {
      "cell_type": "code",
      "source": [
        "train = pd.read_csv('/content/drive/MyDrive/CarPrice/train.csv')\n",
        "test = pd.read_csv('/content/drive/MyDrive/CarPrice/test.csv')\n",
        "sub = pd.read_csv('/content/drive/MyDrive/CarPrice/sample_submission.csv')"
      ],
      "metadata": {
        "id": "CxuywCcMeBCV"
      },
      "execution_count": 162,
      "outputs": []
    },
    {
      "cell_type": "code",
      "source": [
        "smallest_values = train['생산년도'].nsmallest(2).index\n",
        "train = train.drop(smallest_values)"
      ],
      "metadata": {
        "id": "2-q87Eb0d8dk"
      },
      "execution_count": 177,
      "outputs": []
    },
    {
      "cell_type": "code",
      "source": [
        "largest_values = train['주행거리'].nlargest(3).index\n",
        "train = train.drop(largest_values)"
      ],
      "metadata": {
        "id": "iZZ5pa0dd_QP"
      },
      "execution_count": 178,
      "outputs": []
    },
    {
      "cell_type": "code",
      "source": [
        "!pip install catboost"
      ],
      "metadata": {
        "id": "LUypAXpVkQ0u"
      },
      "execution_count": null,
      "outputs": []
    },
    {
      "cell_type": "code",
      "source": [
        "X = train.drop(['ID', '가격'], axis=1)\n",
        "y = train['가격']"
      ],
      "metadata": {
        "id": "H3Y8qG7NXZD9"
      },
      "execution_count": 179,
      "outputs": []
    },
    {
      "cell_type": "code",
      "source": [
        "X_train, X_valid, y_train, y_valid = train_test_split(X, y, test_size=0.2, random_state=42)"
      ],
      "metadata": {
        "id": "vsGWTcefXZBv"
      },
      "execution_count": 180,
      "outputs": []
    },
    {
      "cell_type": "code",
      "source": [
        "scaler = StandardScaler()\n",
        "X_train_scaled = scaler.fit_transform(X_train)\n",
        "X_valid_scaled = scaler.transform(X_valid)"
      ],
      "metadata": {
        "id": "XIIpr4qSXY_s"
      },
      "execution_count": 156,
      "outputs": []
    },
    {
      "cell_type": "code",
      "source": [
        "from sklearn.preprocessing import MinMaxScaler\n",
        "scaler  = MinMaxScaler()\n",
        "X_train_scaled = scaler.fit_transform(X_train)\n",
        "X_valid_scaled = scaler.transform(X_valid)"
      ],
      "metadata": {
        "id": "03vVtpJ5fTf6"
      },
      "execution_count": 181,
      "outputs": []
    },
    {
      "cell_type": "code",
      "source": [
        "import pandas as pd\n",
        "from sklearn.model_selection import train_test_split\n",
        "from sklearn.preprocessing import StandardScaler\n",
        "from sklearn.ensemble import GradientBoostingRegressor, RandomForestRegressor\n",
        "from xgboost import XGBRegressor\n",
        "from catboost import CatBoostRegressor\n",
        "from lightgbm import LGBMRegressor\n",
        "import tensorflow as tf\n",
        "from tensorflow.keras import layers\n",
        "from sklearn.metrics import mean_absolute_error"
      ],
      "metadata": {
        "id": "b0w4K23skOe9"
      },
      "execution_count": 126,
      "outputs": []
    },
    {
      "cell_type": "code",
      "source": [
        "gbrt_params = {'n_estimators': 489, 'learning_rate': 0.037666299375964746, 'max_depth': 10, 'min_samples_split': 9, 'min_samples_leaf': 1, 'max_features': 'sqrt', 'subsample': 0.994817517319318}"
      ],
      "metadata": {
        "id": "ojdp1K6KnSrm"
      },
      "execution_count": 127,
      "outputs": []
    },
    {
      "cell_type": "code",
      "source": [
        "xgb_params = {'booster': 'gbtree', 'eta': 0.09773787198485948, 'max_depth': 10, 'subsample': 0.6537116324250624, 'colsample_bytree': 0.9736768668296801, 'lambda': 2.571247074857165, 'alpha': 3.739545080324916e-05}"
      ],
      "metadata": {
        "id": "nRuydBtRnSon"
      },
      "execution_count": 89,
      "outputs": []
    },
    {
      "cell_type": "code",
      "source": [
        "cat_params = {'boosting_type': 'Plain', 'iterations': 1674, 'learning_rate': 0.10573424441351864, 'depth': 8, 'l2_leaf_reg': 0.00026060065975250495, 'random_strength': 1.8409010826838174e-05, 'bagging_temperature': 0.01757564674119713, 'border_count': 113}"
      ],
      "metadata": {
        "id": "wYaJR-Rfofrh"
      },
      "execution_count": 97,
      "outputs": []
    },
    {
      "cell_type": "code",
      "source": [
        "lgb_params =  {'num_leaves': 96, 'learning_rate': 0.09833136097882149, 'feature_fraction': 0.933552804860751, 'bagging_fraction': 0.7528646718210341, 'bagging_freq': 7, 'lambda_l1': 4.485925018221742, 'lambda_l2': 0.00010634446495247863}"
      ],
      "metadata": {
        "id": "4V7I7rXvoNEa"
      },
      "execution_count": 96,
      "outputs": []
    },
    {
      "cell_type": "code",
      "source": [
        "rf_params =  {'n_estimators': 500, 'max_depth': 10, 'min_samples_split': 2, 'min_samples_leaf': 2}"
      ],
      "metadata": {
        "id": "-AlRKZKqkgdf"
      },
      "execution_count": 94,
      "outputs": []
    },
    {
      "cell_type": "code",
      "source": [
        "gbrt_model = GradientBoostingRegressor(**gbrt_params)\n",
        "xgb_model = XGBRegressor(**xgb_params)\n",
        "catboost_model = CatBoostRegressor(**cat_params)\n",
        "lgbm_model = LGBMRegressor(**lgb_params)\n",
        "rf_model = RandomForestRegressor(**rf_params)\n",
        "nn_model = tf.keras.Sequential([\n",
        "    layers.Dense(126, activation='relu', input_shape=(X_train_scaled.shape[1],)),\n",
        "    layers.Dense(126, activation='relu'),\n",
        "    layers.Dense(1)\n",
        "])\n",
        "nn_model.compile(optimizer=tf.keras.optimizers.Adam(learning_rate=0.005659241762444885),\n",
        "              loss='mean_absolute_error')"
      ],
      "metadata": {
        "id": "nBHfMk0keHMF"
      },
      "execution_count": 182,
      "outputs": []
    },
    {
      "cell_type": "code",
      "source": [
        "gbrt_model.fit(X_train_scaled, y_train)\n",
        "xgb_model.fit(X_train_scaled, y_train)\n",
        "catboost_model.fit(X_train_scaled, y_train)\n",
        "lgbm_model.fit(X_train_scaled, y_train)\n",
        "rf_model.fit(X_train_scaled, y_train)\n",
        "\n",
        "\n",
        "nn_model.fit(X_train_scaled, y_train, epochs=10, batch_size=32)"
      ],
      "metadata": {
        "colab": {
          "base_uri": "https://localhost:8080/"
        },
        "id": "rJY2jpGY2slR",
        "outputId": "76a87d86-8e34-46ab-b607-4fc2494b2fd9"
      },
      "execution_count": 183,
      "outputs": [
        {
          "output_type": "stream",
          "name": "stdout",
          "text": [
            "0:\tlearn: 32.4937441\ttotal: 7.13ms\tremaining: 11.9s\n",
            "1:\tlearn: 29.9811921\ttotal: 13.6ms\tremaining: 11.4s\n",
            "2:\tlearn: 27.8194822\ttotal: 20ms\tremaining: 11.2s\n",
            "3:\tlearn: 25.8686398\ttotal: 26.5ms\tremaining: 11.1s\n",
            "4:\tlearn: 24.2149574\ttotal: 38.5ms\tremaining: 12.9s\n",
            "5:\tlearn: 22.7465791\ttotal: 44.9ms\tremaining: 12.5s\n",
            "6:\tlearn: 21.4704492\ttotal: 51.2ms\tremaining: 12.2s\n",
            "7:\tlearn: 20.3463652\ttotal: 57.5ms\tremaining: 12s\n",
            "8:\tlearn: 19.3449969\ttotal: 64ms\tremaining: 11.8s\n",
            "9:\tlearn: 18.4870484\ttotal: 70.9ms\tremaining: 11.8s\n",
            "10:\tlearn: 17.7040035\ttotal: 77.2ms\tremaining: 11.7s\n",
            "11:\tlearn: 17.0595880\ttotal: 83.4ms\tremaining: 11.6s\n",
            "12:\tlearn: 16.4971091\ttotal: 89.7ms\tremaining: 11.5s\n",
            "13:\tlearn: 15.9810567\ttotal: 95.9ms\tremaining: 11.4s\n",
            "14:\tlearn: 15.5292259\ttotal: 102ms\tremaining: 11.3s\n",
            "15:\tlearn: 15.1602670\ttotal: 108ms\tremaining: 11.2s\n",
            "16:\tlearn: 14.8022542\ttotal: 114ms\tremaining: 11.1s\n",
            "17:\tlearn: 14.4803998\ttotal: 121ms\tremaining: 11.1s\n",
            "18:\tlearn: 14.2075962\ttotal: 127ms\tremaining: 11s\n",
            "19:\tlearn: 13.9626683\ttotal: 133ms\tremaining: 11s\n",
            "20:\tlearn: 13.7378627\ttotal: 139ms\tremaining: 10.9s\n",
            "21:\tlearn: 13.5406316\ttotal: 145ms\tremaining: 10.9s\n",
            "22:\tlearn: 13.3743030\ttotal: 151ms\tremaining: 10.8s\n",
            "23:\tlearn: 13.1549106\ttotal: 158ms\tremaining: 10.8s\n",
            "24:\tlearn: 13.0216935\ttotal: 164ms\tremaining: 10.8s\n",
            "25:\tlearn: 12.8702071\ttotal: 170ms\tremaining: 10.8s\n",
            "26:\tlearn: 12.7320564\ttotal: 176ms\tremaining: 10.7s\n",
            "27:\tlearn: 12.6172743\ttotal: 182ms\tremaining: 10.7s\n",
            "28:\tlearn: 12.4635070\ttotal: 188ms\tremaining: 10.7s\n",
            "29:\tlearn: 12.3578627\ttotal: 194ms\tremaining: 10.6s\n",
            "30:\tlearn: 12.2616370\ttotal: 200ms\tremaining: 10.6s\n",
            "31:\tlearn: 12.1449614\ttotal: 211ms\tremaining: 10.8s\n",
            "32:\tlearn: 12.0671762\ttotal: 218ms\tremaining: 10.9s\n",
            "33:\tlearn: 12.0050514\ttotal: 226ms\tremaining: 10.9s\n",
            "34:\tlearn: 11.9343946\ttotal: 232ms\tremaining: 10.9s\n",
            "35:\tlearn: 11.8600705\ttotal: 239ms\tremaining: 10.9s\n",
            "36:\tlearn: 11.7978724\ttotal: 245ms\tremaining: 10.8s\n",
            "37:\tlearn: 11.7183638\ttotal: 251ms\tremaining: 10.8s\n",
            "38:\tlearn: 11.6323574\ttotal: 258ms\tremaining: 10.8s\n",
            "39:\tlearn: 11.5766778\ttotal: 264ms\tremaining: 10.8s\n",
            "40:\tlearn: 11.5000034\ttotal: 271ms\tremaining: 10.8s\n",
            "41:\tlearn: 11.4624226\ttotal: 277ms\tremaining: 10.7s\n",
            "42:\tlearn: 11.3947857\ttotal: 283ms\tremaining: 10.7s\n",
            "43:\tlearn: 11.3604849\ttotal: 289ms\tremaining: 10.7s\n",
            "44:\tlearn: 11.3147378\ttotal: 295ms\tremaining: 10.7s\n",
            "45:\tlearn: 11.2698298\ttotal: 301ms\tremaining: 10.7s\n",
            "46:\tlearn: 11.2293506\ttotal: 307ms\tremaining: 10.6s\n",
            "47:\tlearn: 11.1668229\ttotal: 313ms\tremaining: 10.6s\n",
            "48:\tlearn: 11.1233448\ttotal: 320ms\tremaining: 10.6s\n",
            "49:\tlearn: 11.0825242\ttotal: 326ms\tremaining: 10.6s\n",
            "50:\tlearn: 11.0398485\ttotal: 332ms\tremaining: 10.6s\n",
            "51:\tlearn: 10.9840347\ttotal: 338ms\tremaining: 10.5s\n",
            "52:\tlearn: 10.9468910\ttotal: 344ms\tremaining: 10.5s\n",
            "53:\tlearn: 10.9103839\ttotal: 350ms\tremaining: 10.5s\n",
            "54:\tlearn: 10.8903680\ttotal: 356ms\tremaining: 10.5s\n",
            "55:\tlearn: 10.8385446\ttotal: 362ms\tremaining: 10.5s\n",
            "56:\tlearn: 10.7897855\ttotal: 369ms\tremaining: 10.5s\n",
            "57:\tlearn: 10.7678056\ttotal: 374ms\tremaining: 10.4s\n",
            "58:\tlearn: 10.7310139\ttotal: 380ms\tremaining: 10.4s\n",
            "59:\tlearn: 10.6938546\ttotal: 386ms\tremaining: 10.4s\n",
            "60:\tlearn: 10.6475278\ttotal: 393ms\tremaining: 10.4s\n",
            "61:\tlearn: 10.6186584\ttotal: 399ms\tremaining: 10.4s\n",
            "62:\tlearn: 10.5825386\ttotal: 409ms\tremaining: 10.5s\n",
            "63:\tlearn: 10.5536114\ttotal: 421ms\tremaining: 10.6s\n",
            "64:\tlearn: 10.5321044\ttotal: 427ms\tremaining: 10.6s\n",
            "65:\tlearn: 10.5002833\ttotal: 433ms\tremaining: 10.5s\n",
            "66:\tlearn: 10.4851596\ttotal: 438ms\tremaining: 10.5s\n",
            "67:\tlearn: 10.4474406\ttotal: 444ms\tremaining: 10.5s\n",
            "68:\tlearn: 10.4277107\ttotal: 451ms\tremaining: 10.5s\n",
            "69:\tlearn: 10.4051384\ttotal: 456ms\tremaining: 10.4s\n",
            "70:\tlearn: 10.3756006\ttotal: 462ms\tremaining: 10.4s\n",
            "71:\tlearn: 10.3418690\ttotal: 469ms\tremaining: 10.4s\n",
            "72:\tlearn: 10.3251892\ttotal: 475ms\tremaining: 10.4s\n",
            "73:\tlearn: 10.2845059\ttotal: 482ms\tremaining: 10.4s\n",
            "74:\tlearn: 10.2665900\ttotal: 488ms\tremaining: 10.4s\n",
            "75:\tlearn: 10.2356484\ttotal: 494ms\tremaining: 10.4s\n",
            "76:\tlearn: 10.2197291\ttotal: 501ms\tremaining: 10.4s\n",
            "77:\tlearn: 10.1947757\ttotal: 507ms\tremaining: 10.4s\n",
            "78:\tlearn: 10.1704697\ttotal: 513ms\tremaining: 10.4s\n",
            "79:\tlearn: 10.1561585\ttotal: 519ms\tremaining: 10.3s\n",
            "80:\tlearn: 10.1331445\ttotal: 525ms\tremaining: 10.3s\n",
            "81:\tlearn: 10.1085725\ttotal: 531ms\tremaining: 10.3s\n",
            "82:\tlearn: 10.0832331\ttotal: 540ms\tremaining: 10.3s\n",
            "83:\tlearn: 10.0692657\ttotal: 545ms\tremaining: 10.3s\n",
            "84:\tlearn: 10.0543618\ttotal: 551ms\tremaining: 10.3s\n",
            "85:\tlearn: 10.0382037\ttotal: 557ms\tremaining: 10.3s\n",
            "86:\tlearn: 10.0192488\ttotal: 563ms\tremaining: 10.3s\n",
            "87:\tlearn: 10.0022574\ttotal: 569ms\tremaining: 10.3s\n",
            "88:\tlearn: 9.9910830\ttotal: 575ms\tremaining: 10.2s\n",
            "89:\tlearn: 9.9681892\ttotal: 583ms\tremaining: 10.3s\n",
            "90:\tlearn: 9.9530327\ttotal: 589ms\tremaining: 10.2s\n",
            "91:\tlearn: 9.9364596\ttotal: 596ms\tremaining: 10.2s\n",
            "92:\tlearn: 9.9225688\ttotal: 602ms\tremaining: 10.2s\n",
            "93:\tlearn: 9.9098499\ttotal: 611ms\tremaining: 10.3s\n",
            "94:\tlearn: 9.8921583\ttotal: 617ms\tremaining: 10.2s\n",
            "95:\tlearn: 9.8714355\ttotal: 622ms\tremaining: 10.2s\n",
            "96:\tlearn: 9.8624112\ttotal: 628ms\tremaining: 10.2s\n",
            "97:\tlearn: 9.8473242\ttotal: 634ms\tremaining: 10.2s\n",
            "98:\tlearn: 9.8350009\ttotal: 640ms\tremaining: 10.2s\n",
            "99:\tlearn: 9.8147352\ttotal: 646ms\tremaining: 10.2s\n",
            "100:\tlearn: 9.7941119\ttotal: 652ms\tremaining: 10.2s\n",
            "101:\tlearn: 9.7773337\ttotal: 659ms\tremaining: 10.2s\n",
            "102:\tlearn: 9.7630585\ttotal: 665ms\tremaining: 10.1s\n",
            "103:\tlearn: 9.7480696\ttotal: 671ms\tremaining: 10.1s\n",
            "104:\tlearn: 9.7290733\ttotal: 677ms\tremaining: 10.1s\n",
            "105:\tlearn: 9.7192565\ttotal: 683ms\tremaining: 10.1s\n",
            "106:\tlearn: 9.7044017\ttotal: 689ms\tremaining: 10.1s\n",
            "107:\tlearn: 9.6913706\ttotal: 695ms\tremaining: 10.1s\n",
            "108:\tlearn: 9.6672670\ttotal: 702ms\tremaining: 10.1s\n",
            "109:\tlearn: 9.6522827\ttotal: 709ms\tremaining: 10.1s\n",
            "110:\tlearn: 9.6320091\ttotal: 716ms\tremaining: 10.1s\n",
            "111:\tlearn: 9.6191500\ttotal: 722ms\tremaining: 10.1s\n",
            "112:\tlearn: 9.6098619\ttotal: 728ms\tremaining: 10.1s\n",
            "113:\tlearn: 9.5958832\ttotal: 735ms\tremaining: 10.1s\n",
            "114:\tlearn: 9.5824514\ttotal: 742ms\tremaining: 10.1s\n",
            "115:\tlearn: 9.5700276\ttotal: 748ms\tremaining: 10s\n",
            "116:\tlearn: 9.5628759\ttotal: 754ms\tremaining: 10s\n",
            "117:\tlearn: 9.5499182\ttotal: 761ms\tremaining: 10s\n",
            "118:\tlearn: 9.5296168\ttotal: 767ms\tremaining: 10s\n",
            "119:\tlearn: 9.5183979\ttotal: 777ms\tremaining: 10.1s\n",
            "120:\tlearn: 9.5079914\ttotal: 783ms\tremaining: 10.1s\n",
            "121:\tlearn: 9.5006164\ttotal: 790ms\tremaining: 10s\n",
            "122:\tlearn: 9.4793620\ttotal: 796ms\tremaining: 10s\n",
            "123:\tlearn: 9.4656314\ttotal: 802ms\tremaining: 10s\n",
            "124:\tlearn: 9.4530270\ttotal: 812ms\tremaining: 10.1s\n",
            "125:\tlearn: 9.4435428\ttotal: 818ms\tremaining: 10s\n",
            "126:\tlearn: 9.4299022\ttotal: 824ms\tremaining: 10s\n",
            "127:\tlearn: 9.4171056\ttotal: 830ms\tremaining: 10s\n",
            "128:\tlearn: 9.4009091\ttotal: 836ms\tremaining: 10s\n",
            "129:\tlearn: 9.3909468\ttotal: 842ms\tremaining: 9.99s\n",
            "130:\tlearn: 9.3787644\ttotal: 847ms\tremaining: 9.98s\n",
            "131:\tlearn: 9.3658169\ttotal: 853ms\tremaining: 9.97s\n",
            "132:\tlearn: 9.3566991\ttotal: 860ms\tremaining: 9.96s\n",
            "133:\tlearn: 9.3419527\ttotal: 866ms\tremaining: 9.95s\n",
            "134:\tlearn: 9.3309367\ttotal: 872ms\tremaining: 9.94s\n",
            "135:\tlearn: 9.3216563\ttotal: 878ms\tremaining: 9.92s\n",
            "136:\tlearn: 9.3104088\ttotal: 884ms\tremaining: 9.91s\n",
            "137:\tlearn: 9.3034726\ttotal: 889ms\tremaining: 9.9s\n",
            "138:\tlearn: 9.2930413\ttotal: 895ms\tremaining: 9.89s\n",
            "139:\tlearn: 9.2762293\ttotal: 902ms\tremaining: 9.88s\n",
            "140:\tlearn: 9.2629250\ttotal: 908ms\tremaining: 9.87s\n",
            "141:\tlearn: 9.2526140\ttotal: 916ms\tremaining: 9.88s\n",
            "142:\tlearn: 9.2454274\ttotal: 929ms\tremaining: 9.95s\n",
            "143:\tlearn: 9.2393660\ttotal: 935ms\tremaining: 9.94s\n",
            "144:\tlearn: 9.2293448\ttotal: 941ms\tremaining: 9.92s\n",
            "145:\tlearn: 9.2194394\ttotal: 947ms\tremaining: 9.91s\n",
            "146:\tlearn: 9.2041307\ttotal: 953ms\tremaining: 9.9s\n",
            "147:\tlearn: 9.1928987\ttotal: 960ms\tremaining: 9.89s\n",
            "148:\tlearn: 9.1831704\ttotal: 966ms\tremaining: 9.88s\n",
            "149:\tlearn: 9.1755662\ttotal: 972ms\tremaining: 9.88s\n",
            "150:\tlearn: 9.1652077\ttotal: 978ms\tremaining: 9.87s\n",
            "151:\tlearn: 9.1535910\ttotal: 985ms\tremaining: 9.86s\n",
            "152:\tlearn: 9.1403551\ttotal: 992ms\tremaining: 9.86s\n",
            "153:\tlearn: 9.1245671\ttotal: 998ms\tremaining: 9.86s\n",
            "154:\tlearn: 9.1177703\ttotal: 1s\tremaining: 9.84s\n",
            "155:\tlearn: 9.1017561\ttotal: 1.01s\tremaining: 9.88s\n",
            "156:\tlearn: 9.0948899\ttotal: 1.02s\tremaining: 9.88s\n",
            "157:\tlearn: 9.0838749\ttotal: 1.03s\tremaining: 9.92s\n",
            "158:\tlearn: 9.0746628\ttotal: 1.04s\tremaining: 9.91s\n",
            "159:\tlearn: 9.0688985\ttotal: 1.05s\tremaining: 9.9s\n",
            "160:\tlearn: 9.0606993\ttotal: 1.05s\tremaining: 9.89s\n",
            "161:\tlearn: 9.0497883\ttotal: 1.06s\tremaining: 9.9s\n",
            "162:\tlearn: 9.0399855\ttotal: 1.07s\tremaining: 9.94s\n",
            "163:\tlearn: 9.0279689\ttotal: 1.08s\tremaining: 9.93s\n",
            "164:\tlearn: 9.0169734\ttotal: 1.09s\tremaining: 9.93s\n",
            "165:\tlearn: 9.0101514\ttotal: 1.09s\tremaining: 9.92s\n",
            "166:\tlearn: 8.9999608\ttotal: 1.1s\tremaining: 9.91s\n",
            "167:\tlearn: 8.9886403\ttotal: 1.1s\tremaining: 9.9s\n",
            "168:\tlearn: 8.9786242\ttotal: 1.11s\tremaining: 9.89s\n",
            "169:\tlearn: 8.9683292\ttotal: 1.12s\tremaining: 9.88s\n",
            "170:\tlearn: 8.9599733\ttotal: 1.12s\tremaining: 9.87s\n",
            "171:\tlearn: 8.9502961\ttotal: 1.13s\tremaining: 9.86s\n",
            "172:\tlearn: 8.9420619\ttotal: 1.14s\tremaining: 9.85s\n",
            "173:\tlearn: 8.9313750\ttotal: 1.14s\tremaining: 9.85s\n",
            "174:\tlearn: 8.9257689\ttotal: 1.15s\tremaining: 9.84s\n",
            "175:\tlearn: 8.9148215\ttotal: 1.15s\tremaining: 9.83s\n",
            "176:\tlearn: 8.9059696\ttotal: 1.16s\tremaining: 9.82s\n",
            "177:\tlearn: 8.8979233\ttotal: 1.17s\tremaining: 9.81s\n",
            "178:\tlearn: 8.8881036\ttotal: 1.17s\tremaining: 9.8s\n",
            "179:\tlearn: 8.8824912\ttotal: 1.18s\tremaining: 9.79s\n",
            "180:\tlearn: 8.8769319\ttotal: 1.19s\tremaining: 9.78s\n",
            "181:\tlearn: 8.8708113\ttotal: 1.19s\tremaining: 9.78s\n",
            "182:\tlearn: 8.8652026\ttotal: 1.2s\tremaining: 9.77s\n",
            "183:\tlearn: 8.8598993\ttotal: 1.21s\tremaining: 9.77s\n",
            "184:\tlearn: 8.8515567\ttotal: 1.22s\tremaining: 9.83s\n",
            "185:\tlearn: 8.8462841\ttotal: 1.23s\tremaining: 9.83s\n",
            "186:\tlearn: 8.8352236\ttotal: 1.24s\tremaining: 9.9s\n",
            "187:\tlearn: 8.8294591\ttotal: 1.25s\tremaining: 9.92s\n",
            "188:\tlearn: 8.8194439\ttotal: 1.26s\tremaining: 9.91s\n",
            "189:\tlearn: 8.8098947\ttotal: 1.27s\tremaining: 9.9s\n",
            "190:\tlearn: 8.8009730\ttotal: 1.27s\tremaining: 9.88s\n",
            "191:\tlearn: 8.7946910\ttotal: 1.28s\tremaining: 9.87s\n",
            "192:\tlearn: 8.7880742\ttotal: 1.28s\tremaining: 9.87s\n",
            "193:\tlearn: 8.7801115\ttotal: 1.29s\tremaining: 9.86s\n",
            "194:\tlearn: 8.7708076\ttotal: 1.3s\tremaining: 9.84s\n",
            "195:\tlearn: 8.7632700\ttotal: 1.3s\tremaining: 9.83s\n",
            "196:\tlearn: 8.7564560\ttotal: 1.31s\tremaining: 9.82s\n",
            "197:\tlearn: 8.7499664\ttotal: 1.32s\tremaining: 9.82s\n",
            "198:\tlearn: 8.7410908\ttotal: 1.32s\tremaining: 9.81s\n",
            "199:\tlearn: 8.7316162\ttotal: 1.33s\tremaining: 9.8s\n",
            "200:\tlearn: 8.7239242\ttotal: 1.33s\tremaining: 9.79s\n",
            "201:\tlearn: 8.7167769\ttotal: 1.34s\tremaining: 9.78s\n",
            "202:\tlearn: 8.7118638\ttotal: 1.35s\tremaining: 9.77s\n",
            "203:\tlearn: 8.7041068\ttotal: 1.35s\tremaining: 9.76s\n",
            "204:\tlearn: 8.6960472\ttotal: 1.36s\tremaining: 9.76s\n",
            "205:\tlearn: 8.6872772\ttotal: 1.37s\tremaining: 9.75s\n",
            "206:\tlearn: 8.6795756\ttotal: 1.37s\tremaining: 9.74s\n",
            "207:\tlearn: 8.6669190\ttotal: 1.38s\tremaining: 9.74s\n",
            "208:\tlearn: 8.6632123\ttotal: 1.39s\tremaining: 9.72s\n",
            "209:\tlearn: 8.6559120\ttotal: 1.39s\tremaining: 9.71s\n",
            "210:\tlearn: 8.6501939\ttotal: 1.4s\tremaining: 9.73s\n",
            "211:\tlearn: 8.6437760\ttotal: 1.41s\tremaining: 9.75s\n",
            "212:\tlearn: 8.6385009\ttotal: 1.42s\tremaining: 9.77s\n",
            "213:\tlearn: 8.6285051\ttotal: 1.43s\tremaining: 9.76s\n",
            "214:\tlearn: 8.6193451\ttotal: 1.44s\tremaining: 9.76s\n",
            "215:\tlearn: 8.6136164\ttotal: 1.44s\tremaining: 9.74s\n",
            "216:\tlearn: 8.6072726\ttotal: 1.45s\tremaining: 9.73s\n",
            "217:\tlearn: 8.5998732\ttotal: 1.46s\tremaining: 9.72s\n",
            "218:\tlearn: 8.5971810\ttotal: 1.46s\tremaining: 9.71s\n",
            "219:\tlearn: 8.5913913\ttotal: 1.47s\tremaining: 9.7s\n",
            "220:\tlearn: 8.5866548\ttotal: 1.47s\tremaining: 9.69s\n",
            "221:\tlearn: 8.5830042\ttotal: 1.48s\tremaining: 9.68s\n",
            "222:\tlearn: 8.5757855\ttotal: 1.49s\tremaining: 9.67s\n",
            "223:\tlearn: 8.5707534\ttotal: 1.49s\tremaining: 9.66s\n",
            "224:\tlearn: 8.5635739\ttotal: 1.5s\tremaining: 9.65s\n",
            "225:\tlearn: 8.5564346\ttotal: 1.51s\tremaining: 9.65s\n",
            "226:\tlearn: 8.5474857\ttotal: 1.51s\tremaining: 9.64s\n",
            "227:\tlearn: 8.5411581\ttotal: 1.52s\tremaining: 9.63s\n",
            "228:\tlearn: 8.5331680\ttotal: 1.52s\tremaining: 9.62s\n",
            "229:\tlearn: 8.5250344\ttotal: 1.53s\tremaining: 9.61s\n",
            "230:\tlearn: 8.5190949\ttotal: 1.54s\tremaining: 9.6s\n",
            "231:\tlearn: 8.5133151\ttotal: 1.54s\tremaining: 9.6s\n",
            "232:\tlearn: 8.5062566\ttotal: 1.55s\tremaining: 9.59s\n",
            "233:\tlearn: 8.5001956\ttotal: 1.56s\tremaining: 9.59s\n",
            "234:\tlearn: 8.4917764\ttotal: 1.56s\tremaining: 9.58s\n",
            "235:\tlearn: 8.4870968\ttotal: 1.57s\tremaining: 9.57s\n",
            "236:\tlearn: 8.4811640\ttotal: 1.58s\tremaining: 9.56s\n",
            "237:\tlearn: 8.4750153\ttotal: 1.58s\tremaining: 9.55s\n",
            "238:\tlearn: 8.4706197\ttotal: 1.59s\tremaining: 9.54s\n",
            "239:\tlearn: 8.4648652\ttotal: 1.59s\tremaining: 9.54s\n",
            "240:\tlearn: 8.4566704\ttotal: 1.6s\tremaining: 9.53s\n",
            "241:\tlearn: 8.4531091\ttotal: 1.61s\tremaining: 9.52s\n",
            "242:\tlearn: 8.4473236\ttotal: 1.61s\tremaining: 9.51s\n",
            "243:\tlearn: 8.4393553\ttotal: 1.62s\tremaining: 9.52s\n",
            "244:\tlearn: 8.4369930\ttotal: 1.63s\tremaining: 9.51s\n",
            "245:\tlearn: 8.4330784\ttotal: 1.64s\tremaining: 9.5s\n",
            "246:\tlearn: 8.4304226\ttotal: 1.64s\tremaining: 9.5s\n",
            "247:\tlearn: 8.4234097\ttotal: 1.65s\tremaining: 9.5s\n",
            "248:\tlearn: 8.4196982\ttotal: 1.66s\tremaining: 9.49s\n",
            "249:\tlearn: 8.4131241\ttotal: 1.66s\tremaining: 9.48s\n",
            "250:\tlearn: 8.4085079\ttotal: 1.67s\tremaining: 9.47s\n",
            "251:\tlearn: 8.4037055\ttotal: 1.68s\tremaining: 9.46s\n",
            "252:\tlearn: 8.3980656\ttotal: 1.68s\tremaining: 9.46s\n",
            "253:\tlearn: 8.3937938\ttotal: 1.69s\tremaining: 9.45s\n",
            "254:\tlearn: 8.3879807\ttotal: 1.7s\tremaining: 9.44s\n",
            "255:\tlearn: 8.3817002\ttotal: 1.7s\tremaining: 9.44s\n",
            "256:\tlearn: 8.3738038\ttotal: 1.71s\tremaining: 9.43s\n",
            "257:\tlearn: 8.3690371\ttotal: 1.72s\tremaining: 9.42s\n",
            "258:\tlearn: 8.3647923\ttotal: 1.72s\tremaining: 9.41s\n",
            "259:\tlearn: 8.3607088\ttotal: 1.73s\tremaining: 9.4s\n",
            "260:\tlearn: 8.3572824\ttotal: 1.73s\tremaining: 9.39s\n",
            "261:\tlearn: 8.3537704\ttotal: 1.74s\tremaining: 9.38s\n",
            "262:\tlearn: 8.3492443\ttotal: 1.75s\tremaining: 9.38s\n",
            "263:\tlearn: 8.3467695\ttotal: 1.75s\tremaining: 9.38s\n",
            "264:\tlearn: 8.3384890\ttotal: 1.76s\tremaining: 9.37s\n",
            "265:\tlearn: 8.3322567\ttotal: 1.77s\tremaining: 9.36s\n",
            "266:\tlearn: 8.3296186\ttotal: 1.77s\tremaining: 9.35s\n",
            "267:\tlearn: 8.3217059\ttotal: 1.78s\tremaining: 9.35s\n",
            "268:\tlearn: 8.3148298\ttotal: 1.79s\tremaining: 9.34s\n",
            "269:\tlearn: 8.3100805\ttotal: 1.79s\tremaining: 9.33s\n",
            "270:\tlearn: 8.3038608\ttotal: 1.8s\tremaining: 9.33s\n",
            "271:\tlearn: 8.2972877\ttotal: 1.81s\tremaining: 9.32s\n",
            "272:\tlearn: 8.2930763\ttotal: 1.81s\tremaining: 9.31s\n",
            "273:\tlearn: 8.2872477\ttotal: 1.82s\tremaining: 9.32s\n",
            "274:\tlearn: 8.2789562\ttotal: 1.83s\tremaining: 9.32s\n",
            "275:\tlearn: 8.2723753\ttotal: 1.84s\tremaining: 9.33s\n",
            "276:\tlearn: 8.2662606\ttotal: 1.85s\tremaining: 9.33s\n",
            "277:\tlearn: 8.2612596\ttotal: 1.85s\tremaining: 9.32s\n",
            "278:\tlearn: 8.2557379\ttotal: 1.86s\tremaining: 9.31s\n",
            "279:\tlearn: 8.2528486\ttotal: 1.87s\tremaining: 9.3s\n",
            "280:\tlearn: 8.2493292\ttotal: 1.87s\tremaining: 9.29s\n",
            "281:\tlearn: 8.2426047\ttotal: 1.88s\tremaining: 9.28s\n",
            "282:\tlearn: 8.2351957\ttotal: 1.89s\tremaining: 9.27s\n",
            "283:\tlearn: 8.2286339\ttotal: 1.89s\tremaining: 9.27s\n",
            "284:\tlearn: 8.2236887\ttotal: 1.9s\tremaining: 9.26s\n",
            "285:\tlearn: 8.2184440\ttotal: 1.91s\tremaining: 9.25s\n",
            "286:\tlearn: 8.2129202\ttotal: 1.91s\tremaining: 9.24s\n",
            "287:\tlearn: 8.2077746\ttotal: 1.92s\tremaining: 9.23s\n",
            "288:\tlearn: 8.2033881\ttotal: 1.93s\tremaining: 9.23s\n",
            "289:\tlearn: 8.1982127\ttotal: 1.93s\tremaining: 9.22s\n",
            "290:\tlearn: 8.1955902\ttotal: 1.94s\tremaining: 9.21s\n",
            "291:\tlearn: 8.1879816\ttotal: 1.94s\tremaining: 9.2s\n",
            "292:\tlearn: 8.1834646\ttotal: 1.95s\tremaining: 9.19s\n",
            "293:\tlearn: 8.1787277\ttotal: 1.96s\tremaining: 9.19s\n",
            "294:\tlearn: 8.1722207\ttotal: 1.96s\tremaining: 9.18s\n",
            "295:\tlearn: 8.1665090\ttotal: 1.97s\tremaining: 9.17s\n",
            "296:\tlearn: 8.1633393\ttotal: 1.98s\tremaining: 9.16s\n",
            "297:\tlearn: 8.1595679\ttotal: 1.98s\tremaining: 9.16s\n",
            "298:\tlearn: 8.1530688\ttotal: 1.99s\tremaining: 9.15s\n",
            "299:\tlearn: 8.1473747\ttotal: 2s\tremaining: 9.14s\n",
            "300:\tlearn: 8.1432378\ttotal: 2s\tremaining: 9.13s\n",
            "301:\tlearn: 8.1376413\ttotal: 2.01s\tremaining: 9.13s\n",
            "302:\tlearn: 8.1324448\ttotal: 2.01s\tremaining: 9.12s\n",
            "303:\tlearn: 8.1295897\ttotal: 2.02s\tremaining: 9.12s\n",
            "304:\tlearn: 8.1242296\ttotal: 2.03s\tremaining: 9.12s\n",
            "305:\tlearn: 8.1200506\ttotal: 2.04s\tremaining: 9.11s\n",
            "306:\tlearn: 8.1171891\ttotal: 2.04s\tremaining: 9.1s\n",
            "307:\tlearn: 8.1133022\ttotal: 2.05s\tremaining: 9.09s\n",
            "308:\tlearn: 8.1106086\ttotal: 2.06s\tremaining: 9.08s\n",
            "309:\tlearn: 8.1064408\ttotal: 2.06s\tremaining: 9.07s\n",
            "310:\tlearn: 8.1014187\ttotal: 2.07s\tremaining: 9.07s\n",
            "311:\tlearn: 8.0961454\ttotal: 2.08s\tremaining: 9.06s\n",
            "312:\tlearn: 8.0932459\ttotal: 2.08s\tremaining: 9.05s\n",
            "313:\tlearn: 8.0891474\ttotal: 2.09s\tremaining: 9.04s\n",
            "314:\tlearn: 8.0852231\ttotal: 2.09s\tremaining: 9.04s\n",
            "315:\tlearn: 8.0796627\ttotal: 2.1s\tremaining: 9.03s\n",
            "316:\tlearn: 8.0741532\ttotal: 2.11s\tremaining: 9.02s\n",
            "317:\tlearn: 8.0711860\ttotal: 2.11s\tremaining: 9.01s\n",
            "318:\tlearn: 8.0650401\ttotal: 2.12s\tremaining: 9s\n",
            "319:\tlearn: 8.0622222\ttotal: 2.13s\tremaining: 8.99s\n",
            "320:\tlearn: 8.0578353\ttotal: 2.13s\tremaining: 8.99s\n",
            "321:\tlearn: 8.0480132\ttotal: 2.14s\tremaining: 8.98s\n",
            "322:\tlearn: 8.0423483\ttotal: 2.14s\tremaining: 8.97s\n",
            "323:\tlearn: 8.0375576\ttotal: 2.15s\tremaining: 8.96s\n",
            "324:\tlearn: 8.0326787\ttotal: 2.16s\tremaining: 8.96s\n",
            "325:\tlearn: 8.0283816\ttotal: 2.16s\tremaining: 8.95s\n",
            "326:\tlearn: 8.0251355\ttotal: 2.17s\tremaining: 8.94s\n",
            "327:\tlearn: 8.0211136\ttotal: 2.18s\tremaining: 8.93s\n",
            "328:\tlearn: 8.0170607\ttotal: 2.18s\tremaining: 8.93s\n",
            "329:\tlearn: 8.0131937\ttotal: 2.19s\tremaining: 8.92s\n",
            "330:\tlearn: 8.0101039\ttotal: 2.2s\tremaining: 8.92s\n",
            "331:\tlearn: 8.0056718\ttotal: 2.21s\tremaining: 8.91s\n",
            "332:\tlearn: 8.0020158\ttotal: 2.21s\tremaining: 8.92s\n",
            "333:\tlearn: 8.0003615\ttotal: 2.23s\tremaining: 8.93s\n",
            "334:\tlearn: 7.9968528\ttotal: 2.23s\tremaining: 8.92s\n",
            "335:\tlearn: 7.9926024\ttotal: 2.24s\tremaining: 8.91s\n",
            "336:\tlearn: 7.9872493\ttotal: 2.24s\tremaining: 8.91s\n",
            "337:\tlearn: 7.9829543\ttotal: 2.25s\tremaining: 8.9s\n",
            "338:\tlearn: 7.9796529\ttotal: 2.26s\tremaining: 8.89s\n",
            "339:\tlearn: 7.9753603\ttotal: 2.27s\tremaining: 8.89s\n",
            "340:\tlearn: 7.9722399\ttotal: 2.27s\tremaining: 8.88s\n",
            "341:\tlearn: 7.9628420\ttotal: 2.28s\tremaining: 8.87s\n",
            "342:\tlearn: 7.9568823\ttotal: 2.28s\tremaining: 8.86s\n",
            "343:\tlearn: 7.9531495\ttotal: 2.29s\tremaining: 8.86s\n",
            "344:\tlearn: 7.9478412\ttotal: 2.3s\tremaining: 8.85s\n",
            "345:\tlearn: 7.9457153\ttotal: 2.3s\tremaining: 8.85s\n",
            "346:\tlearn: 7.9404156\ttotal: 2.31s\tremaining: 8.84s\n",
            "347:\tlearn: 7.9368721\ttotal: 2.32s\tremaining: 8.83s\n",
            "348:\tlearn: 7.9310372\ttotal: 2.32s\tremaining: 8.82s\n",
            "349:\tlearn: 7.9270279\ttotal: 2.33s\tremaining: 8.81s\n",
            "350:\tlearn: 7.9216932\ttotal: 2.34s\tremaining: 8.81s\n",
            "351:\tlearn: 7.9165432\ttotal: 2.34s\tremaining: 8.8s\n",
            "352:\tlearn: 7.9092967\ttotal: 2.35s\tremaining: 8.79s\n",
            "353:\tlearn: 7.9049230\ttotal: 2.35s\tremaining: 8.78s\n",
            "354:\tlearn: 7.8990239\ttotal: 2.36s\tremaining: 8.78s\n",
            "355:\tlearn: 7.8956808\ttotal: 2.37s\tremaining: 8.77s\n",
            "356:\tlearn: 7.8920312\ttotal: 2.37s\tremaining: 8.76s\n",
            "357:\tlearn: 7.8878971\ttotal: 2.38s\tremaining: 8.76s\n",
            "358:\tlearn: 7.8845297\ttotal: 2.4s\tremaining: 8.77s\n",
            "359:\tlearn: 7.8798907\ttotal: 2.4s\tremaining: 8.77s\n",
            "360:\tlearn: 7.8751834\ttotal: 2.41s\tremaining: 8.76s\n",
            "361:\tlearn: 7.8686704\ttotal: 2.41s\tremaining: 8.75s\n",
            "362:\tlearn: 7.8624343\ttotal: 2.42s\tremaining: 8.74s\n",
            "363:\tlearn: 7.8583850\ttotal: 2.43s\tremaining: 8.76s\n",
            "364:\tlearn: 7.8543881\ttotal: 2.44s\tremaining: 8.75s\n",
            "365:\tlearn: 7.8508210\ttotal: 2.44s\tremaining: 8.74s\n",
            "366:\tlearn: 7.8474984\ttotal: 2.45s\tremaining: 8.73s\n",
            "367:\tlearn: 7.8432782\ttotal: 2.46s\tremaining: 8.72s\n",
            "368:\tlearn: 7.8376826\ttotal: 2.46s\tremaining: 8.71s\n",
            "369:\tlearn: 7.8353182\ttotal: 2.47s\tremaining: 8.71s\n",
            "370:\tlearn: 7.8310709\ttotal: 2.48s\tremaining: 8.7s\n",
            "371:\tlearn: 7.8273577\ttotal: 2.48s\tremaining: 8.69s\n",
            "372:\tlearn: 7.8244808\ttotal: 2.49s\tremaining: 8.69s\n",
            "373:\tlearn: 7.8216764\ttotal: 2.5s\tremaining: 8.7s\n",
            "374:\tlearn: 7.8177165\ttotal: 2.51s\tremaining: 8.69s\n",
            "375:\tlearn: 7.8122647\ttotal: 2.52s\tremaining: 8.69s\n",
            "376:\tlearn: 7.8072727\ttotal: 2.52s\tremaining: 8.68s\n",
            "377:\tlearn: 7.8023919\ttotal: 2.53s\tremaining: 8.67s\n",
            "378:\tlearn: 7.8002922\ttotal: 2.54s\tremaining: 8.66s\n",
            "379:\tlearn: 7.7960216\ttotal: 2.54s\tremaining: 8.66s\n",
            "380:\tlearn: 7.7927701\ttotal: 2.55s\tremaining: 8.65s\n",
            "381:\tlearn: 7.7864384\ttotal: 2.56s\tremaining: 8.64s\n",
            "382:\tlearn: 7.7848827\ttotal: 2.56s\tremaining: 8.63s\n",
            "383:\tlearn: 7.7799832\ttotal: 2.57s\tremaining: 8.63s\n",
            "384:\tlearn: 7.7748903\ttotal: 2.57s\tremaining: 8.62s\n",
            "385:\tlearn: 7.7721003\ttotal: 2.58s\tremaining: 8.61s\n",
            "386:\tlearn: 7.7659780\ttotal: 2.59s\tremaining: 8.6s\n",
            "387:\tlearn: 7.7624562\ttotal: 2.59s\tremaining: 8.59s\n",
            "388:\tlearn: 7.7575040\ttotal: 2.6s\tremaining: 8.59s\n",
            "389:\tlearn: 7.7551005\ttotal: 2.6s\tremaining: 8.58s\n",
            "390:\tlearn: 7.7515450\ttotal: 2.61s\tremaining: 8.57s\n",
            "391:\tlearn: 7.7484730\ttotal: 2.62s\tremaining: 8.56s\n",
            "392:\tlearn: 7.7433845\ttotal: 2.63s\tremaining: 8.57s\n",
            "393:\tlearn: 7.7392043\ttotal: 2.63s\tremaining: 8.56s\n",
            "394:\tlearn: 7.7374860\ttotal: 2.64s\tremaining: 8.55s\n",
            "395:\tlearn: 7.7349376\ttotal: 2.65s\tremaining: 8.54s\n",
            "396:\tlearn: 7.7312886\ttotal: 2.65s\tremaining: 8.53s\n",
            "397:\tlearn: 7.7257562\ttotal: 2.66s\tremaining: 8.53s\n",
            "398:\tlearn: 7.7214257\ttotal: 2.67s\tremaining: 8.52s\n",
            "399:\tlearn: 7.7179528\ttotal: 2.67s\tremaining: 8.51s\n",
            "400:\tlearn: 7.7133794\ttotal: 2.68s\tremaining: 8.51s\n",
            "401:\tlearn: 7.7101326\ttotal: 2.69s\tremaining: 8.5s\n",
            "402:\tlearn: 7.7066103\ttotal: 2.69s\tremaining: 8.49s\n",
            "403:\tlearn: 7.7021169\ttotal: 2.7s\tremaining: 8.48s\n",
            "404:\tlearn: 7.7006346\ttotal: 2.71s\tremaining: 8.48s\n",
            "405:\tlearn: 7.6964180\ttotal: 2.71s\tremaining: 8.47s\n",
            "406:\tlearn: 7.6944369\ttotal: 2.72s\tremaining: 8.46s\n",
            "407:\tlearn: 7.6927981\ttotal: 2.73s\tremaining: 8.46s\n",
            "408:\tlearn: 7.6899439\ttotal: 2.73s\tremaining: 8.45s\n",
            "409:\tlearn: 7.6879225\ttotal: 2.74s\tremaining: 8.44s\n",
            "410:\tlearn: 7.6860547\ttotal: 2.74s\tremaining: 8.43s\n",
            "411:\tlearn: 7.6831037\ttotal: 2.75s\tremaining: 8.42s\n",
            "412:\tlearn: 7.6782726\ttotal: 2.76s\tremaining: 8.43s\n",
            "413:\tlearn: 7.6749687\ttotal: 2.77s\tremaining: 8.42s\n",
            "414:\tlearn: 7.6702400\ttotal: 2.77s\tremaining: 8.42s\n",
            "415:\tlearn: 7.6669087\ttotal: 2.78s\tremaining: 8.41s\n",
            "416:\tlearn: 7.6631218\ttotal: 2.79s\tremaining: 8.4s\n",
            "417:\tlearn: 7.6600949\ttotal: 2.79s\tremaining: 8.39s\n",
            "418:\tlearn: 7.6573742\ttotal: 2.8s\tremaining: 8.38s\n",
            "419:\tlearn: 7.6521259\ttotal: 2.81s\tremaining: 8.38s\n",
            "420:\tlearn: 7.6459394\ttotal: 2.81s\tremaining: 8.37s\n",
            "421:\tlearn: 7.6422643\ttotal: 2.82s\tremaining: 8.37s\n",
            "422:\tlearn: 7.6380623\ttotal: 2.83s\tremaining: 8.37s\n",
            "423:\tlearn: 7.6357479\ttotal: 2.83s\tremaining: 8.36s\n",
            "424:\tlearn: 7.6336888\ttotal: 2.84s\tremaining: 8.35s\n",
            "425:\tlearn: 7.6290342\ttotal: 2.85s\tremaining: 8.34s\n",
            "426:\tlearn: 7.6248122\ttotal: 2.85s\tremaining: 8.33s\n",
            "427:\tlearn: 7.6223133\ttotal: 2.86s\tremaining: 8.32s\n",
            "428:\tlearn: 7.6206905\ttotal: 2.87s\tremaining: 8.31s\n",
            "429:\tlearn: 7.6158428\ttotal: 2.87s\tremaining: 8.31s\n",
            "430:\tlearn: 7.6110099\ttotal: 2.88s\tremaining: 8.3s\n",
            "431:\tlearn: 7.6082547\ttotal: 2.88s\tremaining: 8.29s\n",
            "432:\tlearn: 7.6040442\ttotal: 2.89s\tremaining: 8.29s\n",
            "433:\tlearn: 7.6002275\ttotal: 2.9s\tremaining: 8.28s\n",
            "434:\tlearn: 7.5977553\ttotal: 2.9s\tremaining: 8.27s\n",
            "435:\tlearn: 7.5932761\ttotal: 2.91s\tremaining: 8.27s\n",
            "436:\tlearn: 7.5890609\ttotal: 2.92s\tremaining: 8.26s\n",
            "437:\tlearn: 7.5859094\ttotal: 2.92s\tremaining: 8.25s\n",
            "438:\tlearn: 7.5814335\ttotal: 2.93s\tremaining: 8.24s\n",
            "439:\tlearn: 7.5782622\ttotal: 2.94s\tremaining: 8.24s\n",
            "440:\tlearn: 7.5746861\ttotal: 2.94s\tremaining: 8.23s\n",
            "441:\tlearn: 7.5682298\ttotal: 2.95s\tremaining: 8.22s\n",
            "442:\tlearn: 7.5651822\ttotal: 2.96s\tremaining: 8.22s\n",
            "443:\tlearn: 7.5626425\ttotal: 2.96s\tremaining: 8.21s\n",
            "444:\tlearn: 7.5585074\ttotal: 2.97s\tremaining: 8.2s\n",
            "445:\tlearn: 7.5563494\ttotal: 2.98s\tremaining: 8.2s\n",
            "446:\tlearn: 7.5511372\ttotal: 2.98s\tremaining: 8.19s\n",
            "447:\tlearn: 7.5486263\ttotal: 2.99s\tremaining: 8.18s\n",
            "448:\tlearn: 7.5459607\ttotal: 3s\tremaining: 8.17s\n",
            "449:\tlearn: 7.5432620\ttotal: 3s\tremaining: 8.17s\n",
            "450:\tlearn: 7.5384128\ttotal: 3.01s\tremaining: 8.16s\n",
            "451:\tlearn: 7.5341686\ttotal: 3.02s\tremaining: 8.15s\n",
            "452:\tlearn: 7.5309446\ttotal: 3.02s\tremaining: 8.15s\n",
            "453:\tlearn: 7.5279188\ttotal: 3.03s\tremaining: 8.15s\n",
            "454:\tlearn: 7.5234874\ttotal: 3.04s\tremaining: 8.15s\n",
            "455:\tlearn: 7.5196626\ttotal: 3.05s\tremaining: 8.15s\n",
            "456:\tlearn: 7.5172241\ttotal: 3.06s\tremaining: 8.14s\n",
            "457:\tlearn: 7.5112888\ttotal: 3.06s\tremaining: 8.13s\n",
            "458:\tlearn: 7.5076593\ttotal: 3.07s\tremaining: 8.12s\n",
            "459:\tlearn: 7.5054191\ttotal: 3.08s\tremaining: 8.12s\n",
            "460:\tlearn: 7.5019265\ttotal: 3.08s\tremaining: 8.11s\n",
            "461:\tlearn: 7.4982207\ttotal: 3.09s\tremaining: 8.1s\n",
            "462:\tlearn: 7.4967344\ttotal: 3.09s\tremaining: 8.09s\n",
            "463:\tlearn: 7.4949741\ttotal: 3.1s\tremaining: 8.09s\n",
            "464:\tlearn: 7.4910496\ttotal: 3.11s\tremaining: 8.08s\n",
            "465:\tlearn: 7.4881393\ttotal: 3.11s\tremaining: 8.07s\n",
            "466:\tlearn: 7.4866365\ttotal: 3.12s\tremaining: 8.06s\n",
            "467:\tlearn: 7.4845741\ttotal: 3.13s\tremaining: 8.05s\n",
            "468:\tlearn: 7.4819818\ttotal: 3.13s\tremaining: 8.05s\n",
            "469:\tlearn: 7.4785473\ttotal: 3.14s\tremaining: 8.04s\n",
            "470:\tlearn: 7.4745595\ttotal: 3.14s\tremaining: 8.03s\n",
            "471:\tlearn: 7.4706861\ttotal: 3.15s\tremaining: 8.03s\n",
            "472:\tlearn: 7.4686548\ttotal: 3.16s\tremaining: 8.02s\n",
            "473:\tlearn: 7.4647558\ttotal: 3.17s\tremaining: 8.01s\n",
            "474:\tlearn: 7.4629092\ttotal: 3.17s\tremaining: 8.01s\n",
            "475:\tlearn: 7.4597629\ttotal: 3.18s\tremaining: 8s\n",
            "476:\tlearn: 7.4556923\ttotal: 3.18s\tremaining: 7.99s\n",
            "477:\tlearn: 7.4540291\ttotal: 3.19s\tremaining: 7.98s\n",
            "478:\tlearn: 7.4516362\ttotal: 3.19s\tremaining: 7.97s\n",
            "479:\tlearn: 7.4480375\ttotal: 3.2s\tremaining: 7.97s\n",
            "480:\tlearn: 7.4439665\ttotal: 3.21s\tremaining: 7.96s\n",
            "481:\tlearn: 7.4411963\ttotal: 3.21s\tremaining: 7.95s\n",
            "482:\tlearn: 7.4377729\ttotal: 3.22s\tremaining: 7.95s\n",
            "483:\tlearn: 7.4344589\ttotal: 3.23s\tremaining: 7.94s\n",
            "484:\tlearn: 7.4321473\ttotal: 3.24s\tremaining: 7.93s\n",
            "485:\tlearn: 7.4295257\ttotal: 3.24s\tremaining: 7.93s\n",
            "486:\tlearn: 7.4261546\ttotal: 3.25s\tremaining: 7.92s\n",
            "487:\tlearn: 7.4234594\ttotal: 3.26s\tremaining: 7.92s\n",
            "488:\tlearn: 7.4205286\ttotal: 3.26s\tremaining: 7.91s\n",
            "489:\tlearn: 7.4177772\ttotal: 3.27s\tremaining: 7.9s\n",
            "490:\tlearn: 7.4148918\ttotal: 3.28s\tremaining: 7.9s\n",
            "491:\tlearn: 7.4105149\ttotal: 3.28s\tremaining: 7.89s\n",
            "492:\tlearn: 7.4054913\ttotal: 3.29s\tremaining: 7.88s\n",
            "493:\tlearn: 7.4006495\ttotal: 3.3s\tremaining: 7.88s\n",
            "494:\tlearn: 7.3984042\ttotal: 3.3s\tremaining: 7.87s\n",
            "495:\tlearn: 7.3955856\ttotal: 3.31s\tremaining: 7.86s\n",
            "496:\tlearn: 7.3934927\ttotal: 3.32s\tremaining: 7.86s\n",
            "497:\tlearn: 7.3906920\ttotal: 3.32s\tremaining: 7.85s\n",
            "498:\tlearn: 7.3890829\ttotal: 3.34s\tremaining: 7.86s\n",
            "499:\tlearn: 7.3852893\ttotal: 3.34s\tremaining: 7.85s\n",
            "500:\tlearn: 7.3830714\ttotal: 3.35s\tremaining: 7.84s\n",
            "501:\tlearn: 7.3813469\ttotal: 3.36s\tremaining: 7.83s\n",
            "502:\tlearn: 7.3786823\ttotal: 3.37s\tremaining: 7.83s\n",
            "503:\tlearn: 7.3773027\ttotal: 3.38s\tremaining: 7.84s\n",
            "504:\tlearn: 7.3758865\ttotal: 3.38s\tremaining: 7.83s\n",
            "505:\tlearn: 7.3737616\ttotal: 3.39s\tremaining: 7.82s\n",
            "506:\tlearn: 7.3693666\ttotal: 3.39s\tremaining: 7.81s\n",
            "507:\tlearn: 7.3669095\ttotal: 3.4s\tremaining: 7.8s\n",
            "508:\tlearn: 7.3640813\ttotal: 3.41s\tremaining: 7.8s\n",
            "509:\tlearn: 7.3616405\ttotal: 3.41s\tremaining: 7.79s\n",
            "510:\tlearn: 7.3600019\ttotal: 3.42s\tremaining: 7.78s\n",
            "511:\tlearn: 7.3555394\ttotal: 3.44s\tremaining: 7.81s\n",
            "512:\tlearn: 7.3495009\ttotal: 3.45s\tremaining: 7.81s\n",
            "513:\tlearn: 7.3447835\ttotal: 3.46s\tremaining: 7.81s\n",
            "514:\tlearn: 7.3427066\ttotal: 3.47s\tremaining: 7.8s\n",
            "515:\tlearn: 7.3387950\ttotal: 3.48s\tremaining: 7.8s\n",
            "516:\tlearn: 7.3358864\ttotal: 3.49s\tremaining: 7.81s\n",
            "517:\tlearn: 7.3322463\ttotal: 3.5s\tremaining: 7.82s\n",
            "518:\tlearn: 7.3302737\ttotal: 3.52s\tremaining: 7.83s\n",
            "519:\tlearn: 7.3260552\ttotal: 3.53s\tremaining: 7.84s\n",
            "520:\tlearn: 7.3228397\ttotal: 3.55s\tremaining: 7.86s\n",
            "521:\tlearn: 7.3193654\ttotal: 3.56s\tremaining: 7.87s\n",
            "522:\tlearn: 7.3157626\ttotal: 3.58s\tremaining: 7.88s\n",
            "523:\tlearn: 7.3125335\ttotal: 3.6s\tremaining: 7.89s\n",
            "524:\tlearn: 7.3088339\ttotal: 3.61s\tremaining: 7.9s\n",
            "525:\tlearn: 7.3062378\ttotal: 3.63s\tremaining: 7.92s\n",
            "526:\tlearn: 7.3031427\ttotal: 3.65s\tremaining: 7.95s\n",
            "527:\tlearn: 7.3001619\ttotal: 3.67s\tremaining: 7.96s\n",
            "528:\tlearn: 7.2977173\ttotal: 3.69s\tremaining: 7.98s\n",
            "529:\tlearn: 7.2944829\ttotal: 3.7s\tremaining: 8s\n",
            "530:\tlearn: 7.2917656\ttotal: 3.72s\tremaining: 8.01s\n",
            "531:\tlearn: 7.2880027\ttotal: 3.73s\tremaining: 8.02s\n",
            "532:\tlearn: 7.2846410\ttotal: 3.75s\tremaining: 8.03s\n",
            "533:\tlearn: 7.2817729\ttotal: 3.77s\tremaining: 8.04s\n",
            "534:\tlearn: 7.2780989\ttotal: 3.78s\tremaining: 8.05s\n",
            "535:\tlearn: 7.2759001\ttotal: 3.8s\tremaining: 8.06s\n",
            "536:\tlearn: 7.2738748\ttotal: 3.81s\tremaining: 8.07s\n",
            "537:\tlearn: 7.2722202\ttotal: 3.83s\tremaining: 8.08s\n",
            "538:\tlearn: 7.2703677\ttotal: 3.84s\tremaining: 8.09s\n",
            "539:\tlearn: 7.2674013\ttotal: 3.86s\tremaining: 8.1s\n",
            "540:\tlearn: 7.2653223\ttotal: 3.87s\tremaining: 8.12s\n",
            "541:\tlearn: 7.2630761\ttotal: 3.89s\tremaining: 8.13s\n",
            "542:\tlearn: 7.2620598\ttotal: 3.9s\tremaining: 8.13s\n",
            "543:\tlearn: 7.2581953\ttotal: 3.92s\tremaining: 8.14s\n",
            "544:\tlearn: 7.2545264\ttotal: 3.93s\tremaining: 8.15s\n",
            "545:\tlearn: 7.2530232\ttotal: 3.95s\tremaining: 8.16s\n",
            "546:\tlearn: 7.2506747\ttotal: 3.97s\tremaining: 8.17s\n",
            "547:\tlearn: 7.2491256\ttotal: 3.98s\tremaining: 8.18s\n",
            "548:\tlearn: 7.2461431\ttotal: 4s\tremaining: 8.19s\n",
            "549:\tlearn: 7.2442975\ttotal: 4.01s\tremaining: 8.2s\n",
            "550:\tlearn: 7.2415669\ttotal: 4.03s\tremaining: 8.21s\n",
            "551:\tlearn: 7.2380546\ttotal: 4.05s\tremaining: 8.23s\n",
            "552:\tlearn: 7.2370977\ttotal: 4.06s\tremaining: 8.24s\n",
            "553:\tlearn: 7.2347092\ttotal: 4.08s\tremaining: 8.25s\n",
            "554:\tlearn: 7.2319949\ttotal: 4.09s\tremaining: 8.26s\n",
            "555:\tlearn: 7.2296714\ttotal: 4.11s\tremaining: 8.27s\n",
            "556:\tlearn: 7.2269331\ttotal: 4.13s\tremaining: 8.28s\n",
            "557:\tlearn: 7.2225230\ttotal: 4.14s\tremaining: 8.29s\n",
            "558:\tlearn: 7.2192332\ttotal: 4.16s\tremaining: 8.3s\n",
            "559:\tlearn: 7.2157398\ttotal: 4.17s\tremaining: 8.31s\n",
            "560:\tlearn: 7.2137197\ttotal: 4.19s\tremaining: 8.31s\n",
            "561:\tlearn: 7.2120012\ttotal: 4.2s\tremaining: 8.32s\n",
            "562:\tlearn: 7.2087265\ttotal: 4.22s\tremaining: 8.33s\n",
            "563:\tlearn: 7.2061196\ttotal: 4.24s\tremaining: 8.34s\n",
            "564:\tlearn: 7.2034002\ttotal: 4.26s\tremaining: 8.36s\n",
            "565:\tlearn: 7.2012064\ttotal: 4.27s\tremaining: 8.36s\n",
            "566:\tlearn: 7.1991123\ttotal: 4.29s\tremaining: 8.37s\n",
            "567:\tlearn: 7.1978461\ttotal: 4.3s\tremaining: 8.38s\n",
            "568:\tlearn: 7.1961832\ttotal: 4.32s\tremaining: 8.39s\n",
            "569:\tlearn: 7.1926764\ttotal: 4.34s\tremaining: 8.4s\n",
            "570:\tlearn: 7.1904730\ttotal: 4.35s\tremaining: 8.41s\n",
            "571:\tlearn: 7.1876372\ttotal: 4.37s\tremaining: 8.41s\n",
            "572:\tlearn: 7.1860466\ttotal: 4.38s\tremaining: 8.41s\n",
            "573:\tlearn: 7.1823481\ttotal: 4.39s\tremaining: 8.41s\n",
            "574:\tlearn: 7.1787671\ttotal: 4.41s\tremaining: 8.42s\n",
            "575:\tlearn: 7.1761380\ttotal: 4.42s\tremaining: 8.43s\n",
            "576:\tlearn: 7.1737752\ttotal: 4.44s\tremaining: 8.44s\n",
            "577:\tlearn: 7.1712344\ttotal: 4.46s\tremaining: 8.46s\n",
            "578:\tlearn: 7.1690995\ttotal: 4.48s\tremaining: 8.46s\n",
            "579:\tlearn: 7.1661442\ttotal: 4.49s\tremaining: 8.47s\n",
            "580:\tlearn: 7.1632729\ttotal: 4.51s\tremaining: 8.48s\n",
            "581:\tlearn: 7.1603887\ttotal: 4.52s\tremaining: 8.48s\n",
            "582:\tlearn: 7.1571507\ttotal: 4.55s\tremaining: 8.51s\n",
            "583:\tlearn: 7.1542322\ttotal: 4.56s\tremaining: 8.51s\n",
            "584:\tlearn: 7.1503048\ttotal: 4.58s\tremaining: 8.52s\n",
            "585:\tlearn: 7.1472511\ttotal: 4.59s\tremaining: 8.53s\n",
            "586:\tlearn: 7.1460856\ttotal: 4.61s\tremaining: 8.53s\n",
            "587:\tlearn: 7.1431789\ttotal: 4.63s\tremaining: 8.54s\n",
            "588:\tlearn: 7.1397558\ttotal: 4.64s\tremaining: 8.55s\n",
            "589:\tlearn: 7.1374156\ttotal: 4.65s\tremaining: 8.55s\n",
            "590:\tlearn: 7.1329265\ttotal: 4.67s\tremaining: 8.56s\n",
            "591:\tlearn: 7.1313351\ttotal: 4.69s\tremaining: 8.56s\n",
            "592:\tlearn: 7.1289464\ttotal: 4.7s\tremaining: 8.57s\n",
            "593:\tlearn: 7.1256849\ttotal: 4.72s\tremaining: 8.58s\n",
            "594:\tlearn: 7.1225736\ttotal: 4.73s\tremaining: 8.58s\n",
            "595:\tlearn: 7.1209197\ttotal: 4.75s\tremaining: 8.58s\n",
            "596:\tlearn: 7.1179318\ttotal: 4.76s\tremaining: 8.59s\n",
            "597:\tlearn: 7.1151359\ttotal: 4.78s\tremaining: 8.59s\n",
            "598:\tlearn: 7.1130745\ttotal: 4.79s\tremaining: 8.6s\n",
            "599:\tlearn: 7.1110563\ttotal: 4.8s\tremaining: 8.6s\n",
            "600:\tlearn: 7.1086560\ttotal: 4.82s\tremaining: 8.6s\n",
            "601:\tlearn: 7.1070962\ttotal: 4.83s\tremaining: 8.61s\n",
            "602:\tlearn: 7.1043415\ttotal: 4.85s\tremaining: 8.61s\n",
            "603:\tlearn: 7.1006928\ttotal: 4.87s\tremaining: 8.62s\n",
            "604:\tlearn: 7.0984389\ttotal: 4.88s\tremaining: 8.63s\n",
            "605:\tlearn: 7.0954599\ttotal: 4.89s\tremaining: 8.63s\n",
            "606:\tlearn: 7.0928229\ttotal: 4.91s\tremaining: 8.64s\n",
            "607:\tlearn: 7.0902693\ttotal: 4.93s\tremaining: 8.65s\n",
            "608:\tlearn: 7.0889651\ttotal: 4.95s\tremaining: 8.66s\n",
            "609:\tlearn: 7.0848685\ttotal: 4.97s\tremaining: 8.66s\n",
            "610:\tlearn: 7.0819690\ttotal: 4.98s\tremaining: 8.67s\n",
            "611:\tlearn: 7.0789124\ttotal: 5s\tremaining: 8.67s\n",
            "612:\tlearn: 7.0761138\ttotal: 5.01s\tremaining: 8.68s\n",
            "613:\tlearn: 7.0725160\ttotal: 5.03s\tremaining: 8.69s\n",
            "614:\tlearn: 7.0695418\ttotal: 5.05s\tremaining: 8.69s\n",
            "615:\tlearn: 7.0676650\ttotal: 5.06s\tremaining: 8.7s\n",
            "616:\tlearn: 7.0661596\ttotal: 5.08s\tremaining: 8.7s\n",
            "617:\tlearn: 7.0633972\ttotal: 5.08s\tremaining: 8.69s\n",
            "618:\tlearn: 7.0621248\ttotal: 5.09s\tremaining: 8.68s\n",
            "619:\tlearn: 7.0602400\ttotal: 5.1s\tremaining: 8.66s\n",
            "620:\tlearn: 7.0587385\ttotal: 5.1s\tremaining: 8.65s\n",
            "621:\tlearn: 7.0565536\ttotal: 5.11s\tremaining: 8.65s\n",
            "622:\tlearn: 7.0542978\ttotal: 5.12s\tremaining: 8.64s\n",
            "623:\tlearn: 7.0526143\ttotal: 5.13s\tremaining: 8.63s\n",
            "624:\tlearn: 7.0478959\ttotal: 5.14s\tremaining: 8.63s\n",
            "625:\tlearn: 7.0451014\ttotal: 5.15s\tremaining: 8.62s\n",
            "626:\tlearn: 7.0412584\ttotal: 5.16s\tremaining: 8.61s\n",
            "627:\tlearn: 7.0396792\ttotal: 5.17s\tremaining: 8.61s\n",
            "628:\tlearn: 7.0372031\ttotal: 5.19s\tremaining: 8.62s\n",
            "629:\tlearn: 7.0356001\ttotal: 5.2s\tremaining: 8.62s\n",
            "630:\tlearn: 7.0343558\ttotal: 5.21s\tremaining: 8.62s\n",
            "631:\tlearn: 7.0329758\ttotal: 5.23s\tremaining: 8.62s\n",
            "632:\tlearn: 7.0308969\ttotal: 5.25s\tremaining: 8.63s\n",
            "633:\tlearn: 7.0280412\ttotal: 5.27s\tremaining: 8.64s\n",
            "634:\tlearn: 7.0247474\ttotal: 5.29s\tremaining: 8.65s\n",
            "635:\tlearn: 7.0230073\ttotal: 5.3s\tremaining: 8.65s\n",
            "636:\tlearn: 7.0212380\ttotal: 5.32s\tremaining: 8.66s\n",
            "637:\tlearn: 7.0177907\ttotal: 5.34s\tremaining: 8.67s\n",
            "638:\tlearn: 7.0162716\ttotal: 5.36s\tremaining: 8.67s\n",
            "639:\tlearn: 7.0147854\ttotal: 5.37s\tremaining: 8.67s\n",
            "640:\tlearn: 7.0128760\ttotal: 5.38s\tremaining: 8.68s\n",
            "641:\tlearn: 7.0098147\ttotal: 5.4s\tremaining: 8.68s\n",
            "642:\tlearn: 7.0072825\ttotal: 5.42s\tremaining: 8.68s\n",
            "643:\tlearn: 7.0031495\ttotal: 5.43s\tremaining: 8.69s\n",
            "644:\tlearn: 7.0005362\ttotal: 5.45s\tremaining: 8.69s\n",
            "645:\tlearn: 6.9977032\ttotal: 5.46s\tremaining: 8.69s\n",
            "646:\tlearn: 6.9965189\ttotal: 5.48s\tremaining: 8.7s\n",
            "647:\tlearn: 6.9942837\ttotal: 5.5s\tremaining: 8.7s\n",
            "648:\tlearn: 6.9920988\ttotal: 5.51s\tremaining: 8.7s\n",
            "649:\tlearn: 6.9908778\ttotal: 5.53s\tremaining: 8.71s\n",
            "650:\tlearn: 6.9891343\ttotal: 5.54s\tremaining: 8.71s\n",
            "651:\tlearn: 6.9868900\ttotal: 5.55s\tremaining: 8.71s\n",
            "652:\tlearn: 6.9837905\ttotal: 5.57s\tremaining: 8.71s\n",
            "653:\tlearn: 6.9811569\ttotal: 5.58s\tremaining: 8.71s\n",
            "654:\tlearn: 6.9786627\ttotal: 5.6s\tremaining: 8.71s\n",
            "655:\tlearn: 6.9767527\ttotal: 5.62s\tremaining: 8.71s\n",
            "656:\tlearn: 6.9750697\ttotal: 5.63s\tremaining: 8.72s\n",
            "657:\tlearn: 6.9728665\ttotal: 5.65s\tremaining: 8.73s\n",
            "658:\tlearn: 6.9712000\ttotal: 5.67s\tremaining: 8.73s\n",
            "659:\tlearn: 6.9694555\ttotal: 5.69s\tremaining: 8.74s\n",
            "660:\tlearn: 6.9684236\ttotal: 5.7s\tremaining: 8.74s\n",
            "661:\tlearn: 6.9659830\ttotal: 5.72s\tremaining: 8.74s\n",
            "662:\tlearn: 6.9610476\ttotal: 5.73s\tremaining: 8.74s\n",
            "663:\tlearn: 6.9580456\ttotal: 5.75s\tremaining: 8.74s\n",
            "664:\tlearn: 6.9559683\ttotal: 5.76s\tremaining: 8.74s\n",
            "665:\tlearn: 6.9525280\ttotal: 5.78s\tremaining: 8.75s\n",
            "666:\tlearn: 6.9516082\ttotal: 5.79s\tremaining: 8.75s\n",
            "667:\tlearn: 6.9473363\ttotal: 5.81s\tremaining: 8.75s\n",
            "668:\tlearn: 6.9439878\ttotal: 5.83s\tremaining: 8.75s\n",
            "669:\tlearn: 6.9402790\ttotal: 5.84s\tremaining: 8.76s\n",
            "670:\tlearn: 6.9392774\ttotal: 5.86s\tremaining: 8.76s\n",
            "671:\tlearn: 6.9379059\ttotal: 5.87s\tremaining: 8.75s\n",
            "672:\tlearn: 6.9361746\ttotal: 5.89s\tremaining: 8.77s\n",
            "673:\tlearn: 6.9336902\ttotal: 5.91s\tremaining: 8.77s\n",
            "674:\tlearn: 6.9319633\ttotal: 5.92s\tremaining: 8.77s\n",
            "675:\tlearn: 6.9286910\ttotal: 5.94s\tremaining: 8.77s\n",
            "676:\tlearn: 6.9276881\ttotal: 5.96s\tremaining: 8.77s\n",
            "677:\tlearn: 6.9263499\ttotal: 5.97s\tremaining: 8.77s\n",
            "678:\tlearn: 6.9239330\ttotal: 5.99s\tremaining: 8.77s\n",
            "679:\tlearn: 6.9210290\ttotal: 6.01s\tremaining: 8.78s\n",
            "680:\tlearn: 6.9176150\ttotal: 6.03s\tremaining: 8.79s\n",
            "681:\tlearn: 6.9148110\ttotal: 6.04s\tremaining: 8.79s\n",
            "682:\tlearn: 6.9128589\ttotal: 6.06s\tremaining: 8.8s\n",
            "683:\tlearn: 6.9118885\ttotal: 6.08s\tremaining: 8.8s\n",
            "684:\tlearn: 6.9094943\ttotal: 6.1s\tremaining: 8.8s\n",
            "685:\tlearn: 6.9061975\ttotal: 6.12s\tremaining: 8.81s\n",
            "686:\tlearn: 6.9038650\ttotal: 6.13s\tremaining: 8.81s\n",
            "687:\tlearn: 6.9019953\ttotal: 6.15s\tremaining: 8.81s\n",
            "688:\tlearn: 6.9003103\ttotal: 6.16s\tremaining: 8.81s\n",
            "689:\tlearn: 6.8964582\ttotal: 6.17s\tremaining: 8.8s\n",
            "690:\tlearn: 6.8936744\ttotal: 6.18s\tremaining: 8.79s\n",
            "691:\tlearn: 6.8909127\ttotal: 6.19s\tremaining: 8.79s\n",
            "692:\tlearn: 6.8885670\ttotal: 6.2s\tremaining: 8.77s\n",
            "693:\tlearn: 6.8877702\ttotal: 6.2s\tremaining: 8.76s\n",
            "694:\tlearn: 6.8854521\ttotal: 6.21s\tremaining: 8.75s\n",
            "695:\tlearn: 6.8838025\ttotal: 6.22s\tremaining: 8.73s\n",
            "696:\tlearn: 6.8812285\ttotal: 6.22s\tremaining: 8.72s\n",
            "697:\tlearn: 6.8788290\ttotal: 6.23s\tremaining: 8.71s\n",
            "698:\tlearn: 6.8766369\ttotal: 6.23s\tremaining: 8.7s\n",
            "699:\tlearn: 6.8743590\ttotal: 6.24s\tremaining: 8.68s\n",
            "700:\tlearn: 6.8720956\ttotal: 6.25s\tremaining: 8.67s\n",
            "701:\tlearn: 6.8696731\ttotal: 6.25s\tremaining: 8.66s\n",
            "702:\tlearn: 6.8670276\ttotal: 6.26s\tremaining: 8.64s\n",
            "703:\tlearn: 6.8643273\ttotal: 6.26s\tremaining: 8.63s\n",
            "704:\tlearn: 6.8627457\ttotal: 6.27s\tremaining: 8.62s\n",
            "705:\tlearn: 6.8592539\ttotal: 6.28s\tremaining: 8.61s\n",
            "706:\tlearn: 6.8580061\ttotal: 6.29s\tremaining: 8.6s\n",
            "707:\tlearn: 6.8548559\ttotal: 6.3s\tremaining: 8.6s\n",
            "708:\tlearn: 6.8526389\ttotal: 6.31s\tremaining: 8.59s\n",
            "709:\tlearn: 6.8508055\ttotal: 6.32s\tremaining: 8.58s\n",
            "710:\tlearn: 6.8499049\ttotal: 6.33s\tremaining: 8.57s\n",
            "711:\tlearn: 6.8487478\ttotal: 6.33s\tremaining: 8.56s\n",
            "712:\tlearn: 6.8467035\ttotal: 6.34s\tremaining: 8.55s\n",
            "713:\tlearn: 6.8433563\ttotal: 6.35s\tremaining: 8.54s\n",
            "714:\tlearn: 6.8397006\ttotal: 6.35s\tremaining: 8.52s\n",
            "715:\tlearn: 6.8360114\ttotal: 6.36s\tremaining: 8.51s\n",
            "716:\tlearn: 6.8325557\ttotal: 6.37s\tremaining: 8.5s\n",
            "717:\tlearn: 6.8304152\ttotal: 6.37s\tremaining: 8.49s\n",
            "718:\tlearn: 6.8281549\ttotal: 6.38s\tremaining: 8.47s\n",
            "719:\tlearn: 6.8264735\ttotal: 6.39s\tremaining: 8.46s\n",
            "720:\tlearn: 6.8232913\ttotal: 6.39s\tremaining: 8.45s\n",
            "721:\tlearn: 6.8214133\ttotal: 6.4s\tremaining: 8.44s\n",
            "722:\tlearn: 6.8194422\ttotal: 6.41s\tremaining: 8.43s\n",
            "723:\tlearn: 6.8179940\ttotal: 6.41s\tremaining: 8.41s\n",
            "724:\tlearn: 6.8157438\ttotal: 6.42s\tremaining: 8.4s\n",
            "725:\tlearn: 6.8134329\ttotal: 6.42s\tremaining: 8.39s\n",
            "726:\tlearn: 6.8106449\ttotal: 6.43s\tremaining: 8.38s\n",
            "727:\tlearn: 6.8096712\ttotal: 6.44s\tremaining: 8.36s\n",
            "728:\tlearn: 6.8069000\ttotal: 6.44s\tremaining: 8.35s\n",
            "729:\tlearn: 6.8025425\ttotal: 6.45s\tremaining: 8.34s\n",
            "730:\tlearn: 6.8000214\ttotal: 6.46s\tremaining: 8.33s\n",
            "731:\tlearn: 6.7991332\ttotal: 6.46s\tremaining: 8.32s\n",
            "732:\tlearn: 6.7968086\ttotal: 6.47s\tremaining: 8.3s\n",
            "733:\tlearn: 6.7944603\ttotal: 6.47s\tremaining: 8.29s\n",
            "734:\tlearn: 6.7914796\ttotal: 6.48s\tremaining: 8.28s\n",
            "735:\tlearn: 6.7885393\ttotal: 6.49s\tremaining: 8.27s\n",
            "736:\tlearn: 6.7863197\ttotal: 6.5s\tremaining: 8.26s\n",
            "737:\tlearn: 6.7846166\ttotal: 6.5s\tremaining: 8.25s\n",
            "738:\tlearn: 6.7825219\ttotal: 6.51s\tremaining: 8.24s\n",
            "739:\tlearn: 6.7799210\ttotal: 6.52s\tremaining: 8.23s\n",
            "740:\tlearn: 6.7773845\ttotal: 6.53s\tremaining: 8.22s\n",
            "741:\tlearn: 6.7749982\ttotal: 6.53s\tremaining: 8.2s\n",
            "742:\tlearn: 6.7728409\ttotal: 6.54s\tremaining: 8.19s\n",
            "743:\tlearn: 6.7719469\ttotal: 6.55s\tremaining: 8.18s\n",
            "744:\tlearn: 6.7710628\ttotal: 6.55s\tremaining: 8.17s\n",
            "745:\tlearn: 6.7693311\ttotal: 6.56s\tremaining: 8.16s\n",
            "746:\tlearn: 6.7679240\ttotal: 6.57s\tremaining: 8.15s\n",
            "747:\tlearn: 6.7653625\ttotal: 6.57s\tremaining: 8.14s\n",
            "748:\tlearn: 6.7616497\ttotal: 6.58s\tremaining: 8.13s\n",
            "749:\tlearn: 6.7596600\ttotal: 6.58s\tremaining: 8.11s\n",
            "750:\tlearn: 6.7585681\ttotal: 6.59s\tremaining: 8.1s\n",
            "751:\tlearn: 6.7555247\ttotal: 6.6s\tremaining: 8.09s\n",
            "752:\tlearn: 6.7531184\ttotal: 6.61s\tremaining: 8.08s\n",
            "753:\tlearn: 6.7510022\ttotal: 6.61s\tremaining: 8.07s\n",
            "754:\tlearn: 6.7492177\ttotal: 6.62s\tremaining: 8.05s\n",
            "755:\tlearn: 6.7459581\ttotal: 6.62s\tremaining: 8.04s\n",
            "756:\tlearn: 6.7438453\ttotal: 6.63s\tremaining: 8.03s\n",
            "757:\tlearn: 6.7410420\ttotal: 6.64s\tremaining: 8.02s\n",
            "758:\tlearn: 6.7394680\ttotal: 6.64s\tremaining: 8.01s\n",
            "759:\tlearn: 6.7379424\ttotal: 6.65s\tremaining: 8s\n",
            "760:\tlearn: 6.7347109\ttotal: 6.66s\tremaining: 7.98s\n",
            "761:\tlearn: 6.7327207\ttotal: 6.66s\tremaining: 7.97s\n",
            "762:\tlearn: 6.7316620\ttotal: 6.67s\tremaining: 7.96s\n",
            "763:\tlearn: 6.7301838\ttotal: 6.67s\tremaining: 7.95s\n",
            "764:\tlearn: 6.7283139\ttotal: 6.68s\tremaining: 7.94s\n",
            "765:\tlearn: 6.7261771\ttotal: 6.69s\tremaining: 7.93s\n",
            "766:\tlearn: 6.7238667\ttotal: 6.69s\tremaining: 7.91s\n",
            "767:\tlearn: 6.7209071\ttotal: 6.7s\tremaining: 7.9s\n",
            "768:\tlearn: 6.7191454\ttotal: 6.71s\tremaining: 7.89s\n",
            "769:\tlearn: 6.7165376\ttotal: 6.71s\tremaining: 7.88s\n",
            "770:\tlearn: 6.7153199\ttotal: 6.72s\tremaining: 7.87s\n",
            "771:\tlearn: 6.7124810\ttotal: 6.73s\tremaining: 7.86s\n",
            "772:\tlearn: 6.7104165\ttotal: 6.73s\tremaining: 7.85s\n",
            "773:\tlearn: 6.7080264\ttotal: 6.74s\tremaining: 7.84s\n",
            "774:\tlearn: 6.7059370\ttotal: 6.75s\tremaining: 7.83s\n",
            "775:\tlearn: 6.7037130\ttotal: 6.75s\tremaining: 7.81s\n",
            "776:\tlearn: 6.7014165\ttotal: 6.76s\tremaining: 7.8s\n",
            "777:\tlearn: 6.7001183\ttotal: 6.76s\tremaining: 7.79s\n",
            "778:\tlearn: 6.6969727\ttotal: 6.77s\tremaining: 7.78s\n",
            "779:\tlearn: 6.6952690\ttotal: 6.78s\tremaining: 7.77s\n",
            "780:\tlearn: 6.6923610\ttotal: 6.79s\tremaining: 7.76s\n",
            "781:\tlearn: 6.6906269\ttotal: 6.79s\tremaining: 7.75s\n",
            "782:\tlearn: 6.6880907\ttotal: 6.8s\tremaining: 7.74s\n",
            "783:\tlearn: 6.6866064\ttotal: 6.8s\tremaining: 7.72s\n",
            "784:\tlearn: 6.6838466\ttotal: 6.81s\tremaining: 7.71s\n",
            "785:\tlearn: 6.6821960\ttotal: 6.82s\tremaining: 7.7s\n",
            "786:\tlearn: 6.6792316\ttotal: 6.82s\tremaining: 7.69s\n",
            "787:\tlearn: 6.6775247\ttotal: 6.83s\tremaining: 7.68s\n",
            "788:\tlearn: 6.6756197\ttotal: 6.84s\tremaining: 7.67s\n",
            "789:\tlearn: 6.6737823\ttotal: 6.85s\tremaining: 7.66s\n",
            "790:\tlearn: 6.6720994\ttotal: 6.85s\tremaining: 7.65s\n",
            "791:\tlearn: 6.6713407\ttotal: 6.86s\tremaining: 7.64s\n",
            "792:\tlearn: 6.6687832\ttotal: 6.86s\tremaining: 7.63s\n",
            "793:\tlearn: 6.6662392\ttotal: 6.87s\tremaining: 7.62s\n",
            "794:\tlearn: 6.6648367\ttotal: 6.88s\tremaining: 7.6s\n",
            "795:\tlearn: 6.6633031\ttotal: 6.88s\tremaining: 7.59s\n",
            "796:\tlearn: 6.6613816\ttotal: 6.89s\tremaining: 7.58s\n",
            "797:\tlearn: 6.6590633\ttotal: 6.9s\tremaining: 7.57s\n",
            "798:\tlearn: 6.6566009\ttotal: 6.9s\tremaining: 7.56s\n",
            "799:\tlearn: 6.6542620\ttotal: 6.91s\tremaining: 7.55s\n",
            "800:\tlearn: 6.6528697\ttotal: 6.92s\tremaining: 7.54s\n",
            "801:\tlearn: 6.6506349\ttotal: 6.93s\tremaining: 7.53s\n",
            "802:\tlearn: 6.6483164\ttotal: 6.93s\tremaining: 7.52s\n",
            "803:\tlearn: 6.6466292\ttotal: 6.94s\tremaining: 7.51s\n",
            "804:\tlearn: 6.6427970\ttotal: 6.94s\tremaining: 7.5s\n",
            "805:\tlearn: 6.6404622\ttotal: 6.95s\tremaining: 7.49s\n",
            "806:\tlearn: 6.6381676\ttotal: 6.96s\tremaining: 7.47s\n",
            "807:\tlearn: 6.6359315\ttotal: 6.96s\tremaining: 7.46s\n",
            "808:\tlearn: 6.6341237\ttotal: 6.97s\tremaining: 7.45s\n",
            "809:\tlearn: 6.6325436\ttotal: 6.97s\tremaining: 7.44s\n",
            "810:\tlearn: 6.6307654\ttotal: 6.98s\tremaining: 7.43s\n",
            "811:\tlearn: 6.6293738\ttotal: 6.99s\tremaining: 7.42s\n",
            "812:\tlearn: 6.6285238\ttotal: 6.99s\tremaining: 7.41s\n",
            "813:\tlearn: 6.6266981\ttotal: 7s\tremaining: 7.39s\n",
            "814:\tlearn: 6.6245029\ttotal: 7s\tremaining: 7.38s\n",
            "815:\tlearn: 6.6227528\ttotal: 7.01s\tremaining: 7.37s\n",
            "816:\tlearn: 6.6200912\ttotal: 7.02s\tremaining: 7.36s\n",
            "817:\tlearn: 6.6189090\ttotal: 7.03s\tremaining: 7.35s\n",
            "818:\tlearn: 6.6172339\ttotal: 7.03s\tremaining: 7.34s\n",
            "819:\tlearn: 6.6137969\ttotal: 7.04s\tremaining: 7.33s\n",
            "820:\tlearn: 6.6126318\ttotal: 7.05s\tremaining: 7.32s\n",
            "821:\tlearn: 6.6106919\ttotal: 7.05s\tremaining: 7.31s\n",
            "822:\tlearn: 6.6092748\ttotal: 7.06s\tremaining: 7.3s\n",
            "823:\tlearn: 6.6074510\ttotal: 7.07s\tremaining: 7.29s\n",
            "824:\tlearn: 6.6064698\ttotal: 7.07s\tremaining: 7.28s\n",
            "825:\tlearn: 6.6054279\ttotal: 7.08s\tremaining: 7.26s\n",
            "826:\tlearn: 6.6041251\ttotal: 7.08s\tremaining: 7.25s\n",
            "827:\tlearn: 6.5998808\ttotal: 7.09s\tremaining: 7.24s\n",
            "828:\tlearn: 6.5983412\ttotal: 7.09s\tremaining: 7.23s\n",
            "829:\tlearn: 6.5964261\ttotal: 7.1s\tremaining: 7.22s\n",
            "830:\tlearn: 6.5934843\ttotal: 7.11s\tremaining: 7.21s\n",
            "831:\tlearn: 6.5923518\ttotal: 7.12s\tremaining: 7.21s\n",
            "832:\tlearn: 6.5899322\ttotal: 7.13s\tremaining: 7.2s\n",
            "833:\tlearn: 6.5891907\ttotal: 7.14s\tremaining: 7.19s\n",
            "834:\tlearn: 6.5876152\ttotal: 7.14s\tremaining: 7.18s\n",
            "835:\tlearn: 6.5854892\ttotal: 7.15s\tremaining: 7.17s\n",
            "836:\tlearn: 6.5822561\ttotal: 7.16s\tremaining: 7.16s\n",
            "837:\tlearn: 6.5793207\ttotal: 7.16s\tremaining: 7.15s\n",
            "838:\tlearn: 6.5769056\ttotal: 7.17s\tremaining: 7.13s\n",
            "839:\tlearn: 6.5758019\ttotal: 7.18s\tremaining: 7.13s\n",
            "840:\tlearn: 6.5737603\ttotal: 7.18s\tremaining: 7.11s\n",
            "841:\tlearn: 6.5724597\ttotal: 7.19s\tremaining: 7.1s\n",
            "842:\tlearn: 6.5714068\ttotal: 7.19s\tremaining: 7.09s\n",
            "843:\tlearn: 6.5686276\ttotal: 7.2s\tremaining: 7.08s\n",
            "844:\tlearn: 6.5647894\ttotal: 7.21s\tremaining: 7.07s\n",
            "845:\tlearn: 6.5626224\ttotal: 7.21s\tremaining: 7.06s\n",
            "846:\tlearn: 6.5604238\ttotal: 7.22s\tremaining: 7.05s\n",
            "847:\tlearn: 6.5583966\ttotal: 7.23s\tremaining: 7.04s\n",
            "848:\tlearn: 6.5559678\ttotal: 7.23s\tremaining: 7.03s\n",
            "849:\tlearn: 6.5528062\ttotal: 7.24s\tremaining: 7.02s\n",
            "850:\tlearn: 6.5517253\ttotal: 7.25s\tremaining: 7.01s\n",
            "851:\tlearn: 6.5497536\ttotal: 7.25s\tremaining: 7s\n",
            "852:\tlearn: 6.5477863\ttotal: 7.26s\tremaining: 6.99s\n",
            "853:\tlearn: 6.5447671\ttotal: 7.27s\tremaining: 6.98s\n",
            "854:\tlearn: 6.5428118\ttotal: 7.27s\tremaining: 6.97s\n",
            "855:\tlearn: 6.5414076\ttotal: 7.28s\tremaining: 6.96s\n",
            "856:\tlearn: 6.5396800\ttotal: 7.29s\tremaining: 6.95s\n",
            "857:\tlearn: 6.5379063\ttotal: 7.29s\tremaining: 6.93s\n",
            "858:\tlearn: 6.5356678\ttotal: 7.3s\tremaining: 6.93s\n",
            "859:\tlearn: 6.5335785\ttotal: 7.31s\tremaining: 6.92s\n",
            "860:\tlearn: 6.5320148\ttotal: 7.32s\tremaining: 6.91s\n",
            "861:\tlearn: 6.5289980\ttotal: 7.33s\tremaining: 6.9s\n",
            "862:\tlearn: 6.5261906\ttotal: 7.33s\tremaining: 6.89s\n",
            "863:\tlearn: 6.5240419\ttotal: 7.34s\tremaining: 6.88s\n",
            "864:\tlearn: 6.5226875\ttotal: 7.35s\tremaining: 6.87s\n",
            "865:\tlearn: 6.5213332\ttotal: 7.35s\tremaining: 6.86s\n",
            "866:\tlearn: 6.5200227\ttotal: 7.36s\tremaining: 6.85s\n",
            "867:\tlearn: 6.5165576\ttotal: 7.37s\tremaining: 6.84s\n",
            "868:\tlearn: 6.5143969\ttotal: 7.37s\tremaining: 6.83s\n",
            "869:\tlearn: 6.5128869\ttotal: 7.38s\tremaining: 6.82s\n",
            "870:\tlearn: 6.5104171\ttotal: 7.38s\tremaining: 6.81s\n",
            "871:\tlearn: 6.5092547\ttotal: 7.39s\tremaining: 6.8s\n",
            "872:\tlearn: 6.5078157\ttotal: 7.4s\tremaining: 6.79s\n",
            "873:\tlearn: 6.5058608\ttotal: 7.4s\tremaining: 6.78s\n",
            "874:\tlearn: 6.5038337\ttotal: 7.41s\tremaining: 6.76s\n",
            "875:\tlearn: 6.5019302\ttotal: 7.42s\tremaining: 6.76s\n",
            "876:\tlearn: 6.5004440\ttotal: 7.43s\tremaining: 6.75s\n",
            "877:\tlearn: 6.4982354\ttotal: 7.43s\tremaining: 6.74s\n",
            "878:\tlearn: 6.4960574\ttotal: 7.44s\tremaining: 6.73s\n",
            "879:\tlearn: 6.4947030\ttotal: 7.45s\tremaining: 6.72s\n",
            "880:\tlearn: 6.4939156\ttotal: 7.45s\tremaining: 6.71s\n",
            "881:\tlearn: 6.4919831\ttotal: 7.46s\tremaining: 6.7s\n",
            "882:\tlearn: 6.4897180\ttotal: 7.46s\tremaining: 6.69s\n",
            "883:\tlearn: 6.4879116\ttotal: 7.47s\tremaining: 6.68s\n",
            "884:\tlearn: 6.4851006\ttotal: 7.48s\tremaining: 6.67s\n",
            "885:\tlearn: 6.4840114\ttotal: 7.49s\tremaining: 6.66s\n",
            "886:\tlearn: 6.4823477\ttotal: 7.49s\tremaining: 6.65s\n",
            "887:\tlearn: 6.4795309\ttotal: 7.5s\tremaining: 6.64s\n",
            "888:\tlearn: 6.4766068\ttotal: 7.5s\tremaining: 6.63s\n",
            "889:\tlearn: 6.4746999\ttotal: 7.51s\tremaining: 6.62s\n",
            "890:\tlearn: 6.4719879\ttotal: 7.52s\tremaining: 6.61s\n",
            "891:\tlearn: 6.4703299\ttotal: 7.53s\tremaining: 6.6s\n",
            "892:\tlearn: 6.4680341\ttotal: 7.53s\tremaining: 6.59s\n",
            "893:\tlearn: 6.4672140\ttotal: 7.54s\tremaining: 6.58s\n",
            "894:\tlearn: 6.4650783\ttotal: 7.55s\tremaining: 6.57s\n",
            "895:\tlearn: 6.4629389\ttotal: 7.55s\tremaining: 6.56s\n",
            "896:\tlearn: 6.4603598\ttotal: 7.56s\tremaining: 6.55s\n",
            "897:\tlearn: 6.4581431\ttotal: 7.57s\tremaining: 6.54s\n",
            "898:\tlearn: 6.4546596\ttotal: 7.57s\tremaining: 6.53s\n",
            "899:\tlearn: 6.4520628\ttotal: 7.58s\tremaining: 6.52s\n",
            "900:\tlearn: 6.4508990\ttotal: 7.59s\tremaining: 6.51s\n",
            "901:\tlearn: 6.4493267\ttotal: 7.59s\tremaining: 6.5s\n",
            "902:\tlearn: 6.4469270\ttotal: 7.6s\tremaining: 6.49s\n",
            "903:\tlearn: 6.4452926\ttotal: 7.61s\tremaining: 6.48s\n",
            "904:\tlearn: 6.4434086\ttotal: 7.61s\tremaining: 6.47s\n",
            "905:\tlearn: 6.4423640\ttotal: 7.62s\tremaining: 6.46s\n",
            "906:\tlearn: 6.4409938\ttotal: 7.62s\tremaining: 6.45s\n",
            "907:\tlearn: 6.4378022\ttotal: 7.63s\tremaining: 6.44s\n",
            "908:\tlearn: 6.4358121\ttotal: 7.64s\tremaining: 6.43s\n",
            "909:\tlearn: 6.4343467\ttotal: 7.64s\tremaining: 6.42s\n",
            "910:\tlearn: 6.4321601\ttotal: 7.65s\tremaining: 6.41s\n",
            "911:\tlearn: 6.4304528\ttotal: 7.66s\tremaining: 6.4s\n",
            "912:\tlearn: 6.4290731\ttotal: 7.66s\tremaining: 6.39s\n",
            "913:\tlearn: 6.4263129\ttotal: 7.67s\tremaining: 6.38s\n",
            "914:\tlearn: 6.4241061\ttotal: 7.67s\tremaining: 6.37s\n",
            "915:\tlearn: 6.4223940\ttotal: 7.68s\tremaining: 6.36s\n",
            "916:\tlearn: 6.4188163\ttotal: 7.69s\tremaining: 6.35s\n",
            "917:\tlearn: 6.4159583\ttotal: 7.69s\tremaining: 6.34s\n",
            "918:\tlearn: 6.4147138\ttotal: 7.7s\tremaining: 6.33s\n",
            "919:\tlearn: 6.4135924\ttotal: 7.71s\tremaining: 6.32s\n",
            "920:\tlearn: 6.4111285\ttotal: 7.72s\tremaining: 6.31s\n",
            "921:\tlearn: 6.4097161\ttotal: 7.72s\tremaining: 6.3s\n",
            "922:\tlearn: 6.4084452\ttotal: 7.73s\tremaining: 6.29s\n",
            "923:\tlearn: 6.4065246\ttotal: 7.74s\tremaining: 6.28s\n",
            "924:\tlearn: 6.4048675\ttotal: 7.75s\tremaining: 6.27s\n",
            "925:\tlearn: 6.4036525\ttotal: 7.75s\tremaining: 6.26s\n",
            "926:\tlearn: 6.4026544\ttotal: 7.76s\tremaining: 6.25s\n",
            "927:\tlearn: 6.4017764\ttotal: 7.76s\tremaining: 6.24s\n",
            "928:\tlearn: 6.4000302\ttotal: 7.77s\tremaining: 6.23s\n",
            "929:\tlearn: 6.3965859\ttotal: 7.78s\tremaining: 6.22s\n",
            "930:\tlearn: 6.3946058\ttotal: 7.78s\tremaining: 6.21s\n",
            "931:\tlearn: 6.3928041\ttotal: 7.79s\tremaining: 6.2s\n",
            "932:\tlearn: 6.3910675\ttotal: 7.79s\tremaining: 6.19s\n",
            "933:\tlearn: 6.3896259\ttotal: 7.8s\tremaining: 6.18s\n",
            "934:\tlearn: 6.3882899\ttotal: 7.81s\tremaining: 6.17s\n",
            "935:\tlearn: 6.3863500\ttotal: 7.81s\tremaining: 6.16s\n",
            "936:\tlearn: 6.3833191\ttotal: 7.82s\tremaining: 6.15s\n",
            "937:\tlearn: 6.3821498\ttotal: 7.83s\tremaining: 6.14s\n",
            "938:\tlearn: 6.3799510\ttotal: 7.83s\tremaining: 6.13s\n",
            "939:\tlearn: 6.3783864\ttotal: 7.84s\tremaining: 6.12s\n",
            "940:\tlearn: 6.3765054\ttotal: 7.85s\tremaining: 6.11s\n",
            "941:\tlearn: 6.3756651\ttotal: 7.85s\tremaining: 6.1s\n",
            "942:\tlearn: 6.3738724\ttotal: 7.86s\tremaining: 6.09s\n",
            "943:\tlearn: 6.3723925\ttotal: 7.86s\tremaining: 6.08s\n",
            "944:\tlearn: 6.3709303\ttotal: 7.87s\tremaining: 6.07s\n",
            "945:\tlearn: 6.3685894\ttotal: 7.88s\tremaining: 6.06s\n",
            "946:\tlearn: 6.3671152\ttotal: 7.88s\tremaining: 6.05s\n",
            "947:\tlearn: 6.3656150\ttotal: 7.89s\tremaining: 6.04s\n",
            "948:\tlearn: 6.3639559\ttotal: 7.9s\tremaining: 6.03s\n",
            "949:\tlearn: 6.3628325\ttotal: 7.9s\tremaining: 6.02s\n",
            "950:\tlearn: 6.3609285\ttotal: 7.91s\tremaining: 6.01s\n",
            "951:\tlearn: 6.3593886\ttotal: 7.92s\tremaining: 6s\n",
            "952:\tlearn: 6.3581653\ttotal: 7.92s\tremaining: 5.99s\n",
            "953:\tlearn: 6.3570209\ttotal: 7.93s\tremaining: 5.98s\n",
            "954:\tlearn: 6.3558092\ttotal: 7.93s\tremaining: 5.97s\n",
            "955:\tlearn: 6.3542499\ttotal: 7.94s\tremaining: 5.96s\n",
            "956:\tlearn: 6.3521946\ttotal: 7.95s\tremaining: 5.95s\n",
            "957:\tlearn: 6.3506764\ttotal: 7.95s\tremaining: 5.94s\n",
            "958:\tlearn: 6.3473619\ttotal: 7.96s\tremaining: 5.93s\n",
            "959:\tlearn: 6.3454804\ttotal: 7.96s\tremaining: 5.92s\n",
            "960:\tlearn: 6.3426136\ttotal: 7.97s\tremaining: 5.91s\n",
            "961:\tlearn: 6.3400952\ttotal: 7.98s\tremaining: 5.9s\n",
            "962:\tlearn: 6.3385715\ttotal: 7.98s\tremaining: 5.89s\n",
            "963:\tlearn: 6.3374096\ttotal: 7.99s\tremaining: 5.88s\n",
            "964:\tlearn: 6.3354340\ttotal: 8s\tremaining: 5.87s\n",
            "965:\tlearn: 6.3341306\ttotal: 8s\tremaining: 5.86s\n",
            "966:\tlearn: 6.3326558\ttotal: 8.01s\tremaining: 5.85s\n",
            "967:\tlearn: 6.3314337\ttotal: 8.02s\tremaining: 5.84s\n",
            "968:\tlearn: 6.3300151\ttotal: 8.02s\tremaining: 5.84s\n",
            "969:\tlearn: 6.3290784\ttotal: 8.03s\tremaining: 5.83s\n",
            "970:\tlearn: 6.3277839\ttotal: 8.04s\tremaining: 5.82s\n",
            "971:\tlearn: 6.3257835\ttotal: 8.04s\tremaining: 5.81s\n",
            "972:\tlearn: 6.3244120\ttotal: 8.05s\tremaining: 5.8s\n",
            "973:\tlearn: 6.3224843\ttotal: 8.05s\tremaining: 5.79s\n",
            "974:\tlearn: 6.3216922\ttotal: 8.06s\tremaining: 5.78s\n",
            "975:\tlearn: 6.3195169\ttotal: 8.07s\tremaining: 5.77s\n",
            "976:\tlearn: 6.3170205\ttotal: 8.07s\tremaining: 5.76s\n",
            "977:\tlearn: 6.3158165\ttotal: 8.08s\tremaining: 5.75s\n",
            "978:\tlearn: 6.3140558\ttotal: 8.09s\tremaining: 5.74s\n",
            "979:\tlearn: 6.3131568\ttotal: 8.09s\tremaining: 5.73s\n",
            "980:\tlearn: 6.3097396\ttotal: 8.1s\tremaining: 5.72s\n",
            "981:\tlearn: 6.3062515\ttotal: 8.1s\tremaining: 5.71s\n",
            "982:\tlearn: 6.3039806\ttotal: 8.11s\tremaining: 5.7s\n",
            "983:\tlearn: 6.3022959\ttotal: 8.12s\tremaining: 5.69s\n",
            "984:\tlearn: 6.3004807\ttotal: 8.12s\tremaining: 5.68s\n",
            "985:\tlearn: 6.2983153\ttotal: 8.13s\tremaining: 5.67s\n",
            "986:\tlearn: 6.2970554\ttotal: 8.13s\tremaining: 5.66s\n",
            "987:\tlearn: 6.2957125\ttotal: 8.14s\tremaining: 5.65s\n",
            "988:\tlearn: 6.2938822\ttotal: 8.15s\tremaining: 5.64s\n",
            "989:\tlearn: 6.2916360\ttotal: 8.15s\tremaining: 5.63s\n",
            "990:\tlearn: 6.2904903\ttotal: 8.16s\tremaining: 5.62s\n",
            "991:\tlearn: 6.2893684\ttotal: 8.16s\tremaining: 5.61s\n",
            "992:\tlearn: 6.2885968\ttotal: 8.17s\tremaining: 5.6s\n",
            "993:\tlearn: 6.2859079\ttotal: 8.18s\tremaining: 5.59s\n",
            "994:\tlearn: 6.2839754\ttotal: 8.18s\tremaining: 5.58s\n",
            "995:\tlearn: 6.2831875\ttotal: 8.19s\tremaining: 5.57s\n",
            "996:\tlearn: 6.2805401\ttotal: 8.2s\tremaining: 5.56s\n",
            "997:\tlearn: 6.2785440\ttotal: 8.2s\tremaining: 5.55s\n",
            "998:\tlearn: 6.2765577\ttotal: 8.21s\tremaining: 5.54s\n",
            "999:\tlearn: 6.2748681\ttotal: 8.21s\tremaining: 5.54s\n",
            "1000:\tlearn: 6.2735630\ttotal: 8.22s\tremaining: 5.53s\n",
            "1001:\tlearn: 6.2715262\ttotal: 8.22s\tremaining: 5.52s\n",
            "1002:\tlearn: 6.2709422\ttotal: 8.23s\tremaining: 5.51s\n",
            "1003:\tlearn: 6.2694098\ttotal: 8.24s\tremaining: 5.5s\n",
            "1004:\tlearn: 6.2684825\ttotal: 8.24s\tremaining: 5.49s\n",
            "1005:\tlearn: 6.2666849\ttotal: 8.25s\tremaining: 5.48s\n",
            "1006:\tlearn: 6.2642466\ttotal: 8.25s\tremaining: 5.47s\n",
            "1007:\tlearn: 6.2623345\ttotal: 8.26s\tremaining: 5.46s\n",
            "1008:\tlearn: 6.2612053\ttotal: 8.27s\tremaining: 5.45s\n",
            "1009:\tlearn: 6.2601950\ttotal: 8.27s\tremaining: 5.44s\n",
            "1010:\tlearn: 6.2584176\ttotal: 8.28s\tremaining: 5.43s\n",
            "1011:\tlearn: 6.2565588\ttotal: 8.29s\tremaining: 5.42s\n",
            "1012:\tlearn: 6.2549200\ttotal: 8.29s\tremaining: 5.41s\n",
            "1013:\tlearn: 6.2540610\ttotal: 8.3s\tremaining: 5.4s\n",
            "1014:\tlearn: 6.2528251\ttotal: 8.31s\tremaining: 5.39s\n",
            "1015:\tlearn: 6.2517931\ttotal: 8.33s\tremaining: 5.39s\n",
            "1016:\tlearn: 6.2493090\ttotal: 8.33s\tremaining: 5.38s\n",
            "1017:\tlearn: 6.2477796\ttotal: 8.34s\tremaining: 5.37s\n",
            "1018:\tlearn: 6.2466259\ttotal: 8.35s\tremaining: 5.37s\n",
            "1019:\tlearn: 6.2440031\ttotal: 8.35s\tremaining: 5.36s\n",
            "1020:\tlearn: 6.2425185\ttotal: 8.36s\tremaining: 5.35s\n",
            "1021:\tlearn: 6.2402188\ttotal: 8.37s\tremaining: 5.34s\n",
            "1022:\tlearn: 6.2382137\ttotal: 8.37s\tremaining: 5.33s\n",
            "1023:\tlearn: 6.2371766\ttotal: 8.38s\tremaining: 5.32s\n",
            "1024:\tlearn: 6.2365535\ttotal: 8.39s\tremaining: 5.31s\n",
            "1025:\tlearn: 6.2356701\ttotal: 8.39s\tremaining: 5.3s\n",
            "1026:\tlearn: 6.2318606\ttotal: 8.4s\tremaining: 5.29s\n",
            "1027:\tlearn: 6.2305575\ttotal: 8.4s\tremaining: 5.28s\n",
            "1028:\tlearn: 6.2288530\ttotal: 8.41s\tremaining: 5.27s\n",
            "1029:\tlearn: 6.2274489\ttotal: 8.42s\tremaining: 5.26s\n",
            "1030:\tlearn: 6.2253301\ttotal: 8.42s\tremaining: 5.25s\n",
            "1031:\tlearn: 6.2242702\ttotal: 8.43s\tremaining: 5.24s\n",
            "1032:\tlearn: 6.2231240\ttotal: 8.44s\tremaining: 5.24s\n",
            "1033:\tlearn: 6.2207751\ttotal: 8.45s\tremaining: 5.23s\n",
            "1034:\tlearn: 6.2186582\ttotal: 8.45s\tremaining: 5.22s\n",
            "1035:\tlearn: 6.2171517\ttotal: 8.46s\tremaining: 5.21s\n",
            "1036:\tlearn: 6.2152209\ttotal: 8.46s\tremaining: 5.2s\n",
            "1037:\tlearn: 6.2134717\ttotal: 8.47s\tremaining: 5.19s\n",
            "1038:\tlearn: 6.2119994\ttotal: 8.48s\tremaining: 5.18s\n",
            "1039:\tlearn: 6.2108139\ttotal: 8.48s\tremaining: 5.17s\n",
            "1040:\tlearn: 6.2090134\ttotal: 8.49s\tremaining: 5.16s\n",
            "1041:\tlearn: 6.2078524\ttotal: 8.5s\tremaining: 5.15s\n",
            "1042:\tlearn: 6.2066150\ttotal: 8.5s\tremaining: 5.14s\n",
            "1043:\tlearn: 6.2050160\ttotal: 8.51s\tremaining: 5.14s\n",
            "1044:\tlearn: 6.2036981\ttotal: 8.52s\tremaining: 5.13s\n",
            "1045:\tlearn: 6.2026751\ttotal: 8.53s\tremaining: 5.12s\n",
            "1046:\tlearn: 6.2012848\ttotal: 8.53s\tremaining: 5.11s\n",
            "1047:\tlearn: 6.1982176\ttotal: 8.54s\tremaining: 5.1s\n",
            "1048:\tlearn: 6.1964084\ttotal: 8.55s\tremaining: 5.09s\n",
            "1049:\tlearn: 6.1938945\ttotal: 8.55s\tremaining: 5.08s\n",
            "1050:\tlearn: 6.1916447\ttotal: 8.56s\tremaining: 5.07s\n",
            "1051:\tlearn: 6.1896759\ttotal: 8.57s\tremaining: 5.07s\n",
            "1052:\tlearn: 6.1876899\ttotal: 8.57s\tremaining: 5.05s\n",
            "1053:\tlearn: 6.1862912\ttotal: 8.58s\tremaining: 5.05s\n",
            "1054:\tlearn: 6.1853138\ttotal: 8.59s\tremaining: 5.04s\n",
            "1055:\tlearn: 6.1841387\ttotal: 8.59s\tremaining: 5.03s\n",
            "1056:\tlearn: 6.1814630\ttotal: 8.6s\tremaining: 5.02s\n",
            "1057:\tlearn: 6.1799172\ttotal: 8.6s\tremaining: 5.01s\n",
            "1058:\tlearn: 6.1776238\ttotal: 8.61s\tremaining: 5s\n",
            "1059:\tlearn: 6.1756800\ttotal: 8.62s\tremaining: 4.99s\n",
            "1060:\tlearn: 6.1741230\ttotal: 8.62s\tremaining: 4.98s\n",
            "1061:\tlearn: 6.1711757\ttotal: 8.63s\tremaining: 4.97s\n",
            "1062:\tlearn: 6.1689298\ttotal: 8.63s\tremaining: 4.96s\n",
            "1063:\tlearn: 6.1673207\ttotal: 8.64s\tremaining: 4.95s\n",
            "1064:\tlearn: 6.1658684\ttotal: 8.65s\tremaining: 4.95s\n",
            "1065:\tlearn: 6.1644870\ttotal: 8.65s\tremaining: 4.94s\n",
            "1066:\tlearn: 6.1634025\ttotal: 8.66s\tremaining: 4.93s\n",
            "1067:\tlearn: 6.1614805\ttotal: 8.67s\tremaining: 4.92s\n",
            "1068:\tlearn: 6.1598134\ttotal: 8.67s\tremaining: 4.91s\n",
            "1069:\tlearn: 6.1578774\ttotal: 8.68s\tremaining: 4.9s\n",
            "1070:\tlearn: 6.1559110\ttotal: 8.69s\tremaining: 4.89s\n",
            "1071:\tlearn: 6.1546692\ttotal: 8.7s\tremaining: 4.88s\n",
            "1072:\tlearn: 6.1537627\ttotal: 8.7s\tremaining: 4.87s\n",
            "1073:\tlearn: 6.1518523\ttotal: 8.71s\tremaining: 4.87s\n",
            "1074:\tlearn: 6.1503785\ttotal: 8.71s\tremaining: 4.86s\n",
            "1075:\tlearn: 6.1481387\ttotal: 8.72s\tremaining: 4.85s\n",
            "1076:\tlearn: 6.1463233\ttotal: 8.73s\tremaining: 4.84s\n",
            "1077:\tlearn: 6.1442960\ttotal: 8.74s\tremaining: 4.83s\n",
            "1078:\tlearn: 6.1427194\ttotal: 8.74s\tremaining: 4.82s\n",
            "1079:\tlearn: 6.1416260\ttotal: 8.75s\tremaining: 4.81s\n",
            "1080:\tlearn: 6.1406394\ttotal: 8.76s\tremaining: 4.8s\n",
            "1081:\tlearn: 6.1394839\ttotal: 8.76s\tremaining: 4.79s\n",
            "1082:\tlearn: 6.1382429\ttotal: 8.77s\tremaining: 4.79s\n",
            "1083:\tlearn: 6.1367796\ttotal: 8.78s\tremaining: 4.78s\n",
            "1084:\tlearn: 6.1347110\ttotal: 8.78s\tremaining: 4.77s\n",
            "1085:\tlearn: 6.1331581\ttotal: 8.79s\tremaining: 4.76s\n",
            "1086:\tlearn: 6.1316593\ttotal: 8.8s\tremaining: 4.75s\n",
            "1087:\tlearn: 6.1306195\ttotal: 8.8s\tremaining: 4.74s\n",
            "1088:\tlearn: 6.1289370\ttotal: 8.81s\tremaining: 4.73s\n",
            "1089:\tlearn: 6.1274707\ttotal: 8.81s\tremaining: 4.72s\n",
            "1090:\tlearn: 6.1261038\ttotal: 8.82s\tremaining: 4.71s\n",
            "1091:\tlearn: 6.1237442\ttotal: 8.83s\tremaining: 4.71s\n",
            "1092:\tlearn: 6.1222870\ttotal: 8.83s\tremaining: 4.7s\n",
            "1093:\tlearn: 6.1213230\ttotal: 8.84s\tremaining: 4.69s\n",
            "1094:\tlearn: 6.1203886\ttotal: 8.85s\tremaining: 4.68s\n",
            "1095:\tlearn: 6.1185158\ttotal: 8.85s\tremaining: 4.67s\n",
            "1096:\tlearn: 6.1174623\ttotal: 8.86s\tremaining: 4.66s\n",
            "1097:\tlearn: 6.1153723\ttotal: 8.87s\tremaining: 4.65s\n",
            "1098:\tlearn: 6.1141684\ttotal: 8.87s\tremaining: 4.64s\n",
            "1099:\tlearn: 6.1121669\ttotal: 8.88s\tremaining: 4.63s\n",
            "1100:\tlearn: 6.1109528\ttotal: 8.89s\tremaining: 4.62s\n",
            "1101:\tlearn: 6.1097831\ttotal: 8.89s\tremaining: 4.62s\n",
            "1102:\tlearn: 6.1083111\ttotal: 8.9s\tremaining: 4.61s\n",
            "1103:\tlearn: 6.1068168\ttotal: 8.9s\tremaining: 4.6s\n",
            "1104:\tlearn: 6.1052690\ttotal: 8.91s\tremaining: 4.59s\n",
            "1105:\tlearn: 6.1021213\ttotal: 8.92s\tremaining: 4.58s\n",
            "1106:\tlearn: 6.1000521\ttotal: 8.92s\tremaining: 4.57s\n",
            "1107:\tlearn: 6.0987773\ttotal: 8.93s\tremaining: 4.56s\n",
            "1108:\tlearn: 6.0976126\ttotal: 8.94s\tremaining: 4.55s\n",
            "1109:\tlearn: 6.0960274\ttotal: 8.95s\tremaining: 4.54s\n",
            "1110:\tlearn: 6.0944070\ttotal: 8.95s\tremaining: 4.54s\n",
            "1111:\tlearn: 6.0926088\ttotal: 8.96s\tremaining: 4.53s\n",
            "1112:\tlearn: 6.0913110\ttotal: 8.97s\tremaining: 4.52s\n",
            "1113:\tlearn: 6.0892828\ttotal: 8.98s\tremaining: 4.51s\n",
            "1114:\tlearn: 6.0878145\ttotal: 8.98s\tremaining: 4.5s\n",
            "1115:\tlearn: 6.0863010\ttotal: 8.99s\tremaining: 4.5s\n",
            "1116:\tlearn: 6.0849434\ttotal: 9s\tremaining: 4.49s\n",
            "1117:\tlearn: 6.0831720\ttotal: 9s\tremaining: 4.48s\n",
            "1118:\tlearn: 6.0824020\ttotal: 9.01s\tremaining: 4.47s\n",
            "1119:\tlearn: 6.0805534\ttotal: 9.01s\tremaining: 4.46s\n",
            "1120:\tlearn: 6.0788867\ttotal: 9.02s\tremaining: 4.45s\n",
            "1121:\tlearn: 6.0768818\ttotal: 9.03s\tremaining: 4.44s\n",
            "1122:\tlearn: 6.0760693\ttotal: 9.03s\tremaining: 4.43s\n",
            "1123:\tlearn: 6.0747748\ttotal: 9.04s\tremaining: 4.42s\n",
            "1124:\tlearn: 6.0735628\ttotal: 9.05s\tremaining: 4.41s\n",
            "1125:\tlearn: 6.0727873\ttotal: 9.05s\tremaining: 4.41s\n",
            "1126:\tlearn: 6.0712426\ttotal: 9.06s\tremaining: 4.4s\n",
            "1127:\tlearn: 6.0694997\ttotal: 9.06s\tremaining: 4.39s\n",
            "1128:\tlearn: 6.0676969\ttotal: 9.07s\tremaining: 4.38s\n",
            "1129:\tlearn: 6.0656911\ttotal: 9.08s\tremaining: 4.37s\n",
            "1130:\tlearn: 6.0642700\ttotal: 9.08s\tremaining: 4.36s\n",
            "1131:\tlearn: 6.0625069\ttotal: 9.09s\tremaining: 4.35s\n",
            "1132:\tlearn: 6.0598745\ttotal: 9.1s\tremaining: 4.34s\n",
            "1133:\tlearn: 6.0585200\ttotal: 9.1s\tremaining: 4.33s\n",
            "1134:\tlearn: 6.0568639\ttotal: 9.11s\tremaining: 4.33s\n",
            "1135:\tlearn: 6.0561485\ttotal: 9.12s\tremaining: 4.32s\n",
            "1136:\tlearn: 6.0545043\ttotal: 9.12s\tremaining: 4.31s\n",
            "1137:\tlearn: 6.0526613\ttotal: 9.13s\tremaining: 4.3s\n",
            "1138:\tlearn: 6.0505651\ttotal: 9.14s\tremaining: 4.29s\n",
            "1139:\tlearn: 6.0492412\ttotal: 9.15s\tremaining: 4.28s\n",
            "1140:\tlearn: 6.0477715\ttotal: 9.15s\tremaining: 4.28s\n",
            "1141:\tlearn: 6.0467101\ttotal: 9.16s\tremaining: 4.27s\n",
            "1142:\tlearn: 6.0456853\ttotal: 9.16s\tremaining: 4.26s\n",
            "1143:\tlearn: 6.0441918\ttotal: 9.17s\tremaining: 4.25s\n",
            "1144:\tlearn: 6.0429912\ttotal: 9.18s\tremaining: 4.24s\n",
            "1145:\tlearn: 6.0413199\ttotal: 9.18s\tremaining: 4.23s\n",
            "1146:\tlearn: 6.0405240\ttotal: 9.19s\tremaining: 4.22s\n",
            "1147:\tlearn: 6.0392285\ttotal: 9.2s\tremaining: 4.21s\n",
            "1148:\tlearn: 6.0372255\ttotal: 9.2s\tremaining: 4.2s\n",
            "1149:\tlearn: 6.0358511\ttotal: 9.21s\tremaining: 4.2s\n",
            "1150:\tlearn: 6.0341343\ttotal: 9.22s\tremaining: 4.19s\n",
            "1151:\tlearn: 6.0330041\ttotal: 9.22s\tremaining: 4.18s\n",
            "1152:\tlearn: 6.0319876\ttotal: 9.23s\tremaining: 4.17s\n",
            "1153:\tlearn: 6.0297027\ttotal: 9.23s\tremaining: 4.16s\n",
            "1154:\tlearn: 6.0286401\ttotal: 9.24s\tremaining: 4.15s\n",
            "1155:\tlearn: 6.0278609\ttotal: 9.25s\tremaining: 4.14s\n",
            "1156:\tlearn: 6.0260560\ttotal: 9.25s\tremaining: 4.13s\n",
            "1157:\tlearn: 6.0245223\ttotal: 9.26s\tremaining: 4.13s\n",
            "1158:\tlearn: 6.0232660\ttotal: 9.27s\tremaining: 4.12s\n",
            "1159:\tlearn: 6.0223092\ttotal: 9.28s\tremaining: 4.11s\n",
            "1160:\tlearn: 6.0205986\ttotal: 9.29s\tremaining: 4.1s\n",
            "1161:\tlearn: 6.0179362\ttotal: 9.29s\tremaining: 4.09s\n",
            "1162:\tlearn: 6.0170596\ttotal: 9.31s\tremaining: 4.09s\n",
            "1163:\tlearn: 6.0158365\ttotal: 9.31s\tremaining: 4.08s\n",
            "1164:\tlearn: 6.0150226\ttotal: 9.32s\tremaining: 4.07s\n",
            "1165:\tlearn: 6.0128871\ttotal: 9.33s\tremaining: 4.06s\n",
            "1166:\tlearn: 6.0112336\ttotal: 9.34s\tremaining: 4.06s\n",
            "1167:\tlearn: 6.0095667\ttotal: 9.34s\tremaining: 4.05s\n",
            "1168:\tlearn: 6.0080499\ttotal: 9.35s\tremaining: 4.04s\n",
            "1169:\tlearn: 6.0051416\ttotal: 9.36s\tremaining: 4.03s\n",
            "1170:\tlearn: 6.0034791\ttotal: 9.36s\tremaining: 4.02s\n",
            "1171:\tlearn: 6.0020157\ttotal: 9.37s\tremaining: 4.01s\n",
            "1172:\tlearn: 6.0000296\ttotal: 9.38s\tremaining: 4s\n",
            "1173:\tlearn: 5.9992000\ttotal: 9.38s\tremaining: 4s\n",
            "1174:\tlearn: 5.9984468\ttotal: 9.39s\tremaining: 3.99s\n",
            "1175:\tlearn: 5.9963016\ttotal: 9.39s\tremaining: 3.98s\n",
            "1176:\tlearn: 5.9950797\ttotal: 9.4s\tremaining: 3.97s\n",
            "1177:\tlearn: 5.9929308\ttotal: 9.41s\tremaining: 3.96s\n",
            "1178:\tlearn: 5.9914559\ttotal: 9.41s\tremaining: 3.95s\n",
            "1179:\tlearn: 5.9896105\ttotal: 9.42s\tremaining: 3.94s\n",
            "1180:\tlearn: 5.9886633\ttotal: 9.43s\tremaining: 3.93s\n",
            "1181:\tlearn: 5.9868671\ttotal: 9.43s\tremaining: 3.93s\n",
            "1182:\tlearn: 5.9856076\ttotal: 9.44s\tremaining: 3.92s\n",
            "1183:\tlearn: 5.9850064\ttotal: 9.44s\tremaining: 3.91s\n",
            "1184:\tlearn: 5.9831759\ttotal: 9.45s\tremaining: 3.9s\n",
            "1185:\tlearn: 5.9808912\ttotal: 9.46s\tremaining: 3.89s\n",
            "1186:\tlearn: 5.9801793\ttotal: 9.46s\tremaining: 3.88s\n",
            "1187:\tlearn: 5.9793418\ttotal: 9.47s\tremaining: 3.87s\n",
            "1188:\tlearn: 5.9771185\ttotal: 9.48s\tremaining: 3.87s\n",
            "1189:\tlearn: 5.9759154\ttotal: 9.48s\tremaining: 3.86s\n",
            "1190:\tlearn: 5.9753397\ttotal: 9.49s\tremaining: 3.85s\n",
            "1191:\tlearn: 5.9738967\ttotal: 9.49s\tremaining: 3.84s\n",
            "1192:\tlearn: 5.9728664\ttotal: 9.5s\tremaining: 3.83s\n",
            "1193:\tlearn: 5.9720937\ttotal: 9.51s\tremaining: 3.82s\n",
            "1194:\tlearn: 5.9711643\ttotal: 9.51s\tremaining: 3.81s\n",
            "1195:\tlearn: 5.9703654\ttotal: 9.52s\tremaining: 3.8s\n",
            "1196:\tlearn: 5.9690995\ttotal: 9.52s\tremaining: 3.79s\n",
            "1197:\tlearn: 5.9669258\ttotal: 9.53s\tremaining: 3.79s\n",
            "1198:\tlearn: 5.9662206\ttotal: 9.54s\tremaining: 3.78s\n",
            "1199:\tlearn: 5.9647197\ttotal: 9.55s\tremaining: 3.77s\n",
            "1200:\tlearn: 5.9633823\ttotal: 9.55s\tremaining: 3.76s\n",
            "1201:\tlearn: 5.9618391\ttotal: 9.56s\tremaining: 3.75s\n",
            "1202:\tlearn: 5.9608355\ttotal: 9.56s\tremaining: 3.75s\n",
            "1203:\tlearn: 5.9596587\ttotal: 9.57s\tremaining: 3.74s\n",
            "1204:\tlearn: 5.9577965\ttotal: 9.58s\tremaining: 3.73s\n",
            "1205:\tlearn: 5.9570969\ttotal: 9.58s\tremaining: 3.72s\n",
            "1206:\tlearn: 5.9555772\ttotal: 9.59s\tremaining: 3.71s\n",
            "1207:\tlearn: 5.9542654\ttotal: 9.6s\tremaining: 3.7s\n",
            "1208:\tlearn: 5.9534636\ttotal: 9.61s\tremaining: 3.69s\n",
            "1209:\tlearn: 5.9515390\ttotal: 9.61s\tremaining: 3.69s\n",
            "1210:\tlearn: 5.9496986\ttotal: 9.62s\tremaining: 3.68s\n",
            "1211:\tlearn: 5.9485916\ttotal: 9.62s\tremaining: 3.67s\n",
            "1212:\tlearn: 5.9472406\ttotal: 9.63s\tremaining: 3.66s\n",
            "1213:\tlearn: 5.9461650\ttotal: 9.64s\tremaining: 3.65s\n",
            "1214:\tlearn: 5.9454020\ttotal: 9.64s\tremaining: 3.64s\n",
            "1215:\tlearn: 5.9432677\ttotal: 9.65s\tremaining: 3.63s\n",
            "1216:\tlearn: 5.9422909\ttotal: 9.65s\tremaining: 3.63s\n",
            "1217:\tlearn: 5.9410239\ttotal: 9.66s\tremaining: 3.62s\n",
            "1218:\tlearn: 5.9395737\ttotal: 9.67s\tremaining: 3.61s\n",
            "1219:\tlearn: 5.9381088\ttotal: 9.67s\tremaining: 3.6s\n",
            "1220:\tlearn: 5.9365527\ttotal: 9.68s\tremaining: 3.59s\n",
            "1221:\tlearn: 5.9353228\ttotal: 9.68s\tremaining: 3.58s\n",
            "1222:\tlearn: 5.9332328\ttotal: 9.69s\tremaining: 3.57s\n",
            "1223:\tlearn: 5.9311482\ttotal: 9.7s\tremaining: 3.56s\n",
            "1224:\tlearn: 5.9293612\ttotal: 9.7s\tremaining: 3.56s\n",
            "1225:\tlearn: 5.9277231\ttotal: 9.71s\tremaining: 3.55s\n",
            "1226:\tlearn: 5.9261052\ttotal: 9.72s\tremaining: 3.54s\n",
            "1227:\tlearn: 5.9243366\ttotal: 9.72s\tremaining: 3.53s\n",
            "1228:\tlearn: 5.9229489\ttotal: 9.73s\tremaining: 3.52s\n",
            "1229:\tlearn: 5.9219637\ttotal: 9.73s\tremaining: 3.51s\n",
            "1230:\tlearn: 5.9205518\ttotal: 9.74s\tremaining: 3.51s\n",
            "1231:\tlearn: 5.9184599\ttotal: 9.75s\tremaining: 3.5s\n",
            "1232:\tlearn: 5.9174032\ttotal: 9.76s\tremaining: 3.49s\n",
            "1233:\tlearn: 5.9162083\ttotal: 9.76s\tremaining: 3.48s\n",
            "1234:\tlearn: 5.9146693\ttotal: 9.77s\tremaining: 3.47s\n",
            "1235:\tlearn: 5.9130039\ttotal: 9.78s\tremaining: 3.46s\n",
            "1236:\tlearn: 5.9123953\ttotal: 9.78s\tremaining: 3.46s\n",
            "1237:\tlearn: 5.9111236\ttotal: 9.79s\tremaining: 3.45s\n",
            "1238:\tlearn: 5.9078839\ttotal: 9.79s\tremaining: 3.44s\n",
            "1239:\tlearn: 5.9065778\ttotal: 9.8s\tremaining: 3.43s\n",
            "1240:\tlearn: 5.9052839\ttotal: 9.81s\tremaining: 3.42s\n",
            "1241:\tlearn: 5.9029115\ttotal: 9.81s\tremaining: 3.41s\n",
            "1242:\tlearn: 5.9014274\ttotal: 9.82s\tremaining: 3.4s\n",
            "1243:\tlearn: 5.9002394\ttotal: 9.82s\tremaining: 3.4s\n",
            "1244:\tlearn: 5.8987081\ttotal: 9.83s\tremaining: 3.39s\n",
            "1245:\tlearn: 5.8974359\ttotal: 9.84s\tremaining: 3.38s\n",
            "1246:\tlearn: 5.8956592\ttotal: 9.84s\tremaining: 3.37s\n",
            "1247:\tlearn: 5.8949061\ttotal: 9.85s\tremaining: 3.36s\n",
            "1248:\tlearn: 5.8938942\ttotal: 9.85s\tremaining: 3.35s\n",
            "1249:\tlearn: 5.8919342\ttotal: 9.86s\tremaining: 3.34s\n",
            "1250:\tlearn: 5.8900982\ttotal: 9.87s\tremaining: 3.34s\n",
            "1251:\tlearn: 5.8892082\ttotal: 9.87s\tremaining: 3.33s\n",
            "1252:\tlearn: 5.8876076\ttotal: 9.88s\tremaining: 3.32s\n",
            "1253:\tlearn: 5.8857947\ttotal: 9.88s\tremaining: 3.31s\n",
            "1254:\tlearn: 5.8837389\ttotal: 9.89s\tremaining: 3.3s\n",
            "1255:\tlearn: 5.8816113\ttotal: 9.9s\tremaining: 3.29s\n",
            "1256:\tlearn: 5.8807943\ttotal: 9.9s\tremaining: 3.29s\n",
            "1257:\tlearn: 5.8791347\ttotal: 9.91s\tremaining: 3.28s\n",
            "1258:\tlearn: 5.8769827\ttotal: 9.92s\tremaining: 3.27s\n",
            "1259:\tlearn: 5.8760921\ttotal: 9.93s\tremaining: 3.26s\n",
            "1260:\tlearn: 5.8747058\ttotal: 9.94s\tremaining: 3.25s\n",
            "1261:\tlearn: 5.8733045\ttotal: 9.94s\tremaining: 3.25s\n",
            "1262:\tlearn: 5.8726494\ttotal: 9.95s\tremaining: 3.24s\n",
            "1263:\tlearn: 5.8720203\ttotal: 9.96s\tremaining: 3.23s\n",
            "1264:\tlearn: 5.8711395\ttotal: 9.96s\tremaining: 3.22s\n",
            "1265:\tlearn: 5.8697667\ttotal: 9.97s\tremaining: 3.21s\n",
            "1266:\tlearn: 5.8688687\ttotal: 9.97s\tremaining: 3.2s\n",
            "1267:\tlearn: 5.8678844\ttotal: 9.98s\tremaining: 3.19s\n",
            "1268:\tlearn: 5.8665145\ttotal: 9.99s\tremaining: 3.19s\n",
            "1269:\tlearn: 5.8644096\ttotal: 9.99s\tremaining: 3.18s\n",
            "1270:\tlearn: 5.8632475\ttotal: 10s\tremaining: 3.17s\n",
            "1271:\tlearn: 5.8618706\ttotal: 10s\tremaining: 3.16s\n",
            "1272:\tlearn: 5.8607768\ttotal: 10s\tremaining: 3.15s\n",
            "1273:\tlearn: 5.8595563\ttotal: 10s\tremaining: 3.15s\n",
            "1274:\tlearn: 5.8587716\ttotal: 10s\tremaining: 3.14s\n",
            "1275:\tlearn: 5.8577245\ttotal: 10s\tremaining: 3.13s\n",
            "1276:\tlearn: 5.8564976\ttotal: 10s\tremaining: 3.12s\n",
            "1277:\tlearn: 5.8549515\ttotal: 10s\tremaining: 3.11s\n",
            "1278:\tlearn: 5.8532731\ttotal: 10s\tremaining: 3.1s\n",
            "1279:\tlearn: 5.8514187\ttotal: 10.1s\tremaining: 3.1s\n",
            "1280:\tlearn: 5.8501457\ttotal: 10.1s\tremaining: 3.09s\n",
            "1281:\tlearn: 5.8487862\ttotal: 10.1s\tremaining: 3.08s\n",
            "1282:\tlearn: 5.8476543\ttotal: 10.1s\tremaining: 3.07s\n",
            "1283:\tlearn: 5.8456342\ttotal: 10.1s\tremaining: 3.06s\n",
            "1284:\tlearn: 5.8430939\ttotal: 10.1s\tremaining: 3.05s\n",
            "1285:\tlearn: 5.8421563\ttotal: 10.1s\tremaining: 3.04s\n",
            "1286:\tlearn: 5.8410602\ttotal: 10.1s\tremaining: 3.04s\n",
            "1287:\tlearn: 5.8400561\ttotal: 10.1s\tremaining: 3.03s\n",
            "1288:\tlearn: 5.8389006\ttotal: 10.1s\tremaining: 3.02s\n",
            "1289:\tlearn: 5.8377870\ttotal: 10.1s\tremaining: 3.01s\n",
            "1290:\tlearn: 5.8368252\ttotal: 10.1s\tremaining: 3s\n",
            "1291:\tlearn: 5.8356074\ttotal: 10.1s\tremaining: 3s\n",
            "1292:\tlearn: 5.8344985\ttotal: 10.1s\tremaining: 2.99s\n",
            "1293:\tlearn: 5.8334816\ttotal: 10.1s\tremaining: 2.98s\n",
            "1294:\tlearn: 5.8324501\ttotal: 10.2s\tremaining: 2.97s\n",
            "1295:\tlearn: 5.8299556\ttotal: 10.2s\tremaining: 2.96s\n",
            "1296:\tlearn: 5.8284697\ttotal: 10.2s\tremaining: 2.96s\n",
            "1297:\tlearn: 5.8275175\ttotal: 10.2s\tremaining: 2.95s\n",
            "1298:\tlearn: 5.8254559\ttotal: 10.2s\tremaining: 2.94s\n",
            "1299:\tlearn: 5.8236892\ttotal: 10.2s\tremaining: 2.93s\n",
            "1300:\tlearn: 5.8218644\ttotal: 10.2s\tremaining: 2.92s\n",
            "1301:\tlearn: 5.8196950\ttotal: 10.2s\tremaining: 2.92s\n",
            "1302:\tlearn: 5.8181557\ttotal: 10.2s\tremaining: 2.91s\n",
            "1303:\tlearn: 5.8153253\ttotal: 10.2s\tremaining: 2.9s\n",
            "1304:\tlearn: 5.8141699\ttotal: 10.2s\tremaining: 2.89s\n",
            "1305:\tlearn: 5.8116067\ttotal: 10.2s\tremaining: 2.88s\n",
            "1306:\tlearn: 5.8105321\ttotal: 10.2s\tremaining: 2.87s\n",
            "1307:\tlearn: 5.8089261\ttotal: 10.2s\tremaining: 2.87s\n",
            "1308:\tlearn: 5.8081935\ttotal: 10.3s\tremaining: 2.86s\n",
            "1309:\tlearn: 5.8068219\ttotal: 10.3s\tremaining: 2.85s\n",
            "1310:\tlearn: 5.8055860\ttotal: 10.3s\tremaining: 2.84s\n",
            "1311:\tlearn: 5.8044992\ttotal: 10.3s\tremaining: 2.84s\n",
            "1312:\tlearn: 5.8032158\ttotal: 10.3s\tremaining: 2.83s\n",
            "1313:\tlearn: 5.8009393\ttotal: 10.3s\tremaining: 2.82s\n",
            "1314:\tlearn: 5.7983072\ttotal: 10.3s\tremaining: 2.81s\n",
            "1315:\tlearn: 5.7973692\ttotal: 10.3s\tremaining: 2.8s\n",
            "1316:\tlearn: 5.7954795\ttotal: 10.3s\tremaining: 2.79s\n",
            "1317:\tlearn: 5.7943318\ttotal: 10.3s\tremaining: 2.79s\n",
            "1318:\tlearn: 5.7932785\ttotal: 10.3s\tremaining: 2.78s\n",
            "1319:\tlearn: 5.7925208\ttotal: 10.3s\tremaining: 2.77s\n",
            "1320:\tlearn: 5.7904679\ttotal: 10.3s\tremaining: 2.76s\n",
            "1321:\tlearn: 5.7890869\ttotal: 10.3s\tremaining: 2.75s\n",
            "1322:\tlearn: 5.7873894\ttotal: 10.3s\tremaining: 2.75s\n",
            "1323:\tlearn: 5.7866419\ttotal: 10.4s\tremaining: 2.74s\n",
            "1324:\tlearn: 5.7849666\ttotal: 10.4s\tremaining: 2.73s\n",
            "1325:\tlearn: 5.7841213\ttotal: 10.4s\tremaining: 2.72s\n",
            "1326:\tlearn: 5.7827869\ttotal: 10.4s\tremaining: 2.71s\n",
            "1327:\tlearn: 5.7817904\ttotal: 10.4s\tremaining: 2.71s\n",
            "1328:\tlearn: 5.7810958\ttotal: 10.4s\tremaining: 2.7s\n",
            "1329:\tlearn: 5.7797342\ttotal: 10.4s\tremaining: 2.69s\n",
            "1330:\tlearn: 5.7789389\ttotal: 10.4s\tremaining: 2.68s\n",
            "1331:\tlearn: 5.7779672\ttotal: 10.4s\tremaining: 2.67s\n",
            "1332:\tlearn: 5.7764173\ttotal: 10.4s\tremaining: 2.66s\n",
            "1333:\tlearn: 5.7746883\ttotal: 10.4s\tremaining: 2.66s\n",
            "1334:\tlearn: 5.7728163\ttotal: 10.4s\tremaining: 2.65s\n",
            "1335:\tlearn: 5.7721816\ttotal: 10.4s\tremaining: 2.64s\n",
            "1336:\tlearn: 5.7712530\ttotal: 10.4s\tremaining: 2.63s\n",
            "1337:\tlearn: 5.7703128\ttotal: 10.4s\tremaining: 2.62s\n",
            "1338:\tlearn: 5.7692004\ttotal: 10.5s\tremaining: 2.62s\n",
            "1339:\tlearn: 5.7680820\ttotal: 10.5s\tremaining: 2.61s\n",
            "1340:\tlearn: 5.7666206\ttotal: 10.5s\tremaining: 2.6s\n",
            "1341:\tlearn: 5.7657581\ttotal: 10.5s\tremaining: 2.59s\n",
            "1342:\tlearn: 5.7650524\ttotal: 10.5s\tremaining: 2.58s\n",
            "1343:\tlearn: 5.7641448\ttotal: 10.5s\tremaining: 2.58s\n",
            "1344:\tlearn: 5.7632515\ttotal: 10.5s\tremaining: 2.57s\n",
            "1345:\tlearn: 5.7623573\ttotal: 10.5s\tremaining: 2.56s\n",
            "1346:\tlearn: 5.7611526\ttotal: 10.5s\tremaining: 2.55s\n",
            "1347:\tlearn: 5.7590267\ttotal: 10.5s\tremaining: 2.54s\n",
            "1348:\tlearn: 5.7579276\ttotal: 10.5s\tremaining: 2.54s\n",
            "1349:\tlearn: 5.7565596\ttotal: 10.5s\tremaining: 2.53s\n",
            "1350:\tlearn: 5.7539613\ttotal: 10.5s\tremaining: 2.52s\n",
            "1351:\tlearn: 5.7521761\ttotal: 10.5s\tremaining: 2.51s\n",
            "1352:\tlearn: 5.7509746\ttotal: 10.6s\tremaining: 2.5s\n",
            "1353:\tlearn: 5.7499152\ttotal: 10.6s\tremaining: 2.5s\n",
            "1354:\tlearn: 5.7481431\ttotal: 10.6s\tremaining: 2.49s\n",
            "1355:\tlearn: 5.7469687\ttotal: 10.6s\tremaining: 2.48s\n",
            "1356:\tlearn: 5.7458430\ttotal: 10.6s\tremaining: 2.47s\n",
            "1357:\tlearn: 5.7453462\ttotal: 10.6s\tremaining: 2.46s\n",
            "1358:\tlearn: 5.7440637\ttotal: 10.6s\tremaining: 2.45s\n",
            "1359:\tlearn: 5.7420358\ttotal: 10.6s\tremaining: 2.45s\n",
            "1360:\tlearn: 5.7407372\ttotal: 10.6s\tremaining: 2.44s\n",
            "1361:\tlearn: 5.7391769\ttotal: 10.6s\tremaining: 2.43s\n",
            "1362:\tlearn: 5.7380642\ttotal: 10.6s\tremaining: 2.42s\n",
            "1363:\tlearn: 5.7356115\ttotal: 10.6s\tremaining: 2.41s\n",
            "1364:\tlearn: 5.7333435\ttotal: 10.6s\tremaining: 2.41s\n",
            "1365:\tlearn: 5.7319491\ttotal: 10.6s\tremaining: 2.4s\n",
            "1366:\tlearn: 5.7303912\ttotal: 10.6s\tremaining: 2.39s\n",
            "1367:\tlearn: 5.7294941\ttotal: 10.6s\tremaining: 2.38s\n",
            "1368:\tlearn: 5.7272389\ttotal: 10.7s\tremaining: 2.37s\n",
            "1369:\tlearn: 5.7264868\ttotal: 10.7s\tremaining: 2.37s\n",
            "1370:\tlearn: 5.7252652\ttotal: 10.7s\tremaining: 2.36s\n",
            "1371:\tlearn: 5.7238458\ttotal: 10.7s\tremaining: 2.35s\n",
            "1372:\tlearn: 5.7227359\ttotal: 10.7s\tremaining: 2.34s\n",
            "1373:\tlearn: 5.7219392\ttotal: 10.7s\tremaining: 2.33s\n",
            "1374:\tlearn: 5.7212900\ttotal: 10.7s\tremaining: 2.32s\n",
            "1375:\tlearn: 5.7195833\ttotal: 10.7s\tremaining: 2.32s\n",
            "1376:\tlearn: 5.7180180\ttotal: 10.7s\tremaining: 2.31s\n",
            "1377:\tlearn: 5.7165512\ttotal: 10.7s\tremaining: 2.3s\n",
            "1378:\tlearn: 5.7154102\ttotal: 10.7s\tremaining: 2.29s\n",
            "1379:\tlearn: 5.7144754\ttotal: 10.7s\tremaining: 2.28s\n",
            "1380:\tlearn: 5.7115623\ttotal: 10.7s\tremaining: 2.28s\n",
            "1381:\tlearn: 5.7107423\ttotal: 10.7s\tremaining: 2.27s\n",
            "1382:\tlearn: 5.7098398\ttotal: 10.7s\tremaining: 2.26s\n",
            "1383:\tlearn: 5.7081909\ttotal: 10.7s\tremaining: 2.25s\n",
            "1384:\tlearn: 5.7070121\ttotal: 10.8s\tremaining: 2.24s\n",
            "1385:\tlearn: 5.7051054\ttotal: 10.8s\tremaining: 2.24s\n",
            "1386:\tlearn: 5.7041898\ttotal: 10.8s\tremaining: 2.23s\n",
            "1387:\tlearn: 5.7018151\ttotal: 10.8s\tremaining: 2.22s\n",
            "1388:\tlearn: 5.7007741\ttotal: 10.8s\tremaining: 2.21s\n",
            "1389:\tlearn: 5.6988039\ttotal: 10.8s\tremaining: 2.2s\n",
            "1390:\tlearn: 5.6978690\ttotal: 10.8s\tremaining: 2.2s\n",
            "1391:\tlearn: 5.6965257\ttotal: 10.8s\tremaining: 2.19s\n",
            "1392:\tlearn: 5.6955936\ttotal: 10.8s\tremaining: 2.18s\n",
            "1393:\tlearn: 5.6942617\ttotal: 10.8s\tremaining: 2.17s\n",
            "1394:\tlearn: 5.6933455\ttotal: 10.8s\tremaining: 2.17s\n",
            "1395:\tlearn: 5.6916923\ttotal: 10.8s\tremaining: 2.16s\n",
            "1396:\tlearn: 5.6903264\ttotal: 10.8s\tremaining: 2.15s\n",
            "1397:\tlearn: 5.6897197\ttotal: 10.8s\tremaining: 2.14s\n",
            "1398:\tlearn: 5.6881384\ttotal: 10.8s\tremaining: 2.13s\n",
            "1399:\tlearn: 5.6862288\ttotal: 10.9s\tremaining: 2.12s\n",
            "1400:\tlearn: 5.6852272\ttotal: 10.9s\tremaining: 2.12s\n",
            "1401:\tlearn: 5.6843350\ttotal: 10.9s\tremaining: 2.11s\n",
            "1402:\tlearn: 5.6831542\ttotal: 10.9s\tremaining: 2.1s\n",
            "1403:\tlearn: 5.6815871\ttotal: 10.9s\tremaining: 2.09s\n",
            "1404:\tlearn: 5.6809392\ttotal: 10.9s\tremaining: 2.08s\n",
            "1405:\tlearn: 5.6798490\ttotal: 10.9s\tremaining: 2.08s\n",
            "1406:\tlearn: 5.6784161\ttotal: 10.9s\tremaining: 2.07s\n",
            "1407:\tlearn: 5.6774364\ttotal: 10.9s\tremaining: 2.06s\n",
            "1408:\tlearn: 5.6767729\ttotal: 10.9s\tremaining: 2.05s\n",
            "1409:\tlearn: 5.6758853\ttotal: 10.9s\tremaining: 2.04s\n",
            "1410:\tlearn: 5.6748123\ttotal: 10.9s\tremaining: 2.04s\n",
            "1411:\tlearn: 5.6714453\ttotal: 10.9s\tremaining: 2.03s\n",
            "1412:\tlearn: 5.6703237\ttotal: 10.9s\tremaining: 2.02s\n",
            "1413:\tlearn: 5.6693825\ttotal: 10.9s\tremaining: 2.01s\n",
            "1414:\tlearn: 5.6687727\ttotal: 11s\tremaining: 2s\n",
            "1415:\tlearn: 5.6680523\ttotal: 11s\tremaining: 2s\n",
            "1416:\tlearn: 5.6672462\ttotal: 11s\tremaining: 1.99s\n",
            "1417:\tlearn: 5.6656766\ttotal: 11s\tremaining: 1.98s\n",
            "1418:\tlearn: 5.6643958\ttotal: 11s\tremaining: 1.97s\n",
            "1419:\tlearn: 5.6630690\ttotal: 11s\tremaining: 1.97s\n",
            "1420:\tlearn: 5.6621215\ttotal: 11s\tremaining: 1.96s\n",
            "1421:\tlearn: 5.6612155\ttotal: 11s\tremaining: 1.95s\n",
            "1422:\tlearn: 5.6599301\ttotal: 11s\tremaining: 1.94s\n",
            "1423:\tlearn: 5.6585057\ttotal: 11s\tremaining: 1.93s\n",
            "1424:\tlearn: 5.6566640\ttotal: 11s\tremaining: 1.93s\n",
            "1425:\tlearn: 5.6551728\ttotal: 11s\tremaining: 1.92s\n",
            "1426:\tlearn: 5.6542671\ttotal: 11s\tremaining: 1.91s\n",
            "1427:\tlearn: 5.6513336\ttotal: 11s\tremaining: 1.9s\n",
            "1428:\tlearn: 5.6498948\ttotal: 11.1s\tremaining: 1.89s\n",
            "1429:\tlearn: 5.6481867\ttotal: 11.1s\tremaining: 1.89s\n",
            "1430:\tlearn: 5.6467046\ttotal: 11.1s\tremaining: 1.88s\n",
            "1431:\tlearn: 5.6461304\ttotal: 11.1s\tremaining: 1.87s\n",
            "1432:\tlearn: 5.6449492\ttotal: 11.1s\tremaining: 1.86s\n",
            "1433:\tlearn: 5.6437208\ttotal: 11.1s\tremaining: 1.85s\n",
            "1434:\tlearn: 5.6429207\ttotal: 11.1s\tremaining: 1.85s\n",
            "1435:\tlearn: 5.6417450\ttotal: 11.1s\tremaining: 1.84s\n",
            "1436:\tlearn: 5.6406230\ttotal: 11.1s\tremaining: 1.83s\n",
            "1437:\tlearn: 5.6394961\ttotal: 11.1s\tremaining: 1.82s\n",
            "1438:\tlearn: 5.6386685\ttotal: 11.1s\tremaining: 1.82s\n",
            "1439:\tlearn: 5.6365562\ttotal: 11.1s\tremaining: 1.81s\n",
            "1440:\tlearn: 5.6355582\ttotal: 11.1s\tremaining: 1.8s\n",
            "1441:\tlearn: 5.6336682\ttotal: 11.1s\tremaining: 1.79s\n",
            "1442:\tlearn: 5.6325759\ttotal: 11.1s\tremaining: 1.78s\n",
            "1443:\tlearn: 5.6312982\ttotal: 11.2s\tremaining: 1.78s\n",
            "1444:\tlearn: 5.6295010\ttotal: 11.2s\tremaining: 1.77s\n",
            "1445:\tlearn: 5.6283973\ttotal: 11.2s\tremaining: 1.76s\n",
            "1446:\tlearn: 5.6271975\ttotal: 11.2s\tremaining: 1.75s\n",
            "1447:\tlearn: 5.6262404\ttotal: 11.2s\tremaining: 1.75s\n",
            "1448:\tlearn: 5.6243838\ttotal: 11.2s\tremaining: 1.74s\n",
            "1449:\tlearn: 5.6235928\ttotal: 11.2s\tremaining: 1.73s\n",
            "1450:\tlearn: 5.6215773\ttotal: 11.2s\tremaining: 1.72s\n",
            "1451:\tlearn: 5.6207532\ttotal: 11.2s\tremaining: 1.71s\n",
            "1452:\tlearn: 5.6197531\ttotal: 11.2s\tremaining: 1.71s\n",
            "1453:\tlearn: 5.6180733\ttotal: 11.2s\tremaining: 1.7s\n",
            "1454:\tlearn: 5.6168321\ttotal: 11.2s\tremaining: 1.69s\n",
            "1455:\tlearn: 5.6156084\ttotal: 11.2s\tremaining: 1.68s\n",
            "1456:\tlearn: 5.6147614\ttotal: 11.2s\tremaining: 1.67s\n",
            "1457:\tlearn: 5.6133378\ttotal: 11.2s\tremaining: 1.67s\n",
            "1458:\tlearn: 5.6124409\ttotal: 11.3s\tremaining: 1.66s\n",
            "1459:\tlearn: 5.6111795\ttotal: 11.3s\tremaining: 1.65s\n",
            "1460:\tlearn: 5.6092883\ttotal: 11.3s\tremaining: 1.65s\n",
            "1461:\tlearn: 5.6084277\ttotal: 11.3s\tremaining: 1.64s\n",
            "1462:\tlearn: 5.6073403\ttotal: 11.3s\tremaining: 1.63s\n",
            "1463:\tlearn: 5.6059592\ttotal: 11.3s\tremaining: 1.62s\n",
            "1464:\tlearn: 5.6048922\ttotal: 11.3s\tremaining: 1.61s\n",
            "1465:\tlearn: 5.6042159\ttotal: 11.3s\tremaining: 1.61s\n",
            "1466:\tlearn: 5.6036522\ttotal: 11.3s\tremaining: 1.6s\n",
            "1467:\tlearn: 5.6022517\ttotal: 11.3s\tremaining: 1.59s\n",
            "1468:\tlearn: 5.6004281\ttotal: 11.3s\tremaining: 1.58s\n",
            "1469:\tlearn: 5.5991105\ttotal: 11.3s\tremaining: 1.57s\n",
            "1470:\tlearn: 5.5985324\ttotal: 11.4s\tremaining: 1.57s\n",
            "1471:\tlearn: 5.5975181\ttotal: 11.4s\tremaining: 1.56s\n",
            "1472:\tlearn: 5.5965599\ttotal: 11.4s\tremaining: 1.55s\n",
            "1473:\tlearn: 5.5955828\ttotal: 11.4s\tremaining: 1.54s\n",
            "1474:\tlearn: 5.5943566\ttotal: 11.4s\tremaining: 1.53s\n",
            "1475:\tlearn: 5.5931605\ttotal: 11.4s\tremaining: 1.53s\n",
            "1476:\tlearn: 5.5918072\ttotal: 11.4s\tremaining: 1.52s\n",
            "1477:\tlearn: 5.5905626\ttotal: 11.4s\tremaining: 1.51s\n",
            "1478:\tlearn: 5.5883243\ttotal: 11.4s\tremaining: 1.5s\n",
            "1479:\tlearn: 5.5871783\ttotal: 11.4s\tremaining: 1.5s\n",
            "1480:\tlearn: 5.5865020\ttotal: 11.4s\tremaining: 1.49s\n",
            "1481:\tlearn: 5.5853587\ttotal: 11.4s\tremaining: 1.48s\n",
            "1482:\tlearn: 5.5840380\ttotal: 11.4s\tremaining: 1.47s\n",
            "1483:\tlearn: 5.5825929\ttotal: 11.4s\tremaining: 1.47s\n",
            "1484:\tlearn: 5.5810892\ttotal: 11.5s\tremaining: 1.46s\n",
            "1485:\tlearn: 5.5803360\ttotal: 11.5s\tremaining: 1.45s\n",
            "1486:\tlearn: 5.5782217\ttotal: 11.5s\tremaining: 1.44s\n",
            "1487:\tlearn: 5.5774795\ttotal: 11.5s\tremaining: 1.43s\n",
            "1488:\tlearn: 5.5760922\ttotal: 11.5s\tremaining: 1.43s\n",
            "1489:\tlearn: 5.5755649\ttotal: 11.5s\tremaining: 1.42s\n",
            "1490:\tlearn: 5.5748864\ttotal: 11.5s\tremaining: 1.41s\n",
            "1491:\tlearn: 5.5722626\ttotal: 11.5s\tremaining: 1.4s\n",
            "1492:\tlearn: 5.5712247\ttotal: 11.5s\tremaining: 1.4s\n",
            "1493:\tlearn: 5.5692640\ttotal: 11.5s\tremaining: 1.39s\n",
            "1494:\tlearn: 5.5679432\ttotal: 11.5s\tremaining: 1.38s\n",
            "1495:\tlearn: 5.5657310\ttotal: 11.5s\tremaining: 1.37s\n",
            "1496:\tlearn: 5.5650673\ttotal: 11.5s\tremaining: 1.36s\n",
            "1497:\tlearn: 5.5641535\ttotal: 11.5s\tremaining: 1.35s\n",
            "1498:\tlearn: 5.5628224\ttotal: 11.5s\tremaining: 1.35s\n",
            "1499:\tlearn: 5.5612967\ttotal: 11.6s\tremaining: 1.34s\n",
            "1500:\tlearn: 5.5599715\ttotal: 11.6s\tremaining: 1.33s\n",
            "1501:\tlearn: 5.5589573\ttotal: 11.6s\tremaining: 1.32s\n",
            "1502:\tlearn: 5.5578160\ttotal: 11.6s\tremaining: 1.32s\n",
            "1503:\tlearn: 5.5570296\ttotal: 11.6s\tremaining: 1.31s\n",
            "1504:\tlearn: 5.5561234\ttotal: 11.6s\tremaining: 1.3s\n",
            "1505:\tlearn: 5.5549633\ttotal: 11.6s\tremaining: 1.29s\n",
            "1506:\tlearn: 5.5540091\ttotal: 11.6s\tremaining: 1.28s\n",
            "1507:\tlearn: 5.5526710\ttotal: 11.6s\tremaining: 1.28s\n",
            "1508:\tlearn: 5.5513857\ttotal: 11.6s\tremaining: 1.27s\n",
            "1509:\tlearn: 5.5501851\ttotal: 11.6s\tremaining: 1.26s\n",
            "1510:\tlearn: 5.5490831\ttotal: 11.6s\tremaining: 1.25s\n",
            "1511:\tlearn: 5.5477655\ttotal: 11.6s\tremaining: 1.25s\n",
            "1512:\tlearn: 5.5467040\ttotal: 11.6s\tremaining: 1.24s\n",
            "1513:\tlearn: 5.5458807\ttotal: 11.6s\tremaining: 1.23s\n",
            "1514:\tlearn: 5.5451121\ttotal: 11.7s\tremaining: 1.22s\n",
            "1515:\tlearn: 5.5442191\ttotal: 11.7s\tremaining: 1.22s\n",
            "1516:\tlearn: 5.5433384\ttotal: 11.7s\tremaining: 1.21s\n",
            "1517:\tlearn: 5.5424933\ttotal: 11.7s\tremaining: 1.2s\n",
            "1518:\tlearn: 5.5415771\ttotal: 11.7s\tremaining: 1.19s\n",
            "1519:\tlearn: 5.5397046\ttotal: 11.7s\tremaining: 1.18s\n",
            "1520:\tlearn: 5.5387714\ttotal: 11.7s\tremaining: 1.18s\n",
            "1521:\tlearn: 5.5382272\ttotal: 11.7s\tremaining: 1.17s\n",
            "1522:\tlearn: 5.5368492\ttotal: 11.7s\tremaining: 1.16s\n",
            "1523:\tlearn: 5.5355379\ttotal: 11.7s\tremaining: 1.15s\n",
            "1524:\tlearn: 5.5340408\ttotal: 11.7s\tremaining: 1.15s\n",
            "1525:\tlearn: 5.5333740\ttotal: 11.7s\tremaining: 1.14s\n",
            "1526:\tlearn: 5.5324986\ttotal: 11.7s\tremaining: 1.13s\n",
            "1527:\tlearn: 5.5313943\ttotal: 11.7s\tremaining: 1.12s\n",
            "1528:\tlearn: 5.5307194\ttotal: 11.8s\tremaining: 1.11s\n",
            "1529:\tlearn: 5.5292911\ttotal: 11.8s\tremaining: 1.11s\n",
            "1530:\tlearn: 5.5283912\ttotal: 11.8s\tremaining: 1.1s\n",
            "1531:\tlearn: 5.5277975\ttotal: 11.8s\tremaining: 1.09s\n",
            "1532:\tlearn: 5.5269650\ttotal: 11.8s\tremaining: 1.08s\n",
            "1533:\tlearn: 5.5262392\ttotal: 11.8s\tremaining: 1.07s\n",
            "1534:\tlearn: 5.5255386\ttotal: 11.8s\tremaining: 1.07s\n",
            "1535:\tlearn: 5.5247570\ttotal: 11.8s\tremaining: 1.06s\n",
            "1536:\tlearn: 5.5236932\ttotal: 11.8s\tremaining: 1.05s\n",
            "1537:\tlearn: 5.5231493\ttotal: 11.8s\tremaining: 1.04s\n",
            "1538:\tlearn: 5.5224400\ttotal: 11.8s\tremaining: 1.04s\n",
            "1539:\tlearn: 5.5210187\ttotal: 11.8s\tremaining: 1.03s\n",
            "1540:\tlearn: 5.5202126\ttotal: 11.8s\tremaining: 1.02s\n",
            "1541:\tlearn: 5.5188437\ttotal: 11.8s\tremaining: 1.01s\n",
            "1542:\tlearn: 5.5167682\ttotal: 11.8s\tremaining: 1s\n",
            "1543:\tlearn: 5.5154063\ttotal: 11.8s\tremaining: 998ms\n",
            "1544:\tlearn: 5.5126599\ttotal: 11.9s\tremaining: 990ms\n",
            "1545:\tlearn: 5.5119537\ttotal: 11.9s\tremaining: 982ms\n",
            "1546:\tlearn: 5.5107444\ttotal: 11.9s\tremaining: 974ms\n",
            "1547:\tlearn: 5.5085614\ttotal: 11.9s\tremaining: 966ms\n",
            "1548:\tlearn: 5.5072734\ttotal: 11.9s\tremaining: 959ms\n",
            "1549:\tlearn: 5.5059238\ttotal: 11.9s\tremaining: 951ms\n",
            "1550:\tlearn: 5.5050439\ttotal: 11.9s\tremaining: 943ms\n",
            "1551:\tlearn: 5.5033143\ttotal: 11.9s\tremaining: 935ms\n",
            "1552:\tlearn: 5.5024512\ttotal: 11.9s\tremaining: 928ms\n",
            "1553:\tlearn: 5.5014783\ttotal: 11.9s\tremaining: 920ms\n",
            "1554:\tlearn: 5.5003812\ttotal: 11.9s\tremaining: 912ms\n",
            "1555:\tlearn: 5.4997356\ttotal: 11.9s\tremaining: 904ms\n",
            "1556:\tlearn: 5.4990181\ttotal: 11.9s\tremaining: 897ms\n",
            "1557:\tlearn: 5.4977527\ttotal: 11.9s\tremaining: 889ms\n",
            "1558:\tlearn: 5.4966528\ttotal: 11.9s\tremaining: 881ms\n",
            "1559:\tlearn: 5.4953870\ttotal: 11.9s\tremaining: 873ms\n",
            "1560:\tlearn: 5.4938537\ttotal: 12s\tremaining: 865ms\n",
            "1561:\tlearn: 5.4930060\ttotal: 12s\tremaining: 858ms\n",
            "1562:\tlearn: 5.4912973\ttotal: 12s\tremaining: 850ms\n",
            "1563:\tlearn: 5.4898906\ttotal: 12s\tremaining: 842ms\n",
            "1564:\tlearn: 5.4885353\ttotal: 12s\tremaining: 835ms\n",
            "1565:\tlearn: 5.4874906\ttotal: 12s\tremaining: 827ms\n",
            "1566:\tlearn: 5.4863144\ttotal: 12s\tremaining: 819ms\n",
            "1567:\tlearn: 5.4848874\ttotal: 12s\tremaining: 812ms\n",
            "1568:\tlearn: 5.4834969\ttotal: 12s\tremaining: 804ms\n",
            "1569:\tlearn: 5.4830219\ttotal: 12s\tremaining: 797ms\n",
            "1570:\tlearn: 5.4814168\ttotal: 12s\tremaining: 789ms\n",
            "1571:\tlearn: 5.4786430\ttotal: 12s\tremaining: 782ms\n",
            "1572:\tlearn: 5.4778261\ttotal: 12.1s\tremaining: 774ms\n",
            "1573:\tlearn: 5.4765857\ttotal: 12.1s\tremaining: 766ms\n",
            "1574:\tlearn: 5.4754139\ttotal: 12.1s\tremaining: 758ms\n",
            "1575:\tlearn: 5.4746883\ttotal: 12.1s\tremaining: 751ms\n",
            "1576:\tlearn: 5.4740615\ttotal: 12.1s\tremaining: 743ms\n",
            "1577:\tlearn: 5.4725390\ttotal: 12.1s\tremaining: 735ms\n",
            "1578:\tlearn: 5.4718506\ttotal: 12.1s\tremaining: 727ms\n",
            "1579:\tlearn: 5.4707048\ttotal: 12.1s\tremaining: 720ms\n",
            "1580:\tlearn: 5.4703869\ttotal: 12.1s\tremaining: 712ms\n",
            "1581:\tlearn: 5.4699530\ttotal: 12.1s\tremaining: 704ms\n",
            "1582:\tlearn: 5.4689290\ttotal: 12.1s\tremaining: 696ms\n",
            "1583:\tlearn: 5.4678358\ttotal: 12.1s\tremaining: 689ms\n",
            "1584:\tlearn: 5.4665115\ttotal: 12.1s\tremaining: 681ms\n",
            "1585:\tlearn: 5.4655453\ttotal: 12.1s\tremaining: 673ms\n",
            "1586:\tlearn: 5.4648995\ttotal: 12.1s\tremaining: 666ms\n",
            "1587:\tlearn: 5.4633428\ttotal: 12.1s\tremaining: 658ms\n",
            "1588:\tlearn: 5.4625571\ttotal: 12.2s\tremaining: 650ms\n",
            "1589:\tlearn: 5.4611200\ttotal: 12.2s\tremaining: 642ms\n",
            "1590:\tlearn: 5.4598783\ttotal: 12.2s\tremaining: 635ms\n",
            "1591:\tlearn: 5.4583076\ttotal: 12.2s\tremaining: 627ms\n",
            "1592:\tlearn: 5.4572683\ttotal: 12.2s\tremaining: 620ms\n",
            "1593:\tlearn: 5.4563101\ttotal: 12.2s\tremaining: 612ms\n",
            "1594:\tlearn: 5.4556420\ttotal: 12.2s\tremaining: 604ms\n",
            "1595:\tlearn: 5.4545771\ttotal: 12.2s\tremaining: 597ms\n",
            "1596:\tlearn: 5.4537209\ttotal: 12.2s\tremaining: 589ms\n",
            "1597:\tlearn: 5.4528286\ttotal: 12.2s\tremaining: 581ms\n",
            "1598:\tlearn: 5.4513745\ttotal: 12.2s\tremaining: 573ms\n",
            "1599:\tlearn: 5.4498003\ttotal: 12.2s\tremaining: 566ms\n",
            "1600:\tlearn: 5.4489536\ttotal: 12.2s\tremaining: 558ms\n",
            "1601:\tlearn: 5.4484668\ttotal: 12.3s\tremaining: 551ms\n",
            "1602:\tlearn: 5.4473153\ttotal: 12.3s\tremaining: 543ms\n",
            "1603:\tlearn: 5.4452162\ttotal: 12.3s\tremaining: 535ms\n",
            "1604:\tlearn: 5.4444939\ttotal: 12.3s\tremaining: 528ms\n",
            "1605:\tlearn: 5.4436267\ttotal: 12.3s\tremaining: 520ms\n",
            "1606:\tlearn: 5.4422128\ttotal: 12.3s\tremaining: 512ms\n",
            "1607:\tlearn: 5.4408245\ttotal: 12.3s\tremaining: 504ms\n",
            "1608:\tlearn: 5.4397677\ttotal: 12.3s\tremaining: 497ms\n",
            "1609:\tlearn: 5.4377811\ttotal: 12.3s\tremaining: 489ms\n",
            "1610:\tlearn: 5.4369690\ttotal: 12.3s\tremaining: 482ms\n",
            "1611:\tlearn: 5.4348857\ttotal: 12.3s\tremaining: 474ms\n",
            "1612:\tlearn: 5.4326902\ttotal: 12.3s\tremaining: 466ms\n",
            "1613:\tlearn: 5.4306667\ttotal: 12.3s\tremaining: 458ms\n",
            "1614:\tlearn: 5.4299350\ttotal: 12.3s\tremaining: 451ms\n",
            "1615:\tlearn: 5.4287152\ttotal: 12.3s\tremaining: 443ms\n",
            "1616:\tlearn: 5.4278420\ttotal: 12.4s\tremaining: 435ms\n",
            "1617:\tlearn: 5.4268735\ttotal: 12.4s\tremaining: 428ms\n",
            "1618:\tlearn: 5.4252947\ttotal: 12.4s\tremaining: 420ms\n",
            "1619:\tlearn: 5.4244502\ttotal: 12.4s\tremaining: 412ms\n",
            "1620:\tlearn: 5.4237627\ttotal: 12.4s\tremaining: 405ms\n",
            "1621:\tlearn: 5.4225959\ttotal: 12.4s\tremaining: 397ms\n",
            "1622:\tlearn: 5.4221186\ttotal: 12.4s\tremaining: 390ms\n",
            "1623:\tlearn: 5.4216366\ttotal: 12.4s\tremaining: 382ms\n",
            "1624:\tlearn: 5.4211198\ttotal: 12.4s\tremaining: 374ms\n",
            "1625:\tlearn: 5.4197981\ttotal: 12.4s\tremaining: 367ms\n",
            "1626:\tlearn: 5.4186769\ttotal: 12.4s\tremaining: 359ms\n",
            "1627:\tlearn: 5.4172828\ttotal: 12.4s\tremaining: 351ms\n",
            "1628:\tlearn: 5.4165222\ttotal: 12.4s\tremaining: 344ms\n",
            "1629:\tlearn: 5.4151486\ttotal: 12.4s\tremaining: 336ms\n",
            "1630:\tlearn: 5.4140314\ttotal: 12.5s\tremaining: 328ms\n",
            "1631:\tlearn: 5.4125405\ttotal: 12.5s\tremaining: 321ms\n",
            "1632:\tlearn: 5.4114193\ttotal: 12.5s\tremaining: 313ms\n",
            "1633:\tlearn: 5.4101513\ttotal: 12.5s\tremaining: 305ms\n",
            "1634:\tlearn: 5.4091286\ttotal: 12.5s\tremaining: 298ms\n",
            "1635:\tlearn: 5.4081916\ttotal: 12.5s\tremaining: 290ms\n",
            "1636:\tlearn: 5.4073413\ttotal: 12.5s\tremaining: 282ms\n",
            "1637:\tlearn: 5.4061544\ttotal: 12.5s\tremaining: 275ms\n",
            "1638:\tlearn: 5.4044039\ttotal: 12.5s\tremaining: 267ms\n",
            "1639:\tlearn: 5.4039916\ttotal: 12.5s\tremaining: 259ms\n",
            "1640:\tlearn: 5.4033159\ttotal: 12.5s\tremaining: 252ms\n",
            "1641:\tlearn: 5.4024691\ttotal: 12.5s\tremaining: 244ms\n",
            "1642:\tlearn: 5.4014359\ttotal: 12.5s\tremaining: 236ms\n",
            "1643:\tlearn: 5.4000894\ttotal: 12.5s\tremaining: 229ms\n",
            "1644:\tlearn: 5.3990558\ttotal: 12.5s\tremaining: 221ms\n",
            "1645:\tlearn: 5.3981882\ttotal: 12.5s\tremaining: 213ms\n",
            "1646:\tlearn: 5.3974314\ttotal: 12.6s\tremaining: 206ms\n",
            "1647:\tlearn: 5.3967267\ttotal: 12.6s\tremaining: 198ms\n",
            "1648:\tlearn: 5.3952786\ttotal: 12.6s\tremaining: 191ms\n",
            "1649:\tlearn: 5.3943794\ttotal: 12.6s\tremaining: 183ms\n",
            "1650:\tlearn: 5.3924504\ttotal: 12.6s\tremaining: 175ms\n",
            "1651:\tlearn: 5.3913362\ttotal: 12.6s\tremaining: 168ms\n",
            "1652:\tlearn: 5.3908048\ttotal: 12.6s\tremaining: 160ms\n",
            "1653:\tlearn: 5.3899896\ttotal: 12.6s\tremaining: 153ms\n",
            "1654:\tlearn: 5.3888063\ttotal: 12.6s\tremaining: 145ms\n",
            "1655:\tlearn: 5.3882051\ttotal: 12.6s\tremaining: 137ms\n",
            "1656:\tlearn: 5.3866086\ttotal: 12.6s\tremaining: 130ms\n",
            "1657:\tlearn: 5.3851488\ttotal: 12.6s\tremaining: 122ms\n",
            "1658:\tlearn: 5.3841821\ttotal: 12.6s\tremaining: 114ms\n",
            "1659:\tlearn: 5.3830846\ttotal: 12.7s\tremaining: 107ms\n",
            "1660:\tlearn: 5.3819137\ttotal: 12.7s\tremaining: 99.1ms\n",
            "1661:\tlearn: 5.3811820\ttotal: 12.7s\tremaining: 91.5ms\n",
            "1662:\tlearn: 5.3807140\ttotal: 12.7s\tremaining: 83.8ms\n",
            "1663:\tlearn: 5.3800248\ttotal: 12.7s\tremaining: 76.2ms\n",
            "1664:\tlearn: 5.3793093\ttotal: 12.7s\tremaining: 68.6ms\n",
            "1665:\tlearn: 5.3783915\ttotal: 12.7s\tremaining: 61ms\n",
            "1666:\tlearn: 5.3770897\ttotal: 12.7s\tremaining: 53.3ms\n",
            "1667:\tlearn: 5.3765302\ttotal: 12.7s\tremaining: 45.7ms\n",
            "1668:\tlearn: 5.3749136\ttotal: 12.7s\tremaining: 38.1ms\n",
            "1669:\tlearn: 5.3743159\ttotal: 12.7s\tremaining: 30.5ms\n",
            "1670:\tlearn: 5.3730580\ttotal: 12.7s\tremaining: 22.8ms\n",
            "1671:\tlearn: 5.3716969\ttotal: 12.7s\tremaining: 15.2ms\n",
            "1672:\tlearn: 5.3713041\ttotal: 12.7s\tremaining: 7.61ms\n",
            "1673:\tlearn: 5.3697149\ttotal: 12.7s\tremaining: 0us\n",
            "[LightGBM] [Warning] lambda_l1 is set=4.485925018221742, reg_alpha=0.0 will be ignored. Current value: lambda_l1=4.485925018221742\n",
            "[LightGBM] [Warning] feature_fraction is set=0.933552804860751, colsample_bytree=1.0 will be ignored. Current value: feature_fraction=0.933552804860751\n",
            "[LightGBM] [Warning] bagging_freq is set=7, subsample_freq=0 will be ignored. Current value: bagging_freq=7\n",
            "[LightGBM] [Warning] lambda_l2 is set=0.00010634446495247863, reg_lambda=0.0 will be ignored. Current value: lambda_l2=0.00010634446495247863\n",
            "[LightGBM] [Warning] bagging_fraction is set=0.7528646718210341, subsample=1.0 will be ignored. Current value: bagging_fraction=0.7528646718210341\n",
            "Epoch 1/10\n",
            "1448/1448 [==============================] - 4s 3ms/step - loss: 12.5690\n",
            "Epoch 2/10\n",
            "1448/1448 [==============================] - 2s 1ms/step - loss: 9.9770\n",
            "Epoch 3/10\n",
            "1448/1448 [==============================] - 2s 1ms/step - loss: 9.6818\n",
            "Epoch 4/10\n",
            "1448/1448 [==============================] - 2s 1ms/step - loss: 9.4930\n",
            "Epoch 5/10\n",
            "1448/1448 [==============================] - 2s 1ms/step - loss: 9.4395\n",
            "Epoch 6/10\n",
            "1448/1448 [==============================] - 3s 2ms/step - loss: 9.3313\n",
            "Epoch 7/10\n",
            "1448/1448 [==============================] - 2s 2ms/step - loss: 9.2952\n",
            "Epoch 8/10\n",
            "1448/1448 [==============================] - 2s 1ms/step - loss: 9.2028\n",
            "Epoch 9/10\n",
            "1448/1448 [==============================] - 3s 2ms/step - loss: 9.1305\n",
            "Epoch 10/10\n",
            "1448/1448 [==============================] - 2s 2ms/step - loss: 9.1535\n"
          ]
        },
        {
          "output_type": "execute_result",
          "data": {
            "text/plain": [
              "<keras.callbacks.History at 0x7f2dad7e3dc0>"
            ]
          },
          "metadata": {},
          "execution_count": 183
        }
      ]
    },
    {
      "cell_type": "code",
      "source": [
        "gbrt_preds = gbrt_model.predict(X_valid_scaled)\n",
        "xgb_preds = xgb_model.predict(X_valid_scaled)\n",
        "catboost_preds = catboost_model.predict(X_valid_scaled)\n",
        "lgbm_preds = lgbm_model.predict(X_valid_scaled)\n",
        "rf_preds = rf_model.predict(X_valid_scaled)\n",
        "nn_preds = nn_model.predict(X_valid_scaled)"
      ],
      "metadata": {
        "colab": {
          "base_uri": "https://localhost:8080/"
        },
        "id": "TUYgFFws27qE",
        "outputId": "a920bd79-9f6c-4b34-cd7a-b74f710a8bb4"
      },
      "execution_count": 184,
      "outputs": [
        {
          "output_type": "stream",
          "name": "stdout",
          "text": [
            "362/362 [==============================] - 0s 1ms/step\n"
          ]
        }
      ]
    },
    {
      "cell_type": "code",
      "source": [
        "stacked_features = pd.DataFrame({\n",
        "    'GBRT': gbrt_preds,\n",
        "    'XGBoost': xgb_preds,\n",
        "    'CatBoost': catboost_preds,\n",
        "    'LightGBM': lgbm_preds,\n",
        "    'RandomForest': rf_preds,\n",
        "    'NeuralNetwork': nn_preds.flatten()\n",
        "})"
      ],
      "metadata": {
        "id": "_33orBrV293z"
      },
      "execution_count": 185,
      "outputs": []
    },
    {
      "cell_type": "code",
      "source": [
        "meta_model = GradientBoostingRegressor()\n",
        "meta_model.fit(stacked_features, y_valid)"
      ],
      "metadata": {
        "colab": {
          "base_uri": "https://localhost:8080/",
          "height": 74
        },
        "id": "M3lIwFIg2_Is",
        "outputId": "bb565b55-e839-4526-eea2-407ca5eb80c5"
      },
      "execution_count": 186,
      "outputs": [
        {
          "output_type": "execute_result",
          "data": {
            "text/plain": [
              "GradientBoostingRegressor()"
            ],
            "text/html": [
              "<style>#sk-container-id-8 {color: black;background-color: white;}#sk-container-id-8 pre{padding: 0;}#sk-container-id-8 div.sk-toggleable {background-color: white;}#sk-container-id-8 label.sk-toggleable__label {cursor: pointer;display: block;width: 100%;margin-bottom: 0;padding: 0.3em;box-sizing: border-box;text-align: center;}#sk-container-id-8 label.sk-toggleable__label-arrow:before {content: \"▸\";float: left;margin-right: 0.25em;color: #696969;}#sk-container-id-8 label.sk-toggleable__label-arrow:hover:before {color: black;}#sk-container-id-8 div.sk-estimator:hover label.sk-toggleable__label-arrow:before {color: black;}#sk-container-id-8 div.sk-toggleable__content {max-height: 0;max-width: 0;overflow: hidden;text-align: left;background-color: #f0f8ff;}#sk-container-id-8 div.sk-toggleable__content pre {margin: 0.2em;color: black;border-radius: 0.25em;background-color: #f0f8ff;}#sk-container-id-8 input.sk-toggleable__control:checked~div.sk-toggleable__content {max-height: 200px;max-width: 100%;overflow: auto;}#sk-container-id-8 input.sk-toggleable__control:checked~label.sk-toggleable__label-arrow:before {content: \"▾\";}#sk-container-id-8 div.sk-estimator input.sk-toggleable__control:checked~label.sk-toggleable__label {background-color: #d4ebff;}#sk-container-id-8 div.sk-label input.sk-toggleable__control:checked~label.sk-toggleable__label {background-color: #d4ebff;}#sk-container-id-8 input.sk-hidden--visually {border: 0;clip: rect(1px 1px 1px 1px);clip: rect(1px, 1px, 1px, 1px);height: 1px;margin: -1px;overflow: hidden;padding: 0;position: absolute;width: 1px;}#sk-container-id-8 div.sk-estimator {font-family: monospace;background-color: #f0f8ff;border: 1px dotted black;border-radius: 0.25em;box-sizing: border-box;margin-bottom: 0.5em;}#sk-container-id-8 div.sk-estimator:hover {background-color: #d4ebff;}#sk-container-id-8 div.sk-parallel-item::after {content: \"\";width: 100%;border-bottom: 1px solid gray;flex-grow: 1;}#sk-container-id-8 div.sk-label:hover label.sk-toggleable__label {background-color: #d4ebff;}#sk-container-id-8 div.sk-serial::before {content: \"\";position: absolute;border-left: 1px solid gray;box-sizing: border-box;top: 0;bottom: 0;left: 50%;z-index: 0;}#sk-container-id-8 div.sk-serial {display: flex;flex-direction: column;align-items: center;background-color: white;padding-right: 0.2em;padding-left: 0.2em;position: relative;}#sk-container-id-8 div.sk-item {position: relative;z-index: 1;}#sk-container-id-8 div.sk-parallel {display: flex;align-items: stretch;justify-content: center;background-color: white;position: relative;}#sk-container-id-8 div.sk-item::before, #sk-container-id-8 div.sk-parallel-item::before {content: \"\";position: absolute;border-left: 1px solid gray;box-sizing: border-box;top: 0;bottom: 0;left: 50%;z-index: -1;}#sk-container-id-8 div.sk-parallel-item {display: flex;flex-direction: column;z-index: 1;position: relative;background-color: white;}#sk-container-id-8 div.sk-parallel-item:first-child::after {align-self: flex-end;width: 50%;}#sk-container-id-8 div.sk-parallel-item:last-child::after {align-self: flex-start;width: 50%;}#sk-container-id-8 div.sk-parallel-item:only-child::after {width: 0;}#sk-container-id-8 div.sk-dashed-wrapped {border: 1px dashed gray;margin: 0 0.4em 0.5em 0.4em;box-sizing: border-box;padding-bottom: 0.4em;background-color: white;}#sk-container-id-8 div.sk-label label {font-family: monospace;font-weight: bold;display: inline-block;line-height: 1.2em;}#sk-container-id-8 div.sk-label-container {text-align: center;}#sk-container-id-8 div.sk-container {/* jupyter's `normalize.less` sets `[hidden] { display: none; }` but bootstrap.min.css set `[hidden] { display: none !important; }` so we also need the `!important` here to be able to override the default hidden behavior on the sphinx rendered scikit-learn.org. See: https://github.com/scikit-learn/scikit-learn/issues/21755 */display: inline-block !important;position: relative;}#sk-container-id-8 div.sk-text-repr-fallback {display: none;}</style><div id=\"sk-container-id-8\" class=\"sk-top-container\"><div class=\"sk-text-repr-fallback\"><pre>GradientBoostingRegressor()</pre><b>In a Jupyter environment, please rerun this cell to show the HTML representation or trust the notebook. <br />On GitHub, the HTML representation is unable to render, please try loading this page with nbviewer.org.</b></div><div class=\"sk-container\" hidden><div class=\"sk-item\"><div class=\"sk-estimator sk-toggleable\"><input class=\"sk-toggleable__control sk-hidden--visually\" id=\"sk-estimator-id-14\" type=\"checkbox\" checked><label for=\"sk-estimator-id-14\" class=\"sk-toggleable__label sk-toggleable__label-arrow\">GradientBoostingRegressor</label><div class=\"sk-toggleable__content\"><pre>GradientBoostingRegressor()</pre></div></div></div></div></div>"
            ]
          },
          "metadata": {},
          "execution_count": 186
        }
      ]
    },
    {
      "cell_type": "code",
      "source": [
        "y_pred =meta_model.predict(stacked_features)\n",
        "mae = mean_absolute_error(y_valid, y_pred)\n",
        "print(\"Mean Absolute Error:\", mae)"
      ],
      "metadata": {
        "colab": {
          "base_uri": "https://localhost:8080/"
        },
        "id": "9hUAeS2J3Vx8",
        "outputId": "74f36fe0-769a-4fd0-b38f-55fc81a0babb"
      },
      "execution_count": 135,
      "outputs": [
        {
          "output_type": "stream",
          "name": "stdout",
          "text": [
            "Mean Absolute Error: 5.501189629198265\n"
          ]
        }
      ]
    },
    {
      "cell_type": "code",
      "source": [
        "# except some abnormal raw data\n",
        "y_pred =meta_model.predict(stacked_features)\n",
        "mae = mean_absolute_error(y_valid, y_pred)\n",
        "print(\"Mean Absolute Error:\", mae)"
      ],
      "metadata": {
        "colab": {
          "base_uri": "https://localhost:8080/"
        },
        "id": "3GyVKVyAe0pj",
        "outputId": "3e3046e7-e334-4243-8d35-49ba97e06172"
      },
      "execution_count": 161,
      "outputs": [
        {
          "output_type": "stream",
          "name": "stdout",
          "text": [
            "Mean Absolute Error: 5.510674901546956\n"
          ]
        }
      ]
    },
    {
      "cell_type": "code",
      "source": [
        "# min-max scaler\n",
        "y_pred =meta_model.predict(stacked_features)\n",
        "mae = mean_absolute_error(y_valid, y_pred)\n",
        "print(\"Mean Absolute Error:\", mae)"
      ],
      "metadata": {
        "colab": {
          "base_uri": "https://localhost:8080/"
        },
        "id": "Coj6iHBCfG85",
        "outputId": "517db969-e800-4797-ef8c-aac100956c05"
      },
      "execution_count": 173,
      "outputs": [
        {
          "output_type": "stream",
          "name": "stdout",
          "text": [
            "Mean Absolute Error: 5.4836823915979735\n"
          ]
        }
      ]
    },
    {
      "cell_type": "code",
      "source": [
        "# min-max scaler except some abnormal raw data\n",
        "y_pred =meta_model.predict(stacked_features)\n",
        "mae = mean_absolute_error(y_valid, y_pred)\n",
        "print(\"Mean Absolute Error:\", mae)"
      ],
      "metadata": {
        "colab": {
          "base_uri": "https://localhost:8080/"
        },
        "id": "1I3CnBU8gfZd",
        "outputId": "043d267c-b535-4526-a5ec-4b7234014b0a"
      },
      "execution_count": 187,
      "outputs": [
        {
          "output_type": "stream",
          "name": "stdout",
          "text": [
            "Mean Absolute Error: 5.529878622212653\n"
          ]
        }
      ]
    },
    {
      "cell_type": "code",
      "source": [
        "X_test = test.drop(['ID'],axis=1)\n",
        "X_test_scaled = scaler.transform(X_test)"
      ],
      "metadata": {
        "id": "G8bgJE7k9WQh"
      },
      "execution_count": 107,
      "outputs": []
    },
    {
      "cell_type": "code",
      "source": [
        "gbrt_test_preds = gbrt_model.predict(X_test_scaled)\n",
        "xgb_test_preds = xgb_model.predict(X_test_scaled)\n",
        "catboost_test_preds = catboost_model.predict(X_test_scaled)\n",
        "lgbm_test_preds = lgbm_model.predict(X_test_scaled)\n",
        "rf_test_preds = rf_model.predict(X_test_scaled)\n",
        "nn_test_preds = nn_model.predict(X_test_scaled)"
      ],
      "metadata": {
        "colab": {
          "base_uri": "https://localhost:8080/"
        },
        "id": "BKjm70M29WOK",
        "outputId": "9f754b20-2dfb-43f1-a0c7-a4bf35f9b211"
      },
      "execution_count": 108,
      "outputs": [
        {
          "output_type": "stream",
          "name": "stdout",
          "text": [
            "453/453 [==============================] - 0s 970us/step\n"
          ]
        }
      ]
    },
    {
      "cell_type": "code",
      "source": [
        "stacked_test_features = pd.DataFrame({\n",
        "    'GBRT': gbrt_test_preds,\n",
        "    'XGBoost': xgb_test_preds,\n",
        "    'CatBoost': catboost_test_preds,\n",
        "    'LightGBM': lgbm_test_preds,\n",
        "    'RandomForest': rf_test_preds,\n",
        "    'NeuralNetwork': nn_test_preds.flatten()\n",
        "})"
      ],
      "metadata": {
        "id": "5a8TH1DW9tNJ"
      },
      "execution_count": 109,
      "outputs": []
    },
    {
      "cell_type": "code",
      "source": [
        "final_predictions = meta_model.predict(stacked_test_features)"
      ],
      "metadata": {
        "id": "58hYmtwP9uAL"
      },
      "execution_count": 120,
      "outputs": []
    },
    {
      "cell_type": "code",
      "source": [
        "sub['가격'] = final_predictions\n",
        "sub.to_csv('Stack(xgb,cat,lgb,rf,nn).csv', index = False)"
      ],
      "metadata": {
        "id": "zB54LIfJ9wVL"
      },
      "execution_count": 111,
      "outputs": []
    },
    {
      "cell_type": "code",
      "source": [
        "import matplotlib.pyplot as plt\n",
        "\n",
        "# Train a meta-model (GBRT) on the weighted predictions\n",
        "meta_model = GradientBoostingRegressor()\n",
        "meta_model.fit(stacked_features, y_valid)\n",
        "\n",
        "# Retrieve the feature importances\n",
        "feature_importances = meta_model.feature_importances_\n",
        "\n",
        "# Create a bar plot to visualize the weight distribution\n",
        "plt.figure(figsize=(10, 6))\n",
        "plt.bar(range(len(feature_importances)), feature_importances, tick_label=stacked_features.columns)\n",
        "plt.xlabel('Model')\n",
        "plt.ylabel('Weight')\n",
        "plt.title('Weight Distribution of Meta-Model')\n",
        "plt.xticks(rotation=45)\n",
        "plt.show()"
      ],
      "metadata": {
        "colab": {
          "base_uri": "https://localhost:8080/",
          "height": 634
        },
        "id": "U_I67tT3a18I",
        "outputId": "a07c3c64-d448-4d4e-8535-18faa4010102"
      },
      "execution_count": 138,
      "outputs": [
        {
          "output_type": "display_data",
          "data": {
            "text/plain": [
              "<Figure size 1000x600 with 1 Axes>"
            ],
            "image/png": "[encoded data removed]"
          },
          "metadata": {}
        }
      ]
    },
    {
      "cell_type": "markdown",
      "source": [
        "stacked regression (GBRT,XGB,CAT만 사용)"
      ],
      "metadata": {
        "id": "BKf6LDEMcyTZ"
      }
    },
    {
      "cell_type": "code",
      "source": [
        "stacked_feature = pd.DataFrame({\n",
        "    'GBRT': gbrt_preds,\n",
        "    'XGBoost': xgb_preds,\n",
        "    'CatBoost': catboost_preds\n",
        "})"
      ],
      "metadata": {
        "id": "qU6wmO7ucxmu"
      },
      "execution_count": 139,
      "outputs": []
    },
    {
      "cell_type": "code",
      "source": [
        "meta_model2 = GradientBoostingRegressor()\n",
        "meta_model2.fit(stacked_feature, y_valid)"
      ],
      "metadata": {
        "colab": {
          "base_uri": "https://localhost:8080/",
          "height": 74
        },
        "id": "-3KkXEOzdJoB",
        "outputId": "914754d8-3a10-4bed-e6c4-9dd86b84f0bc"
      },
      "execution_count": 140,
      "outputs": [
        {
          "output_type": "execute_result",
          "data": {
            "text/plain": [
              "GradientBoostingRegressor()"
            ],
            "text/html": [
              "<style>#sk-container-id-5 {color: black;background-color: white;}#sk-container-id-5 pre{padding: 0;}#sk-container-id-5 div.sk-toggleable {background-color: white;}#sk-container-id-5 label.sk-toggleable__label {cursor: pointer;display: block;width: 100%;margin-bottom: 0;padding: 0.3em;box-sizing: border-box;text-align: center;}#sk-container-id-5 label.sk-toggleable__label-arrow:before {content: \"▸\";float: left;margin-right: 0.25em;color: #696969;}#sk-container-id-5 label.sk-toggleable__label-arrow:hover:before {color: black;}#sk-container-id-5 div.sk-estimator:hover label.sk-toggleable__label-arrow:before {color: black;}#sk-container-id-5 div.sk-toggleable__content {max-height: 0;max-width: 0;overflow: hidden;text-align: left;background-color: #f0f8ff;}#sk-container-id-5 div.sk-toggleable__content pre {margin: 0.2em;color: black;border-radius: 0.25em;background-color: #f0f8ff;}#sk-container-id-5 input.sk-toggleable__control:checked~div.sk-toggleable__content {max-height: 200px;max-width: 100%;overflow: auto;}#sk-container-id-5 input.sk-toggleable__control:checked~label.sk-toggleable__label-arrow:before {content: \"▾\";}#sk-container-id-5 div.sk-estimator input.sk-toggleable__control:checked~label.sk-toggleable__label {background-color: #d4ebff;}#sk-container-id-5 div.sk-label input.sk-toggleable__control:checked~label.sk-toggleable__label {background-color: #d4ebff;}#sk-container-id-5 input.sk-hidden--visually {border: 0;clip: rect(1px 1px 1px 1px);clip: rect(1px, 1px, 1px, 1px);height: 1px;margin: -1px;overflow: hidden;padding: 0;position: absolute;width: 1px;}#sk-container-id-5 div.sk-estimator {font-family: monospace;background-color: #f0f8ff;border: 1px dotted black;border-radius: 0.25em;box-sizing: border-box;margin-bottom: 0.5em;}#sk-container-id-5 div.sk-estimator:hover {background-color: #d4ebff;}#sk-container-id-5 div.sk-parallel-item::after {content: \"\";width: 100%;border-bottom: 1px solid gray;flex-grow: 1;}#sk-container-id-5 div.sk-label:hover label.sk-toggleable__label {background-color: #d4ebff;}#sk-container-id-5 div.sk-serial::before {content: \"\";position: absolute;border-left: 1px solid gray;box-sizing: border-box;top: 0;bottom: 0;left: 50%;z-index: 0;}#sk-container-id-5 div.sk-serial {display: flex;flex-direction: column;align-items: center;background-color: white;padding-right: 0.2em;padding-left: 0.2em;position: relative;}#sk-container-id-5 div.sk-item {position: relative;z-index: 1;}#sk-container-id-5 div.sk-parallel {display: flex;align-items: stretch;justify-content: center;background-color: white;position: relative;}#sk-container-id-5 div.sk-item::before, #sk-container-id-5 div.sk-parallel-item::before {content: \"\";position: absolute;border-left: 1px solid gray;box-sizing: border-box;top: 0;bottom: 0;left: 50%;z-index: -1;}#sk-container-id-5 div.sk-parallel-item {display: flex;flex-direction: column;z-index: 1;position: relative;background-color: white;}#sk-container-id-5 div.sk-parallel-item:first-child::after {align-self: flex-end;width: 50%;}#sk-container-id-5 div.sk-parallel-item:last-child::after {align-self: flex-start;width: 50%;}#sk-container-id-5 div.sk-parallel-item:only-child::after {width: 0;}#sk-container-id-5 div.sk-dashed-wrapped {border: 1px dashed gray;margin: 0 0.4em 0.5em 0.4em;box-sizing: border-box;padding-bottom: 0.4em;background-color: white;}#sk-container-id-5 div.sk-label label {font-family: monospace;font-weight: bold;display: inline-block;line-height: 1.2em;}#sk-container-id-5 div.sk-label-container {text-align: center;}#sk-container-id-5 div.sk-container {/* jupyter's `normalize.less` sets `[hidden] { display: none; }` but bootstrap.min.css set `[hidden] { display: none !important; }` so we also need the `!important` here to be able to override the default hidden behavior on the sphinx rendered scikit-learn.org. See: https://github.com/scikit-learn/scikit-learn/issues/21755 */display: inline-block !important;position: relative;}#sk-container-id-5 div.sk-text-repr-fallback {display: none;}</style><div id=\"sk-container-id-5\" class=\"sk-top-container\"><div class=\"sk-text-repr-fallback\"><pre>GradientBoostingRegressor()</pre><b>In a Jupyter environment, please rerun this cell to show the HTML representation or trust the notebook. <br />On GitHub, the HTML representation is unable to render, please try loading this page with nbviewer.org.</b></div><div class=\"sk-container\" hidden><div class=\"sk-item\"><div class=\"sk-estimator sk-toggleable\"><input class=\"sk-toggleable__control sk-hidden--visually\" id=\"sk-estimator-id-11\" type=\"checkbox\" checked><label for=\"sk-estimator-id-11\" class=\"sk-toggleable__label sk-toggleable__label-arrow\">GradientBoostingRegressor</label><div class=\"sk-toggleable__content\"><pre>GradientBoostingRegressor()</pre></div></div></div></div></div>"
            ]
          },
          "metadata": {},
          "execution_count": 140
        }
      ]
    },
    {
      "cell_type": "code",
      "source": [
        "y_pred =meta_model2.predict(stacked_feature)\n",
        "mae = mean_absolute_error(y_valid, y_pred)\n",
        "print(\"Mean Absolute Error:\", mae)"
      ],
      "metadata": {
        "colab": {
          "base_uri": "https://localhost:8080/"
        },
        "id": "eF5S7CYUdQ1I",
        "outputId": "b511e72e-2ad9-41e3-db61-a52b279a231e"
      },
      "execution_count": 142,
      "outputs": [
        {
          "output_type": "stream",
          "name": "stdout",
          "text": [
            "Mean Absolute Error: 5.563139798381409\n"
          ]
        }
      ]
    },
    {
      "cell_type": "code",
      "source": [
        "# Train a meta-model (GBRT) on the weighted predictions\n",
        "meta_model2 = GradientBoostingRegressor()\n",
        "meta_model2.fit(stacked_feature, y_valid)\n",
        "\n",
        "# Retrieve the feature importances\n",
        "feature_importances = meta_model2.feature_importances_\n",
        "\n",
        "# Create a bar plot to visualize the weight distribution\n",
        "plt.figure(figsize=(10, 6))\n",
        "plt.bar(range(len(feature_importances)), feature_importances, tick_label=stacked_feature.columns)\n",
        "plt.xlabel('Model')\n",
        "plt.ylabel('Weight')\n",
        "plt.title('Weight Distribution of Meta-Model')\n",
        "plt.xticks(rotation=45)\n",
        "plt.show()"
      ],
      "metadata": {
        "colab": {
          "base_uri": "https://localhost:8080/",
          "height": 605
        },
        "id": "ZVNs42z2dQx4",
        "outputId": "ebc1988c-3e18-4c28-a241-6e50f2271e27"
      },
      "execution_count": 143,
      "outputs": [
        {
          "output_type": "display_data",
          "data": {
            "text/plain": [
              "<Figure size 1000x600 with 1 Axes>"
            ],
            "image/png": "[encoded data removed]"
          },
          "metadata": {}
        }
      ]
    }
  ]
}